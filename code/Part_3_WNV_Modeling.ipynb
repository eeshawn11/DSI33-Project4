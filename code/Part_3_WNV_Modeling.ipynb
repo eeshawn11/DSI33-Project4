{
 "cells": [
  {
   "cell_type": "markdown",
   "metadata": {
    "cell_id": "f96abd16122146b797d16aaa0f1ee71b",
    "deepnote_cell_type": "markdown"
   },
   "source": [
    "# Part 3 - Modeling & Tuning"
   ]
  },
  {
   "cell_type": "markdown",
   "metadata": {},
   "source": [
    "## Content\n",
    "\n",
    "1. [Modeling](#Modeling)\n",
    "2. [Evaluation](#Evaluation)\n",
    "3. [Final Model Evaluation](#Final-Model-Evaluation)\n",
    "4. [Predictions](#Predictions)"
   ]
  },
  {
   "cell_type": "markdown",
   "metadata": {},
   "source": [
    "## Links To Other Notebooks\n",
    "\n",
    "- [Part 1: Data Cleaning](Part_1_WNV_Cleaning.ipynb)\n",
    "- [Part 2: Exploratory Data Analysis](Part_2_WNV_EDA.ipynb)\n",
    "- [Part 4: Cost-Benefit Analysis & Conclusion]((Part_4_WNV_CBA_Conclusion.ipynb)"
   ]
  },
  {
   "cell_type": "markdown",
   "metadata": {},
   "source": [
    "## Libraries"
   ]
  },
  {
   "cell_type": "code",
   "execution_count": 1,
   "metadata": {
    "cell_id": "31251000c0c54cfea5e3cabad32b523e",
    "deepnote_cell_type": "code",
    "deepnote_to_be_reexecuted": false,
    "execution_millis": 932,
    "execution_start": 1670551613652,
    "source_hash": "476ca060"
   },
   "outputs": [],
   "source": [
    "import pandas as pd\n",
    "import numpy as np\n",
    "import re\n",
    "import time\n",
    "import os\n",
    "import matplotlib.pyplot as plt\n",
    "import seaborn as sns\n",
    "\n",
    "from sklearn.preprocessing import OneHotEncoder, MinMaxScaler, FunctionTransformer\n",
    "from sklearn.feature_extraction.text import CountVectorizer\n",
    "from sklearn.compose import ColumnTransformer\n",
    "from sklearn.model_selection import train_test_split, GridSearchCV\n",
    "from sklearn.metrics import classification_report, ConfusionMatrixDisplay, RocCurveDisplay, get_scorer_names, get_scorer, roc_auc_score\n",
    "from sklearn.linear_model import LogisticRegression, RidgeClassifier\n",
    "from sklearn.neighbors import KNeighborsClassifier\n",
    "from sklearn.ensemble import RandomForestClassifier, AdaBoostClassifier, VotingClassifier, HistGradientBoostingClassifier, ExtraTreesClassifier\n",
    "from sklearn.decomposition import PCA\n",
    "\n",
    "# imblearn for sampling\n",
    "from imblearn.over_sampling import SMOTE\n",
    "from imblearn.combine import SMOTETomek\n",
    "from imblearn.pipeline import Pipeline\n",
    "\n",
    "# set random state for model results reproducibility\n",
    "rng = 42\n",
    "\n",
    "import warnings\n",
    "warnings.filterwarnings('ignore') # hide warnings to avoid cluttering the notebook output"
   ]
  },
  {
   "cell_type": "code",
   "execution_count": 2,
   "metadata": {},
   "outputs": [],
   "source": [
    "# Class time error to measure the execution \n",
    "\n",
    "class TimerError(Exception):\n",
    "    \"\"\"A custom exception used to report errors in use of Timer class\"\"\"\n",
    "\n",
    "class Timer:\n",
    "    def __init__(self):\n",
    "        self._start_time = None\n",
    "        self._elapsed_time = None\n",
    "\n",
    "    def start(self):\n",
    "        \"\"\"Start a new timer\"\"\"\n",
    "        if self._start_time is not None:\n",
    "            raise TimerError(f\"Timer is running. Use .stop() to stop it\")\n",
    "\n",
    "        self._elapsed_time = None\n",
    "        self._start_time = time.perf_counter()\n",
    "\n",
    "    def stop(self):\n",
    "        \"\"\"Stop the timer, and report the elapsed time\"\"\"\n",
    "        if self._start_time is None:\n",
    "            raise TimerError(f\"Timer is not running. Use .start() to start it\")\n",
    "\n",
    "        self._elapsed_time = time.perf_counter() - self._start_time\n",
    "        self._start_time = None\n",
    "        print(f\"Elapsed time: {int(divmod(self._elapsed_time, 60)[0])} minutes, {int(divmod(self._elapsed_time, 60)[1])} seconds\")\n",
    "\n",
    "    def duration(self) -> float:\n",
    "        \"\"\"Return the elapsed time from the timer.\"\"\"\n",
    "        if self._elapsed_time is None:\n",
    "            raise TimerError(\"Timer has not run. Use .start() and .stop() to start and stop the timer.\")\n",
    "        return self._elapsed_time"
   ]
  },
  {
   "cell_type": "markdown",
   "metadata": {},
   "source": [
    "Now we're ready to prepare the train and validation datasets for modelling."
   ]
  },
  {
   "cell_type": "code",
   "execution_count": 3,
   "metadata": {
    "cell_id": "195f4763f16e47999fbf9d8c8652d351",
    "deepnote_cell_type": "code",
    "deepnote_to_be_reexecuted": false,
    "execution_millis": 25,
    "execution_start": 1670551614585,
    "source_hash": "abfd9979"
   },
   "outputs": [],
   "source": [
    "# Load datasets\n",
    "\n",
    "df = pd.read_csv('../assets/df_merge_prefinal.csv', parse_dates=['Date', 'Sunrise_1', 'Sunset_1'])"
   ]
  },
  {
   "cell_type": "code",
   "execution_count": 4,
   "metadata": {},
   "outputs": [],
   "source": [
    "# Create function for date features\n",
    "\n",
    "def create_dt_features(dataframe: pd.DataFrame) -> pd.DataFrame:\n",
    "    '''\n",
    "    Perform feature engineering and return dataframe.\n",
    "    '''\n",
    "    # create datetime related features\n",
    "#     dataframe['daylight_duration'] = pd.to_timedelta(dataframe['daylight_duration'])\n",
    "#     dataframe['Daylight_hours'] = round(dataframe['daylight_duration'].dt.total_seconds() / (60*60), 2)\n",
    "    dataframe['Daylight_hours_7_days'] = dataframe['Sunset_7_days'] - dataframe['Sunrise_7_days']\n",
    "    dataframe['Daylight_hours_14_days'] = dataframe['Sunset_14_days'] - dataframe['Sunrise_14_days']\n",
    "#     dataframe['Sunrise'] = round(pd.to_timedelta(dataframe['Sunrise_1'].dt.time.astype(str)).dt.total_seconds()/3600, 2)\n",
    "#     dataframe['Sunset'] = round(pd.to_timedelta(dataframe['Sunset_1'].dt.time.astype(str)).dt.total_seconds()/3600, 2)\n",
    "    # round off Latitude, Longitude to generalise locations by area\n",
    "    dataframe['Latitude'] = round(dataframe['Latitude'], 1)\n",
    "    dataframe['Longitude'] = round(dataframe['Longitude'], 1)\n",
    "    # group satellite traps\n",
    "    dataframe['Trap'] = dataframe['Trap'].str.strip('TABC')\n",
    "    # main vector species in USA (https://www.vdci.net/vector-borne-diseases/west-nile-virus-education-and-mosquito-management-to-protect-public-health/)\n",
    "    dataframe['Vector'] = np.where(dataframe['Species'].str.contains(r'(restuans|pipiens|tarsalis|quinquefasciatus)', case = False), 1, 0)\n",
    "\n",
    "    return dataframe"
   ]
  },
  {
   "cell_type": "code",
   "execution_count": 5,
   "metadata": {},
   "outputs": [],
   "source": [
    "# Apply the function to the dataframe\n",
    "\n",
    "df = create_dt_features(df)"
   ]
  },
  {
   "cell_type": "code",
   "execution_count": 6,
   "metadata": {},
   "outputs": [
    {
     "data": {
      "text/plain": [
       "Index(['Date', 'Species', 'Trap', 'Latitude', 'Longitude', 'AddressAccuracy',\n",
       "       'NumMosquitos', 'WnvPresent', 'Year', 'Month', 'Week', 'DayOfWeek',\n",
       "       'Station', 'Tmax', 'Tmin', 'Tavg', 'Depart', 'DewPoint', 'WetBulb',\n",
       "       'Heat', 'Cool', 'Sunrise', 'Sunset', 'CodeSum', 'SnowFall',\n",
       "       'PrecipTotal', 'StnPressure', 'SeaLevel', 'ResultSpeed', 'ResultDir',\n",
       "       'AvgSpeed', 'Sunrise_1', 'Sunset_1', 'daylight_duration', 'Humidity',\n",
       "       'Tavg_7_days', 'Depart_7_days', 'DewPoint_7_days', 'WetBulb_7_days',\n",
       "       'Heat_7_days', 'Cool_7_days', 'Sunrise_7_days', 'Sunset_7_days',\n",
       "       'SnowFall_7_days', 'PrecipTotal_7_days', 'StnPressure_7_days',\n",
       "       'SeaLevel_7_days', 'ResultSpeed_7_days', 'ResultDir_7_days',\n",
       "       'AvgSpeed_7_days', 'Humidity_7_days', 'Tavg_14_days', 'Depart_14_days',\n",
       "       'DewPoint_14_days', 'WetBulb_14_days', 'Heat_14_days', 'Cool_14_days',\n",
       "       'Sunrise_14_days', 'Sunset_14_days', 'SnowFall_14_days',\n",
       "       'PrecipTotal_14_days', 'StnPressure_14_days', 'SeaLevel_14_days',\n",
       "       'ResultSpeed_14_days', 'ResultDir_14_days', 'AvgSpeed_14_days',\n",
       "       'Humidity_14_days', 'Tavg_21_days', 'Depart_21_days',\n",
       "       'DewPoint_21_days', 'WetBulb_21_days', 'Heat_21_days', 'Cool_21_days',\n",
       "       'Sunrise_21_days', 'Sunset_21_days', 'SnowFall_21_days',\n",
       "       'PrecipTotal_21_days', 'StnPressure_21_days', 'SeaLevel_21_days',\n",
       "       'ResultSpeed_21_days', 'ResultDir_21_days', 'AvgSpeed_21_days',\n",
       "       'Humidity_21_days', 'Daylight_hours_7_days', 'Daylight_hours_14_days',\n",
       "       'Vector'],\n",
       "      dtype='object')"
      ]
     },
     "execution_count": 6,
     "metadata": {},
     "output_type": "execute_result"
    }
   ],
   "source": [
    "# View columns\n",
    "\n",
    "df.columns"
   ]
  },
  {
   "cell_type": "code",
   "execution_count": 7,
   "metadata": {},
   "outputs": [],
   "source": [
    "# Specify features\n",
    "\n",
    "num_features = [\n",
    "    'Latitude', 'Longitude',\n",
    "    'Tavg_7_days', 'Depart_7_days', 'DewPoint_7_days', 'WetBulb_7_days',\n",
    "    'Heat_7_days', 'Cool_7_days', 'Sunrise_7_days', 'Sunset_7_days',\n",
    "    'SnowFall_7_days', 'PrecipTotal_7_days', 'StnPressure_7_days',\n",
    "    'SeaLevel_7_days', 'ResultSpeed_7_days', 'ResultDir_7_days',\n",
    "    'AvgSpeed_7_days', 'Humidity_7_days', 'Daylight_hours_7_days', \n",
    "    'Tavg_14_days', 'Depart_14_days',\n",
    "    'DewPoint_14_days', 'WetBulb_14_days', 'Heat_14_days', 'Cool_14_days',\n",
    "    'Sunrise_14_days', 'Sunset_14_days', 'SnowFall_14_days',\n",
    "    'PrecipTotal_14_days', 'StnPressure_14_days', 'SeaLevel_14_days',\n",
    "    'ResultSpeed_14_days', 'ResultDir_14_days', 'AvgSpeed_14_days',\n",
    "    'Humidity_14_days', 'Daylight_hours_14_days',\n",
    "    'Vector'\n",
    "    ]\n",
    "cat_features = ['Trap', 'Month', 'Week']\n",
    "# text_features = ['CodeSum']\n",
    "\n",
    "features = num_features + cat_features # + text_features"
   ]
  },
  {
   "cell_type": "code",
   "execution_count": 8,
   "metadata": {},
   "outputs": [
    {
     "data": {
      "text/html": [
       "<div>\n",
       "<style scoped>\n",
       "    .dataframe tbody tr th:only-of-type {\n",
       "        vertical-align: middle;\n",
       "    }\n",
       "\n",
       "    .dataframe tbody tr th {\n",
       "        vertical-align: top;\n",
       "    }\n",
       "\n",
       "    .dataframe thead th {\n",
       "        text-align: right;\n",
       "    }\n",
       "</style>\n",
       "<table border=\"1\" class=\"dataframe\">\n",
       "  <thead>\n",
       "    <tr style=\"text-align: right;\">\n",
       "      <th></th>\n",
       "      <th>Latitude</th>\n",
       "      <th>Longitude</th>\n",
       "      <th>Tavg_7_days</th>\n",
       "      <th>Depart_7_days</th>\n",
       "      <th>DewPoint_7_days</th>\n",
       "      <th>WetBulb_7_days</th>\n",
       "      <th>Heat_7_days</th>\n",
       "      <th>Cool_7_days</th>\n",
       "      <th>Sunrise_7_days</th>\n",
       "      <th>Sunset_7_days</th>\n",
       "      <th>...</th>\n",
       "      <th>SeaLevel_14_days</th>\n",
       "      <th>ResultSpeed_14_days</th>\n",
       "      <th>ResultDir_14_days</th>\n",
       "      <th>AvgSpeed_14_days</th>\n",
       "      <th>Humidity_14_days</th>\n",
       "      <th>Daylight_hours_14_days</th>\n",
       "      <th>Vector</th>\n",
       "      <th>Trap</th>\n",
       "      <th>Month</th>\n",
       "      <th>Week</th>\n",
       "    </tr>\n",
       "  </thead>\n",
       "  <tbody>\n",
       "    <tr>\n",
       "      <th>0</th>\n",
       "      <td>42.0</td>\n",
       "      <td>-87.8</td>\n",
       "      <td>67.714286</td>\n",
       "      <td>4.857143</td>\n",
       "      <td>52.0</td>\n",
       "      <td>59.142857</td>\n",
       "      <td>0.714286</td>\n",
       "      <td>3.428571</td>\n",
       "      <td>421.428571</td>\n",
       "      <td>1916.142857</td>\n",
       "      <td>...</td>\n",
       "      <td>30.120714</td>\n",
       "      <td>7.421429</td>\n",
       "      <td>15.857143</td>\n",
       "      <td>9.328571</td>\n",
       "      <td>54.920714</td>\n",
       "      <td>1492.142857</td>\n",
       "      <td>1</td>\n",
       "      <td>002</td>\n",
       "      <td>5</td>\n",
       "      <td>22</td>\n",
       "    </tr>\n",
       "    <tr>\n",
       "      <th>1</th>\n",
       "      <td>42.0</td>\n",
       "      <td>-87.8</td>\n",
       "      <td>67.714286</td>\n",
       "      <td>4.857143</td>\n",
       "      <td>52.0</td>\n",
       "      <td>59.142857</td>\n",
       "      <td>0.714286</td>\n",
       "      <td>3.428571</td>\n",
       "      <td>421.428571</td>\n",
       "      <td>1916.142857</td>\n",
       "      <td>...</td>\n",
       "      <td>30.120714</td>\n",
       "      <td>7.421429</td>\n",
       "      <td>15.857143</td>\n",
       "      <td>9.328571</td>\n",
       "      <td>54.920714</td>\n",
       "      <td>1492.142857</td>\n",
       "      <td>1</td>\n",
       "      <td>002</td>\n",
       "      <td>5</td>\n",
       "      <td>22</td>\n",
       "    </tr>\n",
       "    <tr>\n",
       "      <th>2</th>\n",
       "      <td>42.0</td>\n",
       "      <td>-87.8</td>\n",
       "      <td>67.714286</td>\n",
       "      <td>4.857143</td>\n",
       "      <td>52.0</td>\n",
       "      <td>59.142857</td>\n",
       "      <td>0.714286</td>\n",
       "      <td>3.428571</td>\n",
       "      <td>421.428571</td>\n",
       "      <td>1916.142857</td>\n",
       "      <td>...</td>\n",
       "      <td>30.120714</td>\n",
       "      <td>7.421429</td>\n",
       "      <td>15.857143</td>\n",
       "      <td>9.328571</td>\n",
       "      <td>54.920714</td>\n",
       "      <td>1492.142857</td>\n",
       "      <td>1</td>\n",
       "      <td>007</td>\n",
       "      <td>5</td>\n",
       "      <td>22</td>\n",
       "    </tr>\n",
       "    <tr>\n",
       "      <th>3</th>\n",
       "      <td>42.0</td>\n",
       "      <td>-87.8</td>\n",
       "      <td>67.714286</td>\n",
       "      <td>4.857143</td>\n",
       "      <td>52.0</td>\n",
       "      <td>59.142857</td>\n",
       "      <td>0.714286</td>\n",
       "      <td>3.428571</td>\n",
       "      <td>421.428571</td>\n",
       "      <td>1916.142857</td>\n",
       "      <td>...</td>\n",
       "      <td>30.120714</td>\n",
       "      <td>7.421429</td>\n",
       "      <td>15.857143</td>\n",
       "      <td>9.328571</td>\n",
       "      <td>54.920714</td>\n",
       "      <td>1492.142857</td>\n",
       "      <td>1</td>\n",
       "      <td>015</td>\n",
       "      <td>5</td>\n",
       "      <td>22</td>\n",
       "    </tr>\n",
       "    <tr>\n",
       "      <th>4</th>\n",
       "      <td>42.0</td>\n",
       "      <td>-87.8</td>\n",
       "      <td>67.714286</td>\n",
       "      <td>4.857143</td>\n",
       "      <td>52.0</td>\n",
       "      <td>59.142857</td>\n",
       "      <td>0.714286</td>\n",
       "      <td>3.428571</td>\n",
       "      <td>421.428571</td>\n",
       "      <td>1916.142857</td>\n",
       "      <td>...</td>\n",
       "      <td>30.120714</td>\n",
       "      <td>7.421429</td>\n",
       "      <td>15.857143</td>\n",
       "      <td>9.328571</td>\n",
       "      <td>54.920714</td>\n",
       "      <td>1492.142857</td>\n",
       "      <td>1</td>\n",
       "      <td>015</td>\n",
       "      <td>5</td>\n",
       "      <td>22</td>\n",
       "    </tr>\n",
       "  </tbody>\n",
       "</table>\n",
       "<p>5 rows × 40 columns</p>\n",
       "</div>"
      ],
      "text/plain": [
       "   Latitude  Longitude  Tavg_7_days  Depart_7_days  DewPoint_7_days  \\\n",
       "0      42.0      -87.8    67.714286       4.857143             52.0   \n",
       "1      42.0      -87.8    67.714286       4.857143             52.0   \n",
       "2      42.0      -87.8    67.714286       4.857143             52.0   \n",
       "3      42.0      -87.8    67.714286       4.857143             52.0   \n",
       "4      42.0      -87.8    67.714286       4.857143             52.0   \n",
       "\n",
       "   WetBulb_7_days  Heat_7_days  Cool_7_days  Sunrise_7_days  Sunset_7_days  \\\n",
       "0       59.142857     0.714286     3.428571      421.428571    1916.142857   \n",
       "1       59.142857     0.714286     3.428571      421.428571    1916.142857   \n",
       "2       59.142857     0.714286     3.428571      421.428571    1916.142857   \n",
       "3       59.142857     0.714286     3.428571      421.428571    1916.142857   \n",
       "4       59.142857     0.714286     3.428571      421.428571    1916.142857   \n",
       "\n",
       "   ...  SeaLevel_14_days  ResultSpeed_14_days  ResultDir_14_days  \\\n",
       "0  ...         30.120714             7.421429          15.857143   \n",
       "1  ...         30.120714             7.421429          15.857143   \n",
       "2  ...         30.120714             7.421429          15.857143   \n",
       "3  ...         30.120714             7.421429          15.857143   \n",
       "4  ...         30.120714             7.421429          15.857143   \n",
       "\n",
       "   AvgSpeed_14_days  Humidity_14_days  Daylight_hours_14_days  Vector  Trap  \\\n",
       "0          9.328571         54.920714             1492.142857       1   002   \n",
       "1          9.328571         54.920714             1492.142857       1   002   \n",
       "2          9.328571         54.920714             1492.142857       1   007   \n",
       "3          9.328571         54.920714             1492.142857       1   015   \n",
       "4          9.328571         54.920714             1492.142857       1   015   \n",
       "\n",
       "   Month  Week  \n",
       "0      5    22  \n",
       "1      5    22  \n",
       "2      5    22  \n",
       "3      5    22  \n",
       "4      5    22  \n",
       "\n",
       "[5 rows x 40 columns]"
      ]
     },
     "execution_count": 8,
     "metadata": {},
     "output_type": "execute_result"
    }
   ],
   "source": [
    "# View first first rows of the features\n",
    "\n",
    "df[features].head()"
   ]
  },
  {
   "cell_type": "code",
   "execution_count": 9,
   "metadata": {
    "cell_id": "df282cce65f74870b1b26d17b16e882a",
    "deepnote_cell_type": "code",
    "deepnote_to_be_reexecuted": false,
    "execution_millis": 1,
    "execution_start": 1670551614676,
    "source_hash": "f9a57dbf",
    "tags": []
   },
   "outputs": [],
   "source": [
    "# identify feature and target columns\n",
    "\n",
    "X = df[features] # .drop(columns=['Date', 'Sunrise_1', 'Sunset_1', 'daylight_duration', 'NumMosquitos', 'WnvPresent'])\n",
    "y = df['WnvPresent']"
   ]
  },
  {
   "cell_type": "code",
   "execution_count": 10,
   "metadata": {},
   "outputs": [
    {
     "data": {
      "text/plain": [
       "Index(['Latitude', 'Longitude', 'Tavg_7_days', 'Depart_7_days',\n",
       "       'DewPoint_7_days', 'WetBulb_7_days', 'Heat_7_days', 'Cool_7_days',\n",
       "       'Sunrise_7_days', 'Sunset_7_days', 'SnowFall_7_days',\n",
       "       'PrecipTotal_7_days', 'StnPressure_7_days', 'SeaLevel_7_days',\n",
       "       'ResultSpeed_7_days', 'ResultDir_7_days', 'AvgSpeed_7_days',\n",
       "       'Humidity_7_days', 'Daylight_hours_7_days', 'Tavg_14_days',\n",
       "       'Depart_14_days', 'DewPoint_14_days', 'WetBulb_14_days', 'Heat_14_days',\n",
       "       'Cool_14_days', 'Sunrise_14_days', 'Sunset_14_days', 'SnowFall_14_days',\n",
       "       'PrecipTotal_14_days', 'StnPressure_14_days', 'SeaLevel_14_days',\n",
       "       'ResultSpeed_14_days', 'ResultDir_14_days', 'AvgSpeed_14_days',\n",
       "       'Humidity_14_days', 'Daylight_hours_14_days', 'Vector', 'Trap', 'Month',\n",
       "       'Week'],\n",
       "      dtype='object')"
      ]
     },
     "execution_count": 10,
     "metadata": {},
     "output_type": "execute_result"
    }
   ],
   "source": [
    "# view columns\n",
    "\n",
    "X.columns"
   ]
  },
  {
   "cell_type": "code",
   "execution_count": 11,
   "metadata": {
    "cell_id": "c002f9f29f5b469282bc7436c65d2bce",
    "deepnote_cell_type": "code",
    "deepnote_to_be_reexecuted": false,
    "execution_millis": 0,
    "execution_start": 1670551614695,
    "source_hash": "22ad61df"
   },
   "outputs": [],
   "source": [
    "# Set up train-test split\n",
    "\n",
    "X_train, X_test, y_train, y_test = train_test_split(X, y, test_size=0.25, random_state=rng, stratify=y)"
   ]
  },
  {
   "cell_type": "markdown",
   "metadata": {},
   "source": [
    "## Modelling\n",
    "\n",
    "We will utilise a mixture of methods for handling different types of features within our dataset, using a ColumnTransformer together with Pipelines.\n",
    "\n",
    "We'll be modeling our data against four main models: Histogram-Based Gradient Boosting Classifier, Logistic Regression, KNeighbors Classifier and Adaptive Boosting Classifier"
   ]
  },
  {
   "cell_type": "code",
   "execution_count": 12,
   "metadata": {
    "cell_id": "5ea9415a492849488bbfe0c08690b007",
    "deepnote_cell_type": "code",
    "deepnote_to_be_reexecuted": false,
    "execution_millis": 0,
    "execution_start": 1670551614696,
    "source_hash": "a0c1dd4b"
   },
   "outputs": [],
   "source": [
    "# Processing steps before modelling (standardisation, one hot encoding, over/under-sampling)\n",
    "ohe = OneHotEncoder(drop='if_binary', handle_unknown='infrequent_if_exist')\n",
    "count = CountVectorizer()\n",
    "\n",
    "# create pipeline for handling CodeSum feature\n",
    "text_pipe = Pipeline([\n",
    "    (\"squeeze\", FunctionTransformer(lambda x: x.squeeze())),\n",
    "    ('vector', count),\n",
    "    ('array', FunctionTransformer(lambda x: x.toarray(), accept_sparse=True)),\n",
    "])\n",
    "\n",
    "# specify ColumnTransformer to handle different types of features\n",
    "col_transform = ColumnTransformer([\n",
    "    ('OneHotEncoder', ohe, cat_features),\n",
    "#     ('CountVectorizer', text_pipe, text_features)\n",
    "], remainder = 'passthrough',\n",
    "sparse_threshold = 0\n",
    ")\n",
    "\n",
    "minmax = MinMaxScaler(feature_range=(0, 1))\n",
    "\n",
    "pca = PCA()\n",
    "\n",
    "smotetomek = SMOTETomek(random_state=rng, n_jobs=2)"
   ]
  },
  {
   "cell_type": "code",
   "execution_count": 13,
   "metadata": {},
   "outputs": [],
   "source": [
    "# Class time results error to measure the execution \n",
    "\n",
    "class ResultsError(Exception):\n",
    "    \"\"\"A custom exception used to report errors in use of Results class\"\"\"\n",
    "\n",
    "class Results:\n",
    "    '''\n",
    "    Display results from modelling.\n",
    "    '''\n",
    "\n",
    "    def __init__(self, scoring_metric: list[str]):\n",
    "        self.__results_dict = {}\n",
    "        self.__results_dict['model_names']= []\n",
    "        self.__results_dict['model']= []\n",
    "        \n",
    "        self.__scoring_metric = scoring_metric\n",
    "        if type(self.__scoring_metric) == list:\n",
    "            for metric in self.__scoring_metric:\n",
    "                if metric not in get_scorer_names():\n",
    "                    raise ResultsError('scoring metric must be an available scorer from sklearn, use sklearn.metrics.get_scorer_names() to retrieve the names of all available scorers.')\n",
    "            for i, metric in enumerate(self.__scoring_metric):\n",
    "                self.__results_dict[f'mean_train_{self.__scoring_metric[i]}'] = []\n",
    "                self.__results_dict[f'mean_test_{self.__scoring_metric[i]}'] = []\n",
    "                self.__results_dict[f'{self.__scoring_metric[i]}_delta']= []\n",
    "        else:\n",
    "            raise TypeError('scoring_metric must be list of string')\n",
    "\n",
    "        self.__results_dict['best_params'] = []\n",
    "        self.__results_dict['runtime'] = []\n",
    "\n",
    "    # run pipe, fit params and return best estimator\n",
    "    def run_pipe(self, clf: object, pipe_params=None):\n",
    "        '''\n",
    "        Places classifier into a Pipeline, which is then run in a GridSearchCV to optimise the model based on parameters passed. \n",
    "\n",
    "        Parameters\n",
    "        ----------\n",
    "        clf : object\n",
    "            Classifier object\n",
    "        pipe_params : dictionary\n",
    "            Parameters to pass into GridSearchCV\n",
    "            \n",
    "        Returns\n",
    "        -------\n",
    "        Best Estimator\n",
    "            Best estimator refitted from the GridSearchCV\n",
    "        '''\n",
    "        if not len(self.__results_dict):\n",
    "            raise ResultsError('Error, no dictionary found. Use .create_results_dict() to create a dictionary first.')\n",
    "\n",
    "        t = Timer()\n",
    "        try:\n",
    "            model_name = re.match(r'^(\\w+)(?=\\()', str(clf)).group()\n",
    "        except:\n",
    "            model_name = clf\n",
    "        print(f\"Fitting {model_name}\")\n",
    "\n",
    "        # create pipe\n",
    "        pipe = Pipeline([\n",
    "            ('col_transform', col_transform),\n",
    "            ('scale', minmax),\n",
    "            ('pca', pca),\n",
    "            ('sample', smotetomek),\n",
    "            ('clf', clf)\n",
    "        ])\n",
    "\n",
    "        # select Principal Components using PCA to reduce dimensionality\n",
    "        X_train_pca = pipe[:3].fit_transform(X_train)\n",
    "        total_variance = pipe[2].explained_variance_ratio_.cumsum()\n",
    "        # 95% of variance\n",
    "        n_over_95 = len(total_variance[total_variance >= .95])\n",
    "        n_to_reach_95 = X_train_pca.shape[1] - n_over_95 + 1\n",
    "        # 90% of variance\n",
    "        n_over_90 = len(total_variance[total_variance >= .90])\n",
    "        n_to_reach_90 = X_train_pca.shape[1] - n_over_90 + 1\n",
    "\n",
    "        default_params = {\n",
    "            'pca__n_components': [n_to_reach_95, n_to_reach_90],\n",
    "        }\n",
    "        \n",
    "        # create GridSearchCV\n",
    "        grid = GridSearchCV(\n",
    "            estimator = pipe,\n",
    "            param_grid = default_params | pipe_params,\n",
    "            scoring = self.__scoring_metric,\n",
    "            n_jobs = -3,\n",
    "            cv = 3,\n",
    "            verbose = 1,\n",
    "            error_score = 'raise',\n",
    "            refit = self.__scoring_metric[0],\n",
    "        )\n",
    "\n",
    "        t.start()\n",
    "        grid.fit(X_train, y_train)\n",
    "        t.stop()\n",
    "      \n",
    "        # store GridSearch scores\n",
    "        self.__results_dict['model_names'].append(model_name)\n",
    "        self.__results_dict['model'].append(grid.best_estimator_)\n",
    "\n",
    "        for i, metric in enumerate(self.__scoring_metric):\n",
    "            # retrieve scorer based on defined metric\n",
    "            self._scorer = get_scorer(metric)\n",
    "            self._train_score = self._scorer(grid.best_estimator_, X_train, y_train)\n",
    "            self._test_score = self._scorer(grid.best_estimator_, X_test, y_test)\n",
    "            self.__results_dict[f'mean_train_{self.__scoring_metric[i]}'].append(self._train_score)\n",
    "            self.__results_dict[f'mean_test_{self.__scoring_metric[i]}'].append(self._test_score)\n",
    "            self.__results_dict[f'{self.__scoring_metric[i]}_delta'].append(\n",
    "                abs(self._train_score - self._test_score)\n",
    "                )\n",
    "\n",
    "        self.__results_dict['best_params'].append(grid.best_params_)\n",
    "        self.__results_dict['runtime'].append(t.duration())\n",
    "\n",
    "        print(\"Best Score: \", grid.best_score_)\n",
    "        print(\"Best Params: \", grid.best_params_)\n",
    "        print()\n",
    "        return grid.best_estimator_\n",
    "\n",
    "    def display(self) -> pd.DataFrame:\n",
    "        '''Display pandas DataFrame displaying model performance results'''\n",
    "        if not len(self.__results_dict):\n",
    "            raise ResultsError('No results found. Use .run_pipe() to run pipe and store results.')\n",
    "        model_df = pd.DataFrame(self.__results_dict)\n",
    "        \n",
    "        model_df.iloc[:, :-2] = model_df.iloc[:, :-2].round(4)\n",
    "        model_df.iloc[:, -1] = model_df.iloc[:, -1].round(2)\n",
    "\n",
    "        return model_df.sort_values(by=f\"mean_test_{self.__scoring_metric[0]}\", ascending=False)"
   ]
  },
  {
   "cell_type": "code",
   "execution_count": 14,
   "metadata": {
    "cell_id": "68b7851640eb427a9d654c1ea7eedce8",
    "deepnote_cell_type": "code",
    "deepnote_to_be_reexecuted": false,
    "execution_millis": 2,
    "execution_start": 1670551614703,
    "source_hash": "5cf5fc15",
    "tags": []
   },
   "outputs": [],
   "source": [
    "# Instantiating models for classification\n",
    "\n",
    "lr = LogisticRegression(solver='liblinear', random_state=rng)\n",
    "knn = KNeighborsClassifier()\n",
    "rf = RandomForestClassifier(random_state=rng)\n",
    "ada = AdaBoostClassifier(random_state=rng)\n",
    "hgbc = HistGradientBoostingClassifier(random_state=rng)"
   ]
  },
  {
   "cell_type": "code",
   "execution_count": 15,
   "metadata": {},
   "outputs": [],
   "source": [
    "# Define scoring metrics for optimisation with GridSearchCV\n",
    "score_metric = ['roc_auc']\n",
    "\n",
    "# Instantiate Results\n",
    "results = Results(score_metric)"
   ]
  },
  {
   "cell_type": "markdown",
   "metadata": {},
   "source": [
    "We've created a set of parameters for each model to be passed into GridSearchCV for hyperparameter tuning."
   ]
  },
  {
   "cell_type": "code",
   "execution_count": 16,
   "metadata": {
    "cell_id": "0939d8a01a0448678a1276cd0609d252",
    "deepnote_cell_type": "code",
    "deepnote_to_be_reexecuted": false,
    "execution_millis": 0,
    "execution_start": 1670551614725,
    "source_hash": "6ad5492e",
    "tags": []
   },
   "outputs": [],
   "source": [
    "# Setting classifier parameters\n",
    "\n",
    "lr_params = {\n",
    "    'clf__penalty': ['l1', 'l2'],\n",
    "    'clf__C': [1.0, 0.1, 0.01],\n",
    "    'clf__max_iter': [100, 200, 400],\n",
    "    'clf__class_weight': ['balanced', None],\n",
    "}\n",
    "\n",
    "knn_params = {\n",
    "    'clf__n_neighbors': [3, 5, 9, 15],\n",
    "    'clf__weights': ['uniform', 'distance'],\n",
    "    'clf__p': [1, 2]\n",
    "}\n",
    "\n",
    "rf_params = {\n",
    "    'clf__n_estimators': [100, 200, 300],\n",
    "    'clf__max_depth': [10, 25, 50],\n",
    "    'clf__min_samples_leaf': [1, 5, 11],\n",
    "    'clf__class_weight': ['balanced', None],\n",
    "}\n",
    "\n",
    "ada_params = {\n",
    "    'clf__learning_rate': [1.0, 2.0, 10],\n",
    "    'clf__n_estimators': [50, 80, 120],\n",
    "}\n",
    "\n",
    "hgbc_params = {\n",
    "    'clf__learning_rate': [0.001, 0.01, 0.1],\n",
    "    'clf__l2_regularization': [0, 0.1, 1],\n",
    "    'clf__max_iter': [80, 100, 120],\n",
    "}"
   ]
  },
  {
   "cell_type": "markdown",
   "metadata": {},
   "source": [
    "### Logistic Regression"
   ]
  },
  {
   "cell_type": "code",
   "execution_count": 17,
   "metadata": {},
   "outputs": [
    {
     "name": "stdout",
     "output_type": "stream",
     "text": [
      "Fitting LogisticRegression\n",
      "Fitting 3 folds for each of 72 candidates, totalling 216 fits\n",
      "Elapsed time: 1 minutes, 4 seconds\n",
      "Best Score:  0.824801006139654\n",
      "Best Params:  {'clf__C': 0.1, 'clf__class_weight': None, 'clf__max_iter': 100, 'clf__penalty': 'l2', 'pca__n_components': 67}\n",
      "\n"
     ]
    }
   ],
   "source": [
    "lr_best = results.run_pipe(lr, lr_params)"
   ]
  },
  {
   "cell_type": "markdown",
   "metadata": {},
   "source": [
    "### KNeighbors Classifier"
   ]
  },
  {
   "cell_type": "code",
   "execution_count": 18,
   "metadata": {},
   "outputs": [
    {
     "name": "stdout",
     "output_type": "stream",
     "text": [
      "Fitting KNeighborsClassifier\n",
      "Fitting 3 folds for each of 32 candidates, totalling 96 fits\n",
      "Elapsed time: 0 minutes, 39 seconds\n",
      "Best Score:  0.7631577793165398\n",
      "Best Params:  {'clf__n_neighbors': 15, 'clf__p': 1, 'clf__weights': 'uniform', 'pca__n_components': 67}\n",
      "\n"
     ]
    }
   ],
   "source": [
    "knn_best = results.run_pipe(knn, knn_params)"
   ]
  },
  {
   "cell_type": "markdown",
   "metadata": {},
   "source": [
    "### Adaptive Boosting Classifier"
   ]
  },
  {
   "cell_type": "code",
   "execution_count": 20,
   "metadata": {
    "cell_id": "79bb11a6463d45548d77ad6ad69b9a6e",
    "deepnote_cell_type": "code",
    "deepnote_to_be_reexecuted": false,
    "execution_millis": 1,
    "execution_start": 1670551614765,
    "source_hash": "8f961823",
    "tags": []
   },
   "outputs": [
    {
     "name": "stdout",
     "output_type": "stream",
     "text": [
      "Fitting AdaBoostClassifier\n",
      "Fitting 3 folds for each of 18 candidates, totalling 54 fits\n",
      "Elapsed time: 1 minutes, 11 seconds\n",
      "Best Score:  0.7921427688292851\n",
      "Best Params:  {'clf__learning_rate': 1.0, 'clf__n_estimators': 50, 'pca__n_components': 67}\n",
      "\n"
     ]
    }
   ],
   "source": [
    "ada_best = results.run_pipe(ada, ada_params)"
   ]
  },
  {
   "cell_type": "markdown",
   "metadata": {},
   "source": [
    "### Histogram-Based Gradient Boosting Classifier"
   ]
  },
  {
   "cell_type": "code",
   "execution_count": 21,
   "metadata": {},
   "outputs": [
    {
     "name": "stdout",
     "output_type": "stream",
     "text": [
      "Fitting HistGradientBoostingClassifier\n",
      "Fitting 3 folds for each of 54 candidates, totalling 162 fits\n",
      "Elapsed time: 1 minutes, 58 seconds\n",
      "Best Score:  0.8110157943817349\n",
      "Best Params:  {'clf__l2_regularization': 1, 'clf__learning_rate': 0.01, 'clf__max_iter': 120, 'pca__n_components': 94}\n",
      "\n"
     ]
    }
   ],
   "source": [
    "hgbc_best = results.run_pipe(hgbc, hgbc_params)"
   ]
  },
  {
   "cell_type": "markdown",
   "metadata": {},
   "source": [
    "## Evaluation"
   ]
  },
  {
   "cell_type": "code",
   "execution_count": 22,
   "metadata": {
    "cell_id": "16e54354b94946ad88e3b2c657a8e1b7",
    "deepnote_cell_type": "code",
    "deepnote_to_be_reexecuted": false,
    "execution_millis": 26,
    "execution_start": 1670551614769,
    "source_hash": "c3834e6e",
    "tags": []
   },
   "outputs": [
    {
     "data": {
      "text/html": [
       "<div>\n",
       "<style scoped>\n",
       "    .dataframe tbody tr th:only-of-type {\n",
       "        vertical-align: middle;\n",
       "    }\n",
       "\n",
       "    .dataframe tbody tr th {\n",
       "        vertical-align: top;\n",
       "    }\n",
       "\n",
       "    .dataframe thead th {\n",
       "        text-align: right;\n",
       "    }\n",
       "</style>\n",
       "<table border=\"1\" class=\"dataframe\">\n",
       "  <thead>\n",
       "    <tr style=\"text-align: right;\">\n",
       "      <th></th>\n",
       "      <th>model_names</th>\n",
       "      <th>model</th>\n",
       "      <th>mean_train_roc_auc</th>\n",
       "      <th>mean_test_roc_auc</th>\n",
       "      <th>roc_auc_delta</th>\n",
       "      <th>best_params</th>\n",
       "      <th>runtime</th>\n",
       "    </tr>\n",
       "  </thead>\n",
       "  <tbody>\n",
       "    <tr>\n",
       "      <th>3</th>\n",
       "      <td>HistGradientBoostingClassifier</td>\n",
       "      <td>(ColumnTransformer(remainder='passthrough', sp...</td>\n",
       "      <td>0.9105</td>\n",
       "      <td>0.7939</td>\n",
       "      <td>0.1166</td>\n",
       "      <td>{'clf__l2_regularization': 1, 'clf__learning_r...</td>\n",
       "      <td>118.50</td>\n",
       "    </tr>\n",
       "    <tr>\n",
       "      <th>0</th>\n",
       "      <td>LogisticRegression</td>\n",
       "      <td>(ColumnTransformer(remainder='passthrough', sp...</td>\n",
       "      <td>0.8448</td>\n",
       "      <td>0.7799</td>\n",
       "      <td>0.0649</td>\n",
       "      <td>{'clf__C': 0.1, 'clf__class_weight': None, 'cl...</td>\n",
       "      <td>64.97</td>\n",
       "    </tr>\n",
       "    <tr>\n",
       "      <th>1</th>\n",
       "      <td>KNeighborsClassifier</td>\n",
       "      <td>(ColumnTransformer(remainder='passthrough', sp...</td>\n",
       "      <td>0.9324</td>\n",
       "      <td>0.7659</td>\n",
       "      <td>0.1665</td>\n",
       "      <td>{'clf__n_neighbors': 15, 'clf__p': 1, 'clf__we...</td>\n",
       "      <td>39.27</td>\n",
       "    </tr>\n",
       "    <tr>\n",
       "      <th>2</th>\n",
       "      <td>AdaBoostClassifier</td>\n",
       "      <td>(ColumnTransformer(remainder='passthrough', sp...</td>\n",
       "      <td>0.8491</td>\n",
       "      <td>0.7628</td>\n",
       "      <td>0.0863</td>\n",
       "      <td>{'clf__learning_rate': 1.0, 'clf__n_estimators...</td>\n",
       "      <td>71.96</td>\n",
       "    </tr>\n",
       "  </tbody>\n",
       "</table>\n",
       "</div>"
      ],
      "text/plain": [
       "                      model_names  \\\n",
       "3  HistGradientBoostingClassifier   \n",
       "0              LogisticRegression   \n",
       "1            KNeighborsClassifier   \n",
       "2              AdaBoostClassifier   \n",
       "\n",
       "                                               model  mean_train_roc_auc  \\\n",
       "3  (ColumnTransformer(remainder='passthrough', sp...              0.9105   \n",
       "0  (ColumnTransformer(remainder='passthrough', sp...              0.8448   \n",
       "1  (ColumnTransformer(remainder='passthrough', sp...              0.9324   \n",
       "2  (ColumnTransformer(remainder='passthrough', sp...              0.8491   \n",
       "\n",
       "   mean_test_roc_auc  roc_auc_delta  \\\n",
       "3             0.7939         0.1166   \n",
       "0             0.7799         0.0649   \n",
       "1             0.7659         0.1665   \n",
       "2             0.7628         0.0863   \n",
       "\n",
       "                                         best_params  runtime  \n",
       "3  {'clf__l2_regularization': 1, 'clf__learning_r...   118.50  \n",
       "0  {'clf__C': 0.1, 'clf__class_weight': None, 'cl...    64.97  \n",
       "1  {'clf__n_neighbors': 15, 'clf__p': 1, 'clf__we...    39.27  \n",
       "2  {'clf__learning_rate': 1.0, 'clf__n_estimators...    71.96  "
      ]
     },
     "execution_count": 22,
     "metadata": {},
     "output_type": "execute_result"
    }
   ],
   "source": [
    "results.display()"
   ]
  },
  {
   "cell_type": "markdown",
   "metadata": {},
   "source": [
    "Based on the model_performance table, we see that the the `HistGradientBoostingClassifier` and `AdaBoostClassifier` appear to be performing the best. To optimise our predictions, we will utilise an ensemble method and use the two classifiers with a `VotingClassifier` as our final estimator."
   ]
  },
  {
   "cell_type": "code",
   "execution_count": 23,
   "metadata": {},
   "outputs": [
    {
     "data": {
      "image/png": "[encoded data removed]",
      "text/plain": [
       "<Figure size 640x480 with 2 Axes>"
      ]
     },
     "metadata": {},
     "output_type": "display_data"
    }
   ],
   "source": [
    "# check correlation between our model predictions\n",
    "\n",
    "predictions = []\n",
    "for model in results.display()['model']:\n",
    "    predictions.append(model.predict(X_train))\n",
    "\n",
    "sns.heatmap(\n",
    "    data = pd.DataFrame(\n",
    "    np.column_stack(tuple(predictions)),\n",
    "    columns = results.display()['model_names']\n",
    "    ).corr(),\n",
    "    annot = True,\n",
    "    cmap = 'Blues',\n",
    "    vmin = 0,\n",
    "    vmax = 1\n",
    ");"
   ]
  },
  {
   "cell_type": "code",
   "execution_count": 24,
   "metadata": {},
   "outputs": [],
   "source": [
    "# check coefficents from LogisticRegression\n",
    "# feature_names = lr_best[0].get_feature_names_out()\n",
    "# pca_component_values = lr_best[2].components_\n",
    "# pca_components = pd.DataFrame(pca_component_values, columns=feature_names)\n",
    "# pca_components['sum'] = pca_components.sum(axis=1)\n",
    "\n",
    "# extract LogisticRegression coefficients\n",
    "# lr_coefficients = lr_best[-1].coef_[0]\n",
    "# pca_components['lr_coefficients'] = pd.Series(lr_coefficients)\n",
    "# pca_components.iloc[:, -2:].sort_values(by='lr_coefficients', ascending=False)\n",
    "# pca_table['lr_coefficients'] = pd.Series(lr_coefficients)\n",
    "# features_coefs.rename(columns={0: 'feature', 1: 'coef'}, inplace=True)\n",
    "# features_coefs.sort_values(by='coef', ascending=False).iloc[:50]"
   ]
  },
  {
   "cell_type": "code",
   "execution_count": 25,
   "metadata": {},
   "outputs": [],
   "source": [
    "# pca_components"
   ]
  },
  {
   "cell_type": "code",
   "execution_count": 26,
   "metadata": {},
   "outputs": [],
   "source": [
    "# create VotingClassifier ensemble with best performing classifiers\n",
    "voting_clf = VotingClassifier([\n",
    "    # ('HistGradientBoost', hgbc_best[-1]),\n",
    "    ('AdaBoost', ada_best[-1]),\n",
    "    ('LogReg', lr_best[-1]),\n",
    "    # ('Kneighbors', knn_best[-1])\n",
    "], voting='soft')\n",
    "\n",
    "voting_params = {\n",
    "    'sample__sampling_strategy': ['auto', 0.1, 0.25, 0.5],\n",
    "#     'clf__GradientBoost__learning_rate': [0.01, 0.1],\n",
    "#     'clf__GradientBoost__subsample': [0.7, 1.0],\n",
    "#     'clf__GradientBoost__max_depth': [3, 7],\n",
    "#     'clf__AdaBoost__learning_rate': [1.0, 2.0, 10],\n",
    "#     'clf__LogReg__solver': ['liblinear'],\n",
    "#     'clf__LogReg__C': [100, 10, 1.0],\n",
    "}"
   ]
  },
  {
   "cell_type": "code",
   "execution_count": 27,
   "metadata": {
    "cell_id": "005373c33c9d435daf02555821ef357d",
    "deepnote_cell_type": "code",
    "deepnote_to_be_reexecuted": false,
    "execution_millis": 132,
    "execution_start": 1670552989018,
    "source_hash": "506a2374"
   },
   "outputs": [
    {
     "name": "stdout",
     "output_type": "stream",
     "text": [
      "Fitting VotingClassifier\n",
      "Fitting 3 folds for each of 8 candidates, totalling 24 fits\n",
      "Elapsed time: 0 minutes, 29 seconds\n",
      "Best Score:  0.8285855498103744\n",
      "Best Params:  {'pca__n_components': 94, 'sample__sampling_strategy': 0.25}\n",
      "\n"
     ]
    }
   ],
   "source": [
    "voting_best = results.run_pipe(voting_clf, voting_params)"
   ]
  },
  {
   "cell_type": "code",
   "execution_count": 28,
   "metadata": {},
   "outputs": [
    {
     "data": {
      "text/html": [
       "<div>\n",
       "<style scoped>\n",
       "    .dataframe tbody tr th:only-of-type {\n",
       "        vertical-align: middle;\n",
       "    }\n",
       "\n",
       "    .dataframe tbody tr th {\n",
       "        vertical-align: top;\n",
       "    }\n",
       "\n",
       "    .dataframe thead th {\n",
       "        text-align: right;\n",
       "    }\n",
       "</style>\n",
       "<table border=\"1\" class=\"dataframe\">\n",
       "  <thead>\n",
       "    <tr style=\"text-align: right;\">\n",
       "      <th></th>\n",
       "      <th>model_names</th>\n",
       "      <th>model</th>\n",
       "      <th>mean_train_roc_auc</th>\n",
       "      <th>mean_test_roc_auc</th>\n",
       "      <th>roc_auc_delta</th>\n",
       "      <th>best_params</th>\n",
       "      <th>runtime</th>\n",
       "    </tr>\n",
       "  </thead>\n",
       "  <tbody>\n",
       "    <tr>\n",
       "      <th>3</th>\n",
       "      <td>HistGradientBoostingClassifier</td>\n",
       "      <td>(ColumnTransformer(remainder='passthrough', sp...</td>\n",
       "      <td>0.9105</td>\n",
       "      <td>0.7939</td>\n",
       "      <td>0.1166</td>\n",
       "      <td>{'clf__l2_regularization': 1, 'clf__learning_r...</td>\n",
       "      <td>118.50</td>\n",
       "    </tr>\n",
       "    <tr>\n",
       "      <th>4</th>\n",
       "      <td>VotingClassifier</td>\n",
       "      <td>(ColumnTransformer(remainder='passthrough', sp...</td>\n",
       "      <td>0.8556</td>\n",
       "      <td>0.7887</td>\n",
       "      <td>0.0670</td>\n",
       "      <td>{'pca__n_components': 94, 'sample__sampling_st...</td>\n",
       "      <td>29.12</td>\n",
       "    </tr>\n",
       "    <tr>\n",
       "      <th>0</th>\n",
       "      <td>LogisticRegression</td>\n",
       "      <td>(ColumnTransformer(remainder='passthrough', sp...</td>\n",
       "      <td>0.8448</td>\n",
       "      <td>0.7799</td>\n",
       "      <td>0.0649</td>\n",
       "      <td>{'clf__C': 0.1, 'clf__class_weight': None, 'cl...</td>\n",
       "      <td>64.97</td>\n",
       "    </tr>\n",
       "    <tr>\n",
       "      <th>1</th>\n",
       "      <td>KNeighborsClassifier</td>\n",
       "      <td>(ColumnTransformer(remainder='passthrough', sp...</td>\n",
       "      <td>0.9324</td>\n",
       "      <td>0.7659</td>\n",
       "      <td>0.1665</td>\n",
       "      <td>{'clf__n_neighbors': 15, 'clf__p': 1, 'clf__we...</td>\n",
       "      <td>39.27</td>\n",
       "    </tr>\n",
       "    <tr>\n",
       "      <th>2</th>\n",
       "      <td>AdaBoostClassifier</td>\n",
       "      <td>(ColumnTransformer(remainder='passthrough', sp...</td>\n",
       "      <td>0.8491</td>\n",
       "      <td>0.7628</td>\n",
       "      <td>0.0863</td>\n",
       "      <td>{'clf__learning_rate': 1.0, 'clf__n_estimators...</td>\n",
       "      <td>71.96</td>\n",
       "    </tr>\n",
       "  </tbody>\n",
       "</table>\n",
       "</div>"
      ],
      "text/plain": [
       "                      model_names  \\\n",
       "3  HistGradientBoostingClassifier   \n",
       "4                VotingClassifier   \n",
       "0              LogisticRegression   \n",
       "1            KNeighborsClassifier   \n",
       "2              AdaBoostClassifier   \n",
       "\n",
       "                                               model  mean_train_roc_auc  \\\n",
       "3  (ColumnTransformer(remainder='passthrough', sp...              0.9105   \n",
       "4  (ColumnTransformer(remainder='passthrough', sp...              0.8556   \n",
       "0  (ColumnTransformer(remainder='passthrough', sp...              0.8448   \n",
       "1  (ColumnTransformer(remainder='passthrough', sp...              0.9324   \n",
       "2  (ColumnTransformer(remainder='passthrough', sp...              0.8491   \n",
       "\n",
       "   mean_test_roc_auc  roc_auc_delta  \\\n",
       "3             0.7939         0.1166   \n",
       "4             0.7887         0.0670   \n",
       "0             0.7799         0.0649   \n",
       "1             0.7659         0.1665   \n",
       "2             0.7628         0.0863   \n",
       "\n",
       "                                         best_params  runtime  \n",
       "3  {'clf__l2_regularization': 1, 'clf__learning_r...   118.50  \n",
       "4  {'pca__n_components': 94, 'sample__sampling_st...    29.12  \n",
       "0  {'clf__C': 0.1, 'clf__class_weight': None, 'cl...    64.97  \n",
       "1  {'clf__n_neighbors': 15, 'clf__p': 1, 'clf__we...    39.27  \n",
       "2  {'clf__learning_rate': 1.0, 'clf__n_estimators...    71.96  "
      ]
     },
     "execution_count": 28,
     "metadata": {},
     "output_type": "execute_result"
    }
   ],
   "source": [
    "results.display()"
   ]
  },
  {
   "cell_type": "markdown",
   "metadata": {},
   "source": [
    "Selecting the top performing model based on `balanced accuracy` score."
   ]
  },
  {
   "cell_type": "code",
   "execution_count": 29,
   "metadata": {},
   "outputs": [],
   "source": [
    "best_model = voting_best"
   ]
  },
  {
   "cell_type": "markdown",
   "metadata": {},
   "source": [
    "## Final Model Evaluation"
   ]
  },
  {
   "cell_type": "code",
   "execution_count": 30,
   "metadata": {},
   "outputs": [],
   "source": [
    "# Create a function to evaluate performance\n",
    "\n",
    "def check_performance(clf, features, targets, threshold = 0.5):\n",
    "    preds = pd.Series(np.where(best_model.predict_proba(X_test)[:,1] >= threshold, 1, 0), \n",
    "                     dtype='category')\n",
    "    cm_disp = ConfusionMatrixDisplay.from_predictions(targets, preds)\n",
    "\n",
    "    print(classification_report(targets, preds))"
   ]
  },
  {
   "cell_type": "code",
   "execution_count": 31,
   "metadata": {},
   "outputs": [
    {
     "name": "stdout",
     "output_type": "stream",
     "text": [
      "              precision    recall  f1-score   support\n",
      "\n",
      "           0       0.96      0.96      0.96      2489\n",
      "           1       0.19      0.19      0.19       138\n",
      "\n",
      "    accuracy                           0.91      2627\n",
      "   macro avg       0.57      0.57      0.57      2627\n",
      "weighted avg       0.91      0.91      0.91      2627\n",
      "\n"
     ]
    },
    {
     "data": {
      "image/png": "[encoded data removed]",
      "text/plain": [
       "<Figure size 640x480 with 2 Axes>"
      ]
     },
     "metadata": {},
     "output_type": "display_data"
    }
   ],
   "source": [
    "check_performance(best_model, X_test, y_test)"
   ]
  },
  {
   "cell_type": "code",
   "execution_count": 32,
   "metadata": {},
   "outputs": [],
   "source": [
    "threshold = []\n",
    "roc_auc_score_ = []\n",
    "\n",
    "for p in np.linspace(0,1,101):\n",
    "  threshold.append(p)\n",
    "  y_pred = (best_model.predict_proba(X_train)[:,1] >= p).astype(int)\n",
    "  roc_auc_score_.append(roc_auc_score(y_train, y_pred))\n",
    "\n",
    "threshold_max = threshold[np.argmax(roc_auc_score_)]"
   ]
  },
  {
   "cell_type": "code",
   "execution_count": 33,
   "metadata": {},
   "outputs": [
    {
     "data": {
      "image/png": "[encoded data removed]",
      "text/plain": [
       "<Figure size 640x480 with 1 Axes>"
      ]
     },
     "metadata": {},
     "output_type": "display_data"
    }
   ],
   "source": [
    "plt.scatter(threshold,roc_auc_score_)\n",
    "plt.axvline(x=threshold_max, linestyle='--', c='red', label=f'Threshold {threshold_max}')\n",
    "plt.xlabel(\"Threshold\")\n",
    "plt.ylabel(\"ROC AUC Score\")\n",
    "plt.title(\"ROC AUC Score against Threshold\")\n",
    "plt.legend(loc='best')\n",
    "plt.show();"
   ]
  },
  {
   "cell_type": "code",
   "execution_count": 34,
   "metadata": {},
   "outputs": [
    {
     "name": "stdout",
     "output_type": "stream",
     "text": [
      "              precision    recall  f1-score   support\n",
      "\n",
      "           0       0.98      0.73      0.84      2489\n",
      "           1       0.13      0.72      0.22       138\n",
      "\n",
      "    accuracy                           0.73      2627\n",
      "   macro avg       0.55      0.72      0.53      2627\n",
      "weighted avg       0.93      0.73      0.81      2627\n",
      "\n"
     ]
    },
    {
     "data": {
      "image/png": "[encoded data removed]",
      "text/plain": [
       "<Figure size 640x480 with 2 Axes>"
      ]
     },
     "metadata": {},
     "output_type": "display_data"
    }
   ],
   "source": [
    "check_performance(best_model, X_test, y_test, threshold_max)"
   ]
  },
  {
   "cell_type": "code",
   "execution_count": 35,
   "metadata": {},
   "outputs": [],
   "source": [
    "# y_hat = pd.Series(np.where(best_model.predict_proba(X_test)[:,1] >= threshold_max, 1, 0), \n",
    "#                      dtype='category')\n",
    "# cm_disp_yhat = ConfusionMatrixDisplay.from_predictions(y_test, y_hat)"
   ]
  },
  {
   "cell_type": "code",
   "execution_count": null,
   "metadata": {
    "scrolled": true
   },
   "outputs": [],
   "source": [
    "best_model.fit(X, y)"
   ]
  },
  {
   "cell_type": "markdown",
   "metadata": {},
   "source": [
    "## Predictions\n",
    "\n",
    "Using the best model, we'll now predict the results for the `test.csv`."
   ]
  },
  {
   "cell_type": "code",
   "execution_count": null,
   "metadata": {
    "cell_id": "da2446db60a146cf80aa8cbc5a91280d",
    "deepnote_cell_type": "code",
    "deepnote_to_be_reexecuted": true,
    "source_hash": "a9239d02"
   },
   "outputs": [],
   "source": [
    "# Load test dataset\n",
    "\n",
    "df_test = pd.read_csv('../assets/df_merge_test.csv', parse_dates=['Date', 'Sunrise_1', 'Sunset_1'])"
   ]
  },
  {
   "cell_type": "code",
   "execution_count": null,
   "metadata": {},
   "outputs": [],
   "source": [
    "# Apply same changes to the test dataset\n",
    "\n",
    "df_test = create_dt_features(df_test)"
   ]
  },
  {
   "cell_type": "code",
   "execution_count": null,
   "metadata": {},
   "outputs": [],
   "source": [
    "# View test dataset columns\n",
    "\n",
    "df_test.columns"
   ]
  },
  {
   "cell_type": "code",
   "execution_count": null,
   "metadata": {
    "cell_id": "089666933639418885d5eb294f4004a9",
    "deepnote_cell_type": "code",
    "deepnote_to_be_reexecuted": true,
    "source_hash": "6115b236"
   },
   "outputs": [],
   "source": [
    "# submission_predictions = best_model.predict(df_test[features])\n",
    "\n",
    "# submission_predictions = pd.Series(np.where(best_model.predict_proba(df_test[features])[:,1] >= threshold_max, 1, 0), \n",
    "#                      dtype='category')\n",
    "\n",
    "submission_predictions = pd.Series(np.where(best_model.predict_proba(df_test.drop(columns=['Date', 'Sunrise_1', 'Sunset_1', 'daylight_duration']))[:,1] >= threshold_max, 1, 0), \n",
    "                     dtype='category')"
   ]
  },
  {
   "cell_type": "code",
   "execution_count": null,
   "metadata": {
    "cell_id": "9f02d32d869748ea995f32ff169b2211",
    "deepnote_cell_type": "code",
    "deepnote_to_be_reexecuted": true,
    "source_hash": "3601ff24"
   },
   "outputs": [],
   "source": [
    "# Create function to execute model for predictions\n",
    "\n",
    "def create_predictions(predictions, filename):\n",
    "    if not os.path.isdir('../output'):\n",
    "        os.mkdir('../output')\n",
    "    \n",
    "    if not os.path.isfile(f'../output/{filename}.csv'):\n",
    "        results_df = pd.DataFrame(predictions)\n",
    "        results_df.insert(0, column='id', value=range(1, len(predictions)+1))\n",
    "        results_df.to_csv(f\"../output/{filename}.csv\", header=[\"Id\", \"WnvPresent\"], index=False)\n",
    "    else:\n",
    "        raise NameError(f'{filename}.csv already exists!')"
   ]
  },
  {
   "cell_type": "code",
   "execution_count": null,
   "metadata": {},
   "outputs": [],
   "source": [
    "output_filename = 'predictions_38'\n",
    "\n",
    "create_predictions(submission_predictions, output_filename)"
   ]
  },
  {
   "cell_type": "code",
   "execution_count": null,
   "metadata": {},
   "outputs": [],
   "source": [
    "# results.display().to_csv(f'../output/params_{output_filename}.csv', index=False)"
   ]
  }
 ],
 "metadata": {
  "kernelspec": {
   "display_name": "Python 3",
   "language": "python",
   "name": "python3"
  },
  "language_info": {
   "codemirror_mode": {
    "name": "ipython",
    "version": 3
   },
   "file_extension": ".py",
   "mimetype": "text/x-python",
   "name": "python",
   "nbconvert_exporter": "python",
   "pygments_lexer": "ipython3",
   "version": "3.8.8"
  },
  "toc": {
   "base_numbering": 1,
   "nav_menu": {},
   "number_sections": true,
   "sideBar": true,
   "skip_h1_title": true,
   "title_cell": "Table of Contents",
   "title_sidebar": "Contents",
   "toc_cell": false,
   "toc_position": {},
   "toc_section_display": true,
   "toc_window_display": false
  },
  "vscode": {
   "interpreter": {
    "hash": "1b28ad9899eefd279686690bace4d41fa3fa7d0cff5719534f58e9a7031f3ffc"
   }
  }
 },
 "nbformat": 4,
 "nbformat_minor": 1
}
