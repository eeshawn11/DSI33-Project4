{
 "cells": [
  {
   "attachments": {},
   "cell_type": "markdown",
   "metadata": {
    "cell_id": "f96abd16122146b797d16aaa0f1ee71b",
    "deepnote_cell_type": "markdown"
   },
   "source": [
    "# Part 3 - Modeling & Tuning\n",
    "\n",
    "--- \n",
    "\n",
    "West Nile virus (WNV) is the leading cause of mosquito-borne disease in the US, and it is spread to people by the bite of an infected mosquito, specifically a Culex pipiens mosquito. One in five infected people with WNV would experience fever, nausea, headache and muscle aches lasting from a few days to a few weeks - while the remaining four out of five would not exhibit any symptoms. To date, the virus remains a major concern as individuals with weaker immune systems and those above 60 are at higher risk for severe illness from WNV - raking up medical costs and creating more burden in the healthcare system. \n",
    "\n",
    "Every year the Chicago Department of Public Health (CDPH) runs a comprehensive surveillance program in suburban areas to trap mosquitoes and test them for WNV. This data has helped CDPH target high-risk areas for the virus and significantly reduce the number of positive cases in the last few years. ([source](https://www.chicago.gov/content/dam/city/depts/cdph/statistics_and_reports/CDInfo_2013_JULY_WNV.pdf))\n",
    "\n",
    "However in 2021, Chicago was ranked one of the top five US cities with mosquitoes - putting its residents at risk of contracting WNV. ([source](https://www.fox32chicago.com/news/chicago-to-spray-insecticide-to-protect-against-west-nile-virus)). Furthermore in the last two years, much of the public efforts and funding were focused on keeping the city safe from COVID-19. Now, ahead of the looming recession and tightening of budgets ([source](https://www.economist.com/the-world-ahead/2022/11/18/why-a-global-recession-is-inevitable-in-2023)), the CDPH recognized an urgency to plan ahead and be prudent about spending. \n",
    "\n",
    "Our team at the Disease and Treatment Agency was tasked to analyze the years with more severe WNV outbreak and devise a plan to identify potential hotspots, ahead of the 2023 summer period.\n",
    "\n",
    "## Problem Statement\n",
    "To build a model with more than **70% recall** to predict the period and location where mosquitoes will test positive for WNV, enabling CDPH to preemptively allocate the city’s spraying resources to curb the virus transmission."
   ]
  },
  {
   "cell_type": "markdown",
   "metadata": {},
   "source": [
    "## Content\n",
    "\n",
    "1. [Modeling](#Modeling)\n",
    "2. [Evaluation](#Evaluation)\n",
    "3. [Final Model Evaluation](#Final-Model-Evaluation)\n",
    "4. [Predictions](#Predictions)"
   ]
  },
  {
   "attachments": {},
   "cell_type": "markdown",
   "metadata": {},
   "source": [
    "## Links To Other Notebooks\n",
    "\n",
    "- [Part 1: Data Cleaning](Part_1_WNV_Cleaning.ipynb)\n",
    "- [Part 2: Exploratory Data Analysis](Part_2_WNV_EDA.ipynb)\n",
    "- [Part 4: Cost-Benefit Analysis & Conclusion](Part_4_WNV_CBA_Conclusion.ipynb)"
   ]
  },
  {
   "cell_type": "markdown",
   "metadata": {},
   "source": [
    "## Libraries"
   ]
  },
  {
   "cell_type": "code",
   "execution_count": 1,
   "metadata": {
    "cell_id": "31251000c0c54cfea5e3cabad32b523e",
    "deepnote_cell_type": "code",
    "deepnote_to_be_reexecuted": false,
    "execution_millis": 932,
    "execution_start": 1670551613652,
    "source_hash": "476ca060"
   },
   "outputs": [],
   "source": [
    "import pandas as pd\n",
    "import numpy as np\n",
    "import re\n",
    "import time\n",
    "import os\n",
    "import matplotlib.pyplot as plt\n",
    "import seaborn as sns\n",
    "\n",
    "from sklearn.preprocessing import OneHotEncoder, MinMaxScaler, FunctionTransformer\n",
    "from sklearn.feature_extraction.text import CountVectorizer\n",
    "from sklearn.compose import ColumnTransformer\n",
    "from sklearn.model_selection import train_test_split, GridSearchCV\n",
    "from sklearn.metrics import classification_report, ConfusionMatrixDisplay, RocCurveDisplay, get_scorer, roc_auc_score, get_scorer_names, PrecisionRecallDisplay\n",
    "from sklearn.linear_model import LogisticRegression, RidgeClassifier\n",
    "from sklearn.neighbors import KNeighborsClassifier\n",
    "from sklearn.ensemble import RandomForestClassifier, AdaBoostClassifier, VotingClassifier, HistGradientBoostingClassifier, ExtraTreesClassifier\n",
    "from sklearn.decomposition import PCA\n",
    "\n",
    "# imblearn for sampling\n",
    "from imblearn.over_sampling import SMOTE\n",
    "from imblearn.combine import SMOTETomek\n",
    "from imblearn.pipeline import Pipeline\n",
    "\n",
    "# set random state for model results reproducibility\n",
    "rng = 42\n",
    "\n",
    "import warnings\n",
    "warnings.filterwarnings('ignore') # hide warnings to avoid cluttering the notebook output"
   ]
  },
  {
   "cell_type": "code",
   "execution_count": 2,
   "metadata": {},
   "outputs": [],
   "source": [
    "# Class time error to measure the execution \n",
    "\n",
    "class TimerError(Exception):\n",
    "    \"\"\"A custom exception used to report errors in use of Timer class\"\"\"\n",
    "\n",
    "class Timer:\n",
    "    def __init__(self):\n",
    "        self._start_time = None\n",
    "        self._elapsed_time = None\n",
    "\n",
    "    def start(self):\n",
    "        \"\"\"Start a new timer\"\"\"\n",
    "        if self._start_time is not None:\n",
    "            raise TimerError(f\"Timer is running. Use .stop() to stop it\")\n",
    "\n",
    "        self._elapsed_time = None\n",
    "        self._start_time = time.perf_counter()\n",
    "\n",
    "    def stop(self):\n",
    "        \"\"\"Stop the timer, and report the elapsed time\"\"\"\n",
    "        if self._start_time is None:\n",
    "            raise TimerError(f\"Timer is not running. Use .start() to start it\")\n",
    "\n",
    "        self._elapsed_time = time.perf_counter() - self._start_time\n",
    "        self._start_time = None\n",
    "        print(f\"Elapsed time: {int(divmod(self._elapsed_time, 60)[0])} minutes, {int(divmod(self._elapsed_time, 60)[1])} seconds\")\n",
    "\n",
    "    def duration(self) -> float:\n",
    "        \"\"\"Return the elapsed time from the timer.\"\"\"\n",
    "        if self._elapsed_time is None:\n",
    "            raise TimerError(\"Timer has not run. Use .start() and .stop() to start and stop the timer.\")\n",
    "        return self._elapsed_time"
   ]
  },
  {
   "attachments": {},
   "cell_type": "markdown",
   "metadata": {},
   "source": [
    "Now we're ready to import and prepare our train and validation datasets for modelling."
   ]
  },
  {
   "cell_type": "code",
   "execution_count": 3,
   "metadata": {
    "cell_id": "195f4763f16e47999fbf9d8c8652d351",
    "deepnote_cell_type": "code",
    "deepnote_to_be_reexecuted": false,
    "execution_millis": 25,
    "execution_start": 1670551614585,
    "source_hash": "abfd9979"
   },
   "outputs": [],
   "source": [
    "# Load datasets\n",
    "\n",
    "df = pd.read_csv('../assets/df_merge_prefinal.csv', parse_dates=['Date'])"
   ]
  },
  {
   "cell_type": "code",
   "execution_count": 4,
   "metadata": {},
   "outputs": [],
   "source": [
    "# Create function for date features\n",
    "\n",
    "def create_dt_features(dataframe: pd.DataFrame) -> pd.DataFrame:\n",
    "    '''\n",
    "    Perform feature engineering and return dataframe.\n",
    "    '''\n",
    "    # create datetime related features\n",
    "    dataframe['Daylight_hours_7_days'] = dataframe['Sunset_7_days'] - dataframe['Sunrise_7_days']\n",
    "    dataframe['Daylight_hours_14_days'] = dataframe['Sunset_14_days'] - dataframe['Sunrise_14_days']\n",
    "    # round off Latitude, Longitude to generalise locations by area\n",
    "    dataframe['Latitude'] = round(dataframe['Latitude'], 1)\n",
    "    dataframe['Longitude'] = round(dataframe['Longitude'], 1)\n",
    "    # group satellite traps\n",
    "    dataframe['Trap'] = dataframe['Trap'].str.strip('TABC')\n",
    "    # main vector species in USA (https://www.vdci.net/vector-borne-diseases/west-nile-virus-education-and-mosquito-management-to-protect-public-health/)\n",
    "    dataframe['Vector'] = np.where(dataframe['Species'].str.contains(r'(restuans|pipiens|tarsalis|quinquefasciatus)', case = False), 1, 0)\n",
    "\n",
    "    return dataframe"
   ]
  },
  {
   "cell_type": "code",
   "execution_count": 5,
   "metadata": {},
   "outputs": [],
   "source": [
    "# Apply the function to the dataframe\n",
    "\n",
    "df = create_dt_features(df)"
   ]
  },
  {
   "cell_type": "code",
   "execution_count": 6,
   "metadata": {},
   "outputs": [],
   "source": [
    "# Specify features\n",
    "\n",
    "num_features = [\n",
    "    'Latitude', 'Longitude',\n",
    "    'Tavg_7_days', 'Depart_7_days', 'DewPoint_7_days', 'WetBulb_7_days',\n",
    "    'Heat_7_days', 'Cool_7_days', 'PrecipTotal_7_days',\n",
    "    'AvgSpeed_7_days', 'Humidity_7_days', 'Daylight_hours_7_days',\n",
    "    'Tavg_14_days', 'Depart_14_days', 'DewPoint_14_days',\n",
    "    'WetBulb_14_days', 'Heat_14_days', 'Cool_14_days',\n",
    "    'PrecipTotal_14_days', 'AvgSpeed_14_days', 'Humidity_14_days', \n",
    "    'Daylight_hours_14_days', 'Vector'\n",
    "    ]\n",
    "cat_features = ['Trap', 'Month', 'Week']\n",
    "\n",
    "features = num_features + cat_features"
   ]
  },
  {
   "cell_type": "code",
   "execution_count": 7,
   "metadata": {},
   "outputs": [
    {
     "data": {
      "text/html": [
       "<div>\n",
       "<style scoped>\n",
       "    .dataframe tbody tr th:only-of-type {\n",
       "        vertical-align: middle;\n",
       "    }\n",
       "\n",
       "    .dataframe tbody tr th {\n",
       "        vertical-align: top;\n",
       "    }\n",
       "\n",
       "    .dataframe thead th {\n",
       "        text-align: right;\n",
       "    }\n",
       "</style>\n",
       "<table border=\"1\" class=\"dataframe\">\n",
       "  <thead>\n",
       "    <tr style=\"text-align: right;\">\n",
       "      <th></th>\n",
       "      <th>Latitude</th>\n",
       "      <th>Longitude</th>\n",
       "      <th>Tavg_7_days</th>\n",
       "      <th>Depart_7_days</th>\n",
       "      <th>DewPoint_7_days</th>\n",
       "      <th>WetBulb_7_days</th>\n",
       "      <th>Heat_7_days</th>\n",
       "      <th>Cool_7_days</th>\n",
       "      <th>PrecipTotal_7_days</th>\n",
       "      <th>AvgSpeed_7_days</th>\n",
       "      <th>...</th>\n",
       "      <th>Heat_14_days</th>\n",
       "      <th>Cool_14_days</th>\n",
       "      <th>PrecipTotal_14_days</th>\n",
       "      <th>AvgSpeed_14_days</th>\n",
       "      <th>Humidity_14_days</th>\n",
       "      <th>Daylight_hours_14_days</th>\n",
       "      <th>Vector</th>\n",
       "      <th>Trap</th>\n",
       "      <th>Month</th>\n",
       "      <th>Week</th>\n",
       "    </tr>\n",
       "  </thead>\n",
       "  <tbody>\n",
       "    <tr>\n",
       "      <th>0</th>\n",
       "      <td>42.0</td>\n",
       "      <td>-87.8</td>\n",
       "      <td>67.714286</td>\n",
       "      <td>4.857143</td>\n",
       "      <td>52.0</td>\n",
       "      <td>59.142857</td>\n",
       "      <td>0.714286</td>\n",
       "      <td>3.428571</td>\n",
       "      <td>0.057143</td>\n",
       "      <td>7.271429</td>\n",
       "      <td>...</td>\n",
       "      <td>1.285714</td>\n",
       "      <td>5.0</td>\n",
       "      <td>0.108571</td>\n",
       "      <td>9.328571</td>\n",
       "      <td>54.920714</td>\n",
       "      <td>1492.142857</td>\n",
       "      <td>1</td>\n",
       "      <td>002</td>\n",
       "      <td>5</td>\n",
       "      <td>22</td>\n",
       "    </tr>\n",
       "    <tr>\n",
       "      <th>1</th>\n",
       "      <td>42.0</td>\n",
       "      <td>-87.8</td>\n",
       "      <td>67.714286</td>\n",
       "      <td>4.857143</td>\n",
       "      <td>52.0</td>\n",
       "      <td>59.142857</td>\n",
       "      <td>0.714286</td>\n",
       "      <td>3.428571</td>\n",
       "      <td>0.057143</td>\n",
       "      <td>7.271429</td>\n",
       "      <td>...</td>\n",
       "      <td>1.285714</td>\n",
       "      <td>5.0</td>\n",
       "      <td>0.108571</td>\n",
       "      <td>9.328571</td>\n",
       "      <td>54.920714</td>\n",
       "      <td>1492.142857</td>\n",
       "      <td>1</td>\n",
       "      <td>002</td>\n",
       "      <td>5</td>\n",
       "      <td>22</td>\n",
       "    </tr>\n",
       "    <tr>\n",
       "      <th>2</th>\n",
       "      <td>42.0</td>\n",
       "      <td>-87.8</td>\n",
       "      <td>67.714286</td>\n",
       "      <td>4.857143</td>\n",
       "      <td>52.0</td>\n",
       "      <td>59.142857</td>\n",
       "      <td>0.714286</td>\n",
       "      <td>3.428571</td>\n",
       "      <td>0.057143</td>\n",
       "      <td>7.271429</td>\n",
       "      <td>...</td>\n",
       "      <td>1.285714</td>\n",
       "      <td>5.0</td>\n",
       "      <td>0.108571</td>\n",
       "      <td>9.328571</td>\n",
       "      <td>54.920714</td>\n",
       "      <td>1492.142857</td>\n",
       "      <td>1</td>\n",
       "      <td>007</td>\n",
       "      <td>5</td>\n",
       "      <td>22</td>\n",
       "    </tr>\n",
       "    <tr>\n",
       "      <th>3</th>\n",
       "      <td>42.0</td>\n",
       "      <td>-87.8</td>\n",
       "      <td>67.714286</td>\n",
       "      <td>4.857143</td>\n",
       "      <td>52.0</td>\n",
       "      <td>59.142857</td>\n",
       "      <td>0.714286</td>\n",
       "      <td>3.428571</td>\n",
       "      <td>0.057143</td>\n",
       "      <td>7.271429</td>\n",
       "      <td>...</td>\n",
       "      <td>1.285714</td>\n",
       "      <td>5.0</td>\n",
       "      <td>0.108571</td>\n",
       "      <td>9.328571</td>\n",
       "      <td>54.920714</td>\n",
       "      <td>1492.142857</td>\n",
       "      <td>1</td>\n",
       "      <td>015</td>\n",
       "      <td>5</td>\n",
       "      <td>22</td>\n",
       "    </tr>\n",
       "    <tr>\n",
       "      <th>4</th>\n",
       "      <td>42.0</td>\n",
       "      <td>-87.8</td>\n",
       "      <td>67.714286</td>\n",
       "      <td>4.857143</td>\n",
       "      <td>52.0</td>\n",
       "      <td>59.142857</td>\n",
       "      <td>0.714286</td>\n",
       "      <td>3.428571</td>\n",
       "      <td>0.057143</td>\n",
       "      <td>7.271429</td>\n",
       "      <td>...</td>\n",
       "      <td>1.285714</td>\n",
       "      <td>5.0</td>\n",
       "      <td>0.108571</td>\n",
       "      <td>9.328571</td>\n",
       "      <td>54.920714</td>\n",
       "      <td>1492.142857</td>\n",
       "      <td>1</td>\n",
       "      <td>015</td>\n",
       "      <td>5</td>\n",
       "      <td>22</td>\n",
       "    </tr>\n",
       "  </tbody>\n",
       "</table>\n",
       "<p>5 rows × 26 columns</p>\n",
       "</div>"
      ],
      "text/plain": [
       "   Latitude  Longitude  Tavg_7_days  Depart_7_days  DewPoint_7_days  \\\n",
       "0      42.0      -87.8    67.714286       4.857143             52.0   \n",
       "1      42.0      -87.8    67.714286       4.857143             52.0   \n",
       "2      42.0      -87.8    67.714286       4.857143             52.0   \n",
       "3      42.0      -87.8    67.714286       4.857143             52.0   \n",
       "4      42.0      -87.8    67.714286       4.857143             52.0   \n",
       "\n",
       "   WetBulb_7_days  Heat_7_days  Cool_7_days  PrecipTotal_7_days  \\\n",
       "0       59.142857     0.714286     3.428571            0.057143   \n",
       "1       59.142857     0.714286     3.428571            0.057143   \n",
       "2       59.142857     0.714286     3.428571            0.057143   \n",
       "3       59.142857     0.714286     3.428571            0.057143   \n",
       "4       59.142857     0.714286     3.428571            0.057143   \n",
       "\n",
       "   AvgSpeed_7_days  ...  Heat_14_days  Cool_14_days  PrecipTotal_14_days  \\\n",
       "0         7.271429  ...      1.285714           5.0             0.108571   \n",
       "1         7.271429  ...      1.285714           5.0             0.108571   \n",
       "2         7.271429  ...      1.285714           5.0             0.108571   \n",
       "3         7.271429  ...      1.285714           5.0             0.108571   \n",
       "4         7.271429  ...      1.285714           5.0             0.108571   \n",
       "\n",
       "   AvgSpeed_14_days  Humidity_14_days  Daylight_hours_14_days  Vector  Trap  \\\n",
       "0          9.328571         54.920714             1492.142857       1   002   \n",
       "1          9.328571         54.920714             1492.142857       1   002   \n",
       "2          9.328571         54.920714             1492.142857       1   007   \n",
       "3          9.328571         54.920714             1492.142857       1   015   \n",
       "4          9.328571         54.920714             1492.142857       1   015   \n",
       "\n",
       "   Month  Week  \n",
       "0      5    22  \n",
       "1      5    22  \n",
       "2      5    22  \n",
       "3      5    22  \n",
       "4      5    22  \n",
       "\n",
       "[5 rows x 26 columns]"
      ]
     },
     "execution_count": 7,
     "metadata": {},
     "output_type": "execute_result"
    }
   ],
   "source": [
    "# View first first rows of the features\n",
    "\n",
    "df[features].head()"
   ]
  },
  {
   "attachments": {},
   "cell_type": "markdown",
   "metadata": {},
   "source": [
    "We will be performing a binary classification, where our target features indicate the presence (or lack) of WNV in the mosquito traps:\n",
    "\n",
    "|Label|Description|\n",
    "|:---:|:---|\n",
    "|0|No WNV Present|\n",
    "|1|WNV Present|"
   ]
  },
  {
   "cell_type": "code",
   "execution_count": 8,
   "metadata": {
    "cell_id": "df282cce65f74870b1b26d17b16e882a",
    "deepnote_cell_type": "code",
    "deepnote_to_be_reexecuted": false,
    "execution_millis": 1,
    "execution_start": 1670551614676,
    "source_hash": "f9a57dbf",
    "tags": []
   },
   "outputs": [],
   "source": [
    "# identify feature and target columns\n",
    "\n",
    "X = df[features]\n",
    "y = df['WnvPresent']"
   ]
  },
  {
   "cell_type": "code",
   "execution_count": 9,
   "metadata": {},
   "outputs": [
    {
     "data": {
      "text/plain": [
       "Index(['Latitude', 'Longitude', 'Tavg_7_days', 'Depart_7_days',\n",
       "       'DewPoint_7_days', 'WetBulb_7_days', 'Heat_7_days', 'Cool_7_days',\n",
       "       'PrecipTotal_7_days', 'AvgSpeed_7_days', 'Humidity_7_days',\n",
       "       'Daylight_hours_7_days', 'Tavg_14_days', 'Depart_14_days',\n",
       "       'DewPoint_14_days', 'WetBulb_14_days', 'Heat_14_days', 'Cool_14_days',\n",
       "       'PrecipTotal_14_days', 'AvgSpeed_14_days', 'Humidity_14_days',\n",
       "       'Daylight_hours_14_days', 'Vector', 'Trap', 'Month', 'Week'],\n",
       "      dtype='object')"
      ]
     },
     "execution_count": 9,
     "metadata": {},
     "output_type": "execute_result"
    }
   ],
   "source": [
    "# check features\n",
    "\n",
    "X.columns"
   ]
  },
  {
   "cell_type": "code",
   "execution_count": 10,
   "metadata": {
    "cell_id": "c002f9f29f5b469282bc7436c65d2bce",
    "deepnote_cell_type": "code",
    "deepnote_to_be_reexecuted": false,
    "execution_millis": 0,
    "execution_start": 1670551614695,
    "source_hash": "22ad61df"
   },
   "outputs": [],
   "source": [
    "# Set up train-test split\n",
    "\n",
    "X_train, X_test, y_train, y_test = train_test_split(X, y, test_size=0.25, random_state=rng, stratify=y)"
   ]
  },
  {
   "attachments": {},
   "cell_type": "markdown",
   "metadata": {},
   "source": [
    "## Modelling\n",
    "\n",
    "As part of our model, we will be utilising a pipeline so that we can perform hyperparameter tuning using GridSearchCV.\n",
    "\n",
    "Pipeline steps:\n",
    "\n",
    "1. Vectorisation of categorical features using `OneHotEncoder`\n",
    "1. Scaling using `MinMaxScaler`\n",
    "1. Dimensionality reduction using `Principal Components Analysis (PCA)`\n",
    "1. Address class imbalance using `SMOTE-Tomek`\n",
    "1. Classification\n",
    "\n",
    "We will be comparing the performance between 4 different classifier models: \n",
    "\n",
    "- Logistic Regression\n",
    "- KNeighbors Classifier\n",
    "- Adaptive Boosting Classifier\n",
    "- Histogram-Based Gradient Boosting Classifier\n",
    "\n",
    "From the predictions of our model, we can measure its performance based on the number of predictions that were made correctly for both classes. This can be represented by a Confusion Matrix that compares the actual target values against the predictions from the model.\n",
    "\n",
    "![Confusion Matrix](../assets/images/confusion_matrix.png)\n",
    "\n",
    "True Positive (TP) \n",
    "- The predicted value matches the actual value\n",
    "- The actual value was positive and the model predicted a positive value\n",
    "\n",
    "True Negative (TN) \n",
    "- The predicted value matches the actual value\n",
    "- The actual value was negative and the model predicted a negative value\n",
    "\n",
    "False Positive (FP)\n",
    "- The predicted value was falsely predicted\n",
    "- The actual value was negative but the model predicted a positive value\n",
    "\n",
    "False Negative (FN)\n",
    "- The predicted value was falsely predicted\n",
    "- The actual value was positive but the model predicted a negative value\n",
    "\n",
    "As part of our problem statement, we are targeting to achieve at least 70% recall from our model. Recall is also known as True Positive Rate and is a measure of how accurately our model can identify mosquito traps that will have WNV present. A model that is able to accurately identify all TP without any FN will have a Recall score of 1.0.\n",
    "\n",
    "$$ Recall = \\frac{TP}{TP + FN} $$\n",
    "\n",
    "However, a model that overly focuses on Recall may also result in a large number of False Positive predictions, which could lead to wasted resources in spraying areas that may not have WNV present. As such, we will utilise a different metric `ROC AUC` to help optimise our models during the GridSearchCV process."
   ]
  },
  {
   "attachments": {},
   "cell_type": "markdown",
   "metadata": {},
   "source": [
    "An ROC curve (Receiver Operating Characteristic curve) is a graph showing the performance of a classification model across different classification thresholds. The curve plots two parameters:\n",
    "\n",
    "- True Positive Rate (Recall)\n",
    "- False Positive Rate\n",
    "\n",
    "![ROC Curve](../assets/images/ROC.png)\n",
    "\n",
    "[Image Source](https://www.mathworks.com/help//deeplearning/ug/compare-deep-learning-models-using-ROC-curves.html)\n",
    "\n",
    "The AUC is calculated by the area under the curve and is a measure of the ability of the classifier to distinguish between the two classes. The higher the AUC (closer to 1), the better the model performs in distinguishing between the classes, as represented by the 'Perfect Classifier' in the plot above. On the other hand, a random classifier that is unable to distinguish between the two classes will have a AUC of 0.5."
   ]
  },
  {
   "cell_type": "code",
   "execution_count": 11,
   "metadata": {
    "cell_id": "5ea9415a492849488bbfe0c08690b007",
    "deepnote_cell_type": "code",
    "deepnote_to_be_reexecuted": false,
    "execution_millis": 0,
    "execution_start": 1670551614696,
    "source_hash": "a0c1dd4b"
   },
   "outputs": [],
   "source": [
    "# Processing steps before modelling (standardisation, one hot encoding, over/under-sampling)\n",
    "ohe = OneHotEncoder(drop='if_binary', handle_unknown='infrequent_if_exist')\n",
    "\n",
    "# specify ColumnTransformer to transform specific columns\n",
    "col_transform = ColumnTransformer([\n",
    "    ('OneHotEncoder', ohe, cat_features),\n",
    "], remainder = 'passthrough',\n",
    "sparse_threshold = 0\n",
    ")\n",
    "\n",
    "minmax = MinMaxScaler(feature_range=(0, 1))\n",
    "\n",
    "pca = PCA()\n",
    "\n",
    "smotetomek = SMOTETomek(random_state=rng, n_jobs=2)"
   ]
  },
  {
   "cell_type": "code",
   "execution_count": 12,
   "metadata": {},
   "outputs": [],
   "source": [
    "# Class time results error to measure the execution \n",
    "\n",
    "class ResultsError(Exception):\n",
    "    \"\"\"A custom exception used to report errors in use of Results class\"\"\"\n",
    "\n",
    "class Results:\n",
    "    '''\n",
    "    Display results from modelling.\n",
    "    '''\n",
    "\n",
    "    def __init__(self, scoring_metric: list[str]):\n",
    "        self.__results_dict = {}\n",
    "        self.__results_dict['model_names']= []\n",
    "        self.__results_dict['model']= []\n",
    "        \n",
    "        self.__scoring_metric = scoring_metric\n",
    "        if type(self.__scoring_metric) == list:\n",
    "            for metric in self.__scoring_metric:\n",
    "                if metric not in get_scorer_names():\n",
    "                    raise ResultsError('scoring metric must be an available scorer from sklearn, use sklearn.metrics.get_scorer_names() to retrieve the names of all available scorers.')\n",
    "            for i, metric in enumerate(self.__scoring_metric):\n",
    "                self.__results_dict[f'mean_train_{self.__scoring_metric[i]}'] = []\n",
    "                self.__results_dict[f'mean_test_{self.__scoring_metric[i]}'] = []\n",
    "                self.__results_dict[f'{self.__scoring_metric[i]}_delta']= []\n",
    "        else:\n",
    "            raise TypeError('scoring_metric must be list of string')\n",
    "\n",
    "        self.__results_dict['best_params'] = []\n",
    "        self.__results_dict['runtime'] = []\n",
    "\n",
    "    # run pipe, fit params and return best estimator\n",
    "    def run_pipe(self, clf: object, pipe_params=None):\n",
    "        '''\n",
    "        Places classifier into a Pipeline, which is then run in a GridSearchCV to optimise the model based on parameters passed. \n",
    "\n",
    "        Parameters\n",
    "        ----------\n",
    "        clf : object\n",
    "            Classifier object\n",
    "        pipe_params : dictionary\n",
    "            Parameters to pass into GridSearchCV\n",
    "            \n",
    "        Returns\n",
    "        -------\n",
    "        Best Estimator\n",
    "            Best estimator refitted from the GridSearchCV\n",
    "        '''\n",
    "        if not len(self.__results_dict):\n",
    "            raise ResultsError('Error, no dictionary found. Use .create_results_dict() to create a dictionary first.')\n",
    "\n",
    "        t = Timer()\n",
    "        try:\n",
    "            model_name = re.match(r'^(\\w+)(?=\\()', str(clf)).group()\n",
    "        except:\n",
    "            model_name = clf\n",
    "        print(f\"Fitting {model_name}\")\n",
    "\n",
    "        # create pipe\n",
    "        pipe = Pipeline([\n",
    "            ('col_transform', col_transform),\n",
    "            ('scale', minmax),\n",
    "            ('pca', pca),\n",
    "            ('sample', smotetomek),\n",
    "            ('clf', clf)\n",
    "        ])\n",
    "\n",
    "        # select Principal Components using PCA to reduce dimensionality\n",
    "        X_train_pca = pipe[:3].fit_transform(X_train)\n",
    "        total_variance = pipe[2].explained_variance_ratio_.cumsum()\n",
    "        # 95% of variance\n",
    "        n_over_95 = len(total_variance[total_variance >= .95])\n",
    "        n_to_reach_95 = X_train_pca.shape[1] - n_over_95 + 1\n",
    "        # 90% of variance\n",
    "        n_over_90 = len(total_variance[total_variance >= .90])\n",
    "        n_to_reach_90 = X_train_pca.shape[1] - n_over_90 + 1\n",
    "\n",
    "        default_params = {\n",
    "            'pca__n_components': [n_to_reach_95, n_to_reach_90],\n",
    "        }\n",
    "        \n",
    "        # create GridSearchCV\n",
    "        grid = GridSearchCV(\n",
    "            estimator = pipe,\n",
    "            param_grid = default_params | pipe_params,\n",
    "            scoring = self.__scoring_metric,\n",
    "            n_jobs = -3,\n",
    "            cv = 3,\n",
    "            verbose = 1,\n",
    "            error_score = 'raise',\n",
    "            refit = self.__scoring_metric[0],\n",
    "        )\n",
    "\n",
    "        t.start()\n",
    "        grid.fit(X_train, y_train)\n",
    "        t.stop()\n",
    "      \n",
    "        # store GridSearch scores\n",
    "        self.__results_dict['model_names'].append(model_name)\n",
    "        self.__results_dict['model'].append(grid.best_estimator_)\n",
    "\n",
    "        for i, metric in enumerate(self.__scoring_metric):\n",
    "            # retrieve scorer based on defined metric\n",
    "            self._scorer = get_scorer(metric)\n",
    "            self._train_score = self._scorer(grid.best_estimator_, X_train, y_train)\n",
    "            self._test_score = self._scorer(grid.best_estimator_, X_test, y_test)\n",
    "            self.__results_dict[f'mean_train_{self.__scoring_metric[i]}'].append(self._train_score)\n",
    "            self.__results_dict[f'mean_test_{self.__scoring_metric[i]}'].append(self._test_score)\n",
    "            self.__results_dict[f'{self.__scoring_metric[i]}_delta'].append(\n",
    "                abs(self._train_score - self._test_score)\n",
    "                )\n",
    "\n",
    "        self.__results_dict['best_params'].append(grid.best_params_)\n",
    "        self.__results_dict['runtime'].append(t.duration())\n",
    "\n",
    "        print(\"Best Score: \", grid.best_score_)\n",
    "        print(\"Best Params: \", grid.best_params_)\n",
    "        print()\n",
    "        return grid.best_estimator_\n",
    "\n",
    "    def display(self) -> pd.DataFrame:\n",
    "        '''Display pandas DataFrame displaying model performance results'''\n",
    "        if not len(self.__results_dict):\n",
    "            raise ResultsError('No results found. Use .run_pipe() to run pipe and store results.')\n",
    "        model_df = pd.DataFrame(self.__results_dict)\n",
    "        \n",
    "        model_df.iloc[:, :-2] = model_df.iloc[:, :-2].round(4)\n",
    "        model_df.iloc[:, -1] = model_df.iloc[:, -1].round(2)\n",
    "\n",
    "        return model_df"
   ]
  },
  {
   "cell_type": "code",
   "execution_count": 13,
   "metadata": {},
   "outputs": [],
   "source": [
    "# Define scoring metrics for optimisation with GridSearchCV\n",
    "score_metric = ['roc_auc']\n",
    "\n",
    "# Instantiate Results\n",
    "results = Results(score_metric)"
   ]
  },
  {
   "attachments": {},
   "cell_type": "markdown",
   "metadata": {},
   "source": [
    "For each of our models, we will also perform a set of hyperparameter tuning using GridSearchCV."
   ]
  },
  {
   "cell_type": "code",
   "execution_count": 14,
   "metadata": {
    "cell_id": "68b7851640eb427a9d654c1ea7eedce8",
    "deepnote_cell_type": "code",
    "deepnote_to_be_reexecuted": false,
    "execution_millis": 2,
    "execution_start": 1670551614703,
    "source_hash": "5cf5fc15",
    "tags": []
   },
   "outputs": [],
   "source": [
    "# Instantiating models for classification\n",
    "\n",
    "lr = LogisticRegression(solver='liblinear', random_state=rng)\n",
    "knn = KNeighborsClassifier()\n",
    "ada = AdaBoostClassifier(random_state=rng)\n",
    "hgbc = HistGradientBoostingClassifier(random_state=rng)"
   ]
  },
  {
   "cell_type": "code",
   "execution_count": 15,
   "metadata": {
    "cell_id": "0939d8a01a0448678a1276cd0609d252",
    "deepnote_cell_type": "code",
    "deepnote_to_be_reexecuted": false,
    "execution_millis": 0,
    "execution_start": 1670551614725,
    "source_hash": "6ad5492e",
    "tags": []
   },
   "outputs": [],
   "source": [
    "# Setting classifier parameters\n",
    "\n",
    "lr_params = {\n",
    "    'clf__penalty': ['l1'], # ['l1', 'l2'],\n",
    "    'clf__C': [0.1], # [1.0, 0.1, 0.01],\n",
    "    'clf__max_iter': [100], # [100, 200, 400],\n",
    "    'clf__class_weight': ['balanced'], #['balanced', None],\n",
    "}\n",
    "\n",
    "knn_params = {\n",
    "    'clf__n_neighbors': [15], # [3, 5, 9, 15],\n",
    "    'clf__weights': ['distance'], # ['uniform', 'distance'],\n",
    "    'clf__p': [1], # [1, 2]\n",
    "}\n",
    "\n",
    "ada_params = {\n",
    "    'clf__learning_rate': [1], # [1.0, 2.0, 10],\n",
    "    'clf__n_estimators': [120], # [120, 150, 200], # [50, 80, 120],\n",
    "}\n",
    "\n",
    "hgbc_params = {\n",
    "    'clf__learning_rate': [0.01], # [0.001, 0.01, 0.1],\n",
    "    'clf__l2_regularization': [0.1], # [0, 0.1, 1],\n",
    "    'clf__max_iter': [200], # [80, 120, 200],\n",
    "}"
   ]
  },
  {
   "cell_type": "markdown",
   "metadata": {},
   "source": [
    "### Logistic Regression"
   ]
  },
  {
   "cell_type": "code",
   "execution_count": 16,
   "metadata": {},
   "outputs": [
    {
     "name": "stdout",
     "output_type": "stream",
     "text": [
      "Fitting LogisticRegression\n",
      "Fitting 3 folds for each of 2 candidates, totalling 6 fits\n",
      "Elapsed time: 0 minutes, 8 seconds\n",
      "Best Score:  0.8189958016214374\n",
      "Best Params:  {'clf__C': 0.1, 'clf__class_weight': 'balanced', 'clf__max_iter': 100, 'clf__penalty': 'l1', 'pca__n_components': 95}\n",
      "\n"
     ]
    }
   ],
   "source": [
    "lr_best = results.run_pipe(lr, lr_params)"
   ]
  },
  {
   "cell_type": "markdown",
   "metadata": {},
   "source": [
    "### KNeighbors Classifier"
   ]
  },
  {
   "cell_type": "code",
   "execution_count": 17,
   "metadata": {},
   "outputs": [
    {
     "name": "stdout",
     "output_type": "stream",
     "text": [
      "Fitting KNeighborsClassifier\n",
      "Fitting 3 folds for each of 2 candidates, totalling 6 fits\n",
      "Elapsed time: 0 minutes, 7 seconds\n",
      "Best Score:  0.7462711014180089\n",
      "Best Params:  {'clf__n_neighbors': 15, 'clf__p': 1, 'clf__weights': 'distance', 'pca__n_components': 71}\n",
      "\n"
     ]
    }
   ],
   "source": [
    "knn_best = results.run_pipe(knn, knn_params)"
   ]
  },
  {
   "cell_type": "markdown",
   "metadata": {},
   "source": [
    "### Adaptive Boosting Classifier"
   ]
  },
  {
   "cell_type": "code",
   "execution_count": 18,
   "metadata": {
    "cell_id": "79bb11a6463d45548d77ad6ad69b9a6e",
    "deepnote_cell_type": "code",
    "deepnote_to_be_reexecuted": false,
    "execution_millis": 1,
    "execution_start": 1670551614765,
    "source_hash": "8f961823",
    "tags": []
   },
   "outputs": [
    {
     "name": "stdout",
     "output_type": "stream",
     "text": [
      "Fitting AdaBoostClassifier\n",
      "Fitting 3 folds for each of 2 candidates, totalling 6 fits\n",
      "Elapsed time: 0 minutes, 43 seconds\n",
      "Best Score:  0.7808365723682957\n",
      "Best Params:  {'clf__learning_rate': 1, 'clf__n_estimators': 120, 'pca__n_components': 71}\n",
      "\n"
     ]
    }
   ],
   "source": [
    "ada_best = results.run_pipe(ada, ada_params)"
   ]
  },
  {
   "cell_type": "markdown",
   "metadata": {},
   "source": [
    "### Histogram-Based Gradient Boosting Classifier"
   ]
  },
  {
   "cell_type": "code",
   "execution_count": 19,
   "metadata": {},
   "outputs": [
    {
     "name": "stdout",
     "output_type": "stream",
     "text": [
      "Fitting HistGradientBoostingClassifier\n",
      "Fitting 3 folds for each of 2 candidates, totalling 6 fits\n",
      "Elapsed time: 0 minutes, 18 seconds\n",
      "Best Score:  0.81076107256248\n",
      "Best Params:  {'clf__l2_regularization': 0.1, 'clf__learning_rate': 0.01, 'clf__max_iter': 200, 'pca__n_components': 95}\n",
      "\n"
     ]
    }
   ],
   "source": [
    "hgbc_best = results.run_pipe(hgbc, hgbc_params)"
   ]
  },
  {
   "cell_type": "markdown",
   "metadata": {},
   "source": [
    "## Evaluation"
   ]
  },
  {
   "cell_type": "code",
   "execution_count": 20,
   "metadata": {
    "cell_id": "16e54354b94946ad88e3b2c657a8e1b7",
    "deepnote_cell_type": "code",
    "deepnote_to_be_reexecuted": false,
    "execution_millis": 26,
    "execution_start": 1670551614769,
    "source_hash": "c3834e6e",
    "tags": []
   },
   "outputs": [
    {
     "data": {
      "text/html": [
       "<div>\n",
       "<style scoped>\n",
       "    .dataframe tbody tr th:only-of-type {\n",
       "        vertical-align: middle;\n",
       "    }\n",
       "\n",
       "    .dataframe tbody tr th {\n",
       "        vertical-align: top;\n",
       "    }\n",
       "\n",
       "    .dataframe thead th {\n",
       "        text-align: right;\n",
       "    }\n",
       "</style>\n",
       "<table border=\"1\" class=\"dataframe\">\n",
       "  <thead>\n",
       "    <tr style=\"text-align: right;\">\n",
       "      <th></th>\n",
       "      <th>model_names</th>\n",
       "      <th>model</th>\n",
       "      <th>mean_train_roc_auc</th>\n",
       "      <th>mean_test_roc_auc</th>\n",
       "      <th>roc_auc_delta</th>\n",
       "      <th>best_params</th>\n",
       "      <th>runtime</th>\n",
       "    </tr>\n",
       "  </thead>\n",
       "  <tbody>\n",
       "    <tr>\n",
       "      <th>0</th>\n",
       "      <td>LogisticRegression</td>\n",
       "      <td>(ColumnTransformer(remainder='passthrough', sp...</td>\n",
       "      <td>0.8434</td>\n",
       "      <td>0.7809</td>\n",
       "      <td>0.0626</td>\n",
       "      <td>{'clf__C': 0.1, 'clf__class_weight': 'balanced...</td>\n",
       "      <td>8.13</td>\n",
       "    </tr>\n",
       "    <tr>\n",
       "      <th>1</th>\n",
       "      <td>KNeighborsClassifier</td>\n",
       "      <td>(ColumnTransformer(remainder='passthrough', sp...</td>\n",
       "      <td>0.9605</td>\n",
       "      <td>0.7771</td>\n",
       "      <td>0.1834</td>\n",
       "      <td>{'clf__n_neighbors': 15, 'clf__p': 1, 'clf__we...</td>\n",
       "      <td>7.96</td>\n",
       "    </tr>\n",
       "    <tr>\n",
       "      <th>2</th>\n",
       "      <td>AdaBoostClassifier</td>\n",
       "      <td>(ColumnTransformer(remainder='passthrough', sp...</td>\n",
       "      <td>0.8724</td>\n",
       "      <td>0.7954</td>\n",
       "      <td>0.0770</td>\n",
       "      <td>{'clf__learning_rate': 1, 'clf__n_estimators':...</td>\n",
       "      <td>43.59</td>\n",
       "    </tr>\n",
       "    <tr>\n",
       "      <th>3</th>\n",
       "      <td>HistGradientBoostingClassifier</td>\n",
       "      <td>(ColumnTransformer(remainder='passthrough', sp...</td>\n",
       "      <td>0.9210</td>\n",
       "      <td>0.8134</td>\n",
       "      <td>0.1077</td>\n",
       "      <td>{'clf__l2_regularization': 0.1, 'clf__learning...</td>\n",
       "      <td>18.90</td>\n",
       "    </tr>\n",
       "  </tbody>\n",
       "</table>\n",
       "</div>"
      ],
      "text/plain": [
       "                      model_names  \\\n",
       "0              LogisticRegression   \n",
       "1            KNeighborsClassifier   \n",
       "2              AdaBoostClassifier   \n",
       "3  HistGradientBoostingClassifier   \n",
       "\n",
       "                                               model  mean_train_roc_auc  \\\n",
       "0  (ColumnTransformer(remainder='passthrough', sp...              0.8434   \n",
       "1  (ColumnTransformer(remainder='passthrough', sp...              0.9605   \n",
       "2  (ColumnTransformer(remainder='passthrough', sp...              0.8724   \n",
       "3  (ColumnTransformer(remainder='passthrough', sp...              0.9210   \n",
       "\n",
       "   mean_test_roc_auc  roc_auc_delta  \\\n",
       "0             0.7809         0.0626   \n",
       "1             0.7771         0.1834   \n",
       "2             0.7954         0.0770   \n",
       "3             0.8134         0.1077   \n",
       "\n",
       "                                         best_params  runtime  \n",
       "0  {'clf__C': 0.1, 'clf__class_weight': 'balanced...     8.13  \n",
       "1  {'clf__n_neighbors': 15, 'clf__p': 1, 'clf__we...     7.96  \n",
       "2  {'clf__learning_rate': 1, 'clf__n_estimators':...    43.59  \n",
       "3  {'clf__l2_regularization': 0.1, 'clf__learning...    18.90  "
      ]
     },
     "execution_count": 20,
     "metadata": {},
     "output_type": "execute_result"
    }
   ],
   "source": [
    "results.display()"
   ]
  },
  {
   "attachments": {},
   "cell_type": "markdown",
   "metadata": {},
   "source": [
    "Based on the performance of the 4 models, we see that the `Logistic Regression` model has a relatively high train score of 0.84 and test score of 0.78. \n",
    "\n",
    "While the other models appear to have better performance, there is a larger delta between their train and test scores. This may suggest that the models are overfitting to the train data and may not perform as well on unseen data. As such, we will utilise the Logistic Regression model as our current iteration for predictions based on the lowest delta of 0.06."
   ]
  },
  {
   "cell_type": "code",
   "execution_count": 21,
   "metadata": {},
   "outputs": [],
   "source": [
    "best_model = lr_best"
   ]
  },
  {
   "attachments": {},
   "cell_type": "markdown",
   "metadata": {},
   "source": [
    "## Final Model Evaluation\n",
    "\n",
    "With the selected Logistic Regression model, we will check its performance based on the Confusion Matrix. For comparison, a simple model could predict all mosquito traps as having WNV present and achieve a 100% recall. However, this would likely lead to wasted resources with having to spray across the entire city."
   ]
  },
  {
   "cell_type": "code",
   "execution_count": 22,
   "metadata": {},
   "outputs": [
    {
     "name": "stdout",
     "output_type": "stream",
     "text": [
      "              precision    recall  f1-score   support\n",
      "\n",
      "           0       0.00      0.00      0.00      2489\n",
      "           1       0.05      1.00      0.10       138\n",
      "\n",
      "    accuracy                           0.05      2627\n",
      "   macro avg       0.03      0.50      0.05      2627\n",
      "weighted avg       0.00      0.05      0.01      2627\n",
      "\n"
     ]
    },
    {
     "data": {
      "image/png": "[encoded data removed]",
      "text/plain": [
       "<Figure size 640x480 with 2 Axes>"
      ]
     },
     "metadata": {},
     "output_type": "display_data"
    }
   ],
   "source": [
    "dummy_preds = [1 for i in range(len(y_test))]\n",
    "\n",
    "ConfusionMatrixDisplay.from_predictions(y_test, dummy_preds)\n",
    "print(classification_report(y_test, dummy_preds))"
   ]
  },
  {
   "attachments": {},
   "cell_type": "markdown",
   "metadata": {},
   "source": [
    "We see that the dummy predictions achieves a Recall score of 1.00, indicating that it has perfectly predicted True Positive cases (traps with WNV present), but at the expense of incorrectly predicting all the Negative cases (traps with no WNV)."
   ]
  },
  {
   "cell_type": "code",
   "execution_count": 23,
   "metadata": {},
   "outputs": [],
   "source": [
    "# Create a function to evaluate performance\n",
    "\n",
    "def check_performance(clf, features, targets, threshold = 0.5):\n",
    "    preds = pd.Series(np.where(best_model.predict_proba(X_test)[:,1] >= threshold, 1, 0), \n",
    "                     dtype='category')\n",
    "    cm_disp = ConfusionMatrixDisplay.from_predictions(targets, preds)\n",
    "\n",
    "    print(classification_report(targets, preds))"
   ]
  },
  {
   "cell_type": "code",
   "execution_count": 24,
   "metadata": {},
   "outputs": [
    {
     "name": "stdout",
     "output_type": "stream",
     "text": [
      "              precision    recall  f1-score   support\n",
      "\n",
      "           0       0.98      0.72      0.83      2489\n",
      "           1       0.12      0.71      0.21       138\n",
      "\n",
      "    accuracy                           0.72      2627\n",
      "   macro avg       0.55      0.71      0.52      2627\n",
      "weighted avg       0.93      0.72      0.80      2627\n",
      "\n"
     ]
    },
    {
     "data": {
      "image/png": "[encoded data removed]",
      "text/plain": [
       "<Figure size 640x480 with 2 Axes>"
      ]
     },
     "metadata": {},
     "output_type": "display_data"
    }
   ],
   "source": [
    "check_performance(best_model, X_test, y_test)"
   ]
  },
  {
   "attachments": {},
   "cell_type": "markdown",
   "metadata": {},
   "source": [
    "Comparing against our selected model, we are able to achieve the 0.70 recall target for our positive predictions, while still maintaining a reasonable prediction rate for the other class. This helps to optimise the city's resources in the fight against the WNV."
   ]
  },
  {
   "cell_type": "code",
   "execution_count": 25,
   "metadata": {},
   "outputs": [],
   "source": [
    "# plotting ROC AUC score against various prediction thresholds\n",
    "\n",
    "threshold = []\n",
    "roc_auc_score_ = []\n",
    "\n",
    "for p in np.linspace(0,1,101):\n",
    "  threshold.append(p)\n",
    "  y_pred = (best_model.predict_proba(X_train)[:,1] >= p).astype(int)\n",
    "  roc_auc_score_.append(roc_auc_score(y_train, y_pred))\n",
    "\n",
    "threshold_max = threshold[np.argmax(roc_auc_score_)]"
   ]
  },
  {
   "cell_type": "code",
   "execution_count": 26,
   "metadata": {},
   "outputs": [
    {
     "data": {
      "image/png": "[encoded data removed]",
      "text/plain": [
       "<Figure size 640x480 with 1 Axes>"
      ]
     },
     "metadata": {},
     "output_type": "display_data"
    }
   ],
   "source": [
    "plt.scatter(threshold,roc_auc_score_)\n",
    "plt.axvline(x=threshold_max, linestyle='--', c='red', label=f'Threshold {threshold_max}')\n",
    "plt.xlabel(\"Threshold\")\n",
    "plt.ylabel(\"ROC AUC Score\")\n",
    "plt.title(\"ROC AUC Score against Threshold\")\n",
    "plt.legend(loc='best')\n",
    "plt.show();"
   ]
  },
  {
   "cell_type": "code",
   "execution_count": 27,
   "metadata": {},
   "outputs": [
    {
     "name": "stdout",
     "output_type": "stream",
     "text": [
      "              precision    recall  f1-score   support\n",
      "\n",
      "           0       0.98      0.69      0.81      2489\n",
      "           1       0.11      0.73      0.20       138\n",
      "\n",
      "    accuracy                           0.69      2627\n",
      "   macro avg       0.55      0.71      0.50      2627\n",
      "weighted avg       0.93      0.69      0.78      2627\n",
      "\n"
     ]
    },
    {
     "data": {
      "image/png": "[encoded data removed]",
      "text/plain": [
       "<Figure size 640x480 with 2 Axes>"
      ]
     },
     "metadata": {},
     "output_type": "display_data"
    }
   ],
   "source": [
    "check_performance(best_model, X_test, y_test, threshold_max)"
   ]
  },
  {
   "attachments": {},
   "cell_type": "markdown",
   "metadata": {},
   "source": [
    "The sklearn model implementation predicts at a fixed 0.50 probability threshold, but by adjusting the threshold to 0.46, we are able to achieve a higher Recall of 0.73 with a moderate increase in the number of False Positive predictions, which is acceptable given the negative implications of the potential spread in WNV."
   ]
  },
  {
   "cell_type": "markdown",
   "metadata": {},
   "source": [
    "## Predictions\n",
    "\n",
    "Using the best model, we'll now predict the results for the `test.csv`."
   ]
  },
  {
   "cell_type": "code",
   "execution_count": 28,
   "metadata": {
    "scrolled": true
   },
   "outputs": [
    {
     "data": {
      "text/html": [
       "<style>#sk-container-id-1 {color: black;background-color: white;}#sk-container-id-1 pre{padding: 0;}#sk-container-id-1 div.sk-toggleable {background-color: white;}#sk-container-id-1 label.sk-toggleable__label {cursor: pointer;display: block;width: 100%;margin-bottom: 0;padding: 0.3em;box-sizing: border-box;text-align: center;}#sk-container-id-1 label.sk-toggleable__label-arrow:before {content: \"▸\";float: left;margin-right: 0.25em;color: #696969;}#sk-container-id-1 label.sk-toggleable__label-arrow:hover:before {color: black;}#sk-container-id-1 div.sk-estimator:hover label.sk-toggleable__label-arrow:before {color: black;}#sk-container-id-1 div.sk-toggleable__content {max-height: 0;max-width: 0;overflow: hidden;text-align: left;background-color: #f0f8ff;}#sk-container-id-1 div.sk-toggleable__content pre {margin: 0.2em;color: black;border-radius: 0.25em;background-color: #f0f8ff;}#sk-container-id-1 input.sk-toggleable__control:checked~div.sk-toggleable__content {max-height: 200px;max-width: 100%;overflow: auto;}#sk-container-id-1 input.sk-toggleable__control:checked~label.sk-toggleable__label-arrow:before {content: \"▾\";}#sk-container-id-1 div.sk-estimator input.sk-toggleable__control:checked~label.sk-toggleable__label {background-color: #d4ebff;}#sk-container-id-1 div.sk-label input.sk-toggleable__control:checked~label.sk-toggleable__label {background-color: #d4ebff;}#sk-container-id-1 input.sk-hidden--visually {border: 0;clip: rect(1px 1px 1px 1px);clip: rect(1px, 1px, 1px, 1px);height: 1px;margin: -1px;overflow: hidden;padding: 0;position: absolute;width: 1px;}#sk-container-id-1 div.sk-estimator {font-family: monospace;background-color: #f0f8ff;border: 1px dotted black;border-radius: 0.25em;box-sizing: border-box;margin-bottom: 0.5em;}#sk-container-id-1 div.sk-estimator:hover {background-color: #d4ebff;}#sk-container-id-1 div.sk-parallel-item::after {content: \"\";width: 100%;border-bottom: 1px solid gray;flex-grow: 1;}#sk-container-id-1 div.sk-label:hover label.sk-toggleable__label {background-color: #d4ebff;}#sk-container-id-1 div.sk-serial::before {content: \"\";position: absolute;border-left: 1px solid gray;box-sizing: border-box;top: 0;bottom: 0;left: 50%;z-index: 0;}#sk-container-id-1 div.sk-serial {display: flex;flex-direction: column;align-items: center;background-color: white;padding-right: 0.2em;padding-left: 0.2em;position: relative;}#sk-container-id-1 div.sk-item {position: relative;z-index: 1;}#sk-container-id-1 div.sk-parallel {display: flex;align-items: stretch;justify-content: center;background-color: white;position: relative;}#sk-container-id-1 div.sk-item::before, #sk-container-id-1 div.sk-parallel-item::before {content: \"\";position: absolute;border-left: 1px solid gray;box-sizing: border-box;top: 0;bottom: 0;left: 50%;z-index: -1;}#sk-container-id-1 div.sk-parallel-item {display: flex;flex-direction: column;z-index: 1;position: relative;background-color: white;}#sk-container-id-1 div.sk-parallel-item:first-child::after {align-self: flex-end;width: 50%;}#sk-container-id-1 div.sk-parallel-item:last-child::after {align-self: flex-start;width: 50%;}#sk-container-id-1 div.sk-parallel-item:only-child::after {width: 0;}#sk-container-id-1 div.sk-dashed-wrapped {border: 1px dashed gray;margin: 0 0.4em 0.5em 0.4em;box-sizing: border-box;padding-bottom: 0.4em;background-color: white;}#sk-container-id-1 div.sk-label label {font-family: monospace;font-weight: bold;display: inline-block;line-height: 1.2em;}#sk-container-id-1 div.sk-label-container {text-align: center;}#sk-container-id-1 div.sk-container {/* jupyter's `normalize.less` sets `[hidden] { display: none; }` but bootstrap.min.css set `[hidden] { display: none !important; }` so we also need the `!important` here to be able to override the default hidden behavior on the sphinx rendered scikit-learn.org. See: https://github.com/scikit-learn/scikit-learn/issues/21755 */display: inline-block !important;position: relative;}#sk-container-id-1 div.sk-text-repr-fallback {display: none;}</style><div id=\"sk-container-id-1\" class=\"sk-top-container\"><div class=\"sk-text-repr-fallback\"><pre>Pipeline(steps=[(&#x27;col_transform&#x27;,\n",
       "                 ColumnTransformer(remainder=&#x27;passthrough&#x27;, sparse_threshold=0,\n",
       "                                   transformers=[(&#x27;OneHotEncoder&#x27;,\n",
       "                                                  OneHotEncoder(drop=&#x27;if_binary&#x27;,\n",
       "                                                                handle_unknown=&#x27;infrequent_if_exist&#x27;),\n",
       "                                                  [&#x27;Trap&#x27;, &#x27;Month&#x27;, &#x27;Week&#x27;])])),\n",
       "                (&#x27;scale&#x27;, MinMaxScaler()), (&#x27;pca&#x27;, PCA(n_components=95)),\n",
       "                (&#x27;sample&#x27;, SMOTETomek(n_jobs=2, random_state=42)),\n",
       "                (&#x27;clf&#x27;,\n",
       "                 LogisticRegression(C=0.1, class_weight=&#x27;balanced&#x27;,\n",
       "                                    penalty=&#x27;l1&#x27;, random_state=42,\n",
       "                                    solver=&#x27;liblinear&#x27;))])</pre><b>In a Jupyter environment, please rerun this cell to show the HTML representation or trust the notebook. <br />On GitHub, the HTML representation is unable to render, please try loading this page with nbviewer.org.</b></div><div class=\"sk-container\" hidden><div class=\"sk-item sk-dashed-wrapped\"><div class=\"sk-label-container\"><div class=\"sk-label sk-toggleable\"><input class=\"sk-toggleable__control sk-hidden--visually\" id=\"sk-estimator-id-1\" type=\"checkbox\" ><label for=\"sk-estimator-id-1\" class=\"sk-toggleable__label sk-toggleable__label-arrow\">Pipeline</label><div class=\"sk-toggleable__content\"><pre>Pipeline(steps=[(&#x27;col_transform&#x27;,\n",
       "                 ColumnTransformer(remainder=&#x27;passthrough&#x27;, sparse_threshold=0,\n",
       "                                   transformers=[(&#x27;OneHotEncoder&#x27;,\n",
       "                                                  OneHotEncoder(drop=&#x27;if_binary&#x27;,\n",
       "                                                                handle_unknown=&#x27;infrequent_if_exist&#x27;),\n",
       "                                                  [&#x27;Trap&#x27;, &#x27;Month&#x27;, &#x27;Week&#x27;])])),\n",
       "                (&#x27;scale&#x27;, MinMaxScaler()), (&#x27;pca&#x27;, PCA(n_components=95)),\n",
       "                (&#x27;sample&#x27;, SMOTETomek(n_jobs=2, random_state=42)),\n",
       "                (&#x27;clf&#x27;,\n",
       "                 LogisticRegression(C=0.1, class_weight=&#x27;balanced&#x27;,\n",
       "                                    penalty=&#x27;l1&#x27;, random_state=42,\n",
       "                                    solver=&#x27;liblinear&#x27;))])</pre></div></div></div><div class=\"sk-serial\"><div class=\"sk-item sk-dashed-wrapped\"><div class=\"sk-label-container\"><div class=\"sk-label sk-toggleable\"><input class=\"sk-toggleable__control sk-hidden--visually\" id=\"sk-estimator-id-2\" type=\"checkbox\" ><label for=\"sk-estimator-id-2\" class=\"sk-toggleable__label sk-toggleable__label-arrow\">col_transform: ColumnTransformer</label><div class=\"sk-toggleable__content\"><pre>ColumnTransformer(remainder=&#x27;passthrough&#x27;, sparse_threshold=0,\n",
       "                  transformers=[(&#x27;OneHotEncoder&#x27;,\n",
       "                                 OneHotEncoder(drop=&#x27;if_binary&#x27;,\n",
       "                                               handle_unknown=&#x27;infrequent_if_exist&#x27;),\n",
       "                                 [&#x27;Trap&#x27;, &#x27;Month&#x27;, &#x27;Week&#x27;])])</pre></div></div></div><div class=\"sk-parallel\"><div class=\"sk-parallel-item\"><div class=\"sk-item\"><div class=\"sk-label-container\"><div class=\"sk-label sk-toggleable\"><input class=\"sk-toggleable__control sk-hidden--visually\" id=\"sk-estimator-id-3\" type=\"checkbox\" ><label for=\"sk-estimator-id-3\" class=\"sk-toggleable__label sk-toggleable__label-arrow\">OneHotEncoder</label><div class=\"sk-toggleable__content\"><pre>[&#x27;Trap&#x27;, &#x27;Month&#x27;, &#x27;Week&#x27;]</pre></div></div></div><div class=\"sk-serial\"><div class=\"sk-item\"><div class=\"sk-estimator sk-toggleable\"><input class=\"sk-toggleable__control sk-hidden--visually\" id=\"sk-estimator-id-4\" type=\"checkbox\" ><label for=\"sk-estimator-id-4\" class=\"sk-toggleable__label sk-toggleable__label-arrow\">OneHotEncoder</label><div class=\"sk-toggleable__content\"><pre>OneHotEncoder(drop=&#x27;if_binary&#x27;, handle_unknown=&#x27;infrequent_if_exist&#x27;)</pre></div></div></div></div></div></div><div class=\"sk-parallel-item\"><div class=\"sk-item\"><div class=\"sk-label-container\"><div class=\"sk-label sk-toggleable\"><input class=\"sk-toggleable__control sk-hidden--visually\" id=\"sk-estimator-id-5\" type=\"checkbox\" ><label for=\"sk-estimator-id-5\" class=\"sk-toggleable__label sk-toggleable__label-arrow\">remainder</label><div class=\"sk-toggleable__content\"><pre>[&#x27;Latitude&#x27;, &#x27;Longitude&#x27;, &#x27;Tavg_7_days&#x27;, &#x27;Depart_7_days&#x27;, &#x27;DewPoint_7_days&#x27;, &#x27;WetBulb_7_days&#x27;, &#x27;Heat_7_days&#x27;, &#x27;Cool_7_days&#x27;, &#x27;PrecipTotal_7_days&#x27;, &#x27;AvgSpeed_7_days&#x27;, &#x27;Humidity_7_days&#x27;, &#x27;Daylight_hours_7_days&#x27;, &#x27;Tavg_14_days&#x27;, &#x27;Depart_14_days&#x27;, &#x27;DewPoint_14_days&#x27;, &#x27;WetBulb_14_days&#x27;, &#x27;Heat_14_days&#x27;, &#x27;Cool_14_days&#x27;, &#x27;PrecipTotal_14_days&#x27;, &#x27;AvgSpeed_14_days&#x27;, &#x27;Humidity_14_days&#x27;, &#x27;Daylight_hours_14_days&#x27;, &#x27;Vector&#x27;]</pre></div></div></div><div class=\"sk-serial\"><div class=\"sk-item\"><div class=\"sk-estimator sk-toggleable\"><input class=\"sk-toggleable__control sk-hidden--visually\" id=\"sk-estimator-id-6\" type=\"checkbox\" ><label for=\"sk-estimator-id-6\" class=\"sk-toggleable__label sk-toggleable__label-arrow\">passthrough</label><div class=\"sk-toggleable__content\"><pre>passthrough</pre></div></div></div></div></div></div></div></div><div class=\"sk-item\"><div class=\"sk-estimator sk-toggleable\"><input class=\"sk-toggleable__control sk-hidden--visually\" id=\"sk-estimator-id-7\" type=\"checkbox\" ><label for=\"sk-estimator-id-7\" class=\"sk-toggleable__label sk-toggleable__label-arrow\">MinMaxScaler</label><div class=\"sk-toggleable__content\"><pre>MinMaxScaler()</pre></div></div></div><div class=\"sk-item\"><div class=\"sk-estimator sk-toggleable\"><input class=\"sk-toggleable__control sk-hidden--visually\" id=\"sk-estimator-id-8\" type=\"checkbox\" ><label for=\"sk-estimator-id-8\" class=\"sk-toggleable__label sk-toggleable__label-arrow\">PCA</label><div class=\"sk-toggleable__content\"><pre>PCA(n_components=95)</pre></div></div></div><div class=\"sk-item\"><div class=\"sk-estimator sk-toggleable\"><input class=\"sk-toggleable__control sk-hidden--visually\" id=\"sk-estimator-id-9\" type=\"checkbox\" ><label for=\"sk-estimator-id-9\" class=\"sk-toggleable__label sk-toggleable__label-arrow\">SMOTETomek</label><div class=\"sk-toggleable__content\"><pre>SMOTETomek(n_jobs=2, random_state=42)</pre></div></div></div><div class=\"sk-item\"><div class=\"sk-estimator sk-toggleable\"><input class=\"sk-toggleable__control sk-hidden--visually\" id=\"sk-estimator-id-10\" type=\"checkbox\" ><label for=\"sk-estimator-id-10\" class=\"sk-toggleable__label sk-toggleable__label-arrow\">LogisticRegression</label><div class=\"sk-toggleable__content\"><pre>LogisticRegression(C=0.1, class_weight=&#x27;balanced&#x27;, penalty=&#x27;l1&#x27;,\n",
       "                   random_state=42, solver=&#x27;liblinear&#x27;)</pre></div></div></div></div></div></div></div>"
      ],
      "text/plain": [
       "Pipeline(steps=[('col_transform',\n",
       "                 ColumnTransformer(remainder='passthrough', sparse_threshold=0,\n",
       "                                   transformers=[('OneHotEncoder',\n",
       "                                                  OneHotEncoder(drop='if_binary',\n",
       "                                                                handle_unknown='infrequent_if_exist'),\n",
       "                                                  ['Trap', 'Month', 'Week'])])),\n",
       "                ('scale', MinMaxScaler()), ('pca', PCA(n_components=95)),\n",
       "                ('sample', SMOTETomek(n_jobs=2, random_state=42)),\n",
       "                ('clf',\n",
       "                 LogisticRegression(C=0.1, class_weight='balanced',\n",
       "                                    penalty='l1', random_state=42,\n",
       "                                    solver='liblinear'))])"
      ]
     },
     "execution_count": 28,
     "metadata": {},
     "output_type": "execute_result"
    }
   ],
   "source": [
    "best_model.fit(X, y)"
   ]
  },
  {
   "cell_type": "code",
   "execution_count": 29,
   "metadata": {
    "cell_id": "da2446db60a146cf80aa8cbc5a91280d",
    "deepnote_cell_type": "code",
    "deepnote_to_be_reexecuted": true,
    "source_hash": "a9239d02"
   },
   "outputs": [],
   "source": [
    "# Load test dataset\n",
    "\n",
    "df_test = pd.read_csv('../assets/df_merge_test.csv', parse_dates=['Date'])"
   ]
  },
  {
   "cell_type": "code",
   "execution_count": 30,
   "metadata": {},
   "outputs": [],
   "source": [
    "# Apply same changes to the test dataset\n",
    "\n",
    "df_test = create_dt_features(df_test)"
   ]
  },
  {
   "cell_type": "code",
   "execution_count": 31,
   "metadata": {
    "cell_id": "089666933639418885d5eb294f4004a9",
    "deepnote_cell_type": "code",
    "deepnote_to_be_reexecuted": true,
    "source_hash": "6115b236"
   },
   "outputs": [],
   "source": [
    "# submission_predictions = best_model.predict(df_test[features])\n",
    "\n",
    "# submission_predictions = pd.Series(np.where(best_model.predict_proba(df_test[features])[:,1] >= threshold_max, 1, 0), \n",
    "#                      dtype='category')\n",
    "\n",
    "submission_predictions = pd.Series(np.where(best_model.predict_proba(df_test[features])[:,1] >= threshold_max, 1, 0), dtype='category')"
   ]
  },
  {
   "cell_type": "code",
   "execution_count": 32,
   "metadata": {
    "cell_id": "9f02d32d869748ea995f32ff169b2211",
    "deepnote_cell_type": "code",
    "deepnote_to_be_reexecuted": true,
    "source_hash": "3601ff24"
   },
   "outputs": [],
   "source": [
    "# Create function to execute model for predictions\n",
    "\n",
    "def create_predictions(predictions, filename):\n",
    "    if not os.path.isdir('../output'):\n",
    "        os.mkdir('../output')\n",
    "    results_df = pd.DataFrame(predictions)\n",
    "    results_df.insert(0, column='id', value=range(1, len(predictions)+1))\n",
    "    results_df.to_csv(f\"../output/{filename}.csv\", header=[\"Id\", \"WnvPresent\"], index=False)"
   ]
  },
  {
   "cell_type": "code",
   "execution_count": 33,
   "metadata": {},
   "outputs": [],
   "source": [
    "output_filename = 'predictions_1'\n",
    "\n",
    "create_predictions(submission_predictions, output_filename)"
   ]
  },
  {
   "attachments": {},
   "cell_type": "markdown",
   "metadata": {},
   "source": [
    "With our best performing model, we attempted predictions with an unseen test dataset made available through Kaggle.\n",
    "\n",
    "![Kaggle submission](../assets/images/Kaggle_submission.png)"
   ]
  },
  {
   "attachments": {},
   "cell_type": "markdown",
   "metadata": {},
   "source": [
    "With the trained model, we will now look into the cost benefit analysis of our targetted spray strategy and present our recommendations in the next [part](Part_4_WNV_CBA_Conclusion.ipynb)."
   ]
  }
 ],
 "metadata": {
  "kernelspec": {
   "display_name": "Python 3",
   "language": "python",
   "name": "python3"
  },
  "language_info": {
   "codemirror_mode": {
    "name": "ipython",
    "version": 3
   },
   "file_extension": ".py",
   "mimetype": "text/x-python",
   "name": "python",
   "nbconvert_exporter": "python",
   "pygments_lexer": "ipython3",
   "version": "3.9.15"
  },
  "toc": {
   "base_numbering": 1,
   "nav_menu": {},
   "number_sections": true,
   "sideBar": true,
   "skip_h1_title": true,
   "title_cell": "Table of Contents",
   "title_sidebar": "Contents",
   "toc_cell": false,
   "toc_position": {},
   "toc_section_display": true,
   "toc_window_display": false
  },
  "vscode": {
   "interpreter": {
    "hash": "1b28ad9899eefd279686690bace4d41fa3fa7d0cff5719534f58e9a7031f3ffc"
   }
  }
 },
 "nbformat": 4,
 "nbformat_minor": 1
}
