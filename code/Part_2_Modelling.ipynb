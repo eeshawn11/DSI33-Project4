{
 "cells": [
  {
   "attachments": {},
   "cell_type": "markdown",
   "metadata": {
    "cell_id": "f96abd16122146b797d16aaa0f1ee71b",
    "deepnote_cell_type": "markdown"
   },
   "source": [
    "# Part 2 - Modelling\n",
    "\n",
    "---\n",
    "\n",
    "Insert some background and recap of part 1 notebook."
   ]
  },
  {
   "cell_type": "code",
   "execution_count": 49,
   "metadata": {
    "cell_id": "31251000c0c54cfea5e3cabad32b523e",
    "deepnote_cell_type": "code",
    "deepnote_to_be_reexecuted": false,
    "execution_millis": 932,
    "execution_start": 1670551613652,
    "source_hash": "476ca060"
   },
   "outputs": [],
   "source": [
    "import pandas as pd\n",
    "import numpy as np\n",
    "import re\n",
    "import time\n",
    "import os\n",
    "import matplotlib.pyplot as plt\n",
    "import seaborn as sns\n",
    "\n",
    "from sklearn.preprocessing import OneHotEncoder, MinMaxScaler, FunctionTransformer\n",
    "from sklearn.feature_extraction.text import CountVectorizer\n",
    "from sklearn.compose import ColumnTransformer\n",
    "from sklearn.model_selection import train_test_split, cross_validate, GridSearchCV\n",
    "from sklearn.metrics import classification_report, ConfusionMatrixDisplay, RocCurveDisplay, balanced_accuracy_score, f1_score\n",
    "from sklearn.linear_model import LogisticRegression, RidgeClassifier\n",
    "from sklearn.neighbors import KNeighborsClassifier\n",
    "from sklearn.ensemble import RandomForestClassifier, AdaBoostClassifier, VotingClassifier, HistGradientBoostingClassifier\n",
    "from sklearn.decomposition import PCA\n",
    "\n",
    "# imblearn for sampling\n",
    "from imblearn.combine import SMOTETomek\n",
    "from imblearn.pipeline import Pipeline\n",
    "\n",
    "# set random state for model results reproducibility\n",
    "rng = 42\n",
    "\n",
    "# from keras import Sequential\n",
    "# from keras.layers import Dense\n",
    "\n",
    "import warnings\n",
    "warnings.filterwarnings('ignore') # hide warnings to avoid cluttering the notebook output"
   ]
  },
  {
   "cell_type": "code",
   "execution_count": 2,
   "metadata": {},
   "outputs": [],
   "source": [
    "class TimerError(Exception):\n",
    "    \"\"\"A custom exception used to report errors in use of Timer class\"\"\"\n",
    "\n",
    "class Timer:\n",
    "    def __init__(self):\n",
    "        self._start_time = None\n",
    "        self._elapsed_time = None\n",
    "\n",
    "    def start(self):\n",
    "        \"\"\"Start a new timer\"\"\"\n",
    "        if self._start_time is not None:\n",
    "            raise TimerError(f\"Timer is running. Use .stop() to stop it\")\n",
    "\n",
    "        self._elapsed_time = None\n",
    "        self._start_time = time.perf_counter()\n",
    "\n",
    "    def stop(self):\n",
    "        \"\"\"Stop the timer, and report the elapsed time\"\"\"\n",
    "        if self._start_time is None:\n",
    "            raise TimerError(f\"Timer is not running. Use .start() to start it\")\n",
    "\n",
    "        self._elapsed_time = time.perf_counter() - self._start_time\n",
    "        self._start_time = None\n",
    "        print(f\"Elapsed time: {int(divmod(self._elapsed_time, 60)[0])} minutes, {int(divmod(self._elapsed_time, 60)[1])} seconds\")\n",
    "\n",
    "    def duration(self) -> float:\n",
    "        \"\"\"Return the elapsed time from the timer.\"\"\"\n",
    "        if self._elapsed_time is None:\n",
    "            raise TimerError(\"Timer has not run. Use .start() and .stop() to start and stop the timer.\")\n",
    "        return self._elapsed_time"
   ]
  },
  {
   "attachments": {},
   "cell_type": "markdown",
   "metadata": {},
   "source": [
    "We prepare the train and validation data for modelling."
   ]
  },
  {
   "cell_type": "code",
   "execution_count": 3,
   "metadata": {
    "cell_id": "195f4763f16e47999fbf9d8c8652d351",
    "deepnote_cell_type": "code",
    "deepnote_to_be_reexecuted": false,
    "execution_millis": 25,
    "execution_start": 1670551614585,
    "source_hash": "abfd9979"
   },
   "outputs": [],
   "source": [
    "df = pd.read_csv('../assets/df_merge_final.csv', parse_dates=['Date', 'Sunrise_1', 'Sunset_1'])"
   ]
  },
  {
   "cell_type": "code",
   "execution_count": 4,
   "metadata": {},
   "outputs": [],
   "source": [
    "def create_dt_features(dataframe: pd.DataFrame) -> pd.DataFrame:\n",
    "    '''\n",
    "    Perform feature engineering and return dataframe.\n",
    "    '''\n",
    "    # create datetime related features\n",
    "    dataframe['daylight_duration'] = pd.to_timedelta(dataframe['daylight_duration'])\n",
    "    dataframe['Daylight_hours'] = round(dataframe['daylight_duration'].dt.total_seconds() / (60*60), 2)\n",
    "    dataframe['Sunrise'] = round(pd.to_timedelta(dataframe['Sunrise_1'].dt.time.astype(str)).dt.total_seconds()/3600, 2)\n",
    "    dataframe['Sunset'] = round(pd.to_timedelta(dataframe['Sunset_1'].dt.time.astype(str)).dt.total_seconds()/3600, 2)\n",
    "    # create date related features\n",
    "    dataframe['Month'] = dataframe['Date'].dt.month\n",
    "    dataframe['Day'] = dataframe['Date'].dt.day\n",
    "    # round off Latitude, Longitude to generalise locations by area\n",
    "    dataframe['Latitude'] = round(dataframe['Latitude'], 2)\n",
    "    dataframe['Longitude'] = round(dataframe['Longitude'], 2)\n",
    "    # group satellite traps\n",
    "    dataframe['Trap'] = dataframe['Trap'].str.strip('TABC')\n",
    "    return dataframe"
   ]
  },
  {
   "cell_type": "code",
   "execution_count": 5,
   "metadata": {},
   "outputs": [],
   "source": [
    "df = create_dt_features(df)"
   ]
  },
  {
   "cell_type": "code",
   "execution_count": 6,
   "metadata": {},
   "outputs": [],
   "source": [
    "# specify features\n",
    "num_features = ['Latitude', 'Longitude', 'AddressAccuracy', 'Tavg', 'Depart', 'Heat', 'PrecipTotal', 'SeaLevel', 'ResultDir', 'AvgSpeed', 'Humidity', 'Daylight_hours', 'Sunrise', 'Sunset']\n",
    "cat_features = ['Species', 'Trap', 'Month', 'Day', ]\n",
    "text_features = ['CodeSum']\n",
    "\n",
    "features = num_features + cat_features + text_features"
   ]
  },
  {
   "cell_type": "code",
   "execution_count": 7,
   "metadata": {},
   "outputs": [
    {
     "data": {
      "text/html": [
       "<div>\n",
       "<style scoped>\n",
       "    .dataframe tbody tr th:only-of-type {\n",
       "        vertical-align: middle;\n",
       "    }\n",
       "\n",
       "    .dataframe tbody tr th {\n",
       "        vertical-align: top;\n",
       "    }\n",
       "\n",
       "    .dataframe thead th {\n",
       "        text-align: right;\n",
       "    }\n",
       "</style>\n",
       "<table border=\"1\" class=\"dataframe\">\n",
       "  <thead>\n",
       "    <tr style=\"text-align: right;\">\n",
       "      <th></th>\n",
       "      <th>Latitude</th>\n",
       "      <th>Longitude</th>\n",
       "      <th>AddressAccuracy</th>\n",
       "      <th>Tavg</th>\n",
       "      <th>Depart</th>\n",
       "      <th>Heat</th>\n",
       "      <th>PrecipTotal</th>\n",
       "      <th>SeaLevel</th>\n",
       "      <th>ResultDir</th>\n",
       "      <th>AvgSpeed</th>\n",
       "      <th>Humidity</th>\n",
       "      <th>Daylight_hours</th>\n",
       "      <th>Sunrise</th>\n",
       "      <th>Sunset</th>\n",
       "      <th>Species</th>\n",
       "      <th>Trap</th>\n",
       "      <th>Month</th>\n",
       "      <th>Day</th>\n",
       "      <th>CodeSum</th>\n",
       "    </tr>\n",
       "  </thead>\n",
       "  <tbody>\n",
       "    <tr>\n",
       "      <th>0</th>\n",
       "      <td>41.95</td>\n",
       "      <td>-87.80</td>\n",
       "      <td>9</td>\n",
       "      <td>74.0</td>\n",
       "      <td>10.0</td>\n",
       "      <td>0.0</td>\n",
       "      <td>0.0</td>\n",
       "      <td>30.11</td>\n",
       "      <td>18</td>\n",
       "      <td>6.5</td>\n",
       "      <td>57.4</td>\n",
       "      <td>14.93</td>\n",
       "      <td>4.35</td>\n",
       "      <td>19.28</td>\n",
       "      <td>CULEX PIPIENS/RESTUANS</td>\n",
       "      <td>002</td>\n",
       "      <td>5</td>\n",
       "      <td>29</td>\n",
       "      <td>BR HZ</td>\n",
       "    </tr>\n",
       "    <tr>\n",
       "      <th>1</th>\n",
       "      <td>41.95</td>\n",
       "      <td>-87.80</td>\n",
       "      <td>9</td>\n",
       "      <td>74.0</td>\n",
       "      <td>10.0</td>\n",
       "      <td>0.0</td>\n",
       "      <td>0.0</td>\n",
       "      <td>30.11</td>\n",
       "      <td>18</td>\n",
       "      <td>6.5</td>\n",
       "      <td>57.4</td>\n",
       "      <td>14.93</td>\n",
       "      <td>4.35</td>\n",
       "      <td>19.28</td>\n",
       "      <td>CULEX RESTUANS</td>\n",
       "      <td>002</td>\n",
       "      <td>5</td>\n",
       "      <td>29</td>\n",
       "      <td>BR HZ</td>\n",
       "    </tr>\n",
       "    <tr>\n",
       "      <th>2</th>\n",
       "      <td>41.99</td>\n",
       "      <td>-87.77</td>\n",
       "      <td>9</td>\n",
       "      <td>74.0</td>\n",
       "      <td>10.0</td>\n",
       "      <td>0.0</td>\n",
       "      <td>0.0</td>\n",
       "      <td>30.11</td>\n",
       "      <td>18</td>\n",
       "      <td>6.5</td>\n",
       "      <td>57.4</td>\n",
       "      <td>14.93</td>\n",
       "      <td>4.35</td>\n",
       "      <td>19.28</td>\n",
       "      <td>CULEX RESTUANS</td>\n",
       "      <td>007</td>\n",
       "      <td>5</td>\n",
       "      <td>29</td>\n",
       "      <td>BR HZ</td>\n",
       "    </tr>\n",
       "    <tr>\n",
       "      <th>3</th>\n",
       "      <td>41.97</td>\n",
       "      <td>-87.82</td>\n",
       "      <td>8</td>\n",
       "      <td>74.0</td>\n",
       "      <td>10.0</td>\n",
       "      <td>0.0</td>\n",
       "      <td>0.0</td>\n",
       "      <td>30.11</td>\n",
       "      <td>18</td>\n",
       "      <td>6.5</td>\n",
       "      <td>57.4</td>\n",
       "      <td>14.93</td>\n",
       "      <td>4.35</td>\n",
       "      <td>19.28</td>\n",
       "      <td>CULEX PIPIENS/RESTUANS</td>\n",
       "      <td>015</td>\n",
       "      <td>5</td>\n",
       "      <td>29</td>\n",
       "      <td>BR HZ</td>\n",
       "    </tr>\n",
       "    <tr>\n",
       "      <th>4</th>\n",
       "      <td>41.97</td>\n",
       "      <td>-87.82</td>\n",
       "      <td>8</td>\n",
       "      <td>74.0</td>\n",
       "      <td>10.0</td>\n",
       "      <td>0.0</td>\n",
       "      <td>0.0</td>\n",
       "      <td>30.11</td>\n",
       "      <td>18</td>\n",
       "      <td>6.5</td>\n",
       "      <td>57.4</td>\n",
       "      <td>14.93</td>\n",
       "      <td>4.35</td>\n",
       "      <td>19.28</td>\n",
       "      <td>CULEX RESTUANS</td>\n",
       "      <td>015</td>\n",
       "      <td>5</td>\n",
       "      <td>29</td>\n",
       "      <td>BR HZ</td>\n",
       "    </tr>\n",
       "  </tbody>\n",
       "</table>\n",
       "</div>"
      ],
      "text/plain": [
       "   Latitude  Longitude  AddressAccuracy  Tavg  Depart  Heat  PrecipTotal  \\\n",
       "0     41.95     -87.80                9  74.0    10.0   0.0          0.0   \n",
       "1     41.95     -87.80                9  74.0    10.0   0.0          0.0   \n",
       "2     41.99     -87.77                9  74.0    10.0   0.0          0.0   \n",
       "3     41.97     -87.82                8  74.0    10.0   0.0          0.0   \n",
       "4     41.97     -87.82                8  74.0    10.0   0.0          0.0   \n",
       "\n",
       "   SeaLevel  ResultDir  AvgSpeed  Humidity  Daylight_hours  Sunrise  Sunset  \\\n",
       "0     30.11         18       6.5      57.4           14.93     4.35   19.28   \n",
       "1     30.11         18       6.5      57.4           14.93     4.35   19.28   \n",
       "2     30.11         18       6.5      57.4           14.93     4.35   19.28   \n",
       "3     30.11         18       6.5      57.4           14.93     4.35   19.28   \n",
       "4     30.11         18       6.5      57.4           14.93     4.35   19.28   \n",
       "\n",
       "                  Species Trap  Month  Day CodeSum  \n",
       "0  CULEX PIPIENS/RESTUANS  002      5   29   BR HZ  \n",
       "1          CULEX RESTUANS  002      5   29   BR HZ  \n",
       "2          CULEX RESTUANS  007      5   29   BR HZ  \n",
       "3  CULEX PIPIENS/RESTUANS  015      5   29   BR HZ  \n",
       "4          CULEX RESTUANS  015      5   29   BR HZ  "
      ]
     },
     "execution_count": 7,
     "metadata": {},
     "output_type": "execute_result"
    }
   ],
   "source": [
    "df[features].head()"
   ]
  },
  {
   "cell_type": "code",
   "execution_count": 8,
   "metadata": {
    "cell_id": "df282cce65f74870b1b26d17b16e882a",
    "deepnote_cell_type": "code",
    "deepnote_to_be_reexecuted": false,
    "execution_millis": 1,
    "execution_start": 1670551614676,
    "source_hash": "f9a57dbf",
    "tags": []
   },
   "outputs": [],
   "source": [
    "X = df[features]\n",
    "y = df['WnvPresent']"
   ]
  },
  {
   "cell_type": "code",
   "execution_count": 9,
   "metadata": {
    "cell_id": "c002f9f29f5b469282bc7436c65d2bce",
    "deepnote_cell_type": "code",
    "deepnote_to_be_reexecuted": false,
    "execution_millis": 0,
    "execution_start": 1670551614695,
    "source_hash": "22ad61df"
   },
   "outputs": [],
   "source": [
    "X_train, X_test, y_train, y_test = train_test_split(X, y, test_size=0.3, random_state=rng, stratify=y)"
   ]
  },
  {
   "attachments": {},
   "cell_type": "markdown",
   "metadata": {},
   "source": [
    "## Modelling\n",
    "\n",
    "---\n",
    "\n",
    "We will utilise a mixture of methods for handling different types of features within our dataset, using a ColumnTransformer together with Pipelines."
   ]
  },
  {
   "cell_type": "code",
   "execution_count": 10,
   "metadata": {
    "cell_id": "5ea9415a492849488bbfe0c08690b007",
    "deepnote_cell_type": "code",
    "deepnote_to_be_reexecuted": false,
    "execution_millis": 0,
    "execution_start": 1670551614696,
    "source_hash": "a0c1dd4b"
   },
   "outputs": [],
   "source": [
    "# Processing steps before modelling (standardisation, one hot encoding, over/under-sampling)\n",
    "minmax = MinMaxScaler(feature_range=(0, 1))\n",
    "ohe = OneHotEncoder(drop='if_binary', handle_unknown='infrequent_if_exist')\n",
    "count = CountVectorizer()\n",
    "\n",
    "sample_smotetomek = SMOTETomek(random_state=rng, n_jobs=2)\n",
    "\n",
    "pca = PCA()\n",
    "\n",
    "# create pipeline for handling CodeSum feature\n",
    "text_pipe = Pipeline([\n",
    "    (\"squeeze\", FunctionTransformer(lambda x: x.squeeze())),\n",
    "    ('vector', count),\n",
    "    ('array', FunctionTransformer(lambda x: x.toarray(), accept_sparse=True)),\n",
    "    ('scale', minmax)\n",
    "])\n",
    "\n",
    "col_transform = ColumnTransformer([\n",
    "    ('MinMaxScaler', minmax, num_features),\n",
    "    ('OneHotEncoder', ohe, cat_features),\n",
    "    ('CountVectorizer', text_pipe, text_features)\n",
    "], remainder = 'drop',\n",
    "sparse_threshold = 0\n",
    ")"
   ]
  },
  {
   "cell_type": "code",
   "execution_count": 11,
   "metadata": {},
   "outputs": [
    {
     "name": "stdout",
     "output_type": "stream",
     "text": [
      "Number features: 79 Total Variance Explained: 0.9015139451269322\n"
     ]
    }
   ],
   "source": [
    "X_train_sc = col_transform.fit_transform(X_train)\n",
    "X_train_pca = pca.fit_transform(X_train_sc)\n",
    "\n",
    "total_variance = pca.explained_variance_ratio_.cumsum()\n",
    "n_over_95 = len(total_variance[total_variance >= .9])\n",
    "n_to_reach_95 = X_train_pca.shape[1] - n_over_95 + 1\n",
    "print(f'Number features: {n_to_reach_95} Total Variance Explained: {total_variance[n_to_reach_95-1]}')"
   ]
  },
  {
   "cell_type": "code",
   "execution_count": 12,
   "metadata": {
    "cell_id": "68b7851640eb427a9d654c1ea7eedce8",
    "deepnote_cell_type": "code",
    "deepnote_to_be_reexecuted": false,
    "execution_millis": 2,
    "execution_start": 1670551614703,
    "source_hash": "5cf5fc15",
    "tags": []
   },
   "outputs": [],
   "source": [
    "# Instantiating models for classification\n",
    "lr = LogisticRegression(class_weight='balanced', random_state=rng)\n",
    "knn = KNeighborsClassifier()\n",
    "rf = RandomForestClassifier(class_weight='balanced', random_state=rng)\n",
    "ada = AdaBoostClassifier(random_state=rng)\n",
    "hgbc = HistGradientBoostingClassifier(random_state=rng)"
   ]
  },
  {
   "cell_type": "code",
   "execution_count": 13,
   "metadata": {},
   "outputs": [],
   "source": [
    "class ResultsError(Exception):\n",
    "    \"\"\"A custom exception used to report errors in use of Results class\"\"\"\n",
    "\n",
    "class Results:\n",
    "    def __init__(self):\n",
    "        self._results_dict = {}\n",
    "\n",
    "    def create_dict(self, scoring_metric: list[str]) -> dict:\n",
    "        '''Create results dictionary based on scoring metrics used'''\n",
    "        self._results_dict['model_list']= []\n",
    "        self._scoring_metric = scoring_metric\n",
    "\n",
    "        if type(self._scoring_metric) == list:\n",
    "            for i, metric in enumerate(self._scoring_metric):\n",
    "                self._results_dict[f'mean_train_{self._scoring_metric[i]}'] = []\n",
    "                self._results_dict[f'mean_test_{self._scoring_metric[i]}'] = []\n",
    "                self._results_dict[f'{self._scoring_metric[i]}_delta']= []\n",
    "        else:\n",
    "            TypeError('scoring_metric must be list of string')\n",
    "\n",
    "        self._results_dict['best_params'] = []\n",
    "        self._results_dict['runtime'] = []\n",
    "        return self._results_dict\n",
    "\n",
    "    # run pipe, fit params and return best estimator\n",
    "    def run_pipe(self, clf: object, pipe_params=None):\n",
    "        '''\n",
    "        Places classifier into a Pipeline, which is then run in a GridSearchCV to optimise the model based on parameters passed. \n",
    "\n",
    "        Parameters\n",
    "        ----------\n",
    "        clf : object\n",
    "            Classifier object\n",
    "        pipe_params : dictionary\n",
    "            Parameters to pass into GridSearchCV\n",
    "            \n",
    "        Returns\n",
    "        -------\n",
    "        Best Estimator\n",
    "            Best estimator refitted from the GridSearchCV\n",
    "        CV Results\n",
    "            Results from the GridSearchCV\n",
    "\n",
    "        '''\n",
    "        if not len(self._results_dict):\n",
    "            raise ResultsError('Error, no dictionary found. Use .create_results_dict() to create a dictionary first.')\n",
    "\n",
    "        t = Timer()\n",
    "        model_name = re.match(r'^(\\w+)(?=\\()', str(clf)).group()\n",
    "        print(f\"Fitting {model_name}\")\n",
    "\n",
    "        # create pipe\n",
    "        pipe = Pipeline([\n",
    "            ('transform', col_transform),\n",
    "            ('pca', PCA(n_components=n_to_reach_95)),\n",
    "            ('sample', sample_smotetomek),\n",
    "            ('clf', clf)\n",
    "        ])\n",
    "        \n",
    "        \n",
    "        # create GridSearchCV\n",
    "        grid = GridSearchCV(\n",
    "            estimator = pipe,\n",
    "            param_grid = pipe_params,\n",
    "            scoring = self._scoring_metric,\n",
    "            n_jobs = -3,\n",
    "            cv = 3,\n",
    "            verbose = 2,\n",
    "            error_score = 'raise',\n",
    "            refit = self._scoring_metric[0]\n",
    "        )\n",
    "\n",
    "        t.start()\n",
    "        grid.fit(X_train, y_train)\n",
    "        t.stop()\n",
    "        \n",
    "        # test_score = cross_val_score(grid.best_estimator_, X_test, y_test, scoring=score_metric, cv=3, n_jobs=-3)\n",
    "        train_score = cross_validate(grid.best_estimator_, X_train, y_train, scoring=self._scoring_metric, cv=3, n_jobs=-3)\n",
    "        test_score = cross_validate(grid.best_estimator_, X_test, y_test, scoring=self._scoring_metric, cv=3, n_jobs=-3)\n",
    "        # store average scores\n",
    "        self._results_dict['model_list'].append(model_name)\n",
    "        for i, metric in enumerate(self._scoring_metric):\n",
    "            self._results_dict[f'mean_train_{self._scoring_metric[i]}'].append(train_score[f'test_{self._scoring_metric[i]}'].mean())\n",
    "            self._results_dict[f'mean_test_{self._scoring_metric[i]}'].append(test_score[f'test_{self._scoring_metric[i]}'].mean())\n",
    "            self._results_dict[f'{self._scoring_metric[i]}_delta'].append(\n",
    "                abs(\n",
    "                    train_score[f'test_{self._scoring_metric[i]}'].mean() - test_score[f'test_{self._scoring_metric[i]}'].mean()\n",
    "                    )\n",
    "                )\n",
    "        self._results_dict['best_params'].append(grid.best_params_)\n",
    "        self._results_dict['runtime'].append(t.duration())\n",
    "\n",
    "        print(\"Best Score: \", grid.best_score_)\n",
    "        print(\"Best Params: \", grid.best_params_)\n",
    "        print()\n",
    "        return grid.best_estimator_, grid.cv_results_\n",
    "\n",
    "\n",
    "    def display(self) -> pd.DataFrame:\n",
    "        '''Display pandas DataFrame displaying model performance results'''\n",
    "        if not len(self._results_dict):\n",
    "            raise ResultsError('No results found. Use .run_pipe() to run pipe and store results.')\n",
    "        model_df = pd.DataFrame(self._results_dict)\n",
    "        \n",
    "        model_df.iloc[:, :-2] = model_df.iloc[:, :-2].round(4)\n",
    "        model_df.iloc[:, -1] = model_df.iloc[:, -1].round(2)\n",
    "\n",
    "        return model_df.sort_values(by=f\"mean_train_{self._scoring_metric[0]}\", ascending=False)"
   ]
  },
  {
   "cell_type": "code",
   "execution_count": 14,
   "metadata": {},
   "outputs": [
    {
     "data": {
      "text/plain": [
       "{'model_list': [],\n",
       " 'mean_train_f1': [],\n",
       " 'mean_test_f1': [],\n",
       " 'f1_delta': [],\n",
       " 'mean_train_balanced_accuracy': [],\n",
       " 'mean_test_balanced_accuracy': [],\n",
       " 'balanced_accuracy_delta': [],\n",
       " 'best_params': [],\n",
       " 'runtime': []}"
      ]
     },
     "execution_count": 14,
     "metadata": {},
     "output_type": "execute_result"
    }
   ],
   "source": [
    "# define scoring metrics for comparison. GridSearchCV will optimise based on the 1st metric\n",
    "score_metric = ['f1', 'balanced_accuracy']\n",
    "\n",
    "results = Results()\n",
    "results.create_dict(score_metric)"
   ]
  },
  {
   "attachments": {},
   "cell_type": "markdown",
   "metadata": {},
   "source": [
    "Create a set of parameters for each model to be passed into GridSearchCV for hyperparameter tuning."
   ]
  },
  {
   "cell_type": "code",
   "execution_count": 15,
   "metadata": {
    "cell_id": "0939d8a01a0448678a1276cd0609d252",
    "deepnote_cell_type": "code",
    "deepnote_to_be_reexecuted": false,
    "execution_millis": 0,
    "execution_start": 1670551614725,
    "source_hash": "6ad5492e",
    "tags": []
   },
   "outputs": [],
   "source": [
    "lr_params = {\n",
    "    'clf__solver': ['liblinear', 'newton-cg'],\n",
    "    'clf__penalty': ['l2'],\n",
    "    'clf__C': [100, 10, 1.0, 0.1, 0.01],\n",
    "    'clf__max_iter': [100, 150, 500],\n",
    "}\n",
    "\n",
    "knn_params = {\n",
    "    'clf__n_neighbors': [3, 5, 9, 15],\n",
    "    'clf__weights': ['uniform', 'distance'],\n",
    "}\n",
    "\n",
    "rf_params = {\n",
    "    'clf__ccp_alpha': [0.0, 0.01, 0.1],\n",
    "    'clf__max_features': ['sqrt', 'log2'],\n",
    "    'clf__n_estimators': [500, 600, 700],\n",
    "}\n",
    "\n",
    "ada_params = {\n",
    "    'clf__learning_rate': [1.0, 2.0, 10],\n",
    "    'clf__n_estimators': [150, 200, 250],\n",
    "}\n",
    "\n",
    "hgbc_params = {\n",
    "    'clf__learning_rate': [0.001, 0.01, 0.1],\n",
    "    'clf__l2_regularization': [0, 0.1, 1],\n",
    "    'clf__max_iter': [100, 200, 300],\n",
    "}"
   ]
  },
  {
   "cell_type": "code",
   "execution_count": 16,
   "metadata": {},
   "outputs": [
    {
     "name": "stdout",
     "output_type": "stream",
     "text": [
      "Fitting LogisticRegression\n",
      "Fitting 3 folds for each of 30 candidates, totalling 90 fits\n",
      "Elapsed time: 0 minutes, 31 seconds\n",
      "Best Score:  0.2489907370949449\n",
      "Best Params:  {'clf__C': 1.0, 'clf__max_iter': 100, 'clf__penalty': 'l2', 'clf__solver': 'liblinear'}\n",
      "\n"
     ]
    }
   ],
   "source": [
    "lr_best, lr_results = results.run_pipe(lr, lr_params)"
   ]
  },
  {
   "cell_type": "code",
   "execution_count": 17,
   "metadata": {},
   "outputs": [
    {
     "name": "stdout",
     "output_type": "stream",
     "text": [
      "Fitting KNeighborsClassifier\n",
      "Fitting 3 folds for each of 8 candidates, totalling 24 fits\n",
      "Elapsed time: 0 minutes, 8 seconds\n",
      "Best Score:  0.23661422765852555\n",
      "Best Params:  {'clf__n_neighbors': 15, 'clf__weights': 'distance'}\n",
      "\n"
     ]
    }
   ],
   "source": [
    "knn_best, knn_results = results.run_pipe(knn, knn_params)"
   ]
  },
  {
   "cell_type": "code",
   "execution_count": 18,
   "metadata": {
    "cell_id": "a92af20005a749049d1c126cc67318a6",
    "deepnote_cell_type": "code",
    "deepnote_to_be_reexecuted": false,
    "execution_millis": 5,
    "execution_start": 1670551614739,
    "source_hash": "ad166d04",
    "tags": []
   },
   "outputs": [
    {
     "name": "stdout",
     "output_type": "stream",
     "text": [
      "Fitting RandomForestClassifier\n",
      "Fitting 3 folds for each of 18 candidates, totalling 54 fits\n",
      "Elapsed time: 9 minutes, 59 seconds\n",
      "Best Score:  0.260859453431682\n",
      "Best Params:  {'clf__ccp_alpha': 0.0, 'clf__max_features': 'sqrt', 'clf__n_estimators': 900}\n",
      "\n"
     ]
    }
   ],
   "source": [
    "rf_best, rf_results = results.run_pipe(rf, rf_params)"
   ]
  },
  {
   "cell_type": "code",
   "execution_count": 19,
   "metadata": {
    "cell_id": "79bb11a6463d45548d77ad6ad69b9a6e",
    "deepnote_cell_type": "code",
    "deepnote_to_be_reexecuted": false,
    "execution_millis": 1,
    "execution_start": 1670551614765,
    "source_hash": "8f961823",
    "tags": []
   },
   "outputs": [
    {
     "name": "stdout",
     "output_type": "stream",
     "text": [
      "Fitting AdaBoostClassifier\n",
      "Fitting 3 folds for each of 9 candidates, totalling 27 fits\n",
      "Elapsed time: 2 minutes, 13 seconds\n",
      "Best Score:  0.26001163267912175\n",
      "Best Params:  {'clf__learning_rate': 1.0, 'clf__n_estimators': 250}\n",
      "\n"
     ]
    }
   ],
   "source": [
    "ada_best, ada_results = results.run_pipe(ada, ada_params)"
   ]
  },
  {
   "cell_type": "code",
   "execution_count": 20,
   "metadata": {},
   "outputs": [
    {
     "name": "stdout",
     "output_type": "stream",
     "text": [
      "Fitting HistGradientBoostingClassifier\n",
      "Fitting 3 folds for each of 27 candidates, totalling 81 fits\n",
      "Elapsed time: 1 minutes, 35 seconds\n",
      "Best Score:  0.27695714856096504\n",
      "Best Params:  {'clf__l2_regularization': 1, 'clf__learning_rate': 0.1, 'clf__max_iter': 100}\n",
      "\n"
     ]
    }
   ],
   "source": [
    "hgbc_best, hgbc_results = results.run_pipe(hgbc, hgbc_params)"
   ]
  },
  {
   "cell_type": "code",
   "execution_count": 68,
   "metadata": {
    "cell_id": "16e54354b94946ad88e3b2c657a8e1b7",
    "deepnote_cell_type": "code",
    "deepnote_to_be_reexecuted": false,
    "execution_millis": 26,
    "execution_start": 1670551614769,
    "source_hash": "c3834e6e",
    "tags": []
   },
   "outputs": [
    {
     "ename": "AttributeError",
     "evalue": "'Series' object has no attribute 'display'",
     "output_type": "error",
     "traceback": [
      "\u001b[1;31m---------------------------------------------------------------------------\u001b[0m",
      "\u001b[1;31mAttributeError\u001b[0m                            Traceback (most recent call last)",
      "\u001b[1;32m~\\AppData\\Local\\Temp\\ipykernel_20568\\3982466775.py\u001b[0m in \u001b[0;36m<module>\u001b[1;34m\u001b[0m\n\u001b[1;32m----> 1\u001b[1;33m \u001b[0mresults\u001b[0m\u001b[1;33m.\u001b[0m\u001b[0mdisplay\u001b[0m\u001b[1;33m(\u001b[0m\u001b[1;33m)\u001b[0m\u001b[1;33m\u001b[0m\u001b[1;33m\u001b[0m\u001b[0m\n\u001b[0m",
      "\u001b[1;32mc:\\Users\\brkit\\Anaconda3\\lib\\site-packages\\pandas\\core\\generic.py\u001b[0m in \u001b[0;36m__getattr__\u001b[1;34m(self, name)\u001b[0m\n\u001b[0;32m   5573\u001b[0m         ):\n\u001b[0;32m   5574\u001b[0m             \u001b[1;32mreturn\u001b[0m \u001b[0mself\u001b[0m\u001b[1;33m[\u001b[0m\u001b[0mname\u001b[0m\u001b[1;33m]\u001b[0m\u001b[1;33m\u001b[0m\u001b[1;33m\u001b[0m\u001b[0m\n\u001b[1;32m-> 5575\u001b[1;33m         \u001b[1;32mreturn\u001b[0m \u001b[0mobject\u001b[0m\u001b[1;33m.\u001b[0m\u001b[0m__getattribute__\u001b[0m\u001b[1;33m(\u001b[0m\u001b[0mself\u001b[0m\u001b[1;33m,\u001b[0m \u001b[0mname\u001b[0m\u001b[1;33m)\u001b[0m\u001b[1;33m\u001b[0m\u001b[1;33m\u001b[0m\u001b[0m\n\u001b[0m\u001b[0;32m   5576\u001b[0m \u001b[1;33m\u001b[0m\u001b[0m\n\u001b[0;32m   5577\u001b[0m     \u001b[1;32mdef\u001b[0m \u001b[0m__setattr__\u001b[0m\u001b[1;33m(\u001b[0m\u001b[0mself\u001b[0m\u001b[1;33m,\u001b[0m \u001b[0mname\u001b[0m\u001b[1;33m:\u001b[0m \u001b[0mstr\u001b[0m\u001b[1;33m,\u001b[0m \u001b[0mvalue\u001b[0m\u001b[1;33m)\u001b[0m \u001b[1;33m->\u001b[0m \u001b[1;32mNone\u001b[0m\u001b[1;33m:\u001b[0m\u001b[1;33m\u001b[0m\u001b[1;33m\u001b[0m\u001b[0m\n",
      "\u001b[1;31mAttributeError\u001b[0m: 'Series' object has no attribute 'display'"
     ]
    }
   ],
   "source": [
    "results.display()"
   ]
  },
  {
   "attachments": {},
   "cell_type": "markdown",
   "metadata": {},
   "source": [
    "Based on the model_performance table, we see that the the `HistGradientBoostingClassifier` and `AdaBoostClassifier` appear to be performing the best. To optimise our predictions, we will utilise an ensemble method and use the two classifiers with a `VotingClassifier` as our final estimator."
   ]
  },
  {
   "cell_type": "code",
   "execution_count": 23,
   "metadata": {},
   "outputs": [
    {
     "data": {
      "text/plain": [
       "<AxesSubplot:>"
      ]
     },
     "execution_count": 23,
     "metadata": {},
     "output_type": "execute_result"
    },
    {
     "data": {
      "image/png": "[encoded data removed]",
      "text/plain": [
       "<Figure size 640x480 with 2 Axes>"
      ]
     },
     "metadata": {},
     "output_type": "display_data"
    }
   ],
   "source": [
    "sns.heatmap(\n",
    "    data = pd.DataFrame(\n",
    "    np.column_stack((\n",
    "        ada_best.predict(X_train),\n",
    "        hgbc_best.predict(X_train), \n",
    "        rf_best.predict(X_train), \n",
    "        lr_best.predict(X_train), \n",
    "        knn_best.predict(X_train),\n",
    "        )),\n",
    "    # columns = model_performance['model_list']\n",
    "    ).corr(),\n",
    "    annot = True,\n",
    "    cmap = 'Blues',\n",
    "    vmin = -1,\n",
    "    vmax = 1\n",
    ")"
   ]
  },
  {
   "cell_type": "code",
   "execution_count": 24,
   "metadata": {},
   "outputs": [],
   "source": [
    "# check coefficents from LogisticRegression\n",
    "# feature_names = lr_best[0].get_feature_names_out()\n",
    "# coefficients = lr_best[2].coef_\n",
    "# features_coefs = pd.DataFrame([feature_names, coefficients.reshape(52,)]).transpose()\n",
    "# features_coefs.rename(columns={0: 'feature', 1: 'coef'}, inplace=True)\n",
    "# features_coefs.sort_values(by='coef', ascending=False)"
   ]
  },
  {
   "cell_type": "code",
   "execution_count": 25,
   "metadata": {
    "cell_id": "3d077543da5741ba9a33727305db1e32",
    "deepnote_cell_type": "code",
    "deepnote_to_be_reexecuted": false,
    "execution_millis": 2,
    "execution_start": 1670552986824,
    "source_hash": "7e4528f9",
    "tags": []
   },
   "outputs": [],
   "source": [
    "# create VotingClassifier ensemble with top performing classifiers and new params\n",
    "# voting_clf = VotingClassifier([\n",
    "#     ('GradientBoost', GradientBoostingClassifier(n_estimators=300, random_state=rng)),\n",
    "#     ('AdaBoost', AdaBoostClassifier(n_estimators=200, random_state=rng)),\n",
    "#     ('RandomForest', RandomForestClassifier(n_estimators=700, max_features='sqrt', random_state=rng))\n",
    "# ], voting='soft')\n",
    "\n",
    "# voting_params = {\n",
    "#     'sample__sampling_strategy': ['auto', 0.1, 0.3],\n",
    "#     'clf__GradientBoost__learning_rate': [0.01, 0.1],\n",
    "#     'clf__GradientBoost__subsample': [0.7, 1.0],\n",
    "#     'clf__GradientBoost__max_depth': [3, 7],\n",
    "#     'clf__AdaBoost__learning_rate': [1.0, 2.0, 10],\n",
    "#     'clf__LogReg__solver': ['liblinear'],\n",
    "#     'clf__LogReg__C': [100, 10, 1.0],\n",
    "# }"
   ]
  },
  {
   "cell_type": "code",
   "execution_count": 29,
   "metadata": {},
   "outputs": [],
   "source": [
    "# create VotingClassifier ensemble with best performing classifiers\n",
    "voting_clf = VotingClassifier([\n",
    "    # ('HistGradientBoost', hgbc_best[-1]),\n",
    "    ('AdaBoost', ada_best[-1]),\n",
    "    ('LogReg', lr_best[-1]),\n",
    "    # ('RandomForest', rf_best[-1])\n",
    "], voting='soft')\n",
    "\n",
    "voting_params = {\n",
    "    'sample__sampling_strategy': ['auto', 0.1, 0.25, 0.5],\n",
    "#     'clf__GradientBoost__learning_rate': [0.01, 0.1],\n",
    "#     'clf__GradientBoost__subsample': [0.7, 1.0],\n",
    "#     'clf__GradientBoost__max_depth': [3, 7],\n",
    "#     'clf__AdaBoost__learning_rate': [1.0, 2.0, 10],\n",
    "#     'clf__LogReg__solver': ['liblinear'],\n",
    "#     'clf__LogReg__C': [100, 10, 1.0],\n",
    "}"
   ]
  },
  {
   "cell_type": "code",
   "execution_count": 30,
   "metadata": {
    "cell_id": "005373c33c9d435daf02555821ef357d",
    "deepnote_cell_type": "code",
    "deepnote_to_be_reexecuted": false,
    "execution_millis": 132,
    "execution_start": 1670552989018,
    "source_hash": "506a2374"
   },
   "outputs": [
    {
     "name": "stdout",
     "output_type": "stream",
     "text": [
      "Fitting VotingClassifier\n",
      "Fitting 3 folds for each of 4 candidates, totalling 12 fits\n",
      "Elapsed time: 1 minutes, 25 seconds\n",
      "Best Score:  0.25065864503645613\n",
      "Best Params:  {'sample__sampling_strategy': 0.25}\n",
      "\n"
     ]
    }
   ],
   "source": [
    "voting_best, voting_results = results.run_pipe(voting_clf, voting_params)"
   ]
  },
  {
   "cell_type": "code",
   "execution_count": 31,
   "metadata": {},
   "outputs": [
    {
     "data": {
      "text/html": [
       "<div>\n",
       "<style scoped>\n",
       "    .dataframe tbody tr th:only-of-type {\n",
       "        vertical-align: middle;\n",
       "    }\n",
       "\n",
       "    .dataframe tbody tr th {\n",
       "        vertical-align: top;\n",
       "    }\n",
       "\n",
       "    .dataframe thead th {\n",
       "        text-align: right;\n",
       "    }\n",
       "</style>\n",
       "<table border=\"1\" class=\"dataframe\">\n",
       "  <thead>\n",
       "    <tr style=\"text-align: right;\">\n",
       "      <th></th>\n",
       "      <th>model_list</th>\n",
       "      <th>mean_train_f1</th>\n",
       "      <th>mean_test_f1</th>\n",
       "      <th>f1_delta</th>\n",
       "      <th>mean_train_balanced_accuracy</th>\n",
       "      <th>mean_test_balanced_accuracy</th>\n",
       "      <th>balanced_accuracy_delta</th>\n",
       "      <th>best_params</th>\n",
       "      <th>runtime</th>\n",
       "    </tr>\n",
       "  </thead>\n",
       "  <tbody>\n",
       "    <tr>\n",
       "      <th>4</th>\n",
       "      <td>HistGradientBoostingClassifier</td>\n",
       "      <td>0.2759</td>\n",
       "      <td>0.1832</td>\n",
       "      <td>0.0927</td>\n",
       "      <td>0.6463</td>\n",
       "      <td>0.5729</td>\n",
       "      <td>0.0734</td>\n",
       "      <td>{'clf__l2_regularization': 1, 'clf__learning_r...</td>\n",
       "      <td>95.62</td>\n",
       "    </tr>\n",
       "    <tr>\n",
       "      <th>2</th>\n",
       "      <td>RandomForestClassifier</td>\n",
       "      <td>0.2481</td>\n",
       "      <td>0.1696</td>\n",
       "      <td>0.0785</td>\n",
       "      <td>0.6129</td>\n",
       "      <td>0.5619</td>\n",
       "      <td>0.0509</td>\n",
       "      <td>{'clf__ccp_alpha': 0.0, 'clf__max_features': '...</td>\n",
       "      <td>599.59</td>\n",
       "    </tr>\n",
       "    <tr>\n",
       "      <th>5</th>\n",
       "      <td>VotingClassifier</td>\n",
       "      <td>0.2479</td>\n",
       "      <td>0.1960</td>\n",
       "      <td>0.0519</td>\n",
       "      <td>0.7560</td>\n",
       "      <td>0.6657</td>\n",
       "      <td>0.0903</td>\n",
       "      <td>{'sample__sampling_strategy': 0.25}</td>\n",
       "      <td>85.19</td>\n",
       "    </tr>\n",
       "    <tr>\n",
       "      <th>0</th>\n",
       "      <td>LogisticRegression</td>\n",
       "      <td>0.2432</td>\n",
       "      <td>0.2012</td>\n",
       "      <td>0.0420</td>\n",
       "      <td>0.7532</td>\n",
       "      <td>0.6795</td>\n",
       "      <td>0.0738</td>\n",
       "      <td>{'clf__C': 1.0, 'clf__max_iter': 100, 'clf__pe...</td>\n",
       "      <td>31.45</td>\n",
       "    </tr>\n",
       "    <tr>\n",
       "      <th>3</th>\n",
       "      <td>AdaBoostClassifier</td>\n",
       "      <td>0.2342</td>\n",
       "      <td>0.2052</td>\n",
       "      <td>0.0289</td>\n",
       "      <td>0.6548</td>\n",
       "      <td>0.6062</td>\n",
       "      <td>0.0487</td>\n",
       "      <td>{'clf__learning_rate': 1.0, 'clf__n_estimators...</td>\n",
       "      <td>133.13</td>\n",
       "    </tr>\n",
       "    <tr>\n",
       "      <th>1</th>\n",
       "      <td>KNeighborsClassifier</td>\n",
       "      <td>0.2262</td>\n",
       "      <td>0.1996</td>\n",
       "      <td>0.0266</td>\n",
       "      <td>0.6714</td>\n",
       "      <td>0.6604</td>\n",
       "      <td>0.0110</td>\n",
       "      <td>{'clf__n_neighbors': 15, 'clf__weights': 'dist...</td>\n",
       "      <td>8.32</td>\n",
       "    </tr>\n",
       "  </tbody>\n",
       "</table>\n",
       "</div>"
      ],
      "text/plain": [
       "                       model_list  mean_train_f1  mean_test_f1  f1_delta  \\\n",
       "4  HistGradientBoostingClassifier         0.2759        0.1832    0.0927   \n",
       "2          RandomForestClassifier         0.2481        0.1696    0.0785   \n",
       "5                VotingClassifier         0.2479        0.1960    0.0519   \n",
       "0              LogisticRegression         0.2432        0.2012    0.0420   \n",
       "3              AdaBoostClassifier         0.2342        0.2052    0.0289   \n",
       "1            KNeighborsClassifier         0.2262        0.1996    0.0266   \n",
       "\n",
       "   mean_train_balanced_accuracy  mean_test_balanced_accuracy  \\\n",
       "4                        0.6463                       0.5729   \n",
       "2                        0.6129                       0.5619   \n",
       "5                        0.7560                       0.6657   \n",
       "0                        0.7532                       0.6795   \n",
       "3                        0.6548                       0.6062   \n",
       "1                        0.6714                       0.6604   \n",
       "\n",
       "   balanced_accuracy_delta                                        best_params  \\\n",
       "4                   0.0734  {'clf__l2_regularization': 1, 'clf__learning_r...   \n",
       "2                   0.0509  {'clf__ccp_alpha': 0.0, 'clf__max_features': '...   \n",
       "5                   0.0903                {'sample__sampling_strategy': 0.25}   \n",
       "0                   0.0738  {'clf__C': 1.0, 'clf__max_iter': 100, 'clf__pe...   \n",
       "3                   0.0487  {'clf__learning_rate': 1.0, 'clf__n_estimators...   \n",
       "1                   0.0110  {'clf__n_neighbors': 15, 'clf__weights': 'dist...   \n",
       "\n",
       "   runtime  \n",
       "4    95.62  \n",
       "2   599.59  \n",
       "5    85.19  \n",
       "0    31.45  \n",
       "3   133.13  \n",
       "1     8.32  "
      ]
     },
     "execution_count": 31,
     "metadata": {},
     "output_type": "execute_result"
    }
   ],
   "source": [
    "results.display()"
   ]
  },
  {
   "attachments": {},
   "cell_type": "markdown",
   "metadata": {},
   "source": [
    "Selecting the top performing model based on `balanced accuracy` score."
   ]
  },
  {
   "cell_type": "code",
   "execution_count": 32,
   "metadata": {},
   "outputs": [],
   "source": [
    "best_model = hgbc_best"
   ]
  },
  {
   "attachments": {},
   "cell_type": "markdown",
   "metadata": {},
   "source": [
    "## Model Performance\n",
    "\n",
    "---\n",
    "\n",
    "Random text"
   ]
  },
  {
   "cell_type": "code",
   "execution_count": 33,
   "metadata": {},
   "outputs": [
    {
     "data": {
      "image/png": "[encoded data removed]",
      "text/plain": [
       "<Figure size 640x480 with 2 Axes>"
      ]
     },
     "metadata": {},
     "output_type": "display_data"
    }
   ],
   "source": [
    "preds = best_model.predict(X_test)\n",
    "cm_disp = ConfusionMatrixDisplay.from_predictions(y_test, preds)"
   ]
  },
  {
   "cell_type": "code",
   "execution_count": null,
   "metadata": {
    "cell_id": "d1cef0a9162a4398958108b253f2008d",
    "deepnote_cell_type": "code",
    "deepnote_to_be_reexecuted": true,
    "execution_millis": 554,
    "execution_start": 1670548138224,
    "source_hash": "ed13f675"
   },
   "outputs": [
    {
     "name": "stdout",
     "output_type": "stream",
     "text": [
      "              precision    recall  f1-score   support\n",
      "\n",
      "           0       0.97      0.91      0.94      2987\n",
      "           1       0.22      0.46      0.30       165\n",
      "\n",
      "    accuracy                           0.88      3152\n",
      "   macro avg       0.59      0.68      0.62      3152\n",
      "weighted avg       0.93      0.88      0.90      3152\n",
      "\n"
     ]
    }
   ],
   "source": [
    "print(classification_report(y_test, preds))"
   ]
  },
  {
   "cell_type": "code",
   "execution_count": 34,
   "metadata": {},
   "outputs": [
    {
     "data": {
      "image/png": "[encoded data removed]",
      "text/plain": [
       "<Figure size 640x480 with 1 Axes>"
      ]
     },
     "metadata": {},
     "output_type": "display_data"
    }
   ],
   "source": [
    "RocCurveDisplay.from_predictions(y_test, preds);"
   ]
  },
  {
   "cell_type": "code",
   "execution_count": 70,
   "metadata": {},
   "outputs": [],
   "source": [
    "threshold = []\n",
    "accuracy = []\n",
    "\n",
    "for p in np.linspace(0,1,101):\n",
    "  threshold.append(p)\n",
    "  y_pred = (best_model.predict_proba(X)[:,1] >= p).astype(int)\n",
    "  accuracy.append(f1_score(y,y_pred))\n",
    "\n",
    "threshold_max = threshold[np.argmax(accuracy)]"
   ]
  },
  {
   "cell_type": "code",
   "execution_count": 85,
   "metadata": {},
   "outputs": [
    {
     "data": {
      "image/png": "[encoded data removed]",
      "text/plain": [
       "<Figure size 640x480 with 1 Axes>"
      ]
     },
     "metadata": {},
     "output_type": "display_data"
    }
   ],
   "source": [
    "plt.scatter(threshold,accuracy)\n",
    "plt.axvline(x=threshold_max, linestyle='--', c='red', label=f'Threshold {threshold_max}')\n",
    "plt.xlabel(\"Threshold\")\n",
    "plt.ylabel(\"F1 Score\")\n",
    "plt.legend(loc='best')\n",
    "plt.show()"
   ]
  },
  {
   "cell_type": "code",
   "execution_count": 86,
   "metadata": {},
   "outputs": [
    {
     "data": {
      "image/png": "[encoded data removed]",
      "text/plain": [
       "<Figure size 640x480 with 2 Axes>"
      ]
     },
     "metadata": {},
     "output_type": "display_data"
    }
   ],
   "source": [
    "y_hat = pd.Series(np.where(best_model.predict_proba(X)[:,1] >= threshold_max, 1, 0), \n",
    "                     dtype='category')\n",
    "cm_disp_yhat = ConfusionMatrixDisplay.from_predictions(y, y_hat)"
   ]
  },
  {
   "cell_type": "code",
   "execution_count": 73,
   "metadata": {},
   "outputs": [
    {
     "name": "stdout",
     "output_type": "stream",
     "text": [
      "              precision    recall  f1-score   support\n",
      "\n",
      "           0       0.98      0.97      0.97      9955\n",
      "           1       0.51      0.60      0.55       551\n",
      "\n",
      "    accuracy                           0.95     10506\n",
      "   macro avg       0.74      0.79      0.76     10506\n",
      "weighted avg       0.95      0.95      0.95     10506\n",
      "\n"
     ]
    }
   ],
   "source": [
    "print(classification_report(y, y_hat))"
   ]
  },
  {
   "cell_type": "code",
   "execution_count": null,
   "metadata": {
    "scrolled": true
   },
   "outputs": [
    {
     "data": {
      "text/html": [
       "<style>#sk-container-id-12 {color: black;background-color: white;}#sk-container-id-12 pre{padding: 0;}#sk-container-id-12 div.sk-toggleable {background-color: white;}#sk-container-id-12 label.sk-toggleable__label {cursor: pointer;display: block;width: 100%;margin-bottom: 0;padding: 0.3em;box-sizing: border-box;text-align: center;}#sk-container-id-12 label.sk-toggleable__label-arrow:before {content: \"▸\";float: left;margin-right: 0.25em;color: #696969;}#sk-container-id-12 label.sk-toggleable__label-arrow:hover:before {color: black;}#sk-container-id-12 div.sk-estimator:hover label.sk-toggleable__label-arrow:before {color: black;}#sk-container-id-12 div.sk-toggleable__content {max-height: 0;max-width: 0;overflow: hidden;text-align: left;background-color: #f0f8ff;}#sk-container-id-12 div.sk-toggleable__content pre {margin: 0.2em;color: black;border-radius: 0.25em;background-color: #f0f8ff;}#sk-container-id-12 input.sk-toggleable__control:checked~div.sk-toggleable__content {max-height: 200px;max-width: 100%;overflow: auto;}#sk-container-id-12 input.sk-toggleable__control:checked~label.sk-toggleable__label-arrow:before {content: \"▾\";}#sk-container-id-12 div.sk-estimator input.sk-toggleable__control:checked~label.sk-toggleable__label {background-color: #d4ebff;}#sk-container-id-12 div.sk-label input.sk-toggleable__control:checked~label.sk-toggleable__label {background-color: #d4ebff;}#sk-container-id-12 input.sk-hidden--visually {border: 0;clip: rect(1px 1px 1px 1px);clip: rect(1px, 1px, 1px, 1px);height: 1px;margin: -1px;overflow: hidden;padding: 0;position: absolute;width: 1px;}#sk-container-id-12 div.sk-estimator {font-family: monospace;background-color: #f0f8ff;border: 1px dotted black;border-radius: 0.25em;box-sizing: border-box;margin-bottom: 0.5em;}#sk-container-id-12 div.sk-estimator:hover {background-color: #d4ebff;}#sk-container-id-12 div.sk-parallel-item::after {content: \"\";width: 100%;border-bottom: 1px solid gray;flex-grow: 1;}#sk-container-id-12 div.sk-label:hover label.sk-toggleable__label {background-color: #d4ebff;}#sk-container-id-12 div.sk-serial::before {content: \"\";position: absolute;border-left: 1px solid gray;box-sizing: border-box;top: 0;bottom: 0;left: 50%;z-index: 0;}#sk-container-id-12 div.sk-serial {display: flex;flex-direction: column;align-items: center;background-color: white;padding-right: 0.2em;padding-left: 0.2em;position: relative;}#sk-container-id-12 div.sk-item {position: relative;z-index: 1;}#sk-container-id-12 div.sk-parallel {display: flex;align-items: stretch;justify-content: center;background-color: white;position: relative;}#sk-container-id-12 div.sk-item::before, #sk-container-id-12 div.sk-parallel-item::before {content: \"\";position: absolute;border-left: 1px solid gray;box-sizing: border-box;top: 0;bottom: 0;left: 50%;z-index: -1;}#sk-container-id-12 div.sk-parallel-item {display: flex;flex-direction: column;z-index: 1;position: relative;background-color: white;}#sk-container-id-12 div.sk-parallel-item:first-child::after {align-self: flex-end;width: 50%;}#sk-container-id-12 div.sk-parallel-item:last-child::after {align-self: flex-start;width: 50%;}#sk-container-id-12 div.sk-parallel-item:only-child::after {width: 0;}#sk-container-id-12 div.sk-dashed-wrapped {border: 1px dashed gray;margin: 0 0.4em 0.5em 0.4em;box-sizing: border-box;padding-bottom: 0.4em;background-color: white;}#sk-container-id-12 div.sk-label label {font-family: monospace;font-weight: bold;display: inline-block;line-height: 1.2em;}#sk-container-id-12 div.sk-label-container {text-align: center;}#sk-container-id-12 div.sk-container {/* jupyter's `normalize.less` sets `[hidden] { display: none; }` but bootstrap.min.css set `[hidden] { display: none !important; }` so we also need the `!important` here to be able to override the default hidden behavior on the sphinx rendered scikit-learn.org. See: https://github.com/scikit-learn/scikit-learn/issues/21755 */display: inline-block !important;position: relative;}#sk-container-id-12 div.sk-text-repr-fallback {display: none;}</style><div id=\"sk-container-id-12\" class=\"sk-top-container\"><div class=\"sk-text-repr-fallback\"><pre>Pipeline(steps=[(&#x27;transform&#x27;,\n",
       "                 ColumnTransformer(sparse_threshold=0,\n",
       "                                   transformers=[(&#x27;MinMaxScaler&#x27;,\n",
       "                                                  MinMaxScaler(),\n",
       "                                                  [&#x27;Latitude&#x27;, &#x27;Longitude&#x27;,\n",
       "                                                   &#x27;AddressAccuracy&#x27;, &#x27;Tavg&#x27;,\n",
       "                                                   &#x27;Depart&#x27;, &#x27;Heat&#x27;,\n",
       "                                                   &#x27;PrecipTotal&#x27;, &#x27;SeaLevel&#x27;,\n",
       "                                                   &#x27;ResultDir&#x27;, &#x27;AvgSpeed&#x27;,\n",
       "                                                   &#x27;Humidity&#x27;, &#x27;Daylight_hours&#x27;,\n",
       "                                                   &#x27;Sunrise&#x27;, &#x27;Sunset&#x27;]),\n",
       "                                                 (&#x27;OneHotEncoder&#x27;,\n",
       "                                                  OneHotEncoder(drop=&#x27;if_binary&#x27;,\n",
       "                                                                handle_unknown=&#x27;infrequent_if...\n",
       "                                               HistGradientBoostingClassifier(l2_regularization=1,\n",
       "                                                                              learning_rate=0.01,\n",
       "                                                                              random_state=42)),\n",
       "                                              (&#x27;AdaBoost&#x27;,\n",
       "                                               AdaBoostClassifier(n_estimators=150,\n",
       "                                                                  random_state=42)),\n",
       "                                              (&#x27;LogReg&#x27;,\n",
       "                                               LogisticRegression(C=10,\n",
       "                                                                  class_weight=&#x27;balanced&#x27;,\n",
       "                                                                  random_state=42,\n",
       "                                                                  solver=&#x27;liblinear&#x27;)),\n",
       "                                              (&#x27;RandomForest&#x27;,\n",
       "                                               RandomForestClassifier(class_weight=&#x27;balanced&#x27;,\n",
       "                                                                      n_estimators=500,\n",
       "                                                                      random_state=42))],\n",
       "                                  voting=&#x27;soft&#x27;))])</pre><b>In a Jupyter environment, please rerun this cell to show the HTML representation or trust the notebook. <br />On GitHub, the HTML representation is unable to render, please try loading this page with nbviewer.org.</b></div><div class=\"sk-container\" hidden><div class=\"sk-item sk-dashed-wrapped\"><div class=\"sk-label-container\"><div class=\"sk-label sk-toggleable\"><input class=\"sk-toggleable__control sk-hidden--visually\" id=\"sk-estimator-id-138\" type=\"checkbox\" ><label for=\"sk-estimator-id-138\" class=\"sk-toggleable__label sk-toggleable__label-arrow\">Pipeline</label><div class=\"sk-toggleable__content\"><pre>Pipeline(steps=[(&#x27;transform&#x27;,\n",
       "                 ColumnTransformer(sparse_threshold=0,\n",
       "                                   transformers=[(&#x27;MinMaxScaler&#x27;,\n",
       "                                                  MinMaxScaler(),\n",
       "                                                  [&#x27;Latitude&#x27;, &#x27;Longitude&#x27;,\n",
       "                                                   &#x27;AddressAccuracy&#x27;, &#x27;Tavg&#x27;,\n",
       "                                                   &#x27;Depart&#x27;, &#x27;Heat&#x27;,\n",
       "                                                   &#x27;PrecipTotal&#x27;, &#x27;SeaLevel&#x27;,\n",
       "                                                   &#x27;ResultDir&#x27;, &#x27;AvgSpeed&#x27;,\n",
       "                                                   &#x27;Humidity&#x27;, &#x27;Daylight_hours&#x27;,\n",
       "                                                   &#x27;Sunrise&#x27;, &#x27;Sunset&#x27;]),\n",
       "                                                 (&#x27;OneHotEncoder&#x27;,\n",
       "                                                  OneHotEncoder(drop=&#x27;if_binary&#x27;,\n",
       "                                                                handle_unknown=&#x27;infrequent_if...\n",
       "                                               HistGradientBoostingClassifier(l2_regularization=1,\n",
       "                                                                              learning_rate=0.01,\n",
       "                                                                              random_state=42)),\n",
       "                                              (&#x27;AdaBoost&#x27;,\n",
       "                                               AdaBoostClassifier(n_estimators=150,\n",
       "                                                                  random_state=42)),\n",
       "                                              (&#x27;LogReg&#x27;,\n",
       "                                               LogisticRegression(C=10,\n",
       "                                                                  class_weight=&#x27;balanced&#x27;,\n",
       "                                                                  random_state=42,\n",
       "                                                                  solver=&#x27;liblinear&#x27;)),\n",
       "                                              (&#x27;RandomForest&#x27;,\n",
       "                                               RandomForestClassifier(class_weight=&#x27;balanced&#x27;,\n",
       "                                                                      n_estimators=500,\n",
       "                                                                      random_state=42))],\n",
       "                                  voting=&#x27;soft&#x27;))])</pre></div></div></div><div class=\"sk-serial\"><div class=\"sk-item sk-dashed-wrapped\"><div class=\"sk-label-container\"><div class=\"sk-label sk-toggleable\"><input class=\"sk-toggleable__control sk-hidden--visually\" id=\"sk-estimator-id-139\" type=\"checkbox\" ><label for=\"sk-estimator-id-139\" class=\"sk-toggleable__label sk-toggleable__label-arrow\">transform: ColumnTransformer</label><div class=\"sk-toggleable__content\"><pre>ColumnTransformer(sparse_threshold=0,\n",
       "                  transformers=[(&#x27;MinMaxScaler&#x27;, MinMaxScaler(),\n",
       "                                 [&#x27;Latitude&#x27;, &#x27;Longitude&#x27;, &#x27;AddressAccuracy&#x27;,\n",
       "                                  &#x27;Tavg&#x27;, &#x27;Depart&#x27;, &#x27;Heat&#x27;, &#x27;PrecipTotal&#x27;,\n",
       "                                  &#x27;SeaLevel&#x27;, &#x27;ResultDir&#x27;, &#x27;AvgSpeed&#x27;,\n",
       "                                  &#x27;Humidity&#x27;, &#x27;Daylight_hours&#x27;, &#x27;Sunrise&#x27;,\n",
       "                                  &#x27;Sunset&#x27;]),\n",
       "                                (&#x27;OneHotEncoder&#x27;,\n",
       "                                 OneHotEncoder(drop=&#x27;if_binary&#x27;,\n",
       "                                               handle_unknown=&#x27;infrequent_if_exist&#x27;),\n",
       "                                 [&#x27;Species&#x27;, &#x27;Trap&#x27;, &#x27;Month&#x27;, &#x27;Day&#x27;]),\n",
       "                                (&#x27;CountVectorizer&#x27;,\n",
       "                                 Pipeline(steps=[(&#x27;squeeze&#x27;,\n",
       "                                                  FunctionTransformer(func=&lt;function &lt;lambda&gt; at 0x0000023F807A7E50&gt;)),\n",
       "                                                 (&#x27;vector&#x27;, CountVectorizer()),\n",
       "                                                 (&#x27;array&#x27;,\n",
       "                                                  FunctionTransformer(accept_sparse=True,\n",
       "                                                                      func=&lt;function &lt;lambda&gt; at 0x0000023F807A7B80&gt;)),\n",
       "                                                 (&#x27;scale&#x27;, MinMaxScaler())]),\n",
       "                                 [&#x27;CodeSum&#x27;])])</pre></div></div></div><div class=\"sk-parallel\"><div class=\"sk-parallel-item\"><div class=\"sk-item\"><div class=\"sk-label-container\"><div class=\"sk-label sk-toggleable\"><input class=\"sk-toggleable__control sk-hidden--visually\" id=\"sk-estimator-id-140\" type=\"checkbox\" ><label for=\"sk-estimator-id-140\" class=\"sk-toggleable__label sk-toggleable__label-arrow\">MinMaxScaler</label><div class=\"sk-toggleable__content\"><pre>[&#x27;Latitude&#x27;, &#x27;Longitude&#x27;, &#x27;AddressAccuracy&#x27;, &#x27;Tavg&#x27;, &#x27;Depart&#x27;, &#x27;Heat&#x27;, &#x27;PrecipTotal&#x27;, &#x27;SeaLevel&#x27;, &#x27;ResultDir&#x27;, &#x27;AvgSpeed&#x27;, &#x27;Humidity&#x27;, &#x27;Daylight_hours&#x27;, &#x27;Sunrise&#x27;, &#x27;Sunset&#x27;]</pre></div></div></div><div class=\"sk-serial\"><div class=\"sk-item\"><div class=\"sk-estimator sk-toggleable\"><input class=\"sk-toggleable__control sk-hidden--visually\" id=\"sk-estimator-id-141\" type=\"checkbox\" ><label for=\"sk-estimator-id-141\" class=\"sk-toggleable__label sk-toggleable__label-arrow\">MinMaxScaler</label><div class=\"sk-toggleable__content\"><pre>MinMaxScaler()</pre></div></div></div></div></div></div><div class=\"sk-parallel-item\"><div class=\"sk-item\"><div class=\"sk-label-container\"><div class=\"sk-label sk-toggleable\"><input class=\"sk-toggleable__control sk-hidden--visually\" id=\"sk-estimator-id-142\" type=\"checkbox\" ><label for=\"sk-estimator-id-142\" class=\"sk-toggleable__label sk-toggleable__label-arrow\">OneHotEncoder</label><div class=\"sk-toggleable__content\"><pre>[&#x27;Species&#x27;, &#x27;Trap&#x27;, &#x27;Month&#x27;, &#x27;Day&#x27;]</pre></div></div></div><div class=\"sk-serial\"><div class=\"sk-item\"><div class=\"sk-estimator sk-toggleable\"><input class=\"sk-toggleable__control sk-hidden--visually\" id=\"sk-estimator-id-143\" type=\"checkbox\" ><label for=\"sk-estimator-id-143\" class=\"sk-toggleable__label sk-toggleable__label-arrow\">OneHotEncoder</label><div class=\"sk-toggleable__content\"><pre>OneHotEncoder(drop=&#x27;if_binary&#x27;, handle_unknown=&#x27;infrequent_if_exist&#x27;)</pre></div></div></div></div></div></div><div class=\"sk-parallel-item\"><div class=\"sk-item\"><div class=\"sk-label-container\"><div class=\"sk-label sk-toggleable\"><input class=\"sk-toggleable__control sk-hidden--visually\" id=\"sk-estimator-id-144\" type=\"checkbox\" ><label for=\"sk-estimator-id-144\" class=\"sk-toggleable__label sk-toggleable__label-arrow\">CountVectorizer</label><div class=\"sk-toggleable__content\"><pre>[&#x27;CodeSum&#x27;]</pre></div></div></div><div class=\"sk-serial\"><div class=\"sk-item\"><div class=\"sk-serial\"><div class=\"sk-item\"><div class=\"sk-estimator sk-toggleable\"><input class=\"sk-toggleable__control sk-hidden--visually\" id=\"sk-estimator-id-145\" type=\"checkbox\" ><label for=\"sk-estimator-id-145\" class=\"sk-toggleable__label sk-toggleable__label-arrow\">FunctionTransformer</label><div class=\"sk-toggleable__content\"><pre>FunctionTransformer(func=&lt;function &lt;lambda&gt; at 0x0000023F807A7E50&gt;)</pre></div></div></div><div class=\"sk-item\"><div class=\"sk-estimator sk-toggleable\"><input class=\"sk-toggleable__control sk-hidden--visually\" id=\"sk-estimator-id-146\" type=\"checkbox\" ><label for=\"sk-estimator-id-146\" class=\"sk-toggleable__label sk-toggleable__label-arrow\">CountVectorizer</label><div class=\"sk-toggleable__content\"><pre>CountVectorizer()</pre></div></div></div><div class=\"sk-item\"><div class=\"sk-estimator sk-toggleable\"><input class=\"sk-toggleable__control sk-hidden--visually\" id=\"sk-estimator-id-147\" type=\"checkbox\" ><label for=\"sk-estimator-id-147\" class=\"sk-toggleable__label sk-toggleable__label-arrow\">FunctionTransformer</label><div class=\"sk-toggleable__content\"><pre>FunctionTransformer(accept_sparse=True,\n",
       "                    func=&lt;function &lt;lambda&gt; at 0x0000023F807A7B80&gt;)</pre></div></div></div><div class=\"sk-item\"><div class=\"sk-estimator sk-toggleable\"><input class=\"sk-toggleable__control sk-hidden--visually\" id=\"sk-estimator-id-148\" type=\"checkbox\" ><label for=\"sk-estimator-id-148\" class=\"sk-toggleable__label sk-toggleable__label-arrow\">MinMaxScaler</label><div class=\"sk-toggleable__content\"><pre>MinMaxScaler()</pre></div></div></div></div></div></div></div></div></div></div><div class=\"sk-item\"><div class=\"sk-estimator sk-toggleable\"><input class=\"sk-toggleable__control sk-hidden--visually\" id=\"sk-estimator-id-149\" type=\"checkbox\" ><label for=\"sk-estimator-id-149\" class=\"sk-toggleable__label sk-toggleable__label-arrow\">SMOTETomek</label><div class=\"sk-toggleable__content\"><pre>SMOTETomek(n_jobs=2, random_state=42)</pre></div></div></div><div class=\"sk-item sk-dashed-wrapped\"><div class=\"sk-label-container\"><div class=\"sk-label sk-toggleable\"><input class=\"sk-toggleable__control sk-hidden--visually\" id=\"sk-estimator-id-150\" type=\"checkbox\" ><label for=\"sk-estimator-id-150\" class=\"sk-toggleable__label sk-toggleable__label-arrow\">clf: VotingClassifier</label><div class=\"sk-toggleable__content\"><pre>VotingClassifier(estimators=[(&#x27;HistGradientBoost&#x27;,\n",
       "                              HistGradientBoostingClassifier(l2_regularization=1,\n",
       "                                                             learning_rate=0.01,\n",
       "                                                             random_state=42)),\n",
       "                             (&#x27;AdaBoost&#x27;,\n",
       "                              AdaBoostClassifier(n_estimators=150,\n",
       "                                                 random_state=42)),\n",
       "                             (&#x27;LogReg&#x27;,\n",
       "                              LogisticRegression(C=10, class_weight=&#x27;balanced&#x27;,\n",
       "                                                 random_state=42,\n",
       "                                                 solver=&#x27;liblinear&#x27;)),\n",
       "                             (&#x27;RandomForest&#x27;,\n",
       "                              RandomForestClassifier(class_weight=&#x27;balanced&#x27;,\n",
       "                                                     n_estimators=500,\n",
       "                                                     random_state=42))],\n",
       "                 voting=&#x27;soft&#x27;)</pre></div></div></div><div class=\"sk-parallel\"><div class=\"sk-parallel-item\"><div class=\"sk-item\"><div class=\"sk-label-container\"><div class=\"sk-label sk-toggleable\"><label>HistGradientBoost</label></div></div><div class=\"sk-serial\"><div class=\"sk-item\"><div class=\"sk-estimator sk-toggleable\"><input class=\"sk-toggleable__control sk-hidden--visually\" id=\"sk-estimator-id-151\" type=\"checkbox\" ><label for=\"sk-estimator-id-151\" class=\"sk-toggleable__label sk-toggleable__label-arrow\">HistGradientBoostingClassifier</label><div class=\"sk-toggleable__content\"><pre>HistGradientBoostingClassifier(l2_regularization=1, learning_rate=0.01,\n",
       "                               random_state=42)</pre></div></div></div></div></div></div><div class=\"sk-parallel-item\"><div class=\"sk-item\"><div class=\"sk-label-container\"><div class=\"sk-label sk-toggleable\"><label>AdaBoost</label></div></div><div class=\"sk-serial\"><div class=\"sk-item\"><div class=\"sk-estimator sk-toggleable\"><input class=\"sk-toggleable__control sk-hidden--visually\" id=\"sk-estimator-id-152\" type=\"checkbox\" ><label for=\"sk-estimator-id-152\" class=\"sk-toggleable__label sk-toggleable__label-arrow\">AdaBoostClassifier</label><div class=\"sk-toggleable__content\"><pre>AdaBoostClassifier(n_estimators=150, random_state=42)</pre></div></div></div></div></div></div><div class=\"sk-parallel-item\"><div class=\"sk-item\"><div class=\"sk-label-container\"><div class=\"sk-label sk-toggleable\"><label>LogReg</label></div></div><div class=\"sk-serial\"><div class=\"sk-item\"><div class=\"sk-estimator sk-toggleable\"><input class=\"sk-toggleable__control sk-hidden--visually\" id=\"sk-estimator-id-153\" type=\"checkbox\" ><label for=\"sk-estimator-id-153\" class=\"sk-toggleable__label sk-toggleable__label-arrow\">LogisticRegression</label><div class=\"sk-toggleable__content\"><pre>LogisticRegression(C=10, class_weight=&#x27;balanced&#x27;, random_state=42,\n",
       "                   solver=&#x27;liblinear&#x27;)</pre></div></div></div></div></div></div><div class=\"sk-parallel-item\"><div class=\"sk-item\"><div class=\"sk-label-container\"><div class=\"sk-label sk-toggleable\"><label>RandomForest</label></div></div><div class=\"sk-serial\"><div class=\"sk-item\"><div class=\"sk-estimator sk-toggleable\"><input class=\"sk-toggleable__control sk-hidden--visually\" id=\"sk-estimator-id-154\" type=\"checkbox\" ><label for=\"sk-estimator-id-154\" class=\"sk-toggleable__label sk-toggleable__label-arrow\">RandomForestClassifier</label><div class=\"sk-toggleable__content\"><pre>RandomForestClassifier(class_weight=&#x27;balanced&#x27;, n_estimators=500,\n",
       "                       random_state=42)</pre></div></div></div></div></div></div></div></div></div></div></div></div>"
      ],
      "text/plain": [
       "Pipeline(steps=[('transform',\n",
       "                 ColumnTransformer(sparse_threshold=0,\n",
       "                                   transformers=[('MinMaxScaler',\n",
       "                                                  MinMaxScaler(),\n",
       "                                                  ['Latitude', 'Longitude',\n",
       "                                                   'AddressAccuracy', 'Tavg',\n",
       "                                                   'Depart', 'Heat',\n",
       "                                                   'PrecipTotal', 'SeaLevel',\n",
       "                                                   'ResultDir', 'AvgSpeed',\n",
       "                                                   'Humidity', 'Daylight_hours',\n",
       "                                                   'Sunrise', 'Sunset']),\n",
       "                                                 ('OneHotEncoder',\n",
       "                                                  OneHotEncoder(drop='if_binary',\n",
       "                                                                handle_unknown='infrequent_if...\n",
       "                                               HistGradientBoostingClassifier(l2_regularization=1,\n",
       "                                                                              learning_rate=0.01,\n",
       "                                                                              random_state=42)),\n",
       "                                              ('AdaBoost',\n",
       "                                               AdaBoostClassifier(n_estimators=150,\n",
       "                                                                  random_state=42)),\n",
       "                                              ('LogReg',\n",
       "                                               LogisticRegression(C=10,\n",
       "                                                                  class_weight='balanced',\n",
       "                                                                  random_state=42,\n",
       "                                                                  solver='liblinear')),\n",
       "                                              ('RandomForest',\n",
       "                                               RandomForestClassifier(class_weight='balanced',\n",
       "                                                                      n_estimators=500,\n",
       "                                                                      random_state=42))],\n",
       "                                  voting='soft'))])"
      ]
     },
     "execution_count": 386,
     "metadata": {},
     "output_type": "execute_result"
    }
   ],
   "source": [
    "# best_model.fit(X, y)"
   ]
  },
  {
   "attachments": {},
   "cell_type": "markdown",
   "metadata": {},
   "source": [
    "## Predictions\n",
    "\n",
    "---\n",
    "\n",
    "Prediction with `test.csv`."
   ]
  },
  {
   "cell_type": "code",
   "execution_count": 74,
   "metadata": {
    "cell_id": "da2446db60a146cf80aa8cbc5a91280d",
    "deepnote_cell_type": "code",
    "deepnote_to_be_reexecuted": true,
    "source_hash": "a9239d02"
   },
   "outputs": [],
   "source": [
    "df_test = pd.read_csv('../assets/df_merge_test.csv', parse_dates=['Date', 'Sunrise_1', 'Sunset_1'])"
   ]
  },
  {
   "cell_type": "code",
   "execution_count": 75,
   "metadata": {},
   "outputs": [],
   "source": [
    "df_test = create_dt_features(df_test)"
   ]
  },
  {
   "cell_type": "code",
   "execution_count": 76,
   "metadata": {},
   "outputs": [
    {
     "data": {
      "text/html": [
       "<div>\n",
       "<style scoped>\n",
       "    .dataframe tbody tr th:only-of-type {\n",
       "        vertical-align: middle;\n",
       "    }\n",
       "\n",
       "    .dataframe tbody tr th {\n",
       "        vertical-align: top;\n",
       "    }\n",
       "\n",
       "    .dataframe thead th {\n",
       "        text-align: right;\n",
       "    }\n",
       "</style>\n",
       "<table border=\"1\" class=\"dataframe\">\n",
       "  <thead>\n",
       "    <tr style=\"text-align: right;\">\n",
       "      <th></th>\n",
       "      <th>Latitude</th>\n",
       "      <th>Longitude</th>\n",
       "      <th>AddressAccuracy</th>\n",
       "      <th>Tavg</th>\n",
       "      <th>Depart</th>\n",
       "      <th>Heat</th>\n",
       "      <th>PrecipTotal</th>\n",
       "      <th>SeaLevel</th>\n",
       "      <th>ResultDir</th>\n",
       "      <th>AvgSpeed</th>\n",
       "      <th>Humidity</th>\n",
       "      <th>Daylight_hours</th>\n",
       "      <th>Sunrise</th>\n",
       "      <th>Sunset</th>\n",
       "      <th>Species</th>\n",
       "      <th>Trap</th>\n",
       "      <th>Month</th>\n",
       "      <th>Day</th>\n",
       "      <th>CodeSum</th>\n",
       "    </tr>\n",
       "  </thead>\n",
       "  <tbody>\n",
       "    <tr>\n",
       "      <th>0</th>\n",
       "      <td>41.95</td>\n",
       "      <td>-87.80</td>\n",
       "      <td>9</td>\n",
       "      <td>74.0</td>\n",
       "      <td>7.0</td>\n",
       "      <td>0.0</td>\n",
       "      <td>0.00</td>\n",
       "      <td>29.99</td>\n",
       "      <td>18</td>\n",
       "      <td>10.0</td>\n",
       "      <td>53.41</td>\n",
       "      <td>15.17</td>\n",
       "      <td>4.27</td>\n",
       "      <td>19.43</td>\n",
       "      <td>CULEX PIPIENS/RESTUANS</td>\n",
       "      <td>002</td>\n",
       "      <td>6</td>\n",
       "      <td>11</td>\n",
       "      <td>Clear</td>\n",
       "    </tr>\n",
       "    <tr>\n",
       "      <th>1</th>\n",
       "      <td>41.95</td>\n",
       "      <td>-87.80</td>\n",
       "      <td>9</td>\n",
       "      <td>74.0</td>\n",
       "      <td>7.0</td>\n",
       "      <td>0.0</td>\n",
       "      <td>0.00</td>\n",
       "      <td>29.99</td>\n",
       "      <td>18</td>\n",
       "      <td>10.0</td>\n",
       "      <td>53.41</td>\n",
       "      <td>15.17</td>\n",
       "      <td>4.27</td>\n",
       "      <td>19.43</td>\n",
       "      <td>CULEX RESTUANS</td>\n",
       "      <td>002</td>\n",
       "      <td>6</td>\n",
       "      <td>11</td>\n",
       "      <td>Clear</td>\n",
       "    </tr>\n",
       "    <tr>\n",
       "      <th>2</th>\n",
       "      <td>41.95</td>\n",
       "      <td>-87.80</td>\n",
       "      <td>9</td>\n",
       "      <td>74.0</td>\n",
       "      <td>7.0</td>\n",
       "      <td>0.0</td>\n",
       "      <td>0.00</td>\n",
       "      <td>29.99</td>\n",
       "      <td>18</td>\n",
       "      <td>10.0</td>\n",
       "      <td>53.41</td>\n",
       "      <td>15.17</td>\n",
       "      <td>4.27</td>\n",
       "      <td>19.43</td>\n",
       "      <td>CULEX PIPIENS</td>\n",
       "      <td>002</td>\n",
       "      <td>6</td>\n",
       "      <td>11</td>\n",
       "      <td>Clear</td>\n",
       "    </tr>\n",
       "    <tr>\n",
       "      <th>3</th>\n",
       "      <td>41.95</td>\n",
       "      <td>-87.80</td>\n",
       "      <td>9</td>\n",
       "      <td>74.0</td>\n",
       "      <td>7.0</td>\n",
       "      <td>0.0</td>\n",
       "      <td>0.00</td>\n",
       "      <td>29.99</td>\n",
       "      <td>18</td>\n",
       "      <td>10.0</td>\n",
       "      <td>53.41</td>\n",
       "      <td>15.17</td>\n",
       "      <td>4.27</td>\n",
       "      <td>19.43</td>\n",
       "      <td>CULEX SALINARIUS</td>\n",
       "      <td>002</td>\n",
       "      <td>6</td>\n",
       "      <td>11</td>\n",
       "      <td>Clear</td>\n",
       "    </tr>\n",
       "    <tr>\n",
       "      <th>4</th>\n",
       "      <td>41.95</td>\n",
       "      <td>-87.80</td>\n",
       "      <td>9</td>\n",
       "      <td>74.0</td>\n",
       "      <td>7.0</td>\n",
       "      <td>0.0</td>\n",
       "      <td>0.00</td>\n",
       "      <td>29.99</td>\n",
       "      <td>18</td>\n",
       "      <td>10.0</td>\n",
       "      <td>53.41</td>\n",
       "      <td>15.17</td>\n",
       "      <td>4.27</td>\n",
       "      <td>19.43</td>\n",
       "      <td>CULEX TERRITANS</td>\n",
       "      <td>002</td>\n",
       "      <td>6</td>\n",
       "      <td>11</td>\n",
       "      <td>Clear</td>\n",
       "    </tr>\n",
       "    <tr>\n",
       "      <th>...</th>\n",
       "      <td>...</td>\n",
       "      <td>...</td>\n",
       "      <td>...</td>\n",
       "      <td>...</td>\n",
       "      <td>...</td>\n",
       "      <td>...</td>\n",
       "      <td>...</td>\n",
       "      <td>...</td>\n",
       "      <td>...</td>\n",
       "      <td>...</td>\n",
       "      <td>...</td>\n",
       "      <td>...</td>\n",
       "      <td>...</td>\n",
       "      <td>...</td>\n",
       "      <td>...</td>\n",
       "      <td>...</td>\n",
       "      <td>...</td>\n",
       "      <td>...</td>\n",
       "      <td>...</td>\n",
       "    </tr>\n",
       "    <tr>\n",
       "      <th>116288</th>\n",
       "      <td>41.72</td>\n",
       "      <td>-87.67</td>\n",
       "      <td>9</td>\n",
       "      <td>71.0</td>\n",
       "      <td>13.0</td>\n",
       "      <td>0.0</td>\n",
       "      <td>0.72</td>\n",
       "      <td>29.78</td>\n",
       "      <td>17</td>\n",
       "      <td>7.9</td>\n",
       "      <td>75.86</td>\n",
       "      <td>11.72</td>\n",
       "      <td>5.82</td>\n",
       "      <td>17.53</td>\n",
       "      <td>CULEX SALINARIUS</td>\n",
       "      <td>094</td>\n",
       "      <td>10</td>\n",
       "      <td>2</td>\n",
       "      <td>TSRA RA BR</td>\n",
       "    </tr>\n",
       "    <tr>\n",
       "      <th>116289</th>\n",
       "      <td>41.72</td>\n",
       "      <td>-87.67</td>\n",
       "      <td>9</td>\n",
       "      <td>71.0</td>\n",
       "      <td>13.0</td>\n",
       "      <td>0.0</td>\n",
       "      <td>0.72</td>\n",
       "      <td>29.78</td>\n",
       "      <td>17</td>\n",
       "      <td>7.9</td>\n",
       "      <td>75.86</td>\n",
       "      <td>11.72</td>\n",
       "      <td>5.82</td>\n",
       "      <td>17.53</td>\n",
       "      <td>CULEX TERRITANS</td>\n",
       "      <td>094</td>\n",
       "      <td>10</td>\n",
       "      <td>2</td>\n",
       "      <td>TSRA RA BR</td>\n",
       "    </tr>\n",
       "    <tr>\n",
       "      <th>116290</th>\n",
       "      <td>41.72</td>\n",
       "      <td>-87.67</td>\n",
       "      <td>9</td>\n",
       "      <td>71.0</td>\n",
       "      <td>13.0</td>\n",
       "      <td>0.0</td>\n",
       "      <td>0.72</td>\n",
       "      <td>29.78</td>\n",
       "      <td>17</td>\n",
       "      <td>7.9</td>\n",
       "      <td>75.86</td>\n",
       "      <td>11.72</td>\n",
       "      <td>5.82</td>\n",
       "      <td>17.53</td>\n",
       "      <td>CULEX TARSALIS</td>\n",
       "      <td>094</td>\n",
       "      <td>10</td>\n",
       "      <td>2</td>\n",
       "      <td>TSRA RA BR</td>\n",
       "    </tr>\n",
       "    <tr>\n",
       "      <th>116291</th>\n",
       "      <td>41.72</td>\n",
       "      <td>-87.67</td>\n",
       "      <td>9</td>\n",
       "      <td>71.0</td>\n",
       "      <td>13.0</td>\n",
       "      <td>0.0</td>\n",
       "      <td>0.72</td>\n",
       "      <td>29.78</td>\n",
       "      <td>17</td>\n",
       "      <td>7.9</td>\n",
       "      <td>75.86</td>\n",
       "      <td>11.72</td>\n",
       "      <td>5.82</td>\n",
       "      <td>17.53</td>\n",
       "      <td>UNSPECIFIED CULEX</td>\n",
       "      <td>094</td>\n",
       "      <td>10</td>\n",
       "      <td>2</td>\n",
       "      <td>TSRA RA BR</td>\n",
       "    </tr>\n",
       "    <tr>\n",
       "      <th>116292</th>\n",
       "      <td>41.72</td>\n",
       "      <td>-87.67</td>\n",
       "      <td>9</td>\n",
       "      <td>71.0</td>\n",
       "      <td>13.0</td>\n",
       "      <td>0.0</td>\n",
       "      <td>0.72</td>\n",
       "      <td>29.78</td>\n",
       "      <td>17</td>\n",
       "      <td>7.9</td>\n",
       "      <td>75.86</td>\n",
       "      <td>11.72</td>\n",
       "      <td>5.82</td>\n",
       "      <td>17.53</td>\n",
       "      <td>CULEX ERRATICUS</td>\n",
       "      <td>094</td>\n",
       "      <td>10</td>\n",
       "      <td>2</td>\n",
       "      <td>TSRA RA BR</td>\n",
       "    </tr>\n",
       "  </tbody>\n",
       "</table>\n",
       "<p>116293 rows × 19 columns</p>\n",
       "</div>"
      ],
      "text/plain": [
       "        Latitude  Longitude  AddressAccuracy  Tavg  Depart  Heat  PrecipTotal  \\\n",
       "0          41.95     -87.80                9  74.0     7.0   0.0         0.00   \n",
       "1          41.95     -87.80                9  74.0     7.0   0.0         0.00   \n",
       "2          41.95     -87.80                9  74.0     7.0   0.0         0.00   \n",
       "3          41.95     -87.80                9  74.0     7.0   0.0         0.00   \n",
       "4          41.95     -87.80                9  74.0     7.0   0.0         0.00   \n",
       "...          ...        ...              ...   ...     ...   ...          ...   \n",
       "116288     41.72     -87.67                9  71.0    13.0   0.0         0.72   \n",
       "116289     41.72     -87.67                9  71.0    13.0   0.0         0.72   \n",
       "116290     41.72     -87.67                9  71.0    13.0   0.0         0.72   \n",
       "116291     41.72     -87.67                9  71.0    13.0   0.0         0.72   \n",
       "116292     41.72     -87.67                9  71.0    13.0   0.0         0.72   \n",
       "\n",
       "        SeaLevel  ResultDir  AvgSpeed  Humidity  Daylight_hours  Sunrise  \\\n",
       "0          29.99         18      10.0     53.41           15.17     4.27   \n",
       "1          29.99         18      10.0     53.41           15.17     4.27   \n",
       "2          29.99         18      10.0     53.41           15.17     4.27   \n",
       "3          29.99         18      10.0     53.41           15.17     4.27   \n",
       "4          29.99         18      10.0     53.41           15.17     4.27   \n",
       "...          ...        ...       ...       ...             ...      ...   \n",
       "116288     29.78         17       7.9     75.86           11.72     5.82   \n",
       "116289     29.78         17       7.9     75.86           11.72     5.82   \n",
       "116290     29.78         17       7.9     75.86           11.72     5.82   \n",
       "116291     29.78         17       7.9     75.86           11.72     5.82   \n",
       "116292     29.78         17       7.9     75.86           11.72     5.82   \n",
       "\n",
       "        Sunset                 Species Trap  Month  Day     CodeSum  \n",
       "0        19.43  CULEX PIPIENS/RESTUANS  002      6   11       Clear  \n",
       "1        19.43          CULEX RESTUANS  002      6   11       Clear  \n",
       "2        19.43           CULEX PIPIENS  002      6   11       Clear  \n",
       "3        19.43        CULEX SALINARIUS  002      6   11       Clear  \n",
       "4        19.43         CULEX TERRITANS  002      6   11       Clear  \n",
       "...        ...                     ...  ...    ...  ...         ...  \n",
       "116288   17.53        CULEX SALINARIUS  094     10    2  TSRA RA BR  \n",
       "116289   17.53         CULEX TERRITANS  094     10    2  TSRA RA BR  \n",
       "116290   17.53          CULEX TARSALIS  094     10    2  TSRA RA BR  \n",
       "116291   17.53       UNSPECIFIED CULEX  094     10    2  TSRA RA BR  \n",
       "116292   17.53         CULEX ERRATICUS  094     10    2  TSRA RA BR  \n",
       "\n",
       "[116293 rows x 19 columns]"
      ]
     },
     "execution_count": 76,
     "metadata": {},
     "output_type": "execute_result"
    }
   ],
   "source": [
    "df_test[features]"
   ]
  },
  {
   "cell_type": "code",
   "execution_count": 77,
   "metadata": {
    "cell_id": "089666933639418885d5eb294f4004a9",
    "deepnote_cell_type": "code",
    "deepnote_to_be_reexecuted": true,
    "source_hash": "6115b236"
   },
   "outputs": [],
   "source": [
    "# results = best_model.predict(df_test[features])\n",
    "\n",
    "# results = ada_best.predict(df_test[features])\n",
    "\n",
    "results = pd.Series(np.where(best_model.predict_proba(df_test[features])[:,1] >= threshold_max, 1, 0), \n",
    "                     dtype='category')"
   ]
  },
  {
   "cell_type": "code",
   "execution_count": 78,
   "metadata": {
    "cell_id": "9f02d32d869748ea995f32ff169b2211",
    "deepnote_cell_type": "code",
    "deepnote_to_be_reexecuted": true,
    "source_hash": "3601ff24"
   },
   "outputs": [],
   "source": [
    "def create_predictions(predictions, filename):\n",
    "    if not os.path.isdir('../output'):\n",
    "        os.mkdir('../output')\n",
    "    \n",
    "    if not os.path.isfile(f'../output/{filename}.csv'):\n",
    "        results_df = pd.DataFrame(predictions)\n",
    "        results_df.insert(0, column='id', value=range(1, len(predictions)+1))\n",
    "        results_df.to_csv(f\"../output/{filename}.csv\", header=[\"Id\", \"WnvPresent\"], index=False)\n",
    "    else:\n",
    "        raise NameError(f'{filename}.csv already exists!')"
   ]
  },
  {
   "cell_type": "code",
   "execution_count": 80,
   "metadata": {},
   "outputs": [],
   "source": [
    "output_filename = 'predictions_20'\n",
    "\n",
    "create_predictions(results, output_filename)"
   ]
  },
  {
   "cell_type": "code",
   "execution_count": 81,
   "metadata": {},
   "outputs": [
    {
     "ename": "AttributeError",
     "evalue": "'Series' object has no attribute 'display'",
     "output_type": "error",
     "traceback": [
      "\u001b[1;31m---------------------------------------------------------------------------\u001b[0m",
      "\u001b[1;31mAttributeError\u001b[0m                            Traceback (most recent call last)",
      "\u001b[1;32m~\\AppData\\Local\\Temp\\ipykernel_20568\\2709597708.py\u001b[0m in \u001b[0;36m<module>\u001b[1;34m\u001b[0m\n\u001b[1;32m----> 1\u001b[1;33m \u001b[0mresults\u001b[0m\u001b[1;33m.\u001b[0m\u001b[0mdisplay\u001b[0m\u001b[1;33m(\u001b[0m\u001b[1;33m)\u001b[0m \u001b[1;31m#.to_csv(f'../output/params_{output_filename}.csv', index=False)\u001b[0m\u001b[1;33m\u001b[0m\u001b[1;33m\u001b[0m\u001b[0m\n\u001b[0m",
      "\u001b[1;32mc:\\Users\\brkit\\Anaconda3\\lib\\site-packages\\pandas\\core\\generic.py\u001b[0m in \u001b[0;36m__getattr__\u001b[1;34m(self, name)\u001b[0m\n\u001b[0;32m   5573\u001b[0m         ):\n\u001b[0;32m   5574\u001b[0m             \u001b[1;32mreturn\u001b[0m \u001b[0mself\u001b[0m\u001b[1;33m[\u001b[0m\u001b[0mname\u001b[0m\u001b[1;33m]\u001b[0m\u001b[1;33m\u001b[0m\u001b[1;33m\u001b[0m\u001b[0m\n\u001b[1;32m-> 5575\u001b[1;33m         \u001b[1;32mreturn\u001b[0m \u001b[0mobject\u001b[0m\u001b[1;33m.\u001b[0m\u001b[0m__getattribute__\u001b[0m\u001b[1;33m(\u001b[0m\u001b[0mself\u001b[0m\u001b[1;33m,\u001b[0m \u001b[0mname\u001b[0m\u001b[1;33m)\u001b[0m\u001b[1;33m\u001b[0m\u001b[1;33m\u001b[0m\u001b[0m\n\u001b[0m\u001b[0;32m   5576\u001b[0m \u001b[1;33m\u001b[0m\u001b[0m\n\u001b[0;32m   5577\u001b[0m     \u001b[1;32mdef\u001b[0m \u001b[0m__setattr__\u001b[0m\u001b[1;33m(\u001b[0m\u001b[0mself\u001b[0m\u001b[1;33m,\u001b[0m \u001b[0mname\u001b[0m\u001b[1;33m:\u001b[0m \u001b[0mstr\u001b[0m\u001b[1;33m,\u001b[0m \u001b[0mvalue\u001b[0m\u001b[1;33m)\u001b[0m \u001b[1;33m->\u001b[0m \u001b[1;32mNone\u001b[0m\u001b[1;33m:\u001b[0m\u001b[1;33m\u001b[0m\u001b[1;33m\u001b[0m\u001b[0m\n",
      "\u001b[1;31mAttributeError\u001b[0m: 'Series' object has no attribute 'display'"
     ]
    }
   ],
   "source": [
    "results.display() #.to_csv(f'../output/params_{output_filename}.csv', index=False)"
   ]
  }
 ],
 "metadata": {
  "kernelspec": {
   "display_name": "Python 3 (ipykernel)",
   "language": "python",
   "name": "python3"
  },
  "language_info": {
   "codemirror_mode": {
    "name": "ipython",
    "version": 3
   },
   "file_extension": ".py",
   "mimetype": "text/x-python",
   "name": "python",
   "nbconvert_exporter": "python",
   "pygments_lexer": "ipython3",
   "version": "3.9.13"
  },
  "vscode": {
   "interpreter": {
    "hash": "1b28ad9899eefd279686690bace4d41fa3fa7d0cff5719534f58e9a7031f3ffc"
   }
  }
 },
 "nbformat": 4,
 "nbformat_minor": 1
}
