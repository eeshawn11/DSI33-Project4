{
 "cells": [
  {
   "cell_type": "markdown",
   "metadata": {
    "cell_id": "f96abd16122146b797d16aaa0f1ee71b",
    "deepnote_cell_type": "markdown"
   },
   "source": [
    "# Modelling"
   ]
  },
  {
   "cell_type": "code",
   "execution_count": 1,
   "metadata": {
    "cell_id": "31251000c0c54cfea5e3cabad32b523e",
    "deepnote_cell_type": "code",
    "deepnote_to_be_reexecuted": false,
    "execution_millis": 932,
    "execution_start": 1670551613652,
    "source_hash": "476ca060"
   },
   "outputs": [],
   "source": [
    "import pandas as pd\n",
    "import numpy as np\n",
    "import re\n",
    "import time\n",
    "import os\n",
    "\n",
    "from sklearn.preprocessing import StandardScaler, OneHotEncoder, MinMaxScaler\n",
    "from sklearn.model_selection import train_test_split, cross_val_score, GridSearchCV\n",
    "from sklearn.metrics import confusion_matrix, classification_report\n",
    "from sklearn.compose import ColumnTransformer\n",
    "from sklearn.linear_model import Perceptron, LogisticRegression, RidgeClassifier\n",
    "from sklearn.ensemble import RandomForestClassifier, AdaBoostClassifier, GradientBoostingClassifier, VotingClassifier\n",
    "from sklearn.neighbors import KNeighborsClassifier\n",
    "\n",
    "from imblearn.combine import SMOTETomek\n",
    "from imblearn.pipeline import Pipeline\n",
    "\n",
    "rng = np.random.RandomState(42)\n",
    "\n",
    "# from keras import Sequential\n",
    "# from keras.layers import Dense\n",
    "\n",
    "import warnings\n",
    "warnings.filterwarnings('ignore') # hide warnings to avoid cluttering the notebook output"
   ]
  },
  {
   "cell_type": "code",
   "execution_count": 2,
   "metadata": {},
   "outputs": [],
   "source": [
    "class TimerError(Exception):\n",
    "    \"\"\"A custom exception used to report errors in use of Timer class\"\"\"\n",
    "\n",
    "class Timer:\n",
    "    def __init__(self):\n",
    "        self._start_time = None\n",
    "        self._elapsed_time = None\n",
    "\n",
    "    def start(self):\n",
    "        \"\"\"Start a new timer\"\"\"\n",
    "        if self._start_time is not None:\n",
    "            raise TimerError(f\"Timer is running. Use .stop() to stop it\")\n",
    "\n",
    "        self._elapsed_time = None\n",
    "        self._start_time = time.perf_counter()\n",
    "\n",
    "    def stop(self):\n",
    "        \"\"\"Stop the timer, and report the elapsed time\"\"\"\n",
    "        if self._start_time is None:\n",
    "            raise TimerError(f\"Timer is not running. Use .start() to start it\")\n",
    "\n",
    "        self._elapsed_time = time.perf_counter() - self._start_time\n",
    "        self._start_time = None\n",
    "        print(f\"Elapsed time: {self._elapsed_time:0.4f} seconds\")\n",
    "\n",
    "    def duration(self):\n",
    "        \"\"\"Return the elapsed time from the timer.\"\"\"\n",
    "        if self._elapsed_time is None:\n",
    "            raise TimerError(f\"Timer has not run. Use .start() and .stop() to start and stop the timer.\")\n",
    "\n",
    "        return self._elapsed_time"
   ]
  },
  {
   "cell_type": "code",
   "execution_count": 3,
   "metadata": {
    "cell_id": "195f4763f16e47999fbf9d8c8652d351",
    "deepnote_cell_type": "code",
    "deepnote_to_be_reexecuted": false,
    "execution_millis": 25,
    "execution_start": 1670551614585,
    "source_hash": "abfd9979"
   },
   "outputs": [],
   "source": [
    "df = pd.read_csv('../assets/df_merge_final.csv')"
   ]
  },
  {
   "cell_type": "code",
   "execution_count": 4,
   "metadata": {},
   "outputs": [],
   "source": [
    "def create_dt_features(dataframe):\n",
    "    dataframe['daylight_duration'] = pd.to_timedelta(dataframe['daylight_duration'])\n",
    "    dataframe['Daylight_hours'] = dataframe['daylight_duration'].dt.total_seconds() / (60*60)\n",
    "    dataframe['Date'] = pd.to_datetime(dataframe['Date'])\n",
    "    dataframe['Month'] = dataframe['Date'].dt.month_name()\n",
    "    dataframe['Day'] = dataframe['Date'].dt.day_of_year\n",
    "    return dataframe"
   ]
  },
  {
   "cell_type": "code",
   "execution_count": 5,
   "metadata": {},
   "outputs": [],
   "source": [
    "df = create_dt_features(df)"
   ]
  },
  {
   "cell_type": "code",
   "execution_count": 6,
   "metadata": {},
   "outputs": [],
   "source": [
    "# specify features\n",
    "num_features = ['Latitude', 'Longitude', 'AddressAccuracy', 'Tavg', 'Depart',\n",
    "       'Heat', 'PrecipTotal', 'SeaLevel', 'ResultDir', 'AvgSpeed',\n",
    "       'Humidity', 'Daylight_hours', 'Day']\n",
    "cat_features = ['Species', 'CodeSum', 'Month']\n",
    "\n",
    "features = num_features + cat_features\n",
    "\n",
    "# define metric to optimise during GridSearch\n",
    "score_metric = 'roc_auc'"
   ]
  },
  {
   "cell_type": "code",
   "execution_count": 7,
   "metadata": {
    "cell_id": "df282cce65f74870b1b26d17b16e882a",
    "deepnote_cell_type": "code",
    "deepnote_to_be_reexecuted": false,
    "execution_millis": 1,
    "execution_start": 1670551614676,
    "source_hash": "f9a57dbf",
    "tags": []
   },
   "outputs": [],
   "source": [
    "X = df[features]\n",
    "y = df['WnvPresent']"
   ]
  },
  {
   "cell_type": "code",
   "execution_count": 8,
   "metadata": {
    "cell_id": "c002f9f29f5b469282bc7436c65d2bce",
    "deepnote_cell_type": "code",
    "deepnote_to_be_reexecuted": false,
    "execution_millis": 0,
    "execution_start": 1670551614695,
    "source_hash": "22ad61df"
   },
   "outputs": [],
   "source": [
    "X_train, X_test, y_train, y_test = train_test_split(X, y, test_size=0.4, random_state=rng, stratify=y)"
   ]
  },
  {
   "cell_type": "code",
   "execution_count": 9,
   "metadata": {
    "cell_id": "5ea9415a492849488bbfe0c08690b007",
    "deepnote_cell_type": "code",
    "deepnote_to_be_reexecuted": false,
    "execution_millis": 0,
    "execution_start": 1670551614696,
    "source_hash": "a0c1dd4b"
   },
   "outputs": [],
   "source": [
    "# Processing steps before modelling (standardisation, one hot encoding, over/under-sampling)\n",
    "standardize = MinMaxScaler(feature_range=(0, 1))\n",
    "ohe = OneHotEncoder(drop='if_binary', handle_unknown='infrequent_if_exist')\n",
    "\n",
    "sample_smotetomek = SMOTETomek(random_state=rng, n_jobs=2)"
   ]
  },
  {
   "cell_type": "code",
   "execution_count": 10,
   "metadata": {
    "cell_id": "93ccb8bc1f7f48e59148607badf32567",
    "deepnote_cell_type": "code",
    "deepnote_to_be_reexecuted": false,
    "execution_millis": 2,
    "execution_start": 1670551614701,
    "source_hash": "16c4c255",
    "tags": []
   },
   "outputs": [],
   "source": [
    "# WORKING FILE\n",
    "# perceptron = Perceptron(random_state=42)\n",
    "\n",
    "# model = Sequential()\n",
    "# model.add(Dense(50, input_dim=53, activation='relu')) # input\n",
    "# model.add(Dense(100, activation='relu')) # hidden\n",
    "# model.add(Dense(50, activation='relu'))  # hidden\n",
    "# model.add(Dense(1, activation='sigmoid'))\n",
    "# model.compile(loss=\"binary_crossentropy\", optimizer=\"adam\", metrics=['binary_crossentropy']) \n"
   ]
  },
  {
   "cell_type": "code",
   "execution_count": 11,
   "metadata": {
    "cell_id": "68b7851640eb427a9d654c1ea7eedce8",
    "deepnote_cell_type": "code",
    "deepnote_to_be_reexecuted": false,
    "execution_millis": 2,
    "execution_start": 1670551614703,
    "source_hash": "5cf5fc15",
    "tags": []
   },
   "outputs": [],
   "source": [
    "# Instantiating models for classification\n",
    "lr = LogisticRegression(max_iter=200, random_state=rng)\n",
    "rc = RidgeClassifier(random_state=rng)\n",
    "knn = KNeighborsClassifier()\n",
    "pct = Perceptron(random_state=rng)\n",
    "rf = RandomForestClassifier(n_estimators=200, random_state=rng)\n",
    "ada = AdaBoostClassifier(random_state=rng)\n",
    "gbc = GradientBoostingClassifier(random_state=rng)"
   ]
  },
  {
   "cell_type": "code",
   "execution_count": 12,
   "metadata": {
    "cell_id": "0939d8a01a0448678a1276cd0609d252",
    "deepnote_cell_type": "code",
    "deepnote_to_be_reexecuted": false,
    "execution_millis": 0,
    "execution_start": 1670551614725,
    "source_hash": "6ad5492e",
    "tags": []
   },
   "outputs": [],
   "source": [
    "lr_params = {\n",
    "    'clf__solver': ['liblinear'],\n",
    "    'clf__C': [100, 10, 1.0, 0.1, 0.01],\n",
    "}\n",
    "\n",
    "rc_params = {\n",
    "    'clf__alpha': [0.1, 0.2, 0.3, 0.4, 0.5, 0.6, 0.7, 0.8, 0.9, 1.0]   \n",
    "}\n",
    "\n",
    "knn_params = {\n",
    "    'clf__n_neighbors': [3, 5, 9, 15],\n",
    "    'clf__weights': ['uniform', 'distance']\n",
    "}\n",
    "\n",
    "pct_params = {\n",
    "    'clf__penalty': [None, 'l1', 'l2' 'elasticnet'],\n",
    "    'clf__class_weight': [None, 'balanced']\n",
    "}\n",
    "\n",
    "rf_params = {\n",
    "    'clf__ccp_alpha': [0.0, 0.01, 0.1],\n",
    "    'clf__max_features': ['sqrt', 'log2']\n",
    "}\n",
    "\n",
    "ada_params = {\n",
    "    'clf__learning_rate': [1.0, 2.0, 10]\n",
    "}\n",
    "\n",
    "gbc_params = {\n",
    "    'clf__learning_rate': [0.001, 0.01, 0.1],\n",
    "    'clf__subsample': [0.5, 0.7, 1.0],\n",
    "    'clf__max_depth': [3, 7, 9],\n",
    "}"
   ]
  },
  {
   "cell_type": "code",
   "execution_count": 13,
   "metadata": {
    "cell_id": "14da313bbaaa486bb63cdf9eea81c6c8",
    "deepnote_cell_type": "code",
    "deepnote_to_be_reexecuted": false,
    "execution_millis": 0,
    "execution_start": 1670551614726,
    "source_hash": "b986dea6"
   },
   "outputs": [],
   "source": [
    "col_transform = ColumnTransformer([\n",
    "    ('ss', standardize, num_features),\n",
    "    ('ohe', ohe, cat_features),\n",
    "], remainder='drop'\n",
    ")"
   ]
  },
  {
   "cell_type": "code",
   "execution_count": 14,
   "metadata": {},
   "outputs": [],
   "source": [
    "model_dict = {\n",
    "    'model_list': [],\n",
    "    'mean_train_score': [],\n",
    "    'mean_test_score': [],\n",
    "    'best_params': [],\n",
    "    'runtime': []\n",
    "}"
   ]
  },
  {
   "cell_type": "code",
   "execution_count": 15,
   "metadata": {
    "cell_id": "c51fa59dd9074b0c9aee057f4ff60157",
    "deepnote_cell_type": "code",
    "deepnote_to_be_reexecuted": false,
    "execution_millis": 0,
    "execution_start": 1670551614726,
    "source_hash": "c5615a52",
    "tags": []
   },
   "outputs": [],
   "source": [
    "# run pipe, fit params and return best estimator\n",
    "def run_pipe(clf, pipe_params):\n",
    "    t = Timer()\n",
    "    model_name = re.match(r'^(\\w+)(?=\\()', str(clf)).group()\n",
    "    print(f\"Fitting {model_name}\")\n",
    "\n",
    "    # create pipe\n",
    "    pipe = Pipeline([\n",
    "        ('transform', col_transform),\n",
    "        ('sample', sample_smotetomek),\n",
    "        ('clf', clf)\n",
    "    ])\n",
    "    \n",
    "    \n",
    "    # create GridSearchCV\n",
    "    grid = GridSearchCV(\n",
    "        estimator = pipe,\n",
    "        param_grid = pipe_params,\n",
    "        scoring = score_metric,\n",
    "        n_jobs = -3,\n",
    "        cv = 3,\n",
    "        verbose = 1,\n",
    "        error_score=0\n",
    "    )\n",
    "\n",
    "    t.start()\n",
    "    grid.fit(X_train, y_train)\n",
    "    t.stop()\n",
    "    \n",
    "    test_score = cross_val_score(grid.best_estimator_, X_test, y_test, scoring=score_metric, cv=3, n_jobs=-3)\n",
    "    # store average scores\n",
    "    model_dict['model_list'].append(model_name)\n",
    "    model_dict['mean_train_score'].append(grid.best_score_)\n",
    "    model_dict['mean_test_score'].append(test_score.mean())\n",
    "    model_dict['best_params'].append(grid.best_params_)\n",
    "    model_dict['runtime'].append(t.duration())\n",
    "\n",
    "    print(\"Best Score: \", grid.best_score_)\n",
    "    print(\"Best Params: \", grid.best_params_)\n",
    "    print()\n",
    "    return grid.best_estimator_"
   ]
  },
  {
   "cell_type": "code",
   "execution_count": 16,
   "metadata": {
    "cell_id": "aa66a7d464524c909017dc4ef49aa773",
    "deepnote_cell_type": "code",
    "deepnote_to_be_reexecuted": false,
    "execution_millis": 1,
    "execution_start": 1670551614729,
    "source_hash": "ed2c8b67",
    "tags": []
   },
   "outputs": [],
   "source": [
    "# create table with model performance results\n",
    "def table_model_results():\n",
    "    model_performance = pd.DataFrame(model_dict)\n",
    "    \n",
    "    model_performance.insert(\n",
    "        loc = 3,\n",
    "        column = 'score_delta',\n",
    "        value = abs(model_performance['mean_train_score'] - model_performance['mean_test_score'])\n",
    "        )\n",
    "\n",
    "    return model_performance.sort_values(by=\"mean_train_score\", ascending=False).round({'mean_train_score': 4, 'mean_test_score':4, 'score_delta':4, 'runtime': 2})"
   ]
  },
  {
   "cell_type": "code",
   "execution_count": 17,
   "metadata": {},
   "outputs": [
    {
     "name": "stdout",
     "output_type": "stream",
     "text": [
      "Fitting LogisticRegression\n",
      "Fitting 3 folds for each of 5 candidates, totalling 15 fits\n",
      "Elapsed time: 23.6461 seconds\n",
      "Best Score:  0.8236324909584477\n",
      "Best Params:  {'clf__C': 10, 'clf__solver': 'liblinear'}\n",
      "\n"
     ]
    }
   ],
   "source": [
    "lr_best = run_pipe(lr, lr_params)"
   ]
  },
  {
   "cell_type": "code",
   "execution_count": 18,
   "metadata": {},
   "outputs": [
    {
     "name": "stdout",
     "output_type": "stream",
     "text": [
      "Fitting RidgeClassifier\n",
      "Fitting 3 folds for each of 10 candidates, totalling 30 fits\n",
      "Elapsed time: 29.1371 seconds\n",
      "Best Score:  0.8170834727337734\n",
      "Best Params:  {'clf__alpha': 0.9}\n",
      "\n"
     ]
    }
   ],
   "source": [
    "rc_best = run_pipe(rc, rc_params)"
   ]
  },
  {
   "cell_type": "code",
   "execution_count": 19,
   "metadata": {},
   "outputs": [
    {
     "name": "stdout",
     "output_type": "stream",
     "text": [
      "Fitting KNeighborsClassifier\n",
      "Fitting 3 folds for each of 8 candidates, totalling 24 fits\n",
      "Elapsed time: 28.5399 seconds\n",
      "Best Score:  0.7929891958696201\n",
      "Best Params:  {'clf__n_neighbors': 15, 'clf__weights': 'uniform'}\n",
      "\n"
     ]
    }
   ],
   "source": [
    "knn_best = run_pipe(knn, knn_params)"
   ]
  },
  {
   "cell_type": "code",
   "execution_count": 20,
   "metadata": {
    "cell_id": "23aa8daa93054cfd9c21b7369c753f5b",
    "deepnote_cell_type": "code",
    "deepnote_to_be_reexecuted": false,
    "execution_millis": 5,
    "execution_start": 1670551614733,
    "source_hash": "187cd43f",
    "tags": []
   },
   "outputs": [
    {
     "name": "stdout",
     "output_type": "stream",
     "text": [
      "Fitting Perceptron\n",
      "Fitting 3 folds for each of 6 candidates, totalling 18 fits\n",
      "Elapsed time: 21.5490 seconds\n",
      "Best Score:  0.8052279679750282\n",
      "Best Params:  {'clf__class_weight': None, 'clf__penalty': None}\n",
      "\n"
     ]
    }
   ],
   "source": [
    "pct_best = run_pipe(pct, pct_params)"
   ]
  },
  {
   "cell_type": "code",
   "execution_count": 21,
   "metadata": {
    "cell_id": "a92af20005a749049d1c126cc67318a6",
    "deepnote_cell_type": "code",
    "deepnote_to_be_reexecuted": false,
    "execution_millis": 5,
    "execution_start": 1670551614739,
    "source_hash": "ad166d04",
    "tags": []
   },
   "outputs": [
    {
     "name": "stdout",
     "output_type": "stream",
     "text": [
      "Fitting RandomForestClassifier\n",
      "Fitting 3 folds for each of 6 candidates, totalling 18 fits\n",
      "Elapsed time: 64.4267 seconds\n",
      "Best Score:  0.8134973836429381\n",
      "Best Params:  {'clf__ccp_alpha': 0.01, 'clf__max_features': 'sqrt'}\n",
      "\n"
     ]
    }
   ],
   "source": [
    "rf_best = run_pipe(rf, rf_params)"
   ]
  },
  {
   "cell_type": "code",
   "execution_count": 22,
   "metadata": {
    "cell_id": "5b7c499380444c2db5904e1643b4bacb",
    "deepnote_cell_type": "code",
    "deepnote_to_be_reexecuted": false,
    "execution_millis": 4,
    "execution_start": 1670551614759,
    "source_hash": "8911531d",
    "tags": []
   },
   "outputs": [
    {
     "name": "stdout",
     "output_type": "stream",
     "text": [
      "Fitting AdaBoostClassifier\n",
      "Fitting 3 folds for each of 3 candidates, totalling 9 fits\n",
      "Elapsed time: 16.3228 seconds\n",
      "Best Score:  0.8169208058881186\n",
      "Best Params:  {'clf__learning_rate': 1.0}\n",
      "\n"
     ]
    }
   ],
   "source": [
    "ada_best = run_pipe(ada, ada_params)"
   ]
  },
  {
   "cell_type": "code",
   "execution_count": 23,
   "metadata": {
    "cell_id": "79bb11a6463d45548d77ad6ad69b9a6e",
    "deepnote_cell_type": "code",
    "deepnote_to_be_reexecuted": false,
    "execution_millis": 1,
    "execution_start": 1670551614765,
    "source_hash": "8f961823",
    "tags": []
   },
   "outputs": [
    {
     "name": "stdout",
     "output_type": "stream",
     "text": [
      "Fitting GradientBoostingClassifier\n",
      "Fitting 3 folds for each of 27 candidates, totalling 81 fits\n",
      "Elapsed time: 154.4913 seconds\n",
      "Best Score:  0.829426360347667\n",
      "Best Params:  {'clf__learning_rate': 0.1, 'clf__max_depth': 3, 'clf__subsample': 0.7}\n",
      "\n"
     ]
    }
   ],
   "source": [
    "gbc_best = run_pipe(gbc, gbc_params)"
   ]
  },
  {
   "cell_type": "code",
   "execution_count": 24,
   "metadata": {
    "cell_id": "16e54354b94946ad88e3b2c657a8e1b7",
    "deepnote_cell_type": "code",
    "deepnote_to_be_reexecuted": false,
    "execution_millis": 26,
    "execution_start": 1670551614769,
    "source_hash": "c3834e6e",
    "tags": []
   },
   "outputs": [
    {
     "data": {
      "text/html": [
       "<div>\n",
       "<style scoped>\n",
       "    .dataframe tbody tr th:only-of-type {\n",
       "        vertical-align: middle;\n",
       "    }\n",
       "\n",
       "    .dataframe tbody tr th {\n",
       "        vertical-align: top;\n",
       "    }\n",
       "\n",
       "    .dataframe thead th {\n",
       "        text-align: right;\n",
       "    }\n",
       "</style>\n",
       "<table border=\"1\" class=\"dataframe\">\n",
       "  <thead>\n",
       "    <tr style=\"text-align: right;\">\n",
       "      <th></th>\n",
       "      <th>model_list</th>\n",
       "      <th>mean_train_score</th>\n",
       "      <th>mean_test_score</th>\n",
       "      <th>score_delta</th>\n",
       "      <th>best_params</th>\n",
       "      <th>runtime</th>\n",
       "    </tr>\n",
       "  </thead>\n",
       "  <tbody>\n",
       "    <tr>\n",
       "      <th>6</th>\n",
       "      <td>GradientBoostingClassifier</td>\n",
       "      <td>0.8294</td>\n",
       "      <td>0.7777</td>\n",
       "      <td>0.0517</td>\n",
       "      <td>{'clf__learning_rate': 0.1, 'clf__max_depth': ...</td>\n",
       "      <td>154.49</td>\n",
       "    </tr>\n",
       "    <tr>\n",
       "      <th>0</th>\n",
       "      <td>LogisticRegression</td>\n",
       "      <td>0.8236</td>\n",
       "      <td>0.7684</td>\n",
       "      <td>0.0552</td>\n",
       "      <td>{'clf__C': 10, 'clf__solver': 'liblinear'}</td>\n",
       "      <td>23.65</td>\n",
       "    </tr>\n",
       "    <tr>\n",
       "      <th>1</th>\n",
       "      <td>RidgeClassifier</td>\n",
       "      <td>0.8171</td>\n",
       "      <td>0.7589</td>\n",
       "      <td>0.0582</td>\n",
       "      <td>{'clf__alpha': 0.9}</td>\n",
       "      <td>29.14</td>\n",
       "    </tr>\n",
       "    <tr>\n",
       "      <th>5</th>\n",
       "      <td>AdaBoostClassifier</td>\n",
       "      <td>0.8169</td>\n",
       "      <td>0.7702</td>\n",
       "      <td>0.0468</td>\n",
       "      <td>{'clf__learning_rate': 1.0}</td>\n",
       "      <td>16.32</td>\n",
       "    </tr>\n",
       "    <tr>\n",
       "      <th>4</th>\n",
       "      <td>RandomForestClassifier</td>\n",
       "      <td>0.8135</td>\n",
       "      <td>0.7825</td>\n",
       "      <td>0.0310</td>\n",
       "      <td>{'clf__ccp_alpha': 0.01, 'clf__max_features': ...</td>\n",
       "      <td>64.43</td>\n",
       "    </tr>\n",
       "    <tr>\n",
       "      <th>3</th>\n",
       "      <td>Perceptron</td>\n",
       "      <td>0.8052</td>\n",
       "      <td>0.7489</td>\n",
       "      <td>0.0563</td>\n",
       "      <td>{'clf__class_weight': None, 'clf__penalty': None}</td>\n",
       "      <td>21.55</td>\n",
       "    </tr>\n",
       "    <tr>\n",
       "      <th>2</th>\n",
       "      <td>KNeighborsClassifier</td>\n",
       "      <td>0.7930</td>\n",
       "      <td>0.7330</td>\n",
       "      <td>0.0600</td>\n",
       "      <td>{'clf__n_neighbors': 15, 'clf__weights': 'unif...</td>\n",
       "      <td>28.54</td>\n",
       "    </tr>\n",
       "  </tbody>\n",
       "</table>\n",
       "</div>"
      ],
      "text/plain": [
       "                   model_list  mean_train_score  mean_test_score  score_delta  \\\n",
       "6  GradientBoostingClassifier            0.8294           0.7777       0.0517   \n",
       "0          LogisticRegression            0.8236           0.7684       0.0552   \n",
       "1             RidgeClassifier            0.8171           0.7589       0.0582   \n",
       "5          AdaBoostClassifier            0.8169           0.7702       0.0468   \n",
       "4      RandomForestClassifier            0.8135           0.7825       0.0310   \n",
       "3                  Perceptron            0.8052           0.7489       0.0563   \n",
       "2        KNeighborsClassifier            0.7930           0.7330       0.0600   \n",
       "\n",
       "                                         best_params  runtime  \n",
       "6  {'clf__learning_rate': 0.1, 'clf__max_depth': ...   154.49  \n",
       "0         {'clf__C': 10, 'clf__solver': 'liblinear'}    23.65  \n",
       "1                                {'clf__alpha': 0.9}    29.14  \n",
       "5                        {'clf__learning_rate': 1.0}    16.32  \n",
       "4  {'clf__ccp_alpha': 0.01, 'clf__max_features': ...    64.43  \n",
       "3  {'clf__class_weight': None, 'clf__penalty': None}    21.55  \n",
       "2  {'clf__n_neighbors': 15, 'clf__weights': 'unif...    28.54  "
      ]
     },
     "execution_count": 24,
     "metadata": {},
     "output_type": "execute_result"
    }
   ],
   "source": [
    "table_model_results()"
   ]
  },
  {
   "cell_type": "code",
   "execution_count": 25,
   "metadata": {
    "cell_id": "3d077543da5741ba9a33727305db1e32",
    "deepnote_cell_type": "code",
    "deepnote_to_be_reexecuted": false,
    "execution_millis": 2,
    "execution_start": 1670552986824,
    "source_hash": "7e4528f9",
    "tags": []
   },
   "outputs": [],
   "source": [
    "# create VotingClassifier ensemble with best performing classifiers\n",
    "voting_clf = VotingClassifier([\n",
    "    ('LogReg', lr),\n",
    "#     ('Ridge', rc),\n",
    "    ('AdaBoost', ada)\n",
    "])\n",
    "\n",
    "voting_params = {\n",
    "    'sample__sampling_strategy': ['auto', 0.1, 0.2, 0.3],\n",
    "    'clf__voting': ['hard', 'soft'],\n",
    "    'clf__LogReg__solver': ['liblinear'],\n",
    "    'clf__LogReg__C': [100, 10, 1.0, 0.1, 0.01],\n",
    "#     'clf__Ridge__alpha': [0.1, 0.2, 0.3, 0.4, 0.5, 0.6, 0.7, 0.8, 0.9, 1.0]   \n",
    "}"
   ]
  },
  {
   "cell_type": "code",
   "execution_count": 26,
   "metadata": {
    "cell_id": "005373c33c9d435daf02555821ef357d",
    "deepnote_cell_type": "code",
    "deepnote_to_be_reexecuted": false,
    "execution_millis": 132,
    "execution_start": 1670552989018,
    "source_hash": "506a2374"
   },
   "outputs": [
    {
     "name": "stdout",
     "output_type": "stream",
     "text": [
      "Fitting VotingClassifier\n",
      "Fitting 3 folds for each of 40 candidates, totalling 120 fits\n",
      "Elapsed time: 56.6272 seconds\n",
      "Best Score:  0.8266402163730341\n",
      "Best Params:  {'clf__LogReg__C': 100, 'clf__LogReg__solver': 'liblinear', 'clf__voting': 'soft', 'sample__sampling_strategy': 0.3}\n",
      "\n"
     ]
    }
   ],
   "source": [
    "voting_best = run_pipe(voting_clf, voting_params)"
   ]
  },
  {
   "cell_type": "code",
   "execution_count": 27,
   "metadata": {},
   "outputs": [
    {
     "data": {
      "text/html": [
       "<div>\n",
       "<style scoped>\n",
       "    .dataframe tbody tr th:only-of-type {\n",
       "        vertical-align: middle;\n",
       "    }\n",
       "\n",
       "    .dataframe tbody tr th {\n",
       "        vertical-align: top;\n",
       "    }\n",
       "\n",
       "    .dataframe thead th {\n",
       "        text-align: right;\n",
       "    }\n",
       "</style>\n",
       "<table border=\"1\" class=\"dataframe\">\n",
       "  <thead>\n",
       "    <tr style=\"text-align: right;\">\n",
       "      <th></th>\n",
       "      <th>model_list</th>\n",
       "      <th>mean_train_score</th>\n",
       "      <th>mean_test_score</th>\n",
       "      <th>score_delta</th>\n",
       "      <th>best_params</th>\n",
       "      <th>runtime</th>\n",
       "    </tr>\n",
       "  </thead>\n",
       "  <tbody>\n",
       "    <tr>\n",
       "      <th>6</th>\n",
       "      <td>GradientBoostingClassifier</td>\n",
       "      <td>0.8294</td>\n",
       "      <td>0.7777</td>\n",
       "      <td>0.0517</td>\n",
       "      <td>{'clf__learning_rate': 0.1, 'clf__max_depth': ...</td>\n",
       "      <td>154.49</td>\n",
       "    </tr>\n",
       "    <tr>\n",
       "      <th>7</th>\n",
       "      <td>VotingClassifier</td>\n",
       "      <td>0.8266</td>\n",
       "      <td>0.7701</td>\n",
       "      <td>0.0565</td>\n",
       "      <td>{'clf__LogReg__C': 100, 'clf__LogReg__solver':...</td>\n",
       "      <td>56.63</td>\n",
       "    </tr>\n",
       "    <tr>\n",
       "      <th>0</th>\n",
       "      <td>LogisticRegression</td>\n",
       "      <td>0.8236</td>\n",
       "      <td>0.7684</td>\n",
       "      <td>0.0552</td>\n",
       "      <td>{'clf__C': 10, 'clf__solver': 'liblinear'}</td>\n",
       "      <td>23.65</td>\n",
       "    </tr>\n",
       "    <tr>\n",
       "      <th>1</th>\n",
       "      <td>RidgeClassifier</td>\n",
       "      <td>0.8171</td>\n",
       "      <td>0.7589</td>\n",
       "      <td>0.0582</td>\n",
       "      <td>{'clf__alpha': 0.9}</td>\n",
       "      <td>29.14</td>\n",
       "    </tr>\n",
       "    <tr>\n",
       "      <th>5</th>\n",
       "      <td>AdaBoostClassifier</td>\n",
       "      <td>0.8169</td>\n",
       "      <td>0.7702</td>\n",
       "      <td>0.0468</td>\n",
       "      <td>{'clf__learning_rate': 1.0}</td>\n",
       "      <td>16.32</td>\n",
       "    </tr>\n",
       "    <tr>\n",
       "      <th>4</th>\n",
       "      <td>RandomForestClassifier</td>\n",
       "      <td>0.8135</td>\n",
       "      <td>0.7825</td>\n",
       "      <td>0.0310</td>\n",
       "      <td>{'clf__ccp_alpha': 0.01, 'clf__max_features': ...</td>\n",
       "      <td>64.43</td>\n",
       "    </tr>\n",
       "    <tr>\n",
       "      <th>3</th>\n",
       "      <td>Perceptron</td>\n",
       "      <td>0.8052</td>\n",
       "      <td>0.7489</td>\n",
       "      <td>0.0563</td>\n",
       "      <td>{'clf__class_weight': None, 'clf__penalty': None}</td>\n",
       "      <td>21.55</td>\n",
       "    </tr>\n",
       "    <tr>\n",
       "      <th>2</th>\n",
       "      <td>KNeighborsClassifier</td>\n",
       "      <td>0.7930</td>\n",
       "      <td>0.7330</td>\n",
       "      <td>0.0600</td>\n",
       "      <td>{'clf__n_neighbors': 15, 'clf__weights': 'unif...</td>\n",
       "      <td>28.54</td>\n",
       "    </tr>\n",
       "  </tbody>\n",
       "</table>\n",
       "</div>"
      ],
      "text/plain": [
       "                   model_list  mean_train_score  mean_test_score  score_delta  \\\n",
       "6  GradientBoostingClassifier            0.8294           0.7777       0.0517   \n",
       "7            VotingClassifier            0.8266           0.7701       0.0565   \n",
       "0          LogisticRegression            0.8236           0.7684       0.0552   \n",
       "1             RidgeClassifier            0.8171           0.7589       0.0582   \n",
       "5          AdaBoostClassifier            0.8169           0.7702       0.0468   \n",
       "4      RandomForestClassifier            0.8135           0.7825       0.0310   \n",
       "3                  Perceptron            0.8052           0.7489       0.0563   \n",
       "2        KNeighborsClassifier            0.7930           0.7330       0.0600   \n",
       "\n",
       "                                         best_params  runtime  \n",
       "6  {'clf__learning_rate': 0.1, 'clf__max_depth': ...   154.49  \n",
       "7  {'clf__LogReg__C': 100, 'clf__LogReg__solver':...    56.63  \n",
       "0         {'clf__C': 10, 'clf__solver': 'liblinear'}    23.65  \n",
       "1                                {'clf__alpha': 0.9}    29.14  \n",
       "5                        {'clf__learning_rate': 1.0}    16.32  \n",
       "4  {'clf__ccp_alpha': 0.01, 'clf__max_features': ...    64.43  \n",
       "3  {'clf__class_weight': None, 'clf__penalty': None}    21.55  \n",
       "2  {'clf__n_neighbors': 15, 'clf__weights': 'unif...    28.54  "
      ]
     },
     "execution_count": 27,
     "metadata": {},
     "output_type": "execute_result"
    }
   ],
   "source": [
    "table_model_results()"
   ]
  },
  {
   "cell_type": "code",
   "execution_count": 28,
   "metadata": {
    "cell_id": "d1cef0a9162a4398958108b253f2008d",
    "deepnote_cell_type": "code",
    "deepnote_to_be_reexecuted": true,
    "execution_millis": 554,
    "execution_start": 1670548138224,
    "source_hash": "ed13f675"
   },
   "outputs": [
    {
     "name": "stdout",
     "output_type": "stream",
     "text": [
      "              precision    recall  f1-score   support\n",
      "\n",
      "           0       0.96      0.92      0.94      3983\n",
      "           1       0.20      0.38      0.26       220\n",
      "\n",
      "    accuracy                           0.89      4203\n",
      "   macro avg       0.58      0.65      0.60      4203\n",
      "weighted avg       0.92      0.89      0.90      4203\n",
      "\n"
     ]
    }
   ],
   "source": [
    "preds = voting_best.predict(X_test)\n",
    "print(classification_report(y_test, preds))"
   ]
  },
  {
   "cell_type": "code",
   "execution_count": 29,
   "metadata": {
    "scrolled": true
   },
   "outputs": [
    {
     "data": {
      "text/html": [
       "<style>#sk-container-id-1 {color: black;background-color: white;}#sk-container-id-1 pre{padding: 0;}#sk-container-id-1 div.sk-toggleable {background-color: white;}#sk-container-id-1 label.sk-toggleable__label {cursor: pointer;display: block;width: 100%;margin-bottom: 0;padding: 0.3em;box-sizing: border-box;text-align: center;}#sk-container-id-1 label.sk-toggleable__label-arrow:before {content: \"▸\";float: left;margin-right: 0.25em;color: #696969;}#sk-container-id-1 label.sk-toggleable__label-arrow:hover:before {color: black;}#sk-container-id-1 div.sk-estimator:hover label.sk-toggleable__label-arrow:before {color: black;}#sk-container-id-1 div.sk-toggleable__content {max-height: 0;max-width: 0;overflow: hidden;text-align: left;background-color: #f0f8ff;}#sk-container-id-1 div.sk-toggleable__content pre {margin: 0.2em;color: black;border-radius: 0.25em;background-color: #f0f8ff;}#sk-container-id-1 input.sk-toggleable__control:checked~div.sk-toggleable__content {max-height: 200px;max-width: 100%;overflow: auto;}#sk-container-id-1 input.sk-toggleable__control:checked~label.sk-toggleable__label-arrow:before {content: \"▾\";}#sk-container-id-1 div.sk-estimator input.sk-toggleable__control:checked~label.sk-toggleable__label {background-color: #d4ebff;}#sk-container-id-1 div.sk-label input.sk-toggleable__control:checked~label.sk-toggleable__label {background-color: #d4ebff;}#sk-container-id-1 input.sk-hidden--visually {border: 0;clip: rect(1px 1px 1px 1px);clip: rect(1px, 1px, 1px, 1px);height: 1px;margin: -1px;overflow: hidden;padding: 0;position: absolute;width: 1px;}#sk-container-id-1 div.sk-estimator {font-family: monospace;background-color: #f0f8ff;border: 1px dotted black;border-radius: 0.25em;box-sizing: border-box;margin-bottom: 0.5em;}#sk-container-id-1 div.sk-estimator:hover {background-color: #d4ebff;}#sk-container-id-1 div.sk-parallel-item::after {content: \"\";width: 100%;border-bottom: 1px solid gray;flex-grow: 1;}#sk-container-id-1 div.sk-label:hover label.sk-toggleable__label {background-color: #d4ebff;}#sk-container-id-1 div.sk-serial::before {content: \"\";position: absolute;border-left: 1px solid gray;box-sizing: border-box;top: 0;bottom: 0;left: 50%;z-index: 0;}#sk-container-id-1 div.sk-serial {display: flex;flex-direction: column;align-items: center;background-color: white;padding-right: 0.2em;padding-left: 0.2em;position: relative;}#sk-container-id-1 div.sk-item {position: relative;z-index: 1;}#sk-container-id-1 div.sk-parallel {display: flex;align-items: stretch;justify-content: center;background-color: white;position: relative;}#sk-container-id-1 div.sk-item::before, #sk-container-id-1 div.sk-parallel-item::before {content: \"\";position: absolute;border-left: 1px solid gray;box-sizing: border-box;top: 0;bottom: 0;left: 50%;z-index: -1;}#sk-container-id-1 div.sk-parallel-item {display: flex;flex-direction: column;z-index: 1;position: relative;background-color: white;}#sk-container-id-1 div.sk-parallel-item:first-child::after {align-self: flex-end;width: 50%;}#sk-container-id-1 div.sk-parallel-item:last-child::after {align-self: flex-start;width: 50%;}#sk-container-id-1 div.sk-parallel-item:only-child::after {width: 0;}#sk-container-id-1 div.sk-dashed-wrapped {border: 1px dashed gray;margin: 0 0.4em 0.5em 0.4em;box-sizing: border-box;padding-bottom: 0.4em;background-color: white;}#sk-container-id-1 div.sk-label label {font-family: monospace;font-weight: bold;display: inline-block;line-height: 1.2em;}#sk-container-id-1 div.sk-label-container {text-align: center;}#sk-container-id-1 div.sk-container {/* jupyter's `normalize.less` sets `[hidden] { display: none; }` but bootstrap.min.css set `[hidden] { display: none !important; }` so we also need the `!important` here to be able to override the default hidden behavior on the sphinx rendered scikit-learn.org. See: https://github.com/scikit-learn/scikit-learn/issues/21755 */display: inline-block !important;position: relative;}#sk-container-id-1 div.sk-text-repr-fallback {display: none;}</style><div id=\"sk-container-id-1\" class=\"sk-top-container\"><div class=\"sk-text-repr-fallback\"><pre>Pipeline(steps=[(&#x27;transform&#x27;,\n",
       "                 ColumnTransformer(transformers=[(&#x27;ss&#x27;, MinMaxScaler(),\n",
       "                                                  [&#x27;Latitude&#x27;, &#x27;Longitude&#x27;,\n",
       "                                                   &#x27;AddressAccuracy&#x27;, &#x27;Tavg&#x27;,\n",
       "                                                   &#x27;Depart&#x27;, &#x27;Heat&#x27;,\n",
       "                                                   &#x27;PrecipTotal&#x27;, &#x27;SeaLevel&#x27;,\n",
       "                                                   &#x27;ResultDir&#x27;, &#x27;AvgSpeed&#x27;,\n",
       "                                                   &#x27;Humidity&#x27;, &#x27;Daylight_hours&#x27;,\n",
       "                                                   &#x27;Day&#x27;]),\n",
       "                                                 (&#x27;ohe&#x27;,\n",
       "                                                  OneHotEncoder(drop=&#x27;if_binary&#x27;,\n",
       "                                                                handle_unknown=&#x27;infrequent_if_exist&#x27;),\n",
       "                                                  [&#x27;Species&#x27;, &#x27;CodeSum&#x27;,\n",
       "                                                   &#x27;Month&#x27;])])),\n",
       "                (&#x27;sample&#x27;,\n",
       "                 SMOTETomek(n_jobs=2,\n",
       "                            random_state=RandomState(MT19937) at 0x1DC3648C140,\n",
       "                            sampling_strategy=0.3)),\n",
       "                (&#x27;clf&#x27;,\n",
       "                 VotingClassifier(estimators=[(&#x27;LogReg&#x27;,\n",
       "                                               LogisticRegression(C=100,\n",
       "                                                                  max_iter=200,\n",
       "                                                                  random_state=RandomState(MT19937) at 0x1DC3648C240,\n",
       "                                                                  solver=&#x27;liblinear&#x27;)),\n",
       "                                              (&#x27;AdaBoost&#x27;,\n",
       "                                               AdaBoostClassifier(random_state=RandomState(MT19937) at 0x1DC3648C340))],\n",
       "                                  voting=&#x27;soft&#x27;))])</pre><b>In a Jupyter environment, please rerun this cell to show the HTML representation or trust the notebook. <br />On GitHub, the HTML representation is unable to render, please try loading this page with nbviewer.org.</b></div><div class=\"sk-container\" hidden><div class=\"sk-item sk-dashed-wrapped\"><div class=\"sk-label-container\"><div class=\"sk-label sk-toggleable\"><input class=\"sk-toggleable__control sk-hidden--visually\" id=\"sk-estimator-id-1\" type=\"checkbox\" ><label for=\"sk-estimator-id-1\" class=\"sk-toggleable__label sk-toggleable__label-arrow\">Pipeline</label><div class=\"sk-toggleable__content\"><pre>Pipeline(steps=[(&#x27;transform&#x27;,\n",
       "                 ColumnTransformer(transformers=[(&#x27;ss&#x27;, MinMaxScaler(),\n",
       "                                                  [&#x27;Latitude&#x27;, &#x27;Longitude&#x27;,\n",
       "                                                   &#x27;AddressAccuracy&#x27;, &#x27;Tavg&#x27;,\n",
       "                                                   &#x27;Depart&#x27;, &#x27;Heat&#x27;,\n",
       "                                                   &#x27;PrecipTotal&#x27;, &#x27;SeaLevel&#x27;,\n",
       "                                                   &#x27;ResultDir&#x27;, &#x27;AvgSpeed&#x27;,\n",
       "                                                   &#x27;Humidity&#x27;, &#x27;Daylight_hours&#x27;,\n",
       "                                                   &#x27;Day&#x27;]),\n",
       "                                                 (&#x27;ohe&#x27;,\n",
       "                                                  OneHotEncoder(drop=&#x27;if_binary&#x27;,\n",
       "                                                                handle_unknown=&#x27;infrequent_if_exist&#x27;),\n",
       "                                                  [&#x27;Species&#x27;, &#x27;CodeSum&#x27;,\n",
       "                                                   &#x27;Month&#x27;])])),\n",
       "                (&#x27;sample&#x27;,\n",
       "                 SMOTETomek(n_jobs=2,\n",
       "                            random_state=RandomState(MT19937) at 0x1DC3648C140,\n",
       "                            sampling_strategy=0.3)),\n",
       "                (&#x27;clf&#x27;,\n",
       "                 VotingClassifier(estimators=[(&#x27;LogReg&#x27;,\n",
       "                                               LogisticRegression(C=100,\n",
       "                                                                  max_iter=200,\n",
       "                                                                  random_state=RandomState(MT19937) at 0x1DC3648C240,\n",
       "                                                                  solver=&#x27;liblinear&#x27;)),\n",
       "                                              (&#x27;AdaBoost&#x27;,\n",
       "                                               AdaBoostClassifier(random_state=RandomState(MT19937) at 0x1DC3648C340))],\n",
       "                                  voting=&#x27;soft&#x27;))])</pre></div></div></div><div class=\"sk-serial\"><div class=\"sk-item sk-dashed-wrapped\"><div class=\"sk-label-container\"><div class=\"sk-label sk-toggleable\"><input class=\"sk-toggleable__control sk-hidden--visually\" id=\"sk-estimator-id-2\" type=\"checkbox\" ><label for=\"sk-estimator-id-2\" class=\"sk-toggleable__label sk-toggleable__label-arrow\">transform: ColumnTransformer</label><div class=\"sk-toggleable__content\"><pre>ColumnTransformer(transformers=[(&#x27;ss&#x27;, MinMaxScaler(),\n",
       "                                 [&#x27;Latitude&#x27;, &#x27;Longitude&#x27;, &#x27;AddressAccuracy&#x27;,\n",
       "                                  &#x27;Tavg&#x27;, &#x27;Depart&#x27;, &#x27;Heat&#x27;, &#x27;PrecipTotal&#x27;,\n",
       "                                  &#x27;SeaLevel&#x27;, &#x27;ResultDir&#x27;, &#x27;AvgSpeed&#x27;,\n",
       "                                  &#x27;Humidity&#x27;, &#x27;Daylight_hours&#x27;, &#x27;Day&#x27;]),\n",
       "                                (&#x27;ohe&#x27;,\n",
       "                                 OneHotEncoder(drop=&#x27;if_binary&#x27;,\n",
       "                                               handle_unknown=&#x27;infrequent_if_exist&#x27;),\n",
       "                                 [&#x27;Species&#x27;, &#x27;CodeSum&#x27;, &#x27;Month&#x27;])])</pre></div></div></div><div class=\"sk-parallel\"><div class=\"sk-parallel-item\"><div class=\"sk-item\"><div class=\"sk-label-container\"><div class=\"sk-label sk-toggleable\"><input class=\"sk-toggleable__control sk-hidden--visually\" id=\"sk-estimator-id-3\" type=\"checkbox\" ><label for=\"sk-estimator-id-3\" class=\"sk-toggleable__label sk-toggleable__label-arrow\">ss</label><div class=\"sk-toggleable__content\"><pre>[&#x27;Latitude&#x27;, &#x27;Longitude&#x27;, &#x27;AddressAccuracy&#x27;, &#x27;Tavg&#x27;, &#x27;Depart&#x27;, &#x27;Heat&#x27;, &#x27;PrecipTotal&#x27;, &#x27;SeaLevel&#x27;, &#x27;ResultDir&#x27;, &#x27;AvgSpeed&#x27;, &#x27;Humidity&#x27;, &#x27;Daylight_hours&#x27;, &#x27;Day&#x27;]</pre></div></div></div><div class=\"sk-serial\"><div class=\"sk-item\"><div class=\"sk-estimator sk-toggleable\"><input class=\"sk-toggleable__control sk-hidden--visually\" id=\"sk-estimator-id-4\" type=\"checkbox\" ><label for=\"sk-estimator-id-4\" class=\"sk-toggleable__label sk-toggleable__label-arrow\">MinMaxScaler</label><div class=\"sk-toggleable__content\"><pre>MinMaxScaler()</pre></div></div></div></div></div></div><div class=\"sk-parallel-item\"><div class=\"sk-item\"><div class=\"sk-label-container\"><div class=\"sk-label sk-toggleable\"><input class=\"sk-toggleable__control sk-hidden--visually\" id=\"sk-estimator-id-5\" type=\"checkbox\" ><label for=\"sk-estimator-id-5\" class=\"sk-toggleable__label sk-toggleable__label-arrow\">ohe</label><div class=\"sk-toggleable__content\"><pre>[&#x27;Species&#x27;, &#x27;CodeSum&#x27;, &#x27;Month&#x27;]</pre></div></div></div><div class=\"sk-serial\"><div class=\"sk-item\"><div class=\"sk-estimator sk-toggleable\"><input class=\"sk-toggleable__control sk-hidden--visually\" id=\"sk-estimator-id-6\" type=\"checkbox\" ><label for=\"sk-estimator-id-6\" class=\"sk-toggleable__label sk-toggleable__label-arrow\">OneHotEncoder</label><div class=\"sk-toggleable__content\"><pre>OneHotEncoder(drop=&#x27;if_binary&#x27;, handle_unknown=&#x27;infrequent_if_exist&#x27;)</pre></div></div></div></div></div></div></div></div><div class=\"sk-item\"><div class=\"sk-estimator sk-toggleable\"><input class=\"sk-toggleable__control sk-hidden--visually\" id=\"sk-estimator-id-7\" type=\"checkbox\" ><label for=\"sk-estimator-id-7\" class=\"sk-toggleable__label sk-toggleable__label-arrow\">SMOTETomek</label><div class=\"sk-toggleable__content\"><pre>SMOTETomek(n_jobs=2, random_state=RandomState(MT19937) at 0x1DC3648C140,\n",
       "           sampling_strategy=0.3)</pre></div></div></div><div class=\"sk-item sk-dashed-wrapped\"><div class=\"sk-label-container\"><div class=\"sk-label sk-toggleable\"><input class=\"sk-toggleable__control sk-hidden--visually\" id=\"sk-estimator-id-8\" type=\"checkbox\" ><label for=\"sk-estimator-id-8\" class=\"sk-toggleable__label sk-toggleable__label-arrow\">clf: VotingClassifier</label><div class=\"sk-toggleable__content\"><pre>VotingClassifier(estimators=[(&#x27;LogReg&#x27;,\n",
       "                              LogisticRegression(C=100, max_iter=200,\n",
       "                                                 random_state=RandomState(MT19937) at 0x1DC3648C240,\n",
       "                                                 solver=&#x27;liblinear&#x27;)),\n",
       "                             (&#x27;AdaBoost&#x27;,\n",
       "                              AdaBoostClassifier(random_state=RandomState(MT19937) at 0x1DC3648C340))],\n",
       "                 voting=&#x27;soft&#x27;)</pre></div></div></div><div class=\"sk-parallel\"><div class=\"sk-parallel-item\"><div class=\"sk-item\"><div class=\"sk-label-container\"><div class=\"sk-label sk-toggleable\"><label>LogReg</label></div></div><div class=\"sk-serial\"><div class=\"sk-item\"><div class=\"sk-estimator sk-toggleable\"><input class=\"sk-toggleable__control sk-hidden--visually\" id=\"sk-estimator-id-9\" type=\"checkbox\" ><label for=\"sk-estimator-id-9\" class=\"sk-toggleable__label sk-toggleable__label-arrow\">LogisticRegression</label><div class=\"sk-toggleable__content\"><pre>LogisticRegression(C=100, max_iter=200,\n",
       "                   random_state=RandomState(MT19937) at 0x1DC3648C240,\n",
       "                   solver=&#x27;liblinear&#x27;)</pre></div></div></div></div></div></div><div class=\"sk-parallel-item\"><div class=\"sk-item\"><div class=\"sk-label-container\"><div class=\"sk-label sk-toggleable\"><label>AdaBoost</label></div></div><div class=\"sk-serial\"><div class=\"sk-item\"><div class=\"sk-estimator sk-toggleable\"><input class=\"sk-toggleable__control sk-hidden--visually\" id=\"sk-estimator-id-10\" type=\"checkbox\" ><label for=\"sk-estimator-id-10\" class=\"sk-toggleable__label sk-toggleable__label-arrow\">AdaBoostClassifier</label><div class=\"sk-toggleable__content\"><pre>AdaBoostClassifier(random_state=RandomState(MT19937) at 0x1DC3648C340)</pre></div></div></div></div></div></div></div></div></div></div></div></div>"
      ],
      "text/plain": [
       "Pipeline(steps=[('transform',\n",
       "                 ColumnTransformer(transformers=[('ss', MinMaxScaler(),\n",
       "                                                  ['Latitude', 'Longitude',\n",
       "                                                   'AddressAccuracy', 'Tavg',\n",
       "                                                   'Depart', 'Heat',\n",
       "                                                   'PrecipTotal', 'SeaLevel',\n",
       "                                                   'ResultDir', 'AvgSpeed',\n",
       "                                                   'Humidity', 'Daylight_hours',\n",
       "                                                   'Day']),\n",
       "                                                 ('ohe',\n",
       "                                                  OneHotEncoder(drop='if_binary',\n",
       "                                                                handle_unknown='infrequent_if_exist'),\n",
       "                                                  ['Species', 'CodeSum',\n",
       "                                                   'Month'])])),\n",
       "                ('sample',\n",
       "                 SMOTETomek(n_jobs=2,\n",
       "                            random_state=RandomState(MT19937) at 0x1DC3648C140,\n",
       "                            sampling_strategy=0.3)),\n",
       "                ('clf',\n",
       "                 VotingClassifier(estimators=[('LogReg',\n",
       "                                               LogisticRegression(C=100,\n",
       "                                                                  max_iter=200,\n",
       "                                                                  random_state=RandomState(MT19937) at 0x1DC3648C240,\n",
       "                                                                  solver='liblinear')),\n",
       "                                              ('AdaBoost',\n",
       "                                               AdaBoostClassifier(random_state=RandomState(MT19937) at 0x1DC3648C340))],\n",
       "                                  voting='soft'))])"
      ]
     },
     "execution_count": 29,
     "metadata": {},
     "output_type": "execute_result"
    }
   ],
   "source": [
    "voting_best.fit(X, y)"
   ]
  },
  {
   "cell_type": "code",
   "execution_count": 30,
   "metadata": {
    "cell_id": "da2446db60a146cf80aa8cbc5a91280d",
    "deepnote_cell_type": "code",
    "deepnote_to_be_reexecuted": true,
    "source_hash": "a9239d02"
   },
   "outputs": [],
   "source": [
    "df_test = pd.read_csv('../assets/df_merge_test.csv')"
   ]
  },
  {
   "cell_type": "code",
   "execution_count": 31,
   "metadata": {},
   "outputs": [],
   "source": [
    "df_test = create_dt_features(df_test)"
   ]
  },
  {
   "cell_type": "code",
   "execution_count": 32,
   "metadata": {},
   "outputs": [],
   "source": [
    "df_index = pd.read_csv('../assets/test.csv')"
   ]
  },
  {
   "cell_type": "code",
   "execution_count": 33,
   "metadata": {
    "cell_id": "089666933639418885d5eb294f4004a9",
    "deepnote_cell_type": "code",
    "deepnote_to_be_reexecuted": true,
    "source_hash": "6115b236"
   },
   "outputs": [],
   "source": [
    "results = voting_best.predict(df_test[X.columns])"
   ]
  },
  {
   "cell_type": "code",
   "execution_count": 34,
   "metadata": {
    "cell_id": "9f02d32d869748ea995f32ff169b2211",
    "deepnote_cell_type": "code",
    "deepnote_to_be_reexecuted": true,
    "source_hash": "3601ff24"
   },
   "outputs": [],
   "source": [
    "def create_predictions(predictions, filename):\n",
    "    if not os.path.isdir('../output'):\n",
    "        os.mkdir('../output')\n",
    "    \n",
    "    results_df = df_index[[\"Id\"]].merge(\n",
    "        pd.DataFrame(predictions), left_index=True, right_index=True\n",
    "    )\n",
    "    results_df.to_csv(f\"../output/{filename}.csv\", header=[\"Id\", \"WnvPresent\"], index=False)"
   ]
  },
  {
   "cell_type": "code",
   "execution_count": 38,
   "metadata": {},
   "outputs": [],
   "source": [
    "prediction_filename = 'predictions_2'"
   ]
  },
  {
   "cell_type": "code",
   "execution_count": 39,
   "metadata": {
    "cell_id": "0ef3927722ba4f59b41fc12f2b0eea0c",
    "deepnote_cell_type": "code",
    "deepnote_to_be_reexecuted": true,
    "source_hash": "55b3eb63"
   },
   "outputs": [],
   "source": [
    "create_predictions(results, prediction_filename)"
   ]
  },
  {
   "cell_type": "code",
   "execution_count": 40,
   "metadata": {},
   "outputs": [],
   "source": [
    "table_model_results().to_csv(f'../output/params_{prediction_filename}.csv', index=False)"
   ]
  }
 ],
 "metadata": {
  "deepnote": {},
  "deepnote_execution_queue": [],
  "deepnote_notebook_id": "0698b79737df4c408186a211056caa5c",
  "deepnote_persisted_session": {
   "createdAt": "2022-12-09T01:33:13.258Z"
  },
  "kernelspec": {
   "display_name": "Python 3 (ipykernel)",
   "language": "python",
   "name": "python3"
  },
  "language_info": {
   "codemirror_mode": {
    "name": "ipython",
    "version": 3
   },
   "file_extension": ".py",
   "mimetype": "text/x-python",
   "name": "python",
   "nbconvert_exporter": "python",
   "pygments_lexer": "ipython3",
   "version": "3.9.13"
  },
  "vscode": {
   "interpreter": {
    "hash": "1b28ad9899eefd279686690bace4d41fa3fa7d0cff5719534f58e9a7031f3ffc"
   }
  }
 },
 "nbformat": 4,
 "nbformat_minor": 1
}
