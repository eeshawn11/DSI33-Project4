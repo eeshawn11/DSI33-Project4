{
 "cells": [
  {
   "cell_type": "markdown",
   "metadata": {
    "cell_id": "f96abd16122146b797d16aaa0f1ee71b",
    "deepnote_cell_type": "markdown"
   },
   "source": [
    "# Modelling"
   ]
  },
  {
   "cell_type": "code",
   "execution_count": 56,
   "metadata": {
    "cell_id": "31251000c0c54cfea5e3cabad32b523e",
    "deepnote_cell_type": "code",
    "deepnote_to_be_reexecuted": false,
    "execution_millis": 932,
    "execution_start": 1670551613652,
    "source_hash": "476ca060"
   },
   "outputs": [],
   "source": [
    "import pandas as pd\n",
    "import numpy as np\n",
    "import re\n",
    "import time\n",
    "import os\n",
    "\n",
    "from sklearn.preprocessing import OneHotEncoder, MinMaxScaler, FunctionTransformer\n",
    "from sklearn.feature_extraction.text import CountVectorizer\n",
    "from sklearn.compose import ColumnTransformer\n",
    "from sklearn.model_selection import train_test_split, cross_val_score, cross_validate, GridSearchCV\n",
    "from sklearn.metrics import classification_report, ConfusionMatrixDisplay\n",
    "from sklearn.linear_model import Perceptron, LogisticRegression, RidgeClassifier\n",
    "from sklearn.neighbors import KNeighborsClassifier\n",
    "from sklearn.neural_network import MLPClassifier\n",
    "from sklearn.ensemble import RandomForestClassifier, AdaBoostClassifier, GradientBoostingClassifier, VotingClassifier, HistGradientBoostingClassifier\n",
    "\n",
    "from sklearn.neural_network import MLPClassifier\n",
    "\n",
    "from imblearn.combine import SMOTETomek\n",
    "from imblearn.pipeline import Pipeline\n",
    "\n",
    "rng = np.random.RandomState(42)\n",
    "\n",
    "# from keras import Sequential\n",
    "# from keras.layers import Dense\n",
    "\n",
    "import warnings\n",
    "warnings.filterwarnings('ignore') # hide warnings to avoid cluttering the notebook output"
   ]
  },
  {
   "cell_type": "code",
   "execution_count": 48,
   "metadata": {},
   "outputs": [],
   "source": [
    "class TimerError(Exception):\n",
    "    \"\"\"A custom exception used to report errors in use of Timer class\"\"\"\n",
    "\n",
    "class Timer:\n",
    "    def __init__(self):\n",
    "        self._start_time = None\n",
    "        self._elapsed_time = None\n",
    "\n",
    "    def start(self):\n",
    "        \"\"\"Start a new timer\"\"\"\n",
    "        if self._start_time is not None:\n",
    "            raise TimerError(f\"Timer is running. Use .stop() to stop it\")\n",
    "\n",
    "        self._elapsed_time = None\n",
    "        self._start_time = time.perf_counter()\n",
    "\n",
    "    def stop(self):\n",
    "        \"\"\"Stop the timer, and report the elapsed time\"\"\"\n",
    "        if self._start_time is None:\n",
    "            raise TimerError(f\"Timer is not running. Use .start() to start it\")\n",
    "\n",
    "        self._elapsed_time = time.perf_counter() - self._start_time\n",
    "        self._start_time = None\n",
    "        print(f\"Elapsed time: {int(divmod(self._elapsed_time, 60)[0])} minutes, {int(divmod(self._elapsed_time, 60)[1])} seconds\")\n",
    "\n",
    "    def duration(self):\n",
    "        \"\"\"Return the elapsed time from the timer.\"\"\"\n",
    "        if self._elapsed_time is None:\n",
    "            raise TimerError(f\"Timer has not run. Use .start() and .stop() to start and stop the timer.\")\n",
    "\n",
    "        return self._elapsed_time"
   ]
  },
  {
   "cell_type": "code",
   "execution_count": 3,
   "metadata": {
    "cell_id": "195f4763f16e47999fbf9d8c8652d351",
    "deepnote_cell_type": "code",
    "deepnote_to_be_reexecuted": false,
    "execution_millis": 25,
    "execution_start": 1670551614585,
    "source_hash": "abfd9979"
   },
   "outputs": [],
   "source": [
    "df = pd.read_csv('../assets/df_merge_final.csv')"
   ]
  },
  {
   "cell_type": "code",
   "execution_count": 4,
   "metadata": {},
   "outputs": [],
   "source": [
    "def create_dt_features(dataframe):\n",
    "    dataframe['daylight_duration'] = pd.to_timedelta(dataframe['daylight_duration'])\n",
    "    dataframe['Daylight_hours'] = dataframe['daylight_duration'].dt.total_seconds() / (60*60)\n",
    "    dataframe['Date'] = pd.to_datetime(dataframe['Date'])\n",
    "    dataframe['Month'] = dataframe['Date'].dt.month\n",
    "    dataframe['Day'] = dataframe['Date'].dt.day\n",
    "    dataframe['Latitude'] = round(dataframe['Latitude'], 4)\n",
    "    dataframe['Longitude'] = round(dataframe['Longitude'], 4)\n",
    "    dataframe['Sunrise'] = pd.to_timedelta(pd.to_datetime(dataframe['Sunrise_1']).dt.time.astype(str)).dt.total_seconds()/3600\n",
    "    dataframe['Sunset'] = pd.to_timedelta(pd.to_datetime(dataframe['Sunset_1']).dt.time.astype(str)).dt.total_seconds()/3600\n",
    "    return dataframe"
   ]
  },
  {
   "cell_type": "code",
   "execution_count": 5,
   "metadata": {},
   "outputs": [],
   "source": [
    "df = create_dt_features(df)"
   ]
  },
  {
   "cell_type": "code",
   "execution_count": 6,
   "metadata": {},
   "outputs": [],
   "source": [
    "# specify features\n",
    "num_features = ['Latitude', 'Longitude', 'AddressAccuracy', 'Tavg', 'Depart', 'Heat', 'PrecipTotal', 'SeaLevel', 'ResultDir', 'AvgSpeed', 'Humidity', 'Daylight_hours', 'Month', 'Day', 'Sunrise', 'Sunset']\n",
    "cat_features = ['Species', 'Trap']\n",
    "text_features = ['CodeSum']\n",
    "\n",
    "features = num_features + cat_features + text_features\n",
    "\n",
    "# define metric to optimise during GridSearch\n",
    "score_metric = ['f1', 'roc_auc']"
   ]
  },
  {
   "cell_type": "code",
   "execution_count": 7,
   "metadata": {
    "cell_id": "df282cce65f74870b1b26d17b16e882a",
    "deepnote_cell_type": "code",
    "deepnote_to_be_reexecuted": false,
    "execution_millis": 1,
    "execution_start": 1670551614676,
    "source_hash": "f9a57dbf",
    "tags": []
   },
   "outputs": [],
   "source": [
    "X = df[features]\n",
    "y = df['WnvPresent']"
   ]
  },
  {
   "cell_type": "code",
   "execution_count": 8,
   "metadata": {
    "cell_id": "c002f9f29f5b469282bc7436c65d2bce",
    "deepnote_cell_type": "code",
    "deepnote_to_be_reexecuted": false,
    "execution_millis": 0,
    "execution_start": 1670551614695,
    "source_hash": "22ad61df"
   },
   "outputs": [],
   "source": [
    "X_train, X_test, y_train, y_test = train_test_split(X, y, test_size=0.3, random_state=rng, stratify=y)"
   ]
  },
  {
   "cell_type": "code",
   "execution_count": 61,
   "metadata": {
    "cell_id": "5ea9415a492849488bbfe0c08690b007",
    "deepnote_cell_type": "code",
    "deepnote_to_be_reexecuted": false,
    "execution_millis": 0,
    "execution_start": 1670551614696,
    "source_hash": "a0c1dd4b"
   },
   "outputs": [],
   "source": [
    "# Processing steps before modelling (standardisation, one hot encoding, over/under-sampling)\n",
    "minmax = MinMaxScaler(feature_range=(0, 1))\n",
    "ohe = OneHotEncoder(drop='if_binary', handle_unknown='ignore')\n",
    "count = CountVectorizer()\n",
    "\n",
    "sample_smotetomek = SMOTETomek(random_state=rng, n_jobs=2)\n",
    "\n",
    "text_pipe = Pipeline([\n",
    "    (\"squeeze\", FunctionTransformer(lambda x: x.squeeze())),\n",
    "    ('vector', count),\n",
    "    ('array', FunctionTransformer(lambda x: x.toarray(), accept_sparse=True)),\n",
    "    ('scale', minmax)\n",
    "])\n",
    "\n",
    "col_transform = ColumnTransformer([\n",
    "    ('MinMaxScaler', minmax, num_features),\n",
    "    ('OneHotEncoder', ohe, cat_features),\n",
    "    ('CountVectorizer', text_pipe, text_features)\n",
    "], remainder='drop',\n",
    "sparse_threshold=0\n",
    ")"
   ]
  },
  {
   "cell_type": "code",
   "execution_count": 10,
   "metadata": {
    "cell_id": "93ccb8bc1f7f48e59148607badf32567",
    "deepnote_cell_type": "code",
    "deepnote_to_be_reexecuted": false,
    "execution_millis": 2,
    "execution_start": 1670551614701,
    "source_hash": "16c4c255",
    "tags": []
   },
   "outputs": [],
   "source": [
    "# WORKING FILE\n",
    "# perceptron = Perceptron(random_state=42)\n",
    "\n",
    "# model = Sequential()\n",
    "# model.add(Dense(50, input_dim=53, activation='relu')) # input\n",
    "# model.add(Dense(100, activation='relu')) # hidden\n",
    "# model.add(Dense(50, activation='relu'))  # hidden\n",
    "# model.add(Dense(1, activation='sigmoid'))\n",
    "# model.compile(loss=\"binary_crossentropy\", optimizer=\"adam\", metrics=['binary_crossentropy']) \n"
   ]
  },
  {
   "cell_type": "code",
   "execution_count": 59,
   "metadata": {
    "cell_id": "68b7851640eb427a9d654c1ea7eedce8",
    "deepnote_cell_type": "code",
    "deepnote_to_be_reexecuted": false,
    "execution_millis": 2,
    "execution_start": 1670551614703,
    "source_hash": "5cf5fc15",
    "tags": []
   },
   "outputs": [],
   "source": [
    "# Instantiating models for classification\n",
    "lr = LogisticRegression(random_state=rng)\n",
    "knn = KNeighborsClassifier()\n",
    "pct = Perceptron(random_state=rng)\n",
    "mlp = MLPClassifier(hidden_layer_sizes=(8,6,1), max_iter=300, activation='tanh', solver='adam', random_state=rng)\n",
    "rf = RandomForestClassifier(random_state=rng)\n",
    "ada = AdaBoostClassifier(random_state=rng)\n",
    "gbc = GradientBoostingClassifier(random_state=rng)\n",
    "hgbc = HistGradientBoostingClassifier(random_state=rng)"
   ]
  },
  {
   "cell_type": "code",
   "execution_count": 53,
   "metadata": {},
   "outputs": [],
   "source": [
    "# create dict to store model performance results for comparison\n",
    "model_dict = {\n",
    "    'model_list': [],\n",
    "    'mean_train_f1_score': [],\n",
    "    'mean_test_f1_score': [],\n",
    "    'mean_train_roc_auc_score': [],\n",
    "    'mean_test_roc_auc_score': [],\n",
    "    'best_params': [],\n",
    "    'runtime': []\n",
    "}"
   ]
  },
  {
   "cell_type": "code",
   "execution_count": 62,
   "metadata": {
    "cell_id": "c51fa59dd9074b0c9aee057f4ff60157",
    "deepnote_cell_type": "code",
    "deepnote_to_be_reexecuted": false,
    "execution_millis": 0,
    "execution_start": 1670551614726,
    "source_hash": "c5615a52",
    "tags": []
   },
   "outputs": [],
   "source": [
    "# run pipe, fit params and return best estimator\n",
    "def run_pipe(clf: object, pipe_params: dict):\n",
    "    t = Timer()\n",
    "    model_name = re.match(r'^(\\w+)(?=\\()', str(clf)).group()\n",
    "    print(f\"Fitting {model_name}\")\n",
    "\n",
    "    # create pipe\n",
    "    pipe = Pipeline([\n",
    "        ('transform', col_transform),\n",
    "        ('sample', sample_smotetomek),\n",
    "        ('clf', clf)\n",
    "    ])\n",
    "    \n",
    "    \n",
    "    # create GridSearchCV\n",
    "    grid = GridSearchCV(\n",
    "        estimator = pipe,\n",
    "        param_grid = pipe_params,\n",
    "        scoring = score_metric,\n",
    "        n_jobs = -3,\n",
    "        cv = 3,\n",
    "        verbose = 1,\n",
    "        error_score='raise',\n",
    "        refit='f1'\n",
    "    )\n",
    "\n",
    "    t.start()\n",
    "    grid.fit(X_train, y_train)\n",
    "    t.stop()\n",
    "    \n",
    "    # test_score = cross_val_score(grid.best_estimator_, X_test, y_test, scoring=score_metric, cv=3, n_jobs=-3)\n",
    "    train_score = cross_validate(grid.best_estimator_, X_train, y_train, scoring=score_metric, cv=3, n_jobs=-3)\n",
    "    test_score = cross_validate(grid.best_estimator_, X_test, y_test, scoring=score_metric, cv=3, n_jobs=-3)\n",
    "    # store average scores\n",
    "    model_dict['model_list'].append(model_name)\n",
    "    model_dict['mean_train_f1_score'].append(train_score['test_f1'].mean())\n",
    "    model_dict['mean_train_roc_auc_score'].append(train_score['test_roc_auc'].mean())\n",
    "    model_dict['mean_test_f1_score'].append(test_score['test_f1'].mean())\n",
    "    model_dict['mean_test_roc_auc_score'].append(test_score['test_roc_auc'].mean())\n",
    "    # model_dict['mean_test_score'].append(test_score.mean())\n",
    "    model_dict['best_params'].append(grid.best_params_)\n",
    "    model_dict['runtime'].append(t.duration())\n",
    "\n",
    "    print(\"Best Score: \", grid.best_score_)\n",
    "    print(\"Best Params: \", grid.best_params_)\n",
    "    print()\n",
    "    return grid.best_estimator_, grid.cv_results_"
   ]
  },
  {
   "cell_type": "code",
   "execution_count": 14,
   "metadata": {
    "cell_id": "aa66a7d464524c909017dc4ef49aa773",
    "deepnote_cell_type": "code",
    "deepnote_to_be_reexecuted": false,
    "execution_millis": 1,
    "execution_start": 1670551614729,
    "source_hash": "ed2c8b67",
    "tags": []
   },
   "outputs": [],
   "source": [
    "# create table with model performance results\n",
    "def table_model_results():\n",
    "    model_performance = pd.DataFrame(model_dict)\n",
    "    \n",
    "    model_performance.insert(\n",
    "        loc = 3,\n",
    "        column = 'f1_score_delta',\n",
    "        value = abs(model_performance['mean_train_f1_score'] - model_performance['mean_test_f1_score'])\n",
    "        )\n",
    "\n",
    "    model_performance.insert(\n",
    "        loc = 6,\n",
    "        column = 'roc_auc_score_delta',\n",
    "        value = abs(model_performance['mean_train_roc_auc_score'] - model_performance['mean_test_roc_auc_score'])\n",
    "        )\n",
    "\n",
    "    return model_performance.sort_values(by=\"mean_train_f1_score\", ascending=False).round(\n",
    "        {'mean_train_f1_score': 4,\n",
    "        'mean_train_roc_auc_score': 4,\n",
    "        'mean_test_f1_score':4,\n",
    "        'mean_test_roc_auc_score': 4,\n",
    "        'f1_score_delta':4,\n",
    "        'roc_auc_score_delta':4,\n",
    "        'runtime': 2}\n",
    "        )"
   ]
  },
  {
   "cell_type": "code",
   "execution_count": 65,
   "metadata": {
    "cell_id": "0939d8a01a0448678a1276cd0609d252",
    "deepnote_cell_type": "code",
    "deepnote_to_be_reexecuted": false,
    "execution_millis": 0,
    "execution_start": 1670551614725,
    "source_hash": "6ad5492e",
    "tags": []
   },
   "outputs": [],
   "source": [
    "lr_params = {\n",
    "    'clf__solver': ['liblinear', 'newton-cg', 'lbfgs'],\n",
    "    'clf__penalty': ['l2'],\n",
    "    'clf__C': [100, 10, 1.0, 0.1, 0.01],\n",
    "    'clf__max_iter': [100, 150, 500]\n",
    "}\n",
    "\n",
    "knn_params = {\n",
    "    'clf__n_neighbors': [3, 5, 9, 15],\n",
    "    'clf__weights': ['uniform', 'distance']\n",
    "}\n",
    "\n",
    "pct_params = {\n",
    "    'clf__penalty': [None, 'l1', 'l2', 'elasticnet'],\n",
    "    'clf__class_weight': [None, 'balanced']\n",
    "}\n",
    "\n",
    "mlp_params = {\n",
    "    \n",
    "}\n",
    "\n",
    "rf_params = {\n",
    "    'clf__ccp_alpha': [0.0, 0.01, 0.1],\n",
    "    'clf__max_features': ['sqrt', 'log2'],\n",
    "    'clf__n_estimators': [500, 700, 900]\n",
    "}\n",
    "\n",
    "ada_params = {\n",
    "    'clf__learning_rate': [1.0, 2.0, 10],\n",
    "    'clf__n_estimators': [150, 200, 250]\n",
    "}\n",
    "\n",
    "gbc_params = {\n",
    "    'clf__learning_rate': [0.001, 0.01, 0.1],\n",
    "    'clf__subsample': [0.5, 0.7, 1.0],\n",
    "    'clf__max_depth': [3, 7, 9],\n",
    "    'clf__n_estimators': [350]\n",
    "}\n",
    "\n",
    "hgbc_params = {\n",
    "    'clf__learning_rate': [0.001, 0.01, 0.1],\n",
    "    'clf__l2_regularization': [0, 0.1, 1],\n",
    "    'clf__max_iter': [100, 200, 300]\n",
    "}"
   ]
  },
  {
   "cell_type": "code",
   "execution_count": 16,
   "metadata": {},
   "outputs": [
    {
     "name": "stdout",
     "output_type": "stream",
     "text": [
      "Fitting LogisticRegression\n",
      "Fitting 3 folds for each of 45 candidates, totalling 135 fits\n",
      "Elapsed time: 188.1026 seconds\n",
      "Best Score:  0.23748742044949803\n",
      "Best Params:  {'clf__C': 100, 'clf__max_iter': 100, 'clf__penalty': 'l2', 'clf__solver': 'liblinear'}\n",
      "\n"
     ]
    }
   ],
   "source": [
    "lr_best, lr_results = run_pipe(lr, lr_params)"
   ]
  },
  {
   "cell_type": "code",
   "execution_count": 17,
   "metadata": {},
   "outputs": [
    {
     "name": "stdout",
     "output_type": "stream",
     "text": [
      "Fitting KNeighborsClassifier\n",
      "Fitting 3 folds for each of 8 candidates, totalling 24 fits\n",
      "Elapsed time: 54.4563 seconds\n",
      "Best Score:  0.1864679142903115\n",
      "Best Params:  {'clf__n_neighbors': 5, 'clf__weights': 'uniform'}\n",
      "\n"
     ]
    }
   ],
   "source": [
    "knn_best, knn_results = run_pipe(knn, knn_params)"
   ]
  },
  {
   "cell_type": "code",
   "execution_count": 47,
   "metadata": {
    "cell_id": "23aa8daa93054cfd9c21b7369c753f5b",
    "deepnote_cell_type": "code",
    "deepnote_to_be_reexecuted": false,
    "execution_millis": 5,
    "execution_start": 1670551614733,
    "source_hash": "187cd43f",
    "tags": []
   },
   "outputs": [
    {
     "name": "stdout",
     "output_type": "stream",
     "text": [
      "Fitting Perceptron\n",
      "Fitting 3 folds for each of 8 candidates, totalling 24 fits\n",
      "Elapsed time: 0.0 minutes, 43.85356150000007 seconds\n",
      "Best Score:  0.20792028606861856\n",
      "Best Params:  {'clf__class_weight': None, 'clf__penalty': None}\n",
      "\n"
     ]
    }
   ],
   "source": [
    "pct_best, pct_results = run_pipe(pct, pct_params)"
   ]
  },
  {
   "cell_type": "code",
   "execution_count": 19,
   "metadata": {},
   "outputs": [
    {
     "name": "stdout",
     "output_type": "stream",
     "text": [
      "Fitting MLPClassifier\n",
      "Fitting 3 folds for each of 1 candidates, totalling 3 fits\n",
      "Elapsed time: 52.2121 seconds\n",
      "Best Score:  0.22711329004470712\n",
      "Best Params:  {}\n",
      "\n"
     ]
    }
   ],
   "source": [
    "mlp_best, mlp_results = run_pipe(mlp, mlp_params)"
   ]
  },
  {
   "cell_type": "code",
   "execution_count": 20,
   "metadata": {
    "cell_id": "a92af20005a749049d1c126cc67318a6",
    "deepnote_cell_type": "code",
    "deepnote_to_be_reexecuted": false,
    "execution_millis": 5,
    "execution_start": 1670551614739,
    "source_hash": "ad166d04",
    "tags": []
   },
   "outputs": [
    {
     "name": "stdout",
     "output_type": "stream",
     "text": [
      "Fitting RandomForestClassifier\n",
      "Fitting 3 folds for each of 18 candidates, totalling 54 fits\n",
      "Elapsed time: 455.5425 seconds\n",
      "Best Score:  0.25016793982311225\n",
      "Best Params:  {'clf__ccp_alpha': 0.0, 'clf__max_features': 'sqrt', 'clf__n_estimators': 500}\n",
      "\n"
     ]
    }
   ],
   "source": [
    "rf_best, rf_results = run_pipe(rf, rf_params)"
   ]
  },
  {
   "cell_type": "code",
   "execution_count": 49,
   "metadata": {
    "cell_id": "5b7c499380444c2db5904e1643b4bacb",
    "deepnote_cell_type": "code",
    "deepnote_to_be_reexecuted": false,
    "execution_millis": 4,
    "execution_start": 1670551614759,
    "source_hash": "8911531d",
    "tags": []
   },
   "outputs": [
    {
     "name": "stdout",
     "output_type": "stream",
     "text": [
      "Fitting AdaBoostClassifier\n",
      "Fitting 3 folds for each of 9 candidates, totalling 27 fits\n",
      "Elapsed time: 1 minutes, 5 seconds\n",
      "Best Score:  0.29616376268878114\n",
      "Best Params:  {'clf__learning_rate': 1.0, 'clf__n_estimators': 200}\n",
      "\n"
     ]
    }
   ],
   "source": [
    "ada_best, ada_results = run_pipe(ada, ada_params)"
   ]
  },
  {
   "cell_type": "code",
   "execution_count": 43,
   "metadata": {
    "cell_id": "79bb11a6463d45548d77ad6ad69b9a6e",
    "deepnote_cell_type": "code",
    "deepnote_to_be_reexecuted": false,
    "execution_millis": 1,
    "execution_start": 1670551614765,
    "source_hash": "8f961823",
    "tags": []
   },
   "outputs": [
    {
     "name": "stdout",
     "output_type": "stream",
     "text": [
      "Fitting GradientBoostingClassifier\n",
      "Fitting 3 folds for each of 81 candidates, totalling 243 fits\n"
     ]
    },
    {
     "ename": "KeyboardInterrupt",
     "evalue": "",
     "output_type": "error",
     "traceback": [
      "\u001b[1;31m---------------------------------------------------------------------------\u001b[0m",
      "\u001b[1;31mKeyboardInterrupt\u001b[0m                         Traceback (most recent call last)",
      "\u001b[1;32m~\\AppData\\Local\\Temp\\ipykernel_540\\2811150004.py\u001b[0m in \u001b[0;36m<module>\u001b[1;34m\u001b[0m\n\u001b[1;32m----> 1\u001b[1;33m \u001b[0mgbc_best\u001b[0m\u001b[1;33m,\u001b[0m \u001b[0mgbc_results\u001b[0m \u001b[1;33m=\u001b[0m \u001b[0mrun_pipe\u001b[0m\u001b[1;33m(\u001b[0m\u001b[0mgbc\u001b[0m\u001b[1;33m,\u001b[0m \u001b[0mgbc_params\u001b[0m\u001b[1;33m)\u001b[0m\u001b[1;33m\u001b[0m\u001b[1;33m\u001b[0m\u001b[0m\n\u001b[0m",
      "\u001b[1;32m~\\AppData\\Local\\Temp\\ipykernel_540\\914855802.py\u001b[0m in \u001b[0;36mrun_pipe\u001b[1;34m(clf, pipe_params)\u001b[0m\n\u001b[0;32m     26\u001b[0m \u001b[1;33m\u001b[0m\u001b[0m\n\u001b[0;32m     27\u001b[0m     \u001b[0mt\u001b[0m\u001b[1;33m.\u001b[0m\u001b[0mstart\u001b[0m\u001b[1;33m(\u001b[0m\u001b[1;33m)\u001b[0m\u001b[1;33m\u001b[0m\u001b[1;33m\u001b[0m\u001b[0m\n\u001b[1;32m---> 28\u001b[1;33m     \u001b[0mgrid\u001b[0m\u001b[1;33m.\u001b[0m\u001b[0mfit\u001b[0m\u001b[1;33m(\u001b[0m\u001b[0mX_train\u001b[0m\u001b[1;33m,\u001b[0m \u001b[0my_train\u001b[0m\u001b[1;33m)\u001b[0m\u001b[1;33m\u001b[0m\u001b[1;33m\u001b[0m\u001b[0m\n\u001b[0m\u001b[0;32m     29\u001b[0m     \u001b[0mt\u001b[0m\u001b[1;33m.\u001b[0m\u001b[0mstop\u001b[0m\u001b[1;33m(\u001b[0m\u001b[1;33m)\u001b[0m\u001b[1;33m\u001b[0m\u001b[1;33m\u001b[0m\u001b[0m\n\u001b[0;32m     30\u001b[0m \u001b[1;33m\u001b[0m\u001b[0m\n",
      "\u001b[1;32mc:\\Users\\brkit\\Anaconda3\\lib\\site-packages\\sklearn\\model_selection\\_search.py\u001b[0m in \u001b[0;36mfit\u001b[1;34m(self, X, y, groups, **fit_params)\u001b[0m\n\u001b[0;32m    873\u001b[0m                 \u001b[1;32mreturn\u001b[0m \u001b[0mresults\u001b[0m\u001b[1;33m\u001b[0m\u001b[1;33m\u001b[0m\u001b[0m\n\u001b[0;32m    874\u001b[0m \u001b[1;33m\u001b[0m\u001b[0m\n\u001b[1;32m--> 875\u001b[1;33m             \u001b[0mself\u001b[0m\u001b[1;33m.\u001b[0m\u001b[0m_run_search\u001b[0m\u001b[1;33m(\u001b[0m\u001b[0mevaluate_candidates\u001b[0m\u001b[1;33m)\u001b[0m\u001b[1;33m\u001b[0m\u001b[1;33m\u001b[0m\u001b[0m\n\u001b[0m\u001b[0;32m    876\u001b[0m \u001b[1;33m\u001b[0m\u001b[0m\n\u001b[0;32m    877\u001b[0m             \u001b[1;31m# multimetric is determined here because in the case of a callable\u001b[0m\u001b[1;33m\u001b[0m\u001b[1;33m\u001b[0m\u001b[0m\n",
      "\u001b[1;32mc:\\Users\\brkit\\Anaconda3\\lib\\site-packages\\sklearn\\model_selection\\_search.py\u001b[0m in \u001b[0;36m_run_search\u001b[1;34m(self, evaluate_candidates)\u001b[0m\n\u001b[0;32m   1377\u001b[0m     \u001b[1;32mdef\u001b[0m \u001b[0m_run_search\u001b[0m\u001b[1;33m(\u001b[0m\u001b[0mself\u001b[0m\u001b[1;33m,\u001b[0m \u001b[0mevaluate_candidates\u001b[0m\u001b[1;33m)\u001b[0m\u001b[1;33m:\u001b[0m\u001b[1;33m\u001b[0m\u001b[1;33m\u001b[0m\u001b[0m\n\u001b[0;32m   1378\u001b[0m         \u001b[1;34m\"\"\"Search all candidates in param_grid\"\"\"\u001b[0m\u001b[1;33m\u001b[0m\u001b[1;33m\u001b[0m\u001b[0m\n\u001b[1;32m-> 1379\u001b[1;33m         \u001b[0mevaluate_candidates\u001b[0m\u001b[1;33m(\u001b[0m\u001b[0mParameterGrid\u001b[0m\u001b[1;33m(\u001b[0m\u001b[0mself\u001b[0m\u001b[1;33m.\u001b[0m\u001b[0mparam_grid\u001b[0m\u001b[1;33m)\u001b[0m\u001b[1;33m)\u001b[0m\u001b[1;33m\u001b[0m\u001b[1;33m\u001b[0m\u001b[0m\n\u001b[0m\u001b[0;32m   1380\u001b[0m \u001b[1;33m\u001b[0m\u001b[0m\n\u001b[0;32m   1381\u001b[0m \u001b[1;33m\u001b[0m\u001b[0m\n",
      "\u001b[1;32mc:\\Users\\brkit\\Anaconda3\\lib\\site-packages\\sklearn\\model_selection\\_search.py\u001b[0m in \u001b[0;36mevaluate_candidates\u001b[1;34m(candidate_params, cv, more_results)\u001b[0m\n\u001b[0;32m    820\u001b[0m                     )\n\u001b[0;32m    821\u001b[0m \u001b[1;33m\u001b[0m\u001b[0m\n\u001b[1;32m--> 822\u001b[1;33m                 out = parallel(\n\u001b[0m\u001b[0;32m    823\u001b[0m                     delayed(_fit_and_score)(\n\u001b[0;32m    824\u001b[0m                         \u001b[0mclone\u001b[0m\u001b[1;33m(\u001b[0m\u001b[0mbase_estimator\u001b[0m\u001b[1;33m)\u001b[0m\u001b[1;33m,\u001b[0m\u001b[1;33m\u001b[0m\u001b[1;33m\u001b[0m\u001b[0m\n",
      "\u001b[1;32mc:\\Users\\brkit\\Anaconda3\\lib\\site-packages\\joblib\\parallel.py\u001b[0m in \u001b[0;36m__call__\u001b[1;34m(self, iterable)\u001b[0m\n\u001b[0;32m   1054\u001b[0m \u001b[1;33m\u001b[0m\u001b[0m\n\u001b[0;32m   1055\u001b[0m             \u001b[1;32mwith\u001b[0m \u001b[0mself\u001b[0m\u001b[1;33m.\u001b[0m\u001b[0m_backend\u001b[0m\u001b[1;33m.\u001b[0m\u001b[0mretrieval_context\u001b[0m\u001b[1;33m(\u001b[0m\u001b[1;33m)\u001b[0m\u001b[1;33m:\u001b[0m\u001b[1;33m\u001b[0m\u001b[1;33m\u001b[0m\u001b[0m\n\u001b[1;32m-> 1056\u001b[1;33m                 \u001b[0mself\u001b[0m\u001b[1;33m.\u001b[0m\u001b[0mretrieve\u001b[0m\u001b[1;33m(\u001b[0m\u001b[1;33m)\u001b[0m\u001b[1;33m\u001b[0m\u001b[1;33m\u001b[0m\u001b[0m\n\u001b[0m\u001b[0;32m   1057\u001b[0m             \u001b[1;31m# Make sure that we get a last message telling us we are done\u001b[0m\u001b[1;33m\u001b[0m\u001b[1;33m\u001b[0m\u001b[0m\n\u001b[0;32m   1058\u001b[0m             \u001b[0melapsed_time\u001b[0m \u001b[1;33m=\u001b[0m \u001b[0mtime\u001b[0m\u001b[1;33m.\u001b[0m\u001b[0mtime\u001b[0m\u001b[1;33m(\u001b[0m\u001b[1;33m)\u001b[0m \u001b[1;33m-\u001b[0m \u001b[0mself\u001b[0m\u001b[1;33m.\u001b[0m\u001b[0m_start_time\u001b[0m\u001b[1;33m\u001b[0m\u001b[1;33m\u001b[0m\u001b[0m\n",
      "\u001b[1;32mc:\\Users\\brkit\\Anaconda3\\lib\\site-packages\\joblib\\parallel.py\u001b[0m in \u001b[0;36mretrieve\u001b[1;34m(self)\u001b[0m\n\u001b[0;32m    933\u001b[0m             \u001b[1;32mtry\u001b[0m\u001b[1;33m:\u001b[0m\u001b[1;33m\u001b[0m\u001b[1;33m\u001b[0m\u001b[0m\n\u001b[0;32m    934\u001b[0m                 \u001b[1;32mif\u001b[0m \u001b[0mgetattr\u001b[0m\u001b[1;33m(\u001b[0m\u001b[0mself\u001b[0m\u001b[1;33m.\u001b[0m\u001b[0m_backend\u001b[0m\u001b[1;33m,\u001b[0m \u001b[1;34m'supports_timeout'\u001b[0m\u001b[1;33m,\u001b[0m \u001b[1;32mFalse\u001b[0m\u001b[1;33m)\u001b[0m\u001b[1;33m:\u001b[0m\u001b[1;33m\u001b[0m\u001b[1;33m\u001b[0m\u001b[0m\n\u001b[1;32m--> 935\u001b[1;33m                     \u001b[0mself\u001b[0m\u001b[1;33m.\u001b[0m\u001b[0m_output\u001b[0m\u001b[1;33m.\u001b[0m\u001b[0mextend\u001b[0m\u001b[1;33m(\u001b[0m\u001b[0mjob\u001b[0m\u001b[1;33m.\u001b[0m\u001b[0mget\u001b[0m\u001b[1;33m(\u001b[0m\u001b[0mtimeout\u001b[0m\u001b[1;33m=\u001b[0m\u001b[0mself\u001b[0m\u001b[1;33m.\u001b[0m\u001b[0mtimeout\u001b[0m\u001b[1;33m)\u001b[0m\u001b[1;33m)\u001b[0m\u001b[1;33m\u001b[0m\u001b[1;33m\u001b[0m\u001b[0m\n\u001b[0m\u001b[0;32m    936\u001b[0m                 \u001b[1;32melse\u001b[0m\u001b[1;33m:\u001b[0m\u001b[1;33m\u001b[0m\u001b[1;33m\u001b[0m\u001b[0m\n\u001b[0;32m    937\u001b[0m                     \u001b[0mself\u001b[0m\u001b[1;33m.\u001b[0m\u001b[0m_output\u001b[0m\u001b[1;33m.\u001b[0m\u001b[0mextend\u001b[0m\u001b[1;33m(\u001b[0m\u001b[0mjob\u001b[0m\u001b[1;33m.\u001b[0m\u001b[0mget\u001b[0m\u001b[1;33m(\u001b[0m\u001b[1;33m)\u001b[0m\u001b[1;33m)\u001b[0m\u001b[1;33m\u001b[0m\u001b[1;33m\u001b[0m\u001b[0m\n",
      "\u001b[1;32mc:\\Users\\brkit\\Anaconda3\\lib\\site-packages\\joblib\\_parallel_backends.py\u001b[0m in \u001b[0;36mwrap_future_result\u001b[1;34m(future, timeout)\u001b[0m\n\u001b[0;32m    540\u001b[0m         AsyncResults.get from multiprocessing.\"\"\"\n\u001b[0;32m    541\u001b[0m         \u001b[1;32mtry\u001b[0m\u001b[1;33m:\u001b[0m\u001b[1;33m\u001b[0m\u001b[1;33m\u001b[0m\u001b[0m\n\u001b[1;32m--> 542\u001b[1;33m             \u001b[1;32mreturn\u001b[0m \u001b[0mfuture\u001b[0m\u001b[1;33m.\u001b[0m\u001b[0mresult\u001b[0m\u001b[1;33m(\u001b[0m\u001b[0mtimeout\u001b[0m\u001b[1;33m=\u001b[0m\u001b[0mtimeout\u001b[0m\u001b[1;33m)\u001b[0m\u001b[1;33m\u001b[0m\u001b[1;33m\u001b[0m\u001b[0m\n\u001b[0m\u001b[0;32m    543\u001b[0m         \u001b[1;32mexcept\u001b[0m \u001b[0mCfTimeoutError\u001b[0m \u001b[1;32mas\u001b[0m \u001b[0me\u001b[0m\u001b[1;33m:\u001b[0m\u001b[1;33m\u001b[0m\u001b[1;33m\u001b[0m\u001b[0m\n\u001b[0;32m    544\u001b[0m             \u001b[1;32mraise\u001b[0m \u001b[0mTimeoutError\u001b[0m \u001b[1;32mfrom\u001b[0m \u001b[0me\u001b[0m\u001b[1;33m\u001b[0m\u001b[1;33m\u001b[0m\u001b[0m\n",
      "\u001b[1;32mc:\\Users\\brkit\\Anaconda3\\lib\\concurrent\\futures\\_base.py\u001b[0m in \u001b[0;36mresult\u001b[1;34m(self, timeout)\u001b[0m\n\u001b[0;32m    439\u001b[0m                     \u001b[1;32mreturn\u001b[0m \u001b[0mself\u001b[0m\u001b[1;33m.\u001b[0m\u001b[0m__get_result\u001b[0m\u001b[1;33m(\u001b[0m\u001b[1;33m)\u001b[0m\u001b[1;33m\u001b[0m\u001b[1;33m\u001b[0m\u001b[0m\n\u001b[0;32m    440\u001b[0m \u001b[1;33m\u001b[0m\u001b[0m\n\u001b[1;32m--> 441\u001b[1;33m                 \u001b[0mself\u001b[0m\u001b[1;33m.\u001b[0m\u001b[0m_condition\u001b[0m\u001b[1;33m.\u001b[0m\u001b[0mwait\u001b[0m\u001b[1;33m(\u001b[0m\u001b[0mtimeout\u001b[0m\u001b[1;33m)\u001b[0m\u001b[1;33m\u001b[0m\u001b[1;33m\u001b[0m\u001b[0m\n\u001b[0m\u001b[0;32m    442\u001b[0m \u001b[1;33m\u001b[0m\u001b[0m\n\u001b[0;32m    443\u001b[0m                 \u001b[1;32mif\u001b[0m \u001b[0mself\u001b[0m\u001b[1;33m.\u001b[0m\u001b[0m_state\u001b[0m \u001b[1;32min\u001b[0m \u001b[1;33m[\u001b[0m\u001b[0mCANCELLED\u001b[0m\u001b[1;33m,\u001b[0m \u001b[0mCANCELLED_AND_NOTIFIED\u001b[0m\u001b[1;33m]\u001b[0m\u001b[1;33m:\u001b[0m\u001b[1;33m\u001b[0m\u001b[1;33m\u001b[0m\u001b[0m\n",
      "\u001b[1;32mc:\\Users\\brkit\\Anaconda3\\lib\\threading.py\u001b[0m in \u001b[0;36mwait\u001b[1;34m(self, timeout)\u001b[0m\n\u001b[0;32m    310\u001b[0m         \u001b[1;32mtry\u001b[0m\u001b[1;33m:\u001b[0m    \u001b[1;31m# restore state no matter what (e.g., KeyboardInterrupt)\u001b[0m\u001b[1;33m\u001b[0m\u001b[1;33m\u001b[0m\u001b[0m\n\u001b[0;32m    311\u001b[0m             \u001b[1;32mif\u001b[0m \u001b[0mtimeout\u001b[0m \u001b[1;32mis\u001b[0m \u001b[1;32mNone\u001b[0m\u001b[1;33m:\u001b[0m\u001b[1;33m\u001b[0m\u001b[1;33m\u001b[0m\u001b[0m\n\u001b[1;32m--> 312\u001b[1;33m                 \u001b[0mwaiter\u001b[0m\u001b[1;33m.\u001b[0m\u001b[0macquire\u001b[0m\u001b[1;33m(\u001b[0m\u001b[1;33m)\u001b[0m\u001b[1;33m\u001b[0m\u001b[1;33m\u001b[0m\u001b[0m\n\u001b[0m\u001b[0;32m    313\u001b[0m                 \u001b[0mgotit\u001b[0m \u001b[1;33m=\u001b[0m \u001b[1;32mTrue\u001b[0m\u001b[1;33m\u001b[0m\u001b[1;33m\u001b[0m\u001b[0m\n\u001b[0;32m    314\u001b[0m             \u001b[1;32melse\u001b[0m\u001b[1;33m:\u001b[0m\u001b[1;33m\u001b[0m\u001b[1;33m\u001b[0m\u001b[0m\n",
      "\u001b[1;31mKeyboardInterrupt\u001b[0m: "
     ]
    }
   ],
   "source": [
    "# gbc_best, gbc_results = run_pipe(gbc, gbc_params)"
   ]
  },
  {
   "cell_type": "code",
   "execution_count": 66,
   "metadata": {},
   "outputs": [
    {
     "name": "stdout",
     "output_type": "stream",
     "text": [
      "Fitting HistGradientBoostingClassifier\n",
      "Fitting 3 folds for each of 27 candidates, totalling 81 fits\n",
      "Elapsed time: 2 minutes, 19 seconds\n",
      "Best Score:  0.277962897317736\n",
      "Best Params:  {'clf__l2_regularization': 1, 'clf__learning_rate': 0.01, 'clf__max_iter': 200}\n",
      "\n"
     ]
    }
   ],
   "source": [
    "hgbc_best, hgbc_results = run_pipe(hgbc, hgbc_params)"
   ]
  },
  {
   "cell_type": "code",
   "execution_count": 64,
   "metadata": {
    "cell_id": "16e54354b94946ad88e3b2c657a8e1b7",
    "deepnote_cell_type": "code",
    "deepnote_to_be_reexecuted": false,
    "execution_millis": 26,
    "execution_start": 1670551614769,
    "source_hash": "c3834e6e",
    "tags": []
   },
   "outputs": [
    {
     "data": {
      "text/html": [
       "<div>\n",
       "<style scoped>\n",
       "    .dataframe tbody tr th:only-of-type {\n",
       "        vertical-align: middle;\n",
       "    }\n",
       "\n",
       "    .dataframe tbody tr th {\n",
       "        vertical-align: top;\n",
       "    }\n",
       "\n",
       "    .dataframe thead th {\n",
       "        text-align: right;\n",
       "    }\n",
       "</style>\n",
       "<table border=\"1\" class=\"dataframe\">\n",
       "  <thead>\n",
       "    <tr style=\"text-align: right;\">\n",
       "      <th></th>\n",
       "      <th>model_list</th>\n",
       "      <th>mean_train_f1_score</th>\n",
       "      <th>mean_test_f1_score</th>\n",
       "      <th>f1_score_delta</th>\n",
       "      <th>mean_train_roc_auc_score</th>\n",
       "      <th>mean_test_roc_auc_score</th>\n",
       "      <th>roc_auc_score_delta</th>\n",
       "      <th>best_params</th>\n",
       "      <th>runtime</th>\n",
       "    </tr>\n",
       "  </thead>\n",
       "  <tbody>\n",
       "    <tr>\n",
       "      <th>0</th>\n",
       "      <td>VotingClassifier</td>\n",
       "      <td>0.2683</td>\n",
       "      <td>0.1224</td>\n",
       "      <td>0.1459</td>\n",
       "      <td>0.7978</td>\n",
       "      <td>0.7092</td>\n",
       "      <td>0.0886</td>\n",
       "      <td>{'sample__sampling_strategy': 0.25}</td>\n",
       "      <td>22.91</td>\n",
       "    </tr>\n",
       "    <tr>\n",
       "      <th>1</th>\n",
       "      <td>HistGradientBoostingClassifier</td>\n",
       "      <td>0.2656</td>\n",
       "      <td>0.2150</td>\n",
       "      <td>0.0506</td>\n",
       "      <td>0.8108</td>\n",
       "      <td>0.7822</td>\n",
       "      <td>0.0287</td>\n",
       "      <td>{'clf__l2_regularization': 1, 'clf__learning_r...</td>\n",
       "      <td>43.99</td>\n",
       "    </tr>\n",
       "  </tbody>\n",
       "</table>\n",
       "</div>"
      ],
      "text/plain": [
       "                       model_list  mean_train_f1_score  mean_test_f1_score  \\\n",
       "0                VotingClassifier               0.2683              0.1224   \n",
       "1  HistGradientBoostingClassifier               0.2656              0.2150   \n",
       "\n",
       "   f1_score_delta  mean_train_roc_auc_score  mean_test_roc_auc_score  \\\n",
       "0          0.1459                    0.7978                   0.7092   \n",
       "1          0.0506                    0.8108                   0.7822   \n",
       "\n",
       "   roc_auc_score_delta                                        best_params  \\\n",
       "0               0.0886                {'sample__sampling_strategy': 0.25}   \n",
       "1               0.0287  {'clf__l2_regularization': 1, 'clf__learning_r...   \n",
       "\n",
       "   runtime  \n",
       "0    22.91  \n",
       "1    43.99  "
      ]
     },
     "execution_count": 64,
     "metadata": {},
     "output_type": "execute_result"
    }
   ],
   "source": [
    "model_performance = table_model_results()\n",
    "model_performance"
   ]
  },
  {
   "cell_type": "code",
   "execution_count": 24,
   "metadata": {},
   "outputs": [],
   "source": [
    "# check coefficents from LogisticRegression\n",
    "# feature_names = lr_best[0].get_feature_names_out()\n",
    "# coefficients = lr_best[2].coef_\n",
    "# features_coefs = pd.DataFrame([feature_names, coefficients.reshape(52,)]).transpose()\n",
    "# features_coefs.rename(columns={0: 'feature', 1: 'coef'}, inplace=True)\n",
    "# features_coefs.sort_values(by='coef', ascending=False)"
   ]
  },
  {
   "cell_type": "code",
   "execution_count": 25,
   "metadata": {},
   "outputs": [
    {
     "ename": "SyntaxError",
     "evalue": "invalid syntax (3395297940.py, line 1)",
     "output_type": "error",
     "traceback": [
      "\u001b[1;36m  File \u001b[1;32m\"C:\\Users\\brkit\\AppData\\Local\\Temp\\ipykernel_540\\3395297940.py\"\u001b[1;36m, line \u001b[1;32m1\u001b[0m\n\u001b[1;33m    this should stop the kernel\u001b[0m\n\u001b[1;37m         ^\u001b[0m\n\u001b[1;31mSyntaxError\u001b[0m\u001b[1;31m:\u001b[0m invalid syntax\n"
     ]
    }
   ],
   "source": [
    "this should stop the kernel"
   ]
  },
  {
   "cell_type": "code",
   "execution_count": null,
   "metadata": {
    "cell_id": "3d077543da5741ba9a33727305db1e32",
    "deepnote_cell_type": "code",
    "deepnote_to_be_reexecuted": false,
    "execution_millis": 2,
    "execution_start": 1670552986824,
    "source_hash": "7e4528f9",
    "tags": []
   },
   "outputs": [],
   "source": [
    "# create VotingClassifier ensemble with top performing classifiers and new params\n",
    "# voting_clf = VotingClassifier([\n",
    "#     ('GradientBoost', GradientBoostingClassifier(n_estimators=300, random_state=rng)),\n",
    "#     ('AdaBoost', AdaBoostClassifier(n_estimators=200, random_state=rng)),\n",
    "#     ('RandomForest', RandomForestClassifier(n_estimators=700, max_features='sqrt', random_state=rng))\n",
    "# ], voting='soft')\n",
    "\n",
    "# voting_params = {\n",
    "#     'sample__sampling_strategy': ['auto', 0.1, 0.3],\n",
    "#     'clf__GradientBoost__learning_rate': [0.01, 0.1],\n",
    "#     'clf__GradientBoost__subsample': [0.7, 1.0],\n",
    "#     'clf__GradientBoost__max_depth': [3, 7],\n",
    "#     'clf__AdaBoost__learning_rate': [1.0, 2.0, 10],\n",
    "#     'clf__LogReg__solver': ['liblinear'],\n",
    "#     'clf__LogReg__C': [100, 10, 1.0],\n",
    "# }"
   ]
  },
  {
   "cell_type": "code",
   "execution_count": 50,
   "metadata": {},
   "outputs": [],
   "source": [
    "# create VotingClassifier ensemble with best performing classifiers\n",
    "voting_clf = VotingClassifier([\n",
    "    # ('GradientBoost', gbc_best[-1]),\n",
    "    ('AdaBoost', ada_best[-1]),\n",
    "    ('LogReg', lr_best[-1])\n",
    "    # ('RandomForest', rf_best[-1])\n",
    "], voting='soft')\n",
    "\n",
    "voting_params = {\n",
    "    'sample__sampling_strategy': ['auto', 0.1, 0.25, 0.5],\n",
    "#     'clf__GradientBoost__learning_rate': [0.01, 0.1],\n",
    "#     'clf__GradientBoost__subsample': [0.7, 1.0],\n",
    "#     'clf__GradientBoost__max_depth': [3, 7],\n",
    "#     'clf__AdaBoost__learning_rate': [1.0, 2.0, 10],\n",
    "#     'clf__LogReg__solver': ['liblinear'],\n",
    "#     'clf__LogReg__C': [100, 10, 1.0],\n",
    "}"
   ]
  },
  {
   "cell_type": "code",
   "execution_count": 54,
   "metadata": {
    "cell_id": "005373c33c9d435daf02555821ef357d",
    "deepnote_cell_type": "code",
    "deepnote_to_be_reexecuted": false,
    "execution_millis": 132,
    "execution_start": 1670552989018,
    "source_hash": "506a2374"
   },
   "outputs": [
    {
     "name": "stdout",
     "output_type": "stream",
     "text": [
      "Fitting VotingClassifier\n",
      "Fitting 3 folds for each of 4 candidates, totalling 12 fits\n",
      "Elapsed time: 0 minutes, 22 seconds\n",
      "Best Score:  0.28319396072535263\n",
      "Best Params:  {'sample__sampling_strategy': 0.25}\n",
      "\n"
     ]
    }
   ],
   "source": [
    "voting_best, voting_results = run_pipe(voting_clf, voting_params)"
   ]
  },
  {
   "cell_type": "code",
   "execution_count": 55,
   "metadata": {},
   "outputs": [
    {
     "data": {
      "text/html": [
       "<div>\n",
       "<style scoped>\n",
       "    .dataframe tbody tr th:only-of-type {\n",
       "        vertical-align: middle;\n",
       "    }\n",
       "\n",
       "    .dataframe tbody tr th {\n",
       "        vertical-align: top;\n",
       "    }\n",
       "\n",
       "    .dataframe thead th {\n",
       "        text-align: right;\n",
       "    }\n",
       "</style>\n",
       "<table border=\"1\" class=\"dataframe\">\n",
       "  <thead>\n",
       "    <tr style=\"text-align: right;\">\n",
       "      <th></th>\n",
       "      <th>model_list</th>\n",
       "      <th>mean_train_f1_score</th>\n",
       "      <th>mean_test_f1_score</th>\n",
       "      <th>f1_score_delta</th>\n",
       "      <th>mean_train_roc_auc_score</th>\n",
       "      <th>mean_test_roc_auc_score</th>\n",
       "      <th>roc_auc_score_delta</th>\n",
       "      <th>best_params</th>\n",
       "      <th>runtime</th>\n",
       "    </tr>\n",
       "  </thead>\n",
       "  <tbody>\n",
       "    <tr>\n",
       "      <th>0</th>\n",
       "      <td>VotingClassifier</td>\n",
       "      <td>0.2683</td>\n",
       "      <td>0.1224</td>\n",
       "      <td>0.1459</td>\n",
       "      <td>0.7978</td>\n",
       "      <td>0.7092</td>\n",
       "      <td>0.0886</td>\n",
       "      <td>{'sample__sampling_strategy': 0.25}</td>\n",
       "      <td>22.91</td>\n",
       "    </tr>\n",
       "  </tbody>\n",
       "</table>\n",
       "</div>"
      ],
      "text/plain": [
       "         model_list  mean_train_f1_score  mean_test_f1_score  f1_score_delta  \\\n",
       "0  VotingClassifier               0.2683              0.1224          0.1459   \n",
       "\n",
       "   mean_train_roc_auc_score  mean_test_roc_auc_score  roc_auc_score_delta  \\\n",
       "0                    0.7978                   0.7092               0.0886   \n",
       "\n",
       "                           best_params  runtime  \n",
       "0  {'sample__sampling_strategy': 0.25}    22.91  "
      ]
     },
     "execution_count": 55,
     "metadata": {},
     "output_type": "execute_result"
    }
   ],
   "source": [
    "table_model_results()"
   ]
  },
  {
   "cell_type": "code",
   "execution_count": null,
   "metadata": {},
   "outputs": [],
   "source": [
    "preds = voting_best.predict(X_test)\n",
    "cm_disp = ConfusionMatrixDisplay.from_predictions(y_test, preds)"
   ]
  },
  {
   "cell_type": "code",
   "execution_count": null,
   "metadata": {
    "cell_id": "d1cef0a9162a4398958108b253f2008d",
    "deepnote_cell_type": "code",
    "deepnote_to_be_reexecuted": true,
    "execution_millis": 554,
    "execution_start": 1670548138224,
    "source_hash": "ed13f675"
   },
   "outputs": [],
   "source": [
    "print(classification_report(y_test, preds))"
   ]
  },
  {
   "cell_type": "code",
   "execution_count": null,
   "metadata": {
    "scrolled": true
   },
   "outputs": [],
   "source": [
    "# voting_best.fit(X, y)"
   ]
  },
  {
   "cell_type": "code",
   "execution_count": null,
   "metadata": {
    "cell_id": "da2446db60a146cf80aa8cbc5a91280d",
    "deepnote_cell_type": "code",
    "deepnote_to_be_reexecuted": true,
    "source_hash": "a9239d02"
   },
   "outputs": [],
   "source": [
    "df_test = pd.read_csv('../assets/df_merge_test.csv')"
   ]
  },
  {
   "cell_type": "code",
   "execution_count": null,
   "metadata": {},
   "outputs": [],
   "source": [
    "df_test = create_dt_features(df_test)"
   ]
  },
  {
   "cell_type": "code",
   "execution_count": null,
   "metadata": {
    "cell_id": "089666933639418885d5eb294f4004a9",
    "deepnote_cell_type": "code",
    "deepnote_to_be_reexecuted": true,
    "source_hash": "6115b236"
   },
   "outputs": [],
   "source": [
    "results = voting_best.predict(df_test[X.columns])\n",
    "\n",
    "# results = ada_best.predict(df_test[X.columns])"
   ]
  },
  {
   "cell_type": "code",
   "execution_count": null,
   "metadata": {
    "cell_id": "9f02d32d869748ea995f32ff169b2211",
    "deepnote_cell_type": "code",
    "deepnote_to_be_reexecuted": true,
    "source_hash": "3601ff24"
   },
   "outputs": [],
   "source": [
    "def create_predictions(predictions, filename):\n",
    "    if not os.path.isdir('../output'):\n",
    "        os.mkdir('../output')\n",
    "    \n",
    "    if not os.path.isfile(f'../output/{filename}.csv'):\n",
    "        results_df = pd.DataFrame(predictions)\n",
    "        results_df.insert(0, column='id', value=range(1,116294))\n",
    "        results_df.to_csv(f\"../output/{filename}.csv\", header=[\"Id\", \"WnvPresent\"], index=False)\n",
    "    else:\n",
    "        raise NameError(f'{filename}.csv already exists!')"
   ]
  },
  {
   "cell_type": "code",
   "execution_count": null,
   "metadata": {},
   "outputs": [],
   "source": [
    "output_filename = 'predictions_10'\n",
    "\n",
    "create_predictions(results, output_filename)"
   ]
  },
  {
   "cell_type": "code",
   "execution_count": null,
   "metadata": {},
   "outputs": [],
   "source": [
    "table_model_results().to_csv(f'../output/params_{output_filename}.csv', index=False)"
   ]
  }
 ],
 "metadata": {
  "kernelspec": {
   "display_name": "Python 3 (ipykernel)",
   "language": "python",
   "name": "python3"
  },
  "language_info": {
   "codemirror_mode": {
    "name": "ipython",
    "version": 3
   },
   "file_extension": ".py",
   "mimetype": "text/x-python",
   "name": "python",
   "nbconvert_exporter": "python",
   "pygments_lexer": "ipython3",
   "version": "3.9.13"
  },
  "vscode": {
   "interpreter": {
    "hash": "1b28ad9899eefd279686690bace4d41fa3fa7d0cff5719534f58e9a7031f3ffc"
   }
  }
 },
 "nbformat": 4,
 "nbformat_minor": 1
}
