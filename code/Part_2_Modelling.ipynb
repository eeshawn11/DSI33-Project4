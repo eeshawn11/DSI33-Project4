{
 "cells": [
  {
   "attachments": {},
   "cell_type": "markdown",
   "metadata": {
    "cell_id": "f96abd16122146b797d16aaa0f1ee71b",
    "deepnote_cell_type": "markdown"
   },
   "source": [
    "# Part 2 - Modelling\n",
    "\n",
    "---\n",
    "\n",
    "Insert some background and recap of part 1 notebook."
   ]
  },
  {
   "cell_type": "code",
   "execution_count": 1,
   "metadata": {
    "cell_id": "31251000c0c54cfea5e3cabad32b523e",
    "deepnote_cell_type": "code",
    "deepnote_to_be_reexecuted": false,
    "execution_millis": 932,
    "execution_start": 1670551613652,
    "source_hash": "476ca060"
   },
   "outputs": [],
   "source": [
    "import pandas as pd\n",
    "import numpy as np\n",
    "import re\n",
    "import time\n",
    "import os\n",
    "import matplotlib.pyplot as plt\n",
    "import seaborn as sns\n",
    "\n",
    "from sklearn.preprocessing import OneHotEncoder, MinMaxScaler, FunctionTransformer\n",
    "from sklearn.feature_extraction.text import CountVectorizer\n",
    "from sklearn.compose import ColumnTransformer\n",
    "from sklearn.model_selection import train_test_split, GridSearchCV\n",
    "from sklearn.metrics import classification_report, ConfusionMatrixDisplay, RocCurveDisplay, get_scorer_names, get_scorer, roc_auc_score\n",
    "from sklearn.linear_model import LogisticRegression, RidgeClassifier\n",
    "from sklearn.neighbors import KNeighborsClassifier\n",
    "from sklearn.ensemble import RandomForestClassifier, AdaBoostClassifier, VotingClassifier, HistGradientBoostingClassifier, ExtraTreesClassifier\n",
    "from sklearn.decomposition import PCA\n",
    "\n",
    "# imblearn for sampling\n",
    "from imblearn.combine import SMOTETomek\n",
    "from imblearn.pipeline import Pipeline\n",
    "\n",
    "# set random state for model results reproducibility\n",
    "rng = 42\n",
    "\n",
    "import warnings\n",
    "warnings.filterwarnings('ignore') # hide warnings to avoid cluttering the notebook output"
   ]
  },
  {
   "cell_type": "code",
   "execution_count": 2,
   "metadata": {},
   "outputs": [],
   "source": [
    "class TimerError(Exception):\n",
    "    \"\"\"A custom exception used to report errors in use of Timer class\"\"\"\n",
    "\n",
    "class Timer:\n",
    "    def __init__(self):\n",
    "        self._start_time = None\n",
    "        self._elapsed_time = None\n",
    "\n",
    "    def start(self):\n",
    "        \"\"\"Start a new timer\"\"\"\n",
    "        if self._start_time is not None:\n",
    "            raise TimerError(f\"Timer is running. Use .stop() to stop it\")\n",
    "\n",
    "        self._elapsed_time = None\n",
    "        self._start_time = time.perf_counter()\n",
    "\n",
    "    def stop(self):\n",
    "        \"\"\"Stop the timer, and report the elapsed time\"\"\"\n",
    "        if self._start_time is None:\n",
    "            raise TimerError(f\"Timer is not running. Use .start() to start it\")\n",
    "\n",
    "        self._elapsed_time = time.perf_counter() - self._start_time\n",
    "        self._start_time = None\n",
    "        print(f\"Elapsed time: {int(divmod(self._elapsed_time, 60)[0])} minutes, {int(divmod(self._elapsed_time, 60)[1])} seconds\")\n",
    "\n",
    "    def duration(self) -> float:\n",
    "        \"\"\"Return the elapsed time from the timer.\"\"\"\n",
    "        if self._elapsed_time is None:\n",
    "            raise TimerError(\"Timer has not run. Use .start() and .stop() to start and stop the timer.\")\n",
    "        return self._elapsed_time"
   ]
  },
  {
   "attachments": {},
   "cell_type": "markdown",
   "metadata": {},
   "source": [
    "We prepare the train and validation data for modelling."
   ]
  },
  {
   "cell_type": "code",
   "execution_count": 3,
   "metadata": {
    "cell_id": "195f4763f16e47999fbf9d8c8652d351",
    "deepnote_cell_type": "code",
    "deepnote_to_be_reexecuted": false,
    "execution_millis": 25,
    "execution_start": 1670551614585,
    "source_hash": "abfd9979"
   },
   "outputs": [],
   "source": [
    "df = pd.read_csv('../assets/df_merge_prefinal.csv', parse_dates=['Date', 'Sunrise_1', 'Sunset_1'])"
   ]
  },
  {
   "cell_type": "code",
   "execution_count": 4,
   "metadata": {},
   "outputs": [],
   "source": [
    "def create_dt_features(dataframe: pd.DataFrame) -> pd.DataFrame:\n",
    "    '''\n",
    "    Perform feature engineering and return dataframe.\n",
    "    '''\n",
    "    # create datetime related features\n",
    "    dataframe['daylight_duration'] = pd.to_timedelta(dataframe['daylight_duration'])\n",
    "    dataframe['Daylight_hours'] = round(dataframe['daylight_duration'].dt.total_seconds() / (60*60), 2)\n",
    "    dataframe['Sunrise'] = round(pd.to_timedelta(dataframe['Sunrise_1'].dt.time.astype(str)).dt.total_seconds()/3600, 2)\n",
    "    dataframe['Sunset'] = round(pd.to_timedelta(dataframe['Sunset_1'].dt.time.astype(str)).dt.total_seconds()/3600, 2)\n",
    "    # create date related features\n",
    "    # dataframe['Month'] = dataframe['Date'].dt.month\n",
    "    # dataframe['Day'] = dataframe['Date'].dt.day\n",
    "    # round off Latitude, Longitude to generalise locations by area\n",
    "    dataframe['Latitude'] = round(dataframe['Latitude'], 1)\n",
    "    dataframe['Longitude'] = round(dataframe['Longitude'], 1)\n",
    "    # group satellite traps\n",
    "    dataframe['Trap'] = dataframe['Trap'].str.strip('TABC')\n",
    "    # main vector species in USA (https://www.vdci.net/vector-borne-diseases/west-nile-virus-education-and-mosquito-management-to-protect-public-health/)\n",
    "    dataframe['Vector'] = np.where(dataframe['Species'].str.contains(r'(pipiens|tarsalis|quinquefasciatus)', case = False), 1, 0)\n",
    "\n",
    "    return dataframe"
   ]
  },
  {
   "cell_type": "code",
   "execution_count": 5,
   "metadata": {},
   "outputs": [],
   "source": [
    "df = create_dt_features(df)"
   ]
  },
  {
   "cell_type": "code",
   "execution_count": 6,
   "metadata": {},
   "outputs": [
    {
     "data": {
      "text/plain": [
       "Index(['Date', 'Species', 'Trap', 'Latitude', 'Longitude', 'AddressAccuracy',\n",
       "       'NumMosquitos', 'WnvPresent', 'Year', 'Month', 'Week', 'DayOfWeek',\n",
       "       'Station', 'Tmax', 'Tmin', 'Tavg', 'Depart', 'DewPoint', 'WetBulb',\n",
       "       'Heat', 'Cool', 'Sunrise', 'Sunset', 'CodeSum', 'SnowFall',\n",
       "       'PrecipTotal', 'StnPressure', 'SeaLevel', 'ResultSpeed', 'ResultDir',\n",
       "       'AvgSpeed', 'Sunrise_1', 'Sunset_1', 'daylight_duration', 'Humidity',\n",
       "       'Tavg_7_days', 'Depart_7_days', 'DewPoint_7_days', 'WetBulb_7_days',\n",
       "       'Heat_7_days', 'Cool_7_days', 'Sunrise_7_days', 'Sunset_7_days',\n",
       "       'SnowFall_7_days', 'PrecipTotal_7_days', 'StnPressure_7_days',\n",
       "       'SeaLevel_7_days', 'ResultSpeed_7_days', 'ResultDir_7_days',\n",
       "       'AvgSpeed_7_days', 'Humidity_7_days', 'Tavg_14_days', 'Depart_14_days',\n",
       "       'DewPoint_14_days', 'WetBulb_14_days', 'Heat_14_days', 'Cool_14_days',\n",
       "       'Sunrise_14_days', 'Sunset_14_days', 'SnowFall_14_days',\n",
       "       'PrecipTotal_14_days', 'StnPressure_14_days', 'SeaLevel_14_days',\n",
       "       'ResultSpeed_14_days', 'ResultDir_14_days', 'AvgSpeed_14_days',\n",
       "       'Humidity_14_days', 'Tavg_21_days', 'Depart_21_days',\n",
       "       'DewPoint_21_days', 'WetBulb_21_days', 'Heat_21_days', 'Cool_21_days',\n",
       "       'Sunrise_21_days', 'Sunset_21_days', 'SnowFall_21_days',\n",
       "       'PrecipTotal_21_days', 'StnPressure_21_days', 'SeaLevel_21_days',\n",
       "       'ResultSpeed_21_days', 'ResultDir_21_days', 'AvgSpeed_21_days',\n",
       "       'Humidity_21_days', 'Daylight_hours', 'Vector'],\n",
       "      dtype='object')"
      ]
     },
     "execution_count": 6,
     "metadata": {},
     "output_type": "execute_result"
    }
   ],
   "source": [
    "df.columns"
   ]
  },
  {
   "cell_type": "code",
   "execution_count": 7,
   "metadata": {},
   "outputs": [
    {
     "data": {
      "text/plain": [
       "NumMosquitos        0.196820\n",
       "WnvPresent          1.000000\n",
       "Month               0.100143\n",
       "Week                0.104171\n",
       "DewPoint_7_days     0.106449\n",
       "Sunrise_7_days      0.100706\n",
       "DewPoint_21_days    0.116774\n",
       "WetBulb_21_days     0.103978\n",
       "Vector              0.104339\n",
       "dtype: float64"
      ]
     },
     "execution_count": 7,
     "metadata": {},
     "output_type": "execute_result"
    }
   ],
   "source": [
    "corr = df.corrwith(df['WnvPresent'])\n",
    "corr[corr > 0.1]"
   ]
  },
  {
   "cell_type": "code",
   "execution_count": 8,
   "metadata": {},
   "outputs": [],
   "source": [
    "# specify features\n",
    "num_features = [\n",
    "    'Latitude', 'Longitude', # 'AddressAccuracy', \n",
    "    # 'Tavg', 'PrecipTotal', 'Humidity', \n",
    "    # 'Tavg_7_days', 'PrecipTotal_7_days', 'Humidity_7_days',\n",
    "    # 'Tavg_14_days', 'PrecipTotal_14_days', 'Humidity_14_days',\n",
    "    # 'Tavg_21_days', 'PrecipTotal_21_days', 'Humidity_21_days',\n",
    "    'DewPoint_7_days', 'Sunrise_7_days', 'DewPoint_21_days', 'WetBulb_21_days',\n",
    "    'Daylight_hours', 'Vector'\n",
    "    ]\n",
    "cat_features = ['Trap', 'Month', 'Week', 'Species']\n",
    "text_features = ['CodeSum']\n",
    "\n",
    "features = num_features + cat_features + text_features"
   ]
  },
  {
   "cell_type": "code",
   "execution_count": 9,
   "metadata": {},
   "outputs": [
    {
     "data": {
      "text/html": [
       "<div>\n",
       "<style scoped>\n",
       "    .dataframe tbody tr th:only-of-type {\n",
       "        vertical-align: middle;\n",
       "    }\n",
       "\n",
       "    .dataframe tbody tr th {\n",
       "        vertical-align: top;\n",
       "    }\n",
       "\n",
       "    .dataframe thead th {\n",
       "        text-align: right;\n",
       "    }\n",
       "</style>\n",
       "<table border=\"1\" class=\"dataframe\">\n",
       "  <thead>\n",
       "    <tr style=\"text-align: right;\">\n",
       "      <th></th>\n",
       "      <th>Latitude</th>\n",
       "      <th>Longitude</th>\n",
       "      <th>DewPoint_7_days</th>\n",
       "      <th>Sunrise_7_days</th>\n",
       "      <th>DewPoint_21_days</th>\n",
       "      <th>WetBulb_21_days</th>\n",
       "      <th>Daylight_hours</th>\n",
       "      <th>Vector</th>\n",
       "      <th>Trap</th>\n",
       "      <th>Month</th>\n",
       "      <th>Week</th>\n",
       "      <th>Species</th>\n",
       "      <th>CodeSum</th>\n",
       "    </tr>\n",
       "  </thead>\n",
       "  <tbody>\n",
       "    <tr>\n",
       "      <th>0</th>\n",
       "      <td>42.0</td>\n",
       "      <td>-87.8</td>\n",
       "      <td>52.0</td>\n",
       "      <td>421.428571</td>\n",
       "      <td>48.619048</td>\n",
       "      <td>56.904762</td>\n",
       "      <td>14.93</td>\n",
       "      <td>1</td>\n",
       "      <td>002</td>\n",
       "      <td>5</td>\n",
       "      <td>22</td>\n",
       "      <td>CULEX PIPIENS/RESTUANS</td>\n",
       "      <td>BR HZ</td>\n",
       "    </tr>\n",
       "    <tr>\n",
       "      <th>1</th>\n",
       "      <td>42.0</td>\n",
       "      <td>-87.8</td>\n",
       "      <td>52.0</td>\n",
       "      <td>421.428571</td>\n",
       "      <td>48.619048</td>\n",
       "      <td>56.904762</td>\n",
       "      <td>14.93</td>\n",
       "      <td>0</td>\n",
       "      <td>002</td>\n",
       "      <td>5</td>\n",
       "      <td>22</td>\n",
       "      <td>CULEX RESTUANS</td>\n",
       "      <td>BR HZ</td>\n",
       "    </tr>\n",
       "    <tr>\n",
       "      <th>2</th>\n",
       "      <td>42.0</td>\n",
       "      <td>-87.8</td>\n",
       "      <td>52.0</td>\n",
       "      <td>421.428571</td>\n",
       "      <td>48.619048</td>\n",
       "      <td>56.904762</td>\n",
       "      <td>14.93</td>\n",
       "      <td>0</td>\n",
       "      <td>007</td>\n",
       "      <td>5</td>\n",
       "      <td>22</td>\n",
       "      <td>CULEX RESTUANS</td>\n",
       "      <td>BR HZ</td>\n",
       "    </tr>\n",
       "    <tr>\n",
       "      <th>3</th>\n",
       "      <td>42.0</td>\n",
       "      <td>-87.8</td>\n",
       "      <td>52.0</td>\n",
       "      <td>421.428571</td>\n",
       "      <td>48.619048</td>\n",
       "      <td>56.904762</td>\n",
       "      <td>14.93</td>\n",
       "      <td>1</td>\n",
       "      <td>015</td>\n",
       "      <td>5</td>\n",
       "      <td>22</td>\n",
       "      <td>CULEX PIPIENS/RESTUANS</td>\n",
       "      <td>BR HZ</td>\n",
       "    </tr>\n",
       "    <tr>\n",
       "      <th>4</th>\n",
       "      <td>42.0</td>\n",
       "      <td>-87.8</td>\n",
       "      <td>52.0</td>\n",
       "      <td>421.428571</td>\n",
       "      <td>48.619048</td>\n",
       "      <td>56.904762</td>\n",
       "      <td>14.93</td>\n",
       "      <td>0</td>\n",
       "      <td>015</td>\n",
       "      <td>5</td>\n",
       "      <td>22</td>\n",
       "      <td>CULEX RESTUANS</td>\n",
       "      <td>BR HZ</td>\n",
       "    </tr>\n",
       "  </tbody>\n",
       "</table>\n",
       "</div>"
      ],
      "text/plain": [
       "   Latitude  Longitude  DewPoint_7_days  Sunrise_7_days  DewPoint_21_days  \\\n",
       "0      42.0      -87.8             52.0      421.428571         48.619048   \n",
       "1      42.0      -87.8             52.0      421.428571         48.619048   \n",
       "2      42.0      -87.8             52.0      421.428571         48.619048   \n",
       "3      42.0      -87.8             52.0      421.428571         48.619048   \n",
       "4      42.0      -87.8             52.0      421.428571         48.619048   \n",
       "\n",
       "   WetBulb_21_days  Daylight_hours  Vector Trap  Month  Week  \\\n",
       "0        56.904762           14.93       1  002      5    22   \n",
       "1        56.904762           14.93       0  002      5    22   \n",
       "2        56.904762           14.93       0  007      5    22   \n",
       "3        56.904762           14.93       1  015      5    22   \n",
       "4        56.904762           14.93       0  015      5    22   \n",
       "\n",
       "                  Species CodeSum  \n",
       "0  CULEX PIPIENS/RESTUANS   BR HZ  \n",
       "1          CULEX RESTUANS   BR HZ  \n",
       "2          CULEX RESTUANS   BR HZ  \n",
       "3  CULEX PIPIENS/RESTUANS   BR HZ  \n",
       "4          CULEX RESTUANS   BR HZ  "
      ]
     },
     "execution_count": 9,
     "metadata": {},
     "output_type": "execute_result"
    }
   ],
   "source": [
    "df[features].head()"
   ]
  },
  {
   "cell_type": "code",
   "execution_count": 10,
   "metadata": {
    "cell_id": "df282cce65f74870b1b26d17b16e882a",
    "deepnote_cell_type": "code",
    "deepnote_to_be_reexecuted": false,
    "execution_millis": 1,
    "execution_start": 1670551614676,
    "source_hash": "f9a57dbf",
    "tags": []
   },
   "outputs": [],
   "source": [
    "X = df.drop(columns=['Date', 'Sunrise_1', 'Sunset_1', 'daylight_duration', 'NumMosquitos', 'WnvPresent']) #[features]\n",
    "y = df['WnvPresent']"
   ]
  },
  {
   "cell_type": "code",
   "execution_count": 11,
   "metadata": {},
   "outputs": [
    {
     "data": {
      "text/plain": [
       "Index(['Species', 'Trap', 'Latitude', 'Longitude', 'AddressAccuracy', 'Year',\n",
       "       'Month', 'Week', 'DayOfWeek', 'Station', 'Tmax', 'Tmin', 'Tavg',\n",
       "       'Depart', 'DewPoint', 'WetBulb', 'Heat', 'Cool', 'Sunrise', 'Sunset',\n",
       "       'CodeSum', 'SnowFall', 'PrecipTotal', 'StnPressure', 'SeaLevel',\n",
       "       'ResultSpeed', 'ResultDir', 'AvgSpeed', 'Humidity', 'Tavg_7_days',\n",
       "       'Depart_7_days', 'DewPoint_7_days', 'WetBulb_7_days', 'Heat_7_days',\n",
       "       'Cool_7_days', 'Sunrise_7_days', 'Sunset_7_days', 'SnowFall_7_days',\n",
       "       'PrecipTotal_7_days', 'StnPressure_7_days', 'SeaLevel_7_days',\n",
       "       'ResultSpeed_7_days', 'ResultDir_7_days', 'AvgSpeed_7_days',\n",
       "       'Humidity_7_days', 'Tavg_14_days', 'Depart_14_days', 'DewPoint_14_days',\n",
       "       'WetBulb_14_days', 'Heat_14_days', 'Cool_14_days', 'Sunrise_14_days',\n",
       "       'Sunset_14_days', 'SnowFall_14_days', 'PrecipTotal_14_days',\n",
       "       'StnPressure_14_days', 'SeaLevel_14_days', 'ResultSpeed_14_days',\n",
       "       'ResultDir_14_days', 'AvgSpeed_14_days', 'Humidity_14_days',\n",
       "       'Tavg_21_days', 'Depart_21_days', 'DewPoint_21_days', 'WetBulb_21_days',\n",
       "       'Heat_21_days', 'Cool_21_days', 'Sunrise_21_days', 'Sunset_21_days',\n",
       "       'SnowFall_21_days', 'PrecipTotal_21_days', 'StnPressure_21_days',\n",
       "       'SeaLevel_21_days', 'ResultSpeed_21_days', 'ResultDir_21_days',\n",
       "       'AvgSpeed_21_days', 'Humidity_21_days', 'Daylight_hours', 'Vector'],\n",
       "      dtype='object')"
      ]
     },
     "execution_count": 11,
     "metadata": {},
     "output_type": "execute_result"
    }
   ],
   "source": [
    "X.columns"
   ]
  },
  {
   "cell_type": "code",
   "execution_count": 12,
   "metadata": {
    "cell_id": "c002f9f29f5b469282bc7436c65d2bce",
    "deepnote_cell_type": "code",
    "deepnote_to_be_reexecuted": false,
    "execution_millis": 0,
    "execution_start": 1670551614695,
    "source_hash": "22ad61df"
   },
   "outputs": [],
   "source": [
    "X_train, X_test, y_train, y_test = train_test_split(X, y, test_size=0.25, random_state=rng, stratify=y)"
   ]
  },
  {
   "attachments": {},
   "cell_type": "markdown",
   "metadata": {},
   "source": [
    "## Modelling\n",
    "\n",
    "---\n",
    "\n",
    "We will utilise a mixture of methods for handling different types of features within our dataset, using a ColumnTransformer together with Pipelines."
   ]
  },
  {
   "cell_type": "code",
   "execution_count": 13,
   "metadata": {
    "cell_id": "5ea9415a492849488bbfe0c08690b007",
    "deepnote_cell_type": "code",
    "deepnote_to_be_reexecuted": false,
    "execution_millis": 0,
    "execution_start": 1670551614696,
    "source_hash": "a0c1dd4b"
   },
   "outputs": [],
   "source": [
    "# Processing steps before modelling (standardisation, one hot encoding, over/under-sampling)\n",
    "ohe = OneHotEncoder(drop='if_binary', handle_unknown='infrequent_if_exist')\n",
    "count = CountVectorizer()\n",
    "\n",
    "# create pipeline for handling CodeSum feature\n",
    "text_pipe = Pipeline([\n",
    "    (\"squeeze\", FunctionTransformer(lambda x: x.squeeze())),\n",
    "    ('vector', count),\n",
    "    ('array', FunctionTransformer(lambda x: x.toarray(), accept_sparse=True)),\n",
    "])\n",
    "\n",
    "# specify ColumnTransformer to handle different types of features\n",
    "col_transform = ColumnTransformer([\n",
    "    ('OneHotEncoder', ohe, cat_features),\n",
    "    ('CountVectorizer', text_pipe, text_features)\n",
    "], remainder = 'passthrough',\n",
    "sparse_threshold = 0\n",
    ")\n",
    "\n",
    "minmax = MinMaxScaler(feature_range=(0, 1))\n",
    "\n",
    "pca = PCA()\n",
    "\n",
    "sample_smotetomek = SMOTETomek(random_state=rng, n_jobs=2)"
   ]
  },
  {
   "cell_type": "code",
   "execution_count": 14,
   "metadata": {},
   "outputs": [],
   "source": [
    "class ResultsError(Exception):\n",
    "    \"\"\"A custom exception used to report errors in use of Results class\"\"\"\n",
    "\n",
    "class Results:\n",
    "    '''\n",
    "    Display results from modelling.\n",
    "    '''\n",
    "\n",
    "    def __init__(self, scoring_metric: list[str]):\n",
    "        self.__results_dict = {}\n",
    "        self.__results_dict['model_names']= []\n",
    "        self.__results_dict['model']= []\n",
    "        \n",
    "        self.__scoring_metric = scoring_metric\n",
    "        if type(self.__scoring_metric) == list:\n",
    "            for metric in self.__scoring_metric:\n",
    "                if metric not in get_scorer_names():\n",
    "                    raise ResultsError('scoring metric must be an available scorer from sklearn, use sklearn.metrics.get_scorer_names() to retrieve the names of all available scorers.')\n",
    "            for i, metric in enumerate(self.__scoring_metric):\n",
    "                self.__results_dict[f'mean_train_{self.__scoring_metric[i]}'] = []\n",
    "                self.__results_dict[f'mean_test_{self.__scoring_metric[i]}'] = []\n",
    "                self.__results_dict[f'{self.__scoring_metric[i]}_delta']= []\n",
    "        else:\n",
    "            raise TypeError('scoring_metric must be list of string')\n",
    "\n",
    "        self.__results_dict['best_params'] = []\n",
    "        self.__results_dict['runtime'] = []\n",
    "\n",
    "    # run pipe, fit params and return best estimator\n",
    "    def run_pipe(self, clf: object, pipe_params=None):\n",
    "        '''\n",
    "        Places classifier into a Pipeline, which is then run in a GridSearchCV to optimise the model based on parameters passed. \n",
    "\n",
    "        Parameters\n",
    "        ----------\n",
    "        clf : object\n",
    "            Classifier object\n",
    "        pipe_params : dictionary\n",
    "            Parameters to pass into GridSearchCV\n",
    "            \n",
    "        Returns\n",
    "        -------\n",
    "        Best Estimator\n",
    "            Best estimator refitted from the GridSearchCV\n",
    "        '''\n",
    "        if not len(self.__results_dict):\n",
    "            raise ResultsError('Error, no dictionary found. Use .create_results_dict() to create a dictionary first.')\n",
    "\n",
    "        t = Timer()\n",
    "        try:\n",
    "            model_name = re.match(r'^(\\w+)(?=\\()', str(clf)).group()\n",
    "        except:\n",
    "            model_name = clf\n",
    "        print(f\"Fitting {model_name}\")\n",
    "\n",
    "        # create pipe\n",
    "        pipe = Pipeline([\n",
    "            ('col_transform', col_transform),\n",
    "            ('scale', minmax),\n",
    "            ('pca', pca),\n",
    "            ('sample', sample_smotetomek),\n",
    "            ('clf', clf)\n",
    "        ])\n",
    "\n",
    "        # select Principal Components using PCA to reduce dimensionality\n",
    "        X_train_pca = pipe[:3].fit_transform(X_train)\n",
    "        total_variance = pipe[2].explained_variance_ratio_.cumsum()\n",
    "        # 95% of variance\n",
    "        n_over_95 = len(total_variance[total_variance >= .95])\n",
    "        n_to_reach_95 = X_train_pca.shape[1] - n_over_95 + 1\n",
    "        # 90% of variance\n",
    "        n_over_90 = len(total_variance[total_variance >= .90])\n",
    "        n_to_reach_90 = X_train_pca.shape[1] - n_over_90 + 1\n",
    "\n",
    "        default_params = {\n",
    "            'pca__n_components': [n_to_reach_95, n_to_reach_90],\n",
    "        }\n",
    "        \n",
    "        # create GridSearchCV\n",
    "        grid = GridSearchCV(\n",
    "            estimator = pipe,\n",
    "            param_grid = default_params | pipe_params,\n",
    "            scoring = self.__scoring_metric,\n",
    "            n_jobs = -3,\n",
    "            cv = 5,\n",
    "            verbose = 1,\n",
    "            error_score = 'raise',\n",
    "            refit = self.__scoring_metric[0],\n",
    "        )\n",
    "\n",
    "        t.start()\n",
    "        grid.fit(X_train, y_train)\n",
    "        t.stop()\n",
    "      \n",
    "        # store GridSearch scores\n",
    "        self.__results_dict['model_names'].append(model_name)\n",
    "        self.__results_dict['model'].append(grid.best_estimator_)\n",
    "\n",
    "        for i, metric in enumerate(self.__scoring_metric):\n",
    "            # retrieve scorer based on defined metric\n",
    "            self._scorer = get_scorer(metric)\n",
    "            self._train_score = self._scorer(grid.best_estimator_, X_train, y_train)\n",
    "            self._test_score = self._scorer(grid.best_estimator_, X_test, y_test)\n",
    "            self.__results_dict[f'mean_train_{self.__scoring_metric[i]}'].append(self._train_score)\n",
    "            self.__results_dict[f'mean_test_{self.__scoring_metric[i]}'].append(self._test_score)\n",
    "            self.__results_dict[f'{self.__scoring_metric[i]}_delta'].append(\n",
    "                abs(self._train_score - self._test_score)\n",
    "                )\n",
    "\n",
    "        self.__results_dict['best_params'].append(grid.best_params_)\n",
    "        self.__results_dict['runtime'].append(t.duration())\n",
    "\n",
    "        print(\"Best Score: \", grid.best_score_)\n",
    "        print(\"Best Params: \", grid.best_params_)\n",
    "        print()\n",
    "        return grid.best_estimator_\n",
    "\n",
    "    def display(self) -> pd.DataFrame:\n",
    "        '''Display pandas DataFrame displaying model performance results'''\n",
    "        if not len(self.__results_dict):\n",
    "            raise ResultsError('No results found. Use .run_pipe() to run pipe and store results.')\n",
    "        model_df = pd.DataFrame(self.__results_dict)\n",
    "        \n",
    "        model_df.iloc[:, :-2] = model_df.iloc[:, :-2].round(4)\n",
    "        model_df.iloc[:, -1] = model_df.iloc[:, -1].round(2)\n",
    "\n",
    "        return model_df.sort_values(by=f\"mean_test_{self.__scoring_metric[0]}\", ascending=False)"
   ]
  },
  {
   "cell_type": "code",
   "execution_count": 15,
   "metadata": {
    "cell_id": "68b7851640eb427a9d654c1ea7eedce8",
    "deepnote_cell_type": "code",
    "deepnote_to_be_reexecuted": false,
    "execution_millis": 2,
    "execution_start": 1670551614703,
    "source_hash": "5cf5fc15",
    "tags": []
   },
   "outputs": [],
   "source": [
    "# Instantiating models for classification\n",
    "lr = LogisticRegression(solver='liblinear', random_state=rng)\n",
    "knn = KNeighborsClassifier()\n",
    "rf = RandomForestClassifier(random_state=rng)\n",
    "ada = AdaBoostClassifier(random_state=rng)\n",
    "hgbc = HistGradientBoostingClassifier(random_state=rng)"
   ]
  },
  {
   "cell_type": "code",
   "execution_count": 16,
   "metadata": {},
   "outputs": [],
   "source": [
    "# define scoring metrics for optimisation with GridSearchCV\n",
    "score_metric = ['roc_auc']\n",
    "\n",
    "# instantiate Results\n",
    "results = Results(score_metric)"
   ]
  },
  {
   "attachments": {},
   "cell_type": "markdown",
   "metadata": {},
   "source": [
    "Create a set of parameters for each model to be passed into GridSearchCV for hyperparameter tuning."
   ]
  },
  {
   "cell_type": "code",
   "execution_count": 17,
   "metadata": {
    "cell_id": "0939d8a01a0448678a1276cd0609d252",
    "deepnote_cell_type": "code",
    "deepnote_to_be_reexecuted": false,
    "execution_millis": 0,
    "execution_start": 1670551614725,
    "source_hash": "6ad5492e",
    "tags": []
   },
   "outputs": [],
   "source": [
    "lr_params = {\n",
    "    'clf__penalty': ['l1', 'l2'],\n",
    "    'clf__C': [100, 10, 1.0, 0.1, 0.01],\n",
    "    'clf__max_iter': [200, 400],\n",
    "    'clf__class_weight': ['balanced', None],\n",
    "}\n",
    "\n",
    "knn_params = {\n",
    "    'clf__n_neighbors': [3, 5, 9, 15],\n",
    "    'clf__weights': ['uniform', 'distance'],\n",
    "    'clf__p': [1, 2]\n",
    "}\n",
    "\n",
    "rf_params = {\n",
    "    'clf__n_estimators': [100, 200, 300],\n",
    "    'clf__max_depth': [10, 25, 50],\n",
    "    'clf__min_samples_leaf': [1, 5, 11],\n",
    "    'clf__class_weight': ['balanced', None],\n",
    "}\n",
    "\n",
    "ada_params = {\n",
    "    'clf__learning_rate': [1.0, 2.0, 10],\n",
    "    'clf__n_estimators': [50, 80, 120],\n",
    "}\n",
    "\n",
    "hgbc_params = {\n",
    "    'clf__learning_rate': [0.001, 0.01, 0.1],\n",
    "    'clf__l2_regularization': [0, 0.1, 1],\n",
    "    'clf__max_iter': [80, 100, 120],\n",
    "}"
   ]
  },
  {
   "cell_type": "code",
   "execution_count": 18,
   "metadata": {},
   "outputs": [
    {
     "name": "stdout",
     "output_type": "stream",
     "text": [
      "Fitting LogisticRegression\n",
      "Fitting 5 folds for each of 80 candidates, totalling 400 fits\n",
      "Elapsed time: 3 minutes, 10 seconds\n",
      "Best Score:  0.8342192593199101\n",
      "Best Params:  {'clf__C': 0.1, 'clf__class_weight': None, 'clf__max_iter': 200, 'clf__penalty': 'l1', 'pca__n_components': 92}\n",
      "\n"
     ]
    }
   ],
   "source": [
    "lr_best = results.run_pipe(lr, lr_params)"
   ]
  },
  {
   "cell_type": "code",
   "execution_count": 19,
   "metadata": {},
   "outputs": [
    {
     "name": "stdout",
     "output_type": "stream",
     "text": [
      "Fitting KNeighborsClassifier\n",
      "Fitting 5 folds for each of 32 candidates, totalling 160 fits\n",
      "Elapsed time: 1 minutes, 1 seconds\n",
      "Best Score:  0.7650732122178507\n",
      "Best Params:  {'clf__n_neighbors': 15, 'clf__p': 1, 'clf__weights': 'uniform', 'pca__n_components': 92}\n",
      "\n"
     ]
    }
   ],
   "source": [
    "knn_best = results.run_pipe(knn, knn_params)"
   ]
  },
  {
   "cell_type": "code",
   "execution_count": 21,
   "metadata": {
    "cell_id": "a92af20005a749049d1c126cc67318a6",
    "deepnote_cell_type": "code",
    "deepnote_to_be_reexecuted": false,
    "execution_millis": 5,
    "execution_start": 1670551614739,
    "source_hash": "ad166d04",
    "tags": []
   },
   "outputs": [],
   "source": [
    "# extremely overfitting\n",
    "# rf_best = results.run_pipe(rf, rf_params)"
   ]
  },
  {
   "cell_type": "code",
   "execution_count": 22,
   "metadata": {
    "cell_id": "79bb11a6463d45548d77ad6ad69b9a6e",
    "deepnote_cell_type": "code",
    "deepnote_to_be_reexecuted": false,
    "execution_millis": 1,
    "execution_start": 1670551614765,
    "source_hash": "8f961823",
    "tags": []
   },
   "outputs": [
    {
     "name": "stdout",
     "output_type": "stream",
     "text": [
      "Fitting AdaBoostClassifier\n",
      "Fitting 5 folds for each of 18 candidates, totalling 90 fits\n",
      "Elapsed time: 2 minutes, 44 seconds\n",
      "Best Score:  0.8085049398799736\n",
      "Best Params:  {'clf__learning_rate': 1.0, 'clf__n_estimators': 50, 'pca__n_components': 54}\n",
      "\n"
     ]
    }
   ],
   "source": [
    "ada_best = results.run_pipe(ada, ada_params)"
   ]
  },
  {
   "cell_type": "code",
   "execution_count": 23,
   "metadata": {},
   "outputs": [
    {
     "name": "stdout",
     "output_type": "stream",
     "text": [
      "Fitting HistGradientBoostingClassifier\n",
      "Fitting 5 folds for each of 54 candidates, totalling 270 fits\n",
      "Elapsed time: 3 minutes, 37 seconds\n",
      "Best Score:  0.8146320419639448\n",
      "Best Params:  {'clf__l2_regularization': 1, 'clf__learning_rate': 0.01, 'clf__max_iter': 120, 'pca__n_components': 92}\n",
      "\n"
     ]
    }
   ],
   "source": [
    "hgbc_best = results.run_pipe(hgbc, hgbc_params)"
   ]
  },
  {
   "cell_type": "code",
   "execution_count": 24,
   "metadata": {
    "cell_id": "16e54354b94946ad88e3b2c657a8e1b7",
    "deepnote_cell_type": "code",
    "deepnote_to_be_reexecuted": false,
    "execution_millis": 26,
    "execution_start": 1670551614769,
    "source_hash": "c3834e6e",
    "tags": []
   },
   "outputs": [
    {
     "data": {
      "text/html": [
       "<div>\n",
       "<style scoped>\n",
       "    .dataframe tbody tr th:only-of-type {\n",
       "        vertical-align: middle;\n",
       "    }\n",
       "\n",
       "    .dataframe tbody tr th {\n",
       "        vertical-align: top;\n",
       "    }\n",
       "\n",
       "    .dataframe thead th {\n",
       "        text-align: right;\n",
       "    }\n",
       "</style>\n",
       "<table border=\"1\" class=\"dataframe\">\n",
       "  <thead>\n",
       "    <tr style=\"text-align: right;\">\n",
       "      <th></th>\n",
       "      <th>model_names</th>\n",
       "      <th>model</th>\n",
       "      <th>mean_train_roc_auc</th>\n",
       "      <th>mean_test_roc_auc</th>\n",
       "      <th>roc_auc_delta</th>\n",
       "      <th>best_params</th>\n",
       "      <th>runtime</th>\n",
       "    </tr>\n",
       "  </thead>\n",
       "  <tbody>\n",
       "    <tr>\n",
       "      <th>3</th>\n",
       "      <td>HistGradientBoostingClassifier</td>\n",
       "      <td>(ColumnTransformer(remainder='passthrough', sp...</td>\n",
       "      <td>0.9137</td>\n",
       "      <td>0.8001</td>\n",
       "      <td>0.1136</td>\n",
       "      <td>{'clf__l2_regularization': 1, 'clf__learning_r...</td>\n",
       "      <td>217.76</td>\n",
       "    </tr>\n",
       "    <tr>\n",
       "      <th>0</th>\n",
       "      <td>LogisticRegression</td>\n",
       "      <td>(ColumnTransformer(remainder='passthrough', sp...</td>\n",
       "      <td>0.8564</td>\n",
       "      <td>0.7965</td>\n",
       "      <td>0.0599</td>\n",
       "      <td>{'clf__C': 0.1, 'clf__class_weight': None, 'cl...</td>\n",
       "      <td>190.58</td>\n",
       "    </tr>\n",
       "    <tr>\n",
       "      <th>2</th>\n",
       "      <td>AdaBoostClassifier</td>\n",
       "      <td>(ColumnTransformer(remainder='passthrough', sp...</td>\n",
       "      <td>0.8627</td>\n",
       "      <td>0.7950</td>\n",
       "      <td>0.0677</td>\n",
       "      <td>{'clf__learning_rate': 1.0, 'clf__n_estimators...</td>\n",
       "      <td>164.91</td>\n",
       "    </tr>\n",
       "    <tr>\n",
       "      <th>1</th>\n",
       "      <td>KNeighborsClassifier</td>\n",
       "      <td>(ColumnTransformer(remainder='passthrough', sp...</td>\n",
       "      <td>0.9520</td>\n",
       "      <td>0.7664</td>\n",
       "      <td>0.1856</td>\n",
       "      <td>{'clf__n_neighbors': 15, 'clf__p': 1, 'clf__we...</td>\n",
       "      <td>61.40</td>\n",
       "    </tr>\n",
       "  </tbody>\n",
       "</table>\n",
       "</div>"
      ],
      "text/plain": [
       "                      model_names  \\\n",
       "3  HistGradientBoostingClassifier   \n",
       "0              LogisticRegression   \n",
       "2              AdaBoostClassifier   \n",
       "1            KNeighborsClassifier   \n",
       "\n",
       "                                               model  mean_train_roc_auc  \\\n",
       "3  (ColumnTransformer(remainder='passthrough', sp...              0.9137   \n",
       "0  (ColumnTransformer(remainder='passthrough', sp...              0.8564   \n",
       "2  (ColumnTransformer(remainder='passthrough', sp...              0.8627   \n",
       "1  (ColumnTransformer(remainder='passthrough', sp...              0.9520   \n",
       "\n",
       "   mean_test_roc_auc  roc_auc_delta  \\\n",
       "3             0.8001         0.1136   \n",
       "0             0.7965         0.0599   \n",
       "2             0.7950         0.0677   \n",
       "1             0.7664         0.1856   \n",
       "\n",
       "                                         best_params  runtime  \n",
       "3  {'clf__l2_regularization': 1, 'clf__learning_r...   217.76  \n",
       "0  {'clf__C': 0.1, 'clf__class_weight': None, 'cl...   190.58  \n",
       "2  {'clf__learning_rate': 1.0, 'clf__n_estimators...   164.91  \n",
       "1  {'clf__n_neighbors': 15, 'clf__p': 1, 'clf__we...    61.40  "
      ]
     },
     "execution_count": 24,
     "metadata": {},
     "output_type": "execute_result"
    }
   ],
   "source": [
    "results.display()"
   ]
  },
  {
   "attachments": {},
   "cell_type": "markdown",
   "metadata": {},
   "source": [
    "Based on the model_performance table, we see that the the `HistGradientBoostingClassifier` and `AdaBoostClassifier` appear to be performing the best. To optimise our predictions, we will utilise an ensemble method and use the two classifiers with a `VotingClassifier` as our final estimator."
   ]
  },
  {
   "cell_type": "code",
   "execution_count": 25,
   "metadata": {},
   "outputs": [
    {
     "data": {
      "image/png": "[encoded data removed]",
      "text/plain": [
       "<Figure size 640x480 with 2 Axes>"
      ]
     },
     "metadata": {},
     "output_type": "display_data"
    }
   ],
   "source": [
    "# check correlation between our model predictions\n",
    "\n",
    "predictions = []\n",
    "for model in results.display()['model']:\n",
    "    predictions.append(model.predict(X_train))\n",
    "\n",
    "sns.heatmap(\n",
    "    data = pd.DataFrame(\n",
    "    np.column_stack(tuple(predictions)),\n",
    "    columns = results.display()['model_names']\n",
    "    ).corr(),\n",
    "    annot = True,\n",
    "    cmap = 'Blues',\n",
    "    vmin = 0,\n",
    "    vmax = 1\n",
    ");"
   ]
  },
  {
   "cell_type": "code",
   "execution_count": 26,
   "metadata": {},
   "outputs": [],
   "source": [
    "# check coefficents from LogisticRegression\n",
    "# feature_names = lr_best[0].get_feature_names_out()\n",
    "# pca_component_values = lr_best[2].components_\n",
    "# pca_components = pd.DataFrame(pca_component_values, columns=feature_names)\n",
    "# pca_components['sum'] = pca_components.sum(axis=1)\n",
    "\n",
    "# extract LogisticRegression coefficients\n",
    "# lr_coefficients = lr_best[-1].coef_[0]\n",
    "# pca_components['lr_coefficients'] = pd.Series(lr_coefficients)\n",
    "# pca_components.iloc[:, -2:].sort_values(by='lr_coefficients', ascending=False)\n",
    "# pca_table['lr_coefficients'] = pd.Series(lr_coefficients)\n",
    "# features_coefs.rename(columns={0: 'feature', 1: 'coef'}, inplace=True)\n",
    "# features_coefs.sort_values(by='coef', ascending=False).iloc[:50]"
   ]
  },
  {
   "cell_type": "code",
   "execution_count": 27,
   "metadata": {},
   "outputs": [],
   "source": [
    "# pca_components"
   ]
  },
  {
   "cell_type": "code",
   "execution_count": 28,
   "metadata": {},
   "outputs": [],
   "source": [
    "# create VotingClassifier ensemble with best performing classifiers\n",
    "voting_clf = VotingClassifier([\n",
    "    # ('HistGradientBoost', hgbc_best[-1]),\n",
    "    ('AdaBoost', ada_best[-1]),\n",
    "    ('LogReg', lr_best[-1]),\n",
    "    # ('Kneighbors', knn_best[-1])\n",
    "], voting='soft')\n",
    "\n",
    "voting_params = {\n",
    "    'sample__sampling_strategy': ['auto', 0.1, 0.25, 0.5],\n",
    "#     'clf__GradientBoost__learning_rate': [0.01, 0.1],\n",
    "#     'clf__GradientBoost__subsample': [0.7, 1.0],\n",
    "#     'clf__GradientBoost__max_depth': [3, 7],\n",
    "#     'clf__AdaBoost__learning_rate': [1.0, 2.0, 10],\n",
    "#     'clf__LogReg__solver': ['liblinear'],\n",
    "#     'clf__LogReg__C': [100, 10, 1.0],\n",
    "}"
   ]
  },
  {
   "cell_type": "code",
   "execution_count": 29,
   "metadata": {
    "cell_id": "005373c33c9d435daf02555821ef357d",
    "deepnote_cell_type": "code",
    "deepnote_to_be_reexecuted": false,
    "execution_millis": 132,
    "execution_start": 1670552989018,
    "source_hash": "506a2374"
   },
   "outputs": [
    {
     "name": "stdout",
     "output_type": "stream",
     "text": [
      "Fitting VotingClassifier\n",
      "Fitting 5 folds for each of 8 candidates, totalling 40 fits\n",
      "Elapsed time: 0 minutes, 48 seconds\n",
      "Best Score:  0.8360822211624338\n",
      "Best Params:  {'pca__n_components': 92, 'sample__sampling_strategy': 0.25}\n",
      "\n"
     ]
    }
   ],
   "source": [
    "voting_best = results.run_pipe(voting_clf, voting_params)"
   ]
  },
  {
   "cell_type": "code",
   "execution_count": 30,
   "metadata": {},
   "outputs": [
    {
     "data": {
      "text/html": [
       "<div>\n",
       "<style scoped>\n",
       "    .dataframe tbody tr th:only-of-type {\n",
       "        vertical-align: middle;\n",
       "    }\n",
       "\n",
       "    .dataframe tbody tr th {\n",
       "        vertical-align: top;\n",
       "    }\n",
       "\n",
       "    .dataframe thead th {\n",
       "        text-align: right;\n",
       "    }\n",
       "</style>\n",
       "<table border=\"1\" class=\"dataframe\">\n",
       "  <thead>\n",
       "    <tr style=\"text-align: right;\">\n",
       "      <th></th>\n",
       "      <th>model_names</th>\n",
       "      <th>model</th>\n",
       "      <th>mean_train_roc_auc</th>\n",
       "      <th>mean_test_roc_auc</th>\n",
       "      <th>roc_auc_delta</th>\n",
       "      <th>best_params</th>\n",
       "      <th>runtime</th>\n",
       "    </tr>\n",
       "  </thead>\n",
       "  <tbody>\n",
       "    <tr>\n",
       "      <th>3</th>\n",
       "      <td>HistGradientBoostingClassifier</td>\n",
       "      <td>(ColumnTransformer(remainder='passthrough', sp...</td>\n",
       "      <td>0.9137</td>\n",
       "      <td>0.8001</td>\n",
       "      <td>0.1136</td>\n",
       "      <td>{'clf__l2_regularization': 1, 'clf__learning_r...</td>\n",
       "      <td>217.76</td>\n",
       "    </tr>\n",
       "    <tr>\n",
       "      <th>4</th>\n",
       "      <td>VotingClassifier</td>\n",
       "      <td>(ColumnTransformer(remainder='passthrough', sp...</td>\n",
       "      <td>0.8538</td>\n",
       "      <td>0.7981</td>\n",
       "      <td>0.0557</td>\n",
       "      <td>{'pca__n_components': 92, 'sample__sampling_st...</td>\n",
       "      <td>48.76</td>\n",
       "    </tr>\n",
       "    <tr>\n",
       "      <th>0</th>\n",
       "      <td>LogisticRegression</td>\n",
       "      <td>(ColumnTransformer(remainder='passthrough', sp...</td>\n",
       "      <td>0.8564</td>\n",
       "      <td>0.7965</td>\n",
       "      <td>0.0599</td>\n",
       "      <td>{'clf__C': 0.1, 'clf__class_weight': None, 'cl...</td>\n",
       "      <td>190.58</td>\n",
       "    </tr>\n",
       "    <tr>\n",
       "      <th>2</th>\n",
       "      <td>AdaBoostClassifier</td>\n",
       "      <td>(ColumnTransformer(remainder='passthrough', sp...</td>\n",
       "      <td>0.8627</td>\n",
       "      <td>0.7950</td>\n",
       "      <td>0.0677</td>\n",
       "      <td>{'clf__learning_rate': 1.0, 'clf__n_estimators...</td>\n",
       "      <td>164.91</td>\n",
       "    </tr>\n",
       "    <tr>\n",
       "      <th>1</th>\n",
       "      <td>KNeighborsClassifier</td>\n",
       "      <td>(ColumnTransformer(remainder='passthrough', sp...</td>\n",
       "      <td>0.9520</td>\n",
       "      <td>0.7664</td>\n",
       "      <td>0.1856</td>\n",
       "      <td>{'clf__n_neighbors': 15, 'clf__p': 1, 'clf__we...</td>\n",
       "      <td>61.40</td>\n",
       "    </tr>\n",
       "  </tbody>\n",
       "</table>\n",
       "</div>"
      ],
      "text/plain": [
       "                      model_names  \\\n",
       "3  HistGradientBoostingClassifier   \n",
       "4                VotingClassifier   \n",
       "0              LogisticRegression   \n",
       "2              AdaBoostClassifier   \n",
       "1            KNeighborsClassifier   \n",
       "\n",
       "                                               model  mean_train_roc_auc  \\\n",
       "3  (ColumnTransformer(remainder='passthrough', sp...              0.9137   \n",
       "4  (ColumnTransformer(remainder='passthrough', sp...              0.8538   \n",
       "0  (ColumnTransformer(remainder='passthrough', sp...              0.8564   \n",
       "2  (ColumnTransformer(remainder='passthrough', sp...              0.8627   \n",
       "1  (ColumnTransformer(remainder='passthrough', sp...              0.9520   \n",
       "\n",
       "   mean_test_roc_auc  roc_auc_delta  \\\n",
       "3             0.8001         0.1136   \n",
       "4             0.7981         0.0557   \n",
       "0             0.7965         0.0599   \n",
       "2             0.7950         0.0677   \n",
       "1             0.7664         0.1856   \n",
       "\n",
       "                                         best_params  runtime  \n",
       "3  {'clf__l2_regularization': 1, 'clf__learning_r...   217.76  \n",
       "4  {'pca__n_components': 92, 'sample__sampling_st...    48.76  \n",
       "0  {'clf__C': 0.1, 'clf__class_weight': None, 'cl...   190.58  \n",
       "2  {'clf__learning_rate': 1.0, 'clf__n_estimators...   164.91  \n",
       "1  {'clf__n_neighbors': 15, 'clf__p': 1, 'clf__we...    61.40  "
      ]
     },
     "execution_count": 30,
     "metadata": {},
     "output_type": "execute_result"
    }
   ],
   "source": [
    "results.display()"
   ]
  },
  {
   "attachments": {},
   "cell_type": "markdown",
   "metadata": {},
   "source": [
    "Selecting the top performing model based on `balanced accuracy` score."
   ]
  },
  {
   "cell_type": "code",
   "execution_count": 31,
   "metadata": {},
   "outputs": [],
   "source": [
    "best_model = voting_best"
   ]
  },
  {
   "attachments": {},
   "cell_type": "markdown",
   "metadata": {},
   "source": [
    "## Model Performance\n",
    "\n",
    "---\n",
    "\n",
    "Random text"
   ]
  },
  {
   "cell_type": "code",
   "execution_count": 32,
   "metadata": {},
   "outputs": [
    {
     "data": {
      "image/png": "[encoded data removed]",
      "text/plain": [
       "<Figure size 640x480 with 2 Axes>"
      ]
     },
     "metadata": {},
     "output_type": "display_data"
    }
   ],
   "source": [
    "preds = best_model.predict(X_test)\n",
    "cm_disp = ConfusionMatrixDisplay.from_predictions(y_test, preds)"
   ]
  },
  {
   "cell_type": "code",
   "execution_count": 33,
   "metadata": {
    "cell_id": "d1cef0a9162a4398958108b253f2008d",
    "deepnote_cell_type": "code",
    "deepnote_to_be_reexecuted": true,
    "execution_millis": 554,
    "execution_start": 1670548138224,
    "source_hash": "ed13f675"
   },
   "outputs": [
    {
     "name": "stdout",
     "output_type": "stream",
     "text": [
      "              precision    recall  f1-score   support\n",
      "\n",
      "           0       0.96      0.95      0.95      2489\n",
      "           1       0.20      0.25      0.22       138\n",
      "\n",
      "    accuracy                           0.91      2627\n",
      "   macro avg       0.58      0.60      0.59      2627\n",
      "weighted avg       0.92      0.91      0.91      2627\n",
      "\n"
     ]
    }
   ],
   "source": [
    "print(classification_report(y_test, preds))"
   ]
  },
  {
   "cell_type": "code",
   "execution_count": 34,
   "metadata": {},
   "outputs": [
    {
     "data": {
      "image/png": "[encoded data removed]",
      "text/plain": [
       "<Figure size 640x480 with 1 Axes>"
      ]
     },
     "metadata": {},
     "output_type": "display_data"
    }
   ],
   "source": [
    "RocCurveDisplay.from_predictions(y_test, preds);"
   ]
  },
  {
   "cell_type": "code",
   "execution_count": 35,
   "metadata": {},
   "outputs": [],
   "source": [
    "threshold = []\n",
    "roc_auc_score_ = []\n",
    "\n",
    "for p in np.linspace(0,1,101):\n",
    "  threshold.append(p)\n",
    "  y_pred = (best_model.predict_proba(X_train)[:,1] >= p).astype(int)\n",
    "  roc_auc_score_.append(roc_auc_score(y_train, y_pred))\n",
    "\n",
    "threshold_max = threshold[np.argmax(roc_auc_score_)]"
   ]
  },
  {
   "cell_type": "code",
   "execution_count": 36,
   "metadata": {},
   "outputs": [
    {
     "data": {
      "image/png": "[encoded data removed]",
      "text/plain": [
       "<Figure size 640x480 with 1 Axes>"
      ]
     },
     "metadata": {},
     "output_type": "display_data"
    }
   ],
   "source": [
    "plt.scatter(threshold,roc_auc_score_)\n",
    "plt.axvline(x=threshold_max, linestyle='--', c='red', label=f'Threshold {threshold_max}')\n",
    "plt.xlabel(\"Threshold\")\n",
    "plt.ylabel(\"ROC AUC Score\")\n",
    "plt.title(\"ROC AUC Score against Threshold\")\n",
    "plt.legend(loc='best')\n",
    "plt.show();"
   ]
  },
  {
   "cell_type": "code",
   "execution_count": 37,
   "metadata": {},
   "outputs": [
    {
     "data": {
      "image/png": "[encoded data removed]",
      "text/plain": [
       "<Figure size 640x480 with 2 Axes>"
      ]
     },
     "metadata": {},
     "output_type": "display_data"
    }
   ],
   "source": [
    "y_hat = pd.Series(np.where(best_model.predict_proba(X_test)[:,1] >= threshold_max, 1, 0), \n",
    "                     dtype='category')\n",
    "cm_disp_yhat = ConfusionMatrixDisplay.from_predictions(y_test, y_hat)"
   ]
  },
  {
   "cell_type": "code",
   "execution_count": 38,
   "metadata": {},
   "outputs": [
    {
     "name": "stdout",
     "output_type": "stream",
     "text": [
      "              precision    recall  f1-score   support\n",
      "\n",
      "           0       0.98      0.77      0.86      2489\n",
      "           1       0.13      0.65      0.22       138\n",
      "\n",
      "    accuracy                           0.76      2627\n",
      "   macro avg       0.55      0.71      0.54      2627\n",
      "weighted avg       0.93      0.76      0.83      2627\n",
      "\n"
     ]
    }
   ],
   "source": [
    "print(classification_report(y_test, y_hat))"
   ]
  },
  {
   "cell_type": "code",
   "execution_count": 39,
   "metadata": {},
   "outputs": [
    {
     "data": {
      "image/png": "[encoded data removed]",
      "text/plain": [
       "<Figure size 640x480 with 1 Axes>"
      ]
     },
     "metadata": {},
     "output_type": "display_data"
    }
   ],
   "source": [
    "RocCurveDisplay.from_predictions(y_test, y_hat);"
   ]
  },
  {
   "cell_type": "code",
   "execution_count": 40,
   "metadata": {
    "scrolled": true
   },
   "outputs": [
    {
     "data": {
      "text/html": [
       "<style>#sk-container-id-1 {color: black;background-color: white;}#sk-container-id-1 pre{padding: 0;}#sk-container-id-1 div.sk-toggleable {background-color: white;}#sk-container-id-1 label.sk-toggleable__label {cursor: pointer;display: block;width: 100%;margin-bottom: 0;padding: 0.3em;box-sizing: border-box;text-align: center;}#sk-container-id-1 label.sk-toggleable__label-arrow:before {content: \"▸\";float: left;margin-right: 0.25em;color: #696969;}#sk-container-id-1 label.sk-toggleable__label-arrow:hover:before {color: black;}#sk-container-id-1 div.sk-estimator:hover label.sk-toggleable__label-arrow:before {color: black;}#sk-container-id-1 div.sk-toggleable__content {max-height: 0;max-width: 0;overflow: hidden;text-align: left;background-color: #f0f8ff;}#sk-container-id-1 div.sk-toggleable__content pre {margin: 0.2em;color: black;border-radius: 0.25em;background-color: #f0f8ff;}#sk-container-id-1 input.sk-toggleable__control:checked~div.sk-toggleable__content {max-height: 200px;max-width: 100%;overflow: auto;}#sk-container-id-1 input.sk-toggleable__control:checked~label.sk-toggleable__label-arrow:before {content: \"▾\";}#sk-container-id-1 div.sk-estimator input.sk-toggleable__control:checked~label.sk-toggleable__label {background-color: #d4ebff;}#sk-container-id-1 div.sk-label input.sk-toggleable__control:checked~label.sk-toggleable__label {background-color: #d4ebff;}#sk-container-id-1 input.sk-hidden--visually {border: 0;clip: rect(1px 1px 1px 1px);clip: rect(1px, 1px, 1px, 1px);height: 1px;margin: -1px;overflow: hidden;padding: 0;position: absolute;width: 1px;}#sk-container-id-1 div.sk-estimator {font-family: monospace;background-color: #f0f8ff;border: 1px dotted black;border-radius: 0.25em;box-sizing: border-box;margin-bottom: 0.5em;}#sk-container-id-1 div.sk-estimator:hover {background-color: #d4ebff;}#sk-container-id-1 div.sk-parallel-item::after {content: \"\";width: 100%;border-bottom: 1px solid gray;flex-grow: 1;}#sk-container-id-1 div.sk-label:hover label.sk-toggleable__label {background-color: #d4ebff;}#sk-container-id-1 div.sk-serial::before {content: \"\";position: absolute;border-left: 1px solid gray;box-sizing: border-box;top: 0;bottom: 0;left: 50%;z-index: 0;}#sk-container-id-1 div.sk-serial {display: flex;flex-direction: column;align-items: center;background-color: white;padding-right: 0.2em;padding-left: 0.2em;position: relative;}#sk-container-id-1 div.sk-item {position: relative;z-index: 1;}#sk-container-id-1 div.sk-parallel {display: flex;align-items: stretch;justify-content: center;background-color: white;position: relative;}#sk-container-id-1 div.sk-item::before, #sk-container-id-1 div.sk-parallel-item::before {content: \"\";position: absolute;border-left: 1px solid gray;box-sizing: border-box;top: 0;bottom: 0;left: 50%;z-index: -1;}#sk-container-id-1 div.sk-parallel-item {display: flex;flex-direction: column;z-index: 1;position: relative;background-color: white;}#sk-container-id-1 div.sk-parallel-item:first-child::after {align-self: flex-end;width: 50%;}#sk-container-id-1 div.sk-parallel-item:last-child::after {align-self: flex-start;width: 50%;}#sk-container-id-1 div.sk-parallel-item:only-child::after {width: 0;}#sk-container-id-1 div.sk-dashed-wrapped {border: 1px dashed gray;margin: 0 0.4em 0.5em 0.4em;box-sizing: border-box;padding-bottom: 0.4em;background-color: white;}#sk-container-id-1 div.sk-label label {font-family: monospace;font-weight: bold;display: inline-block;line-height: 1.2em;}#sk-container-id-1 div.sk-label-container {text-align: center;}#sk-container-id-1 div.sk-container {/* jupyter's `normalize.less` sets `[hidden] { display: none; }` but bootstrap.min.css set `[hidden] { display: none !important; }` so we also need the `!important` here to be able to override the default hidden behavior on the sphinx rendered scikit-learn.org. See: https://github.com/scikit-learn/scikit-learn/issues/21755 */display: inline-block !important;position: relative;}#sk-container-id-1 div.sk-text-repr-fallback {display: none;}</style><div id=\"sk-container-id-1\" class=\"sk-top-container\"><div class=\"sk-text-repr-fallback\"><pre>Pipeline(steps=[(&#x27;col_transform&#x27;,\n",
       "                 ColumnTransformer(remainder=&#x27;passthrough&#x27;, sparse_threshold=0,\n",
       "                                   transformers=[(&#x27;OneHotEncoder&#x27;,\n",
       "                                                  OneHotEncoder(drop=&#x27;if_binary&#x27;,\n",
       "                                                                handle_unknown=&#x27;infrequent_if_exist&#x27;),\n",
       "                                                  [&#x27;Trap&#x27;, &#x27;Month&#x27;, &#x27;Week&#x27;,\n",
       "                                                   &#x27;Species&#x27;]),\n",
       "                                                 (&#x27;CountVectorizer&#x27;,\n",
       "                                                  Pipeline(steps=[(&#x27;squeeze&#x27;,\n",
       "                                                                   FunctionTransformer(func=&lt;function &lt;lambda&gt; at 0x00000125CAC3D700&gt;)),\n",
       "                                                                  (&#x27;vector&#x27;...\n",
       "                                                                                       func=&lt;function &lt;lambda&gt; at 0x00000125C6780B80&gt;))]),\n",
       "                                                  [&#x27;CodeSum&#x27;])])),\n",
       "                (&#x27;scale&#x27;, MinMaxScaler()), (&#x27;pca&#x27;, PCA(n_components=92)),\n",
       "                (&#x27;sample&#x27;,\n",
       "                 SMOTETomek(n_jobs=2, random_state=42, sampling_strategy=0.25)),\n",
       "                (&#x27;clf&#x27;,\n",
       "                 VotingClassifier(estimators=[(&#x27;AdaBoost&#x27;,\n",
       "                                               AdaBoostClassifier(random_state=42)),\n",
       "                                              (&#x27;LogReg&#x27;,\n",
       "                                               LogisticRegression(C=0.1,\n",
       "                                                                  max_iter=200,\n",
       "                                                                  penalty=&#x27;l1&#x27;,\n",
       "                                                                  random_state=42,\n",
       "                                                                  solver=&#x27;liblinear&#x27;))],\n",
       "                                  voting=&#x27;soft&#x27;))])</pre><b>In a Jupyter environment, please rerun this cell to show the HTML representation or trust the notebook. <br />On GitHub, the HTML representation is unable to render, please try loading this page with nbviewer.org.</b></div><div class=\"sk-container\" hidden><div class=\"sk-item sk-dashed-wrapped\"><div class=\"sk-label-container\"><div class=\"sk-label sk-toggleable\"><input class=\"sk-toggleable__control sk-hidden--visually\" id=\"sk-estimator-id-1\" type=\"checkbox\" ><label for=\"sk-estimator-id-1\" class=\"sk-toggleable__label sk-toggleable__label-arrow\">Pipeline</label><div class=\"sk-toggleable__content\"><pre>Pipeline(steps=[(&#x27;col_transform&#x27;,\n",
       "                 ColumnTransformer(remainder=&#x27;passthrough&#x27;, sparse_threshold=0,\n",
       "                                   transformers=[(&#x27;OneHotEncoder&#x27;,\n",
       "                                                  OneHotEncoder(drop=&#x27;if_binary&#x27;,\n",
       "                                                                handle_unknown=&#x27;infrequent_if_exist&#x27;),\n",
       "                                                  [&#x27;Trap&#x27;, &#x27;Month&#x27;, &#x27;Week&#x27;,\n",
       "                                                   &#x27;Species&#x27;]),\n",
       "                                                 (&#x27;CountVectorizer&#x27;,\n",
       "                                                  Pipeline(steps=[(&#x27;squeeze&#x27;,\n",
       "                                                                   FunctionTransformer(func=&lt;function &lt;lambda&gt; at 0x00000125CAC3D700&gt;)),\n",
       "                                                                  (&#x27;vector&#x27;...\n",
       "                                                                                       func=&lt;function &lt;lambda&gt; at 0x00000125C6780B80&gt;))]),\n",
       "                                                  [&#x27;CodeSum&#x27;])])),\n",
       "                (&#x27;scale&#x27;, MinMaxScaler()), (&#x27;pca&#x27;, PCA(n_components=92)),\n",
       "                (&#x27;sample&#x27;,\n",
       "                 SMOTETomek(n_jobs=2, random_state=42, sampling_strategy=0.25)),\n",
       "                (&#x27;clf&#x27;,\n",
       "                 VotingClassifier(estimators=[(&#x27;AdaBoost&#x27;,\n",
       "                                               AdaBoostClassifier(random_state=42)),\n",
       "                                              (&#x27;LogReg&#x27;,\n",
       "                                               LogisticRegression(C=0.1,\n",
       "                                                                  max_iter=200,\n",
       "                                                                  penalty=&#x27;l1&#x27;,\n",
       "                                                                  random_state=42,\n",
       "                                                                  solver=&#x27;liblinear&#x27;))],\n",
       "                                  voting=&#x27;soft&#x27;))])</pre></div></div></div><div class=\"sk-serial\"><div class=\"sk-item sk-dashed-wrapped\"><div class=\"sk-label-container\"><div class=\"sk-label sk-toggleable\"><input class=\"sk-toggleable__control sk-hidden--visually\" id=\"sk-estimator-id-2\" type=\"checkbox\" ><label for=\"sk-estimator-id-2\" class=\"sk-toggleable__label sk-toggleable__label-arrow\">col_transform: ColumnTransformer</label><div class=\"sk-toggleable__content\"><pre>ColumnTransformer(remainder=&#x27;passthrough&#x27;, sparse_threshold=0,\n",
       "                  transformers=[(&#x27;OneHotEncoder&#x27;,\n",
       "                                 OneHotEncoder(drop=&#x27;if_binary&#x27;,\n",
       "                                               handle_unknown=&#x27;infrequent_if_exist&#x27;),\n",
       "                                 [&#x27;Trap&#x27;, &#x27;Month&#x27;, &#x27;Week&#x27;, &#x27;Species&#x27;]),\n",
       "                                (&#x27;CountVectorizer&#x27;,\n",
       "                                 Pipeline(steps=[(&#x27;squeeze&#x27;,\n",
       "                                                  FunctionTransformer(func=&lt;function &lt;lambda&gt; at 0x00000125CAC3D700&gt;)),\n",
       "                                                 (&#x27;vector&#x27;, CountVectorizer()),\n",
       "                                                 (&#x27;array&#x27;,\n",
       "                                                  FunctionTransformer(accept_sparse=True,\n",
       "                                                                      func=&lt;function &lt;lambda&gt; at 0x00000125C6780B80&gt;))]),\n",
       "                                 [&#x27;CodeSum&#x27;])])</pre></div></div></div><div class=\"sk-parallel\"><div class=\"sk-parallel-item\"><div class=\"sk-item\"><div class=\"sk-label-container\"><div class=\"sk-label sk-toggleable\"><input class=\"sk-toggleable__control sk-hidden--visually\" id=\"sk-estimator-id-3\" type=\"checkbox\" ><label for=\"sk-estimator-id-3\" class=\"sk-toggleable__label sk-toggleable__label-arrow\">OneHotEncoder</label><div class=\"sk-toggleable__content\"><pre>[&#x27;Trap&#x27;, &#x27;Month&#x27;, &#x27;Week&#x27;, &#x27;Species&#x27;]</pre></div></div></div><div class=\"sk-serial\"><div class=\"sk-item\"><div class=\"sk-estimator sk-toggleable\"><input class=\"sk-toggleable__control sk-hidden--visually\" id=\"sk-estimator-id-4\" type=\"checkbox\" ><label for=\"sk-estimator-id-4\" class=\"sk-toggleable__label sk-toggleable__label-arrow\">OneHotEncoder</label><div class=\"sk-toggleable__content\"><pre>OneHotEncoder(drop=&#x27;if_binary&#x27;, handle_unknown=&#x27;infrequent_if_exist&#x27;)</pre></div></div></div></div></div></div><div class=\"sk-parallel-item\"><div class=\"sk-item\"><div class=\"sk-label-container\"><div class=\"sk-label sk-toggleable\"><input class=\"sk-toggleable__control sk-hidden--visually\" id=\"sk-estimator-id-5\" type=\"checkbox\" ><label for=\"sk-estimator-id-5\" class=\"sk-toggleable__label sk-toggleable__label-arrow\">CountVectorizer</label><div class=\"sk-toggleable__content\"><pre>[&#x27;CodeSum&#x27;]</pre></div></div></div><div class=\"sk-serial\"><div class=\"sk-item\"><div class=\"sk-serial\"><div class=\"sk-item\"><div class=\"sk-estimator sk-toggleable\"><input class=\"sk-toggleable__control sk-hidden--visually\" id=\"sk-estimator-id-6\" type=\"checkbox\" ><label for=\"sk-estimator-id-6\" class=\"sk-toggleable__label sk-toggleable__label-arrow\">FunctionTransformer</label><div class=\"sk-toggleable__content\"><pre>FunctionTransformer(func=&lt;function &lt;lambda&gt; at 0x00000125CAC3D700&gt;)</pre></div></div></div><div class=\"sk-item\"><div class=\"sk-estimator sk-toggleable\"><input class=\"sk-toggleable__control sk-hidden--visually\" id=\"sk-estimator-id-7\" type=\"checkbox\" ><label for=\"sk-estimator-id-7\" class=\"sk-toggleable__label sk-toggleable__label-arrow\">CountVectorizer</label><div class=\"sk-toggleable__content\"><pre>CountVectorizer()</pre></div></div></div><div class=\"sk-item\"><div class=\"sk-estimator sk-toggleable\"><input class=\"sk-toggleable__control sk-hidden--visually\" id=\"sk-estimator-id-8\" type=\"checkbox\" ><label for=\"sk-estimator-id-8\" class=\"sk-toggleable__label sk-toggleable__label-arrow\">FunctionTransformer</label><div class=\"sk-toggleable__content\"><pre>FunctionTransformer(accept_sparse=True,\n",
       "                    func=&lt;function &lt;lambda&gt; at 0x00000125C6780B80&gt;)</pre></div></div></div></div></div></div></div></div><div class=\"sk-parallel-item\"><div class=\"sk-item\"><div class=\"sk-label-container\"><div class=\"sk-label sk-toggleable\"><input class=\"sk-toggleable__control sk-hidden--visually\" id=\"sk-estimator-id-9\" type=\"checkbox\" ><label for=\"sk-estimator-id-9\" class=\"sk-toggleable__label sk-toggleable__label-arrow\">remainder</label><div class=\"sk-toggleable__content\"><pre>[&#x27;Latitude&#x27;, &#x27;Longitude&#x27;, &#x27;AddressAccuracy&#x27;, &#x27;Year&#x27;, &#x27;DayOfWeek&#x27;, &#x27;Station&#x27;, &#x27;Tmax&#x27;, &#x27;Tmin&#x27;, &#x27;Tavg&#x27;, &#x27;Depart&#x27;, &#x27;DewPoint&#x27;, &#x27;WetBulb&#x27;, &#x27;Heat&#x27;, &#x27;Cool&#x27;, &#x27;Sunrise&#x27;, &#x27;Sunset&#x27;, &#x27;SnowFall&#x27;, &#x27;PrecipTotal&#x27;, &#x27;StnPressure&#x27;, &#x27;SeaLevel&#x27;, &#x27;ResultSpeed&#x27;, &#x27;ResultDir&#x27;, &#x27;AvgSpeed&#x27;, &#x27;Humidity&#x27;, &#x27;Tavg_7_days&#x27;, &#x27;Depart_7_days&#x27;, &#x27;DewPoint_7_days&#x27;, &#x27;WetBulb_7_days&#x27;, &#x27;Heat_7_days&#x27;, &#x27;Cool_7_days&#x27;, &#x27;Sunrise_7_days&#x27;, &#x27;Sunset_7_days&#x27;, &#x27;SnowFall_7_days&#x27;, &#x27;PrecipTotal_7_days&#x27;, &#x27;StnPressure_7_days&#x27;, &#x27;SeaLevel_7_days&#x27;, &#x27;ResultSpeed_7_days&#x27;, &#x27;ResultDir_7_days&#x27;, &#x27;AvgSpeed_7_days&#x27;, &#x27;Humidity_7_days&#x27;, &#x27;Tavg_14_days&#x27;, &#x27;Depart_14_days&#x27;, &#x27;DewPoint_14_days&#x27;, &#x27;WetBulb_14_days&#x27;, &#x27;Heat_14_days&#x27;, &#x27;Cool_14_days&#x27;, &#x27;Sunrise_14_days&#x27;, &#x27;Sunset_14_days&#x27;, &#x27;SnowFall_14_days&#x27;, &#x27;PrecipTotal_14_days&#x27;, &#x27;StnPressure_14_days&#x27;, &#x27;SeaLevel_14_days&#x27;, &#x27;ResultSpeed_14_days&#x27;, &#x27;ResultDir_14_days&#x27;, &#x27;AvgSpeed_14_days&#x27;, &#x27;Humidity_14_days&#x27;, &#x27;Tavg_21_days&#x27;, &#x27;Depart_21_days&#x27;, &#x27;DewPoint_21_days&#x27;, &#x27;WetBulb_21_days&#x27;, &#x27;Heat_21_days&#x27;, &#x27;Cool_21_days&#x27;, &#x27;Sunrise_21_days&#x27;, &#x27;Sunset_21_days&#x27;, &#x27;SnowFall_21_days&#x27;, &#x27;PrecipTotal_21_days&#x27;, &#x27;StnPressure_21_days&#x27;, &#x27;SeaLevel_21_days&#x27;, &#x27;ResultSpeed_21_days&#x27;, &#x27;ResultDir_21_days&#x27;, &#x27;AvgSpeed_21_days&#x27;, &#x27;Humidity_21_days&#x27;, &#x27;Daylight_hours&#x27;, &#x27;Vector&#x27;]</pre></div></div></div><div class=\"sk-serial\"><div class=\"sk-item\"><div class=\"sk-estimator sk-toggleable\"><input class=\"sk-toggleable__control sk-hidden--visually\" id=\"sk-estimator-id-10\" type=\"checkbox\" ><label for=\"sk-estimator-id-10\" class=\"sk-toggleable__label sk-toggleable__label-arrow\">passthrough</label><div class=\"sk-toggleable__content\"><pre>passthrough</pre></div></div></div></div></div></div></div></div><div class=\"sk-item\"><div class=\"sk-estimator sk-toggleable\"><input class=\"sk-toggleable__control sk-hidden--visually\" id=\"sk-estimator-id-11\" type=\"checkbox\" ><label for=\"sk-estimator-id-11\" class=\"sk-toggleable__label sk-toggleable__label-arrow\">MinMaxScaler</label><div class=\"sk-toggleable__content\"><pre>MinMaxScaler()</pre></div></div></div><div class=\"sk-item\"><div class=\"sk-estimator sk-toggleable\"><input class=\"sk-toggleable__control sk-hidden--visually\" id=\"sk-estimator-id-12\" type=\"checkbox\" ><label for=\"sk-estimator-id-12\" class=\"sk-toggleable__label sk-toggleable__label-arrow\">PCA</label><div class=\"sk-toggleable__content\"><pre>PCA(n_components=92)</pre></div></div></div><div class=\"sk-item\"><div class=\"sk-estimator sk-toggleable\"><input class=\"sk-toggleable__control sk-hidden--visually\" id=\"sk-estimator-id-13\" type=\"checkbox\" ><label for=\"sk-estimator-id-13\" class=\"sk-toggleable__label sk-toggleable__label-arrow\">SMOTETomek</label><div class=\"sk-toggleable__content\"><pre>SMOTETomek(n_jobs=2, random_state=42, sampling_strategy=0.25)</pre></div></div></div><div class=\"sk-item sk-dashed-wrapped\"><div class=\"sk-label-container\"><div class=\"sk-label sk-toggleable\"><input class=\"sk-toggleable__control sk-hidden--visually\" id=\"sk-estimator-id-14\" type=\"checkbox\" ><label for=\"sk-estimator-id-14\" class=\"sk-toggleable__label sk-toggleable__label-arrow\">clf: VotingClassifier</label><div class=\"sk-toggleable__content\"><pre>VotingClassifier(estimators=[(&#x27;AdaBoost&#x27;, AdaBoostClassifier(random_state=42)),\n",
       "                             (&#x27;LogReg&#x27;,\n",
       "                              LogisticRegression(C=0.1, max_iter=200,\n",
       "                                                 penalty=&#x27;l1&#x27;, random_state=42,\n",
       "                                                 solver=&#x27;liblinear&#x27;))],\n",
       "                 voting=&#x27;soft&#x27;)</pre></div></div></div><div class=\"sk-parallel\"><div class=\"sk-parallel-item\"><div class=\"sk-item\"><div class=\"sk-label-container\"><div class=\"sk-label sk-toggleable\"><label>AdaBoost</label></div></div><div class=\"sk-serial\"><div class=\"sk-item\"><div class=\"sk-estimator sk-toggleable\"><input class=\"sk-toggleable__control sk-hidden--visually\" id=\"sk-estimator-id-15\" type=\"checkbox\" ><label for=\"sk-estimator-id-15\" class=\"sk-toggleable__label sk-toggleable__label-arrow\">AdaBoostClassifier</label><div class=\"sk-toggleable__content\"><pre>AdaBoostClassifier(random_state=42)</pre></div></div></div></div></div></div><div class=\"sk-parallel-item\"><div class=\"sk-item\"><div class=\"sk-label-container\"><div class=\"sk-label sk-toggleable\"><label>LogReg</label></div></div><div class=\"sk-serial\"><div class=\"sk-item\"><div class=\"sk-estimator sk-toggleable\"><input class=\"sk-toggleable__control sk-hidden--visually\" id=\"sk-estimator-id-16\" type=\"checkbox\" ><label for=\"sk-estimator-id-16\" class=\"sk-toggleable__label sk-toggleable__label-arrow\">LogisticRegression</label><div class=\"sk-toggleable__content\"><pre>LogisticRegression(C=0.1, max_iter=200, penalty=&#x27;l1&#x27;, random_state=42,\n",
       "                   solver=&#x27;liblinear&#x27;)</pre></div></div></div></div></div></div></div></div></div></div></div></div>"
      ],
      "text/plain": [
       "Pipeline(steps=[('col_transform',\n",
       "                 ColumnTransformer(remainder='passthrough', sparse_threshold=0,\n",
       "                                   transformers=[('OneHotEncoder',\n",
       "                                                  OneHotEncoder(drop='if_binary',\n",
       "                                                                handle_unknown='infrequent_if_exist'),\n",
       "                                                  ['Trap', 'Month', 'Week',\n",
       "                                                   'Species']),\n",
       "                                                 ('CountVectorizer',\n",
       "                                                  Pipeline(steps=[('squeeze',\n",
       "                                                                   FunctionTransformer(func=<function <lambda> at 0x00000125CAC3D700>)),\n",
       "                                                                  ('vector'...\n",
       "                                                                                       func=<function <lambda> at 0x00000125C6780B80>))]),\n",
       "                                                  ['CodeSum'])])),\n",
       "                ('scale', MinMaxScaler()), ('pca', PCA(n_components=92)),\n",
       "                ('sample',\n",
       "                 SMOTETomek(n_jobs=2, random_state=42, sampling_strategy=0.25)),\n",
       "                ('clf',\n",
       "                 VotingClassifier(estimators=[('AdaBoost',\n",
       "                                               AdaBoostClassifier(random_state=42)),\n",
       "                                              ('LogReg',\n",
       "                                               LogisticRegression(C=0.1,\n",
       "                                                                  max_iter=200,\n",
       "                                                                  penalty='l1',\n",
       "                                                                  random_state=42,\n",
       "                                                                  solver='liblinear'))],\n",
       "                                  voting='soft'))])"
      ]
     },
     "execution_count": 40,
     "metadata": {},
     "output_type": "execute_result"
    }
   ],
   "source": [
    "best_model.fit(X, y)"
   ]
  },
  {
   "attachments": {},
   "cell_type": "markdown",
   "metadata": {},
   "source": [
    "## Predictions\n",
    "\n",
    "---\n",
    "\n",
    "Prediction with `test.csv`."
   ]
  },
  {
   "cell_type": "code",
   "execution_count": 41,
   "metadata": {
    "cell_id": "da2446db60a146cf80aa8cbc5a91280d",
    "deepnote_cell_type": "code",
    "deepnote_to_be_reexecuted": true,
    "source_hash": "a9239d02"
   },
   "outputs": [],
   "source": [
    "df_test = pd.read_csv('../assets/df_merge_test.csv', parse_dates=['Date', 'Sunrise_1', 'Sunset_1'])"
   ]
  },
  {
   "cell_type": "code",
   "execution_count": 42,
   "metadata": {},
   "outputs": [],
   "source": [
    "df_test = create_dt_features(df_test)"
   ]
  },
  {
   "cell_type": "code",
   "execution_count": 43,
   "metadata": {},
   "outputs": [
    {
     "data": {
      "text/plain": [
       "Index(['Date', 'Species', 'Trap', 'Latitude', 'Longitude', 'AddressAccuracy',\n",
       "       'Station', 'Tmax', 'Tmin', 'Tavg', 'Depart', 'DewPoint', 'WetBulb',\n",
       "       'Heat', 'Cool', 'Sunrise', 'Sunset', 'CodeSum', 'SnowFall',\n",
       "       'PrecipTotal', 'StnPressure', 'SeaLevel', 'ResultSpeed', 'ResultDir',\n",
       "       'AvgSpeed', 'Sunrise_1', 'Sunset_1', 'daylight_duration', 'Humidity',\n",
       "       'Year', 'Month', 'Week', 'DayOfWeek', 'Tavg_7_days', 'Depart_7_days',\n",
       "       'DewPoint_7_days', 'WetBulb_7_days', 'Heat_7_days', 'Cool_7_days',\n",
       "       'Sunrise_7_days', 'Sunset_7_days', 'SnowFall_7_days',\n",
       "       'PrecipTotal_7_days', 'StnPressure_7_days', 'SeaLevel_7_days',\n",
       "       'ResultSpeed_7_days', 'ResultDir_7_days', 'AvgSpeed_7_days',\n",
       "       'Humidity_7_days', 'Tavg_14_days', 'Depart_14_days', 'DewPoint_14_days',\n",
       "       'WetBulb_14_days', 'Heat_14_days', 'Cool_14_days', 'Sunrise_14_days',\n",
       "       'Sunset_14_days', 'SnowFall_14_days', 'PrecipTotal_14_days',\n",
       "       'StnPressure_14_days', 'SeaLevel_14_days', 'ResultSpeed_14_days',\n",
       "       'ResultDir_14_days', 'AvgSpeed_14_days', 'Humidity_14_days',\n",
       "       'Tavg_21_days', 'Depart_21_days', 'DewPoint_21_days', 'WetBulb_21_days',\n",
       "       'Heat_21_days', 'Cool_21_days', 'Sunrise_21_days', 'Sunset_21_days',\n",
       "       'SnowFall_21_days', 'PrecipTotal_21_days', 'StnPressure_21_days',\n",
       "       'SeaLevel_21_days', 'ResultSpeed_21_days', 'ResultDir_21_days',\n",
       "       'AvgSpeed_21_days', 'Humidity_21_days', 'Daylight_hours', 'Vector'],\n",
       "      dtype='object')"
      ]
     },
     "execution_count": 43,
     "metadata": {},
     "output_type": "execute_result"
    }
   ],
   "source": [
    "df_test.columns"
   ]
  },
  {
   "cell_type": "code",
   "execution_count": 44,
   "metadata": {
    "cell_id": "089666933639418885d5eb294f4004a9",
    "deepnote_cell_type": "code",
    "deepnote_to_be_reexecuted": true,
    "source_hash": "6115b236"
   },
   "outputs": [],
   "source": [
    "# submission_predictions = best_model.predict(df_test[features])\n",
    "\n",
    "# submission_predictions = pd.Series(np.where(best_model.predict_proba(df_test[features])[:,1] >= threshold_max, 1, 0), \n",
    "#                      dtype='category')\n",
    "\n",
    "submission_predictions = pd.Series(np.where(best_model.predict_proba(df_test.drop(columns=['Date', 'Sunrise_1', 'Sunset_1', 'daylight_duration']))[:,1] >= threshold_max, 1, 0), \n",
    "                     dtype='category')"
   ]
  },
  {
   "cell_type": "code",
   "execution_count": 45,
   "metadata": {
    "cell_id": "9f02d32d869748ea995f32ff169b2211",
    "deepnote_cell_type": "code",
    "deepnote_to_be_reexecuted": true,
    "source_hash": "3601ff24"
   },
   "outputs": [],
   "source": [
    "def create_predictions(predictions, filename):\n",
    "    if not os.path.isdir('../output'):\n",
    "        os.mkdir('../output')\n",
    "    \n",
    "    if not os.path.isfile(f'../output/{filename}.csv'):\n",
    "        results_df = pd.DataFrame(predictions)\n",
    "        results_df.insert(0, column='id', value=range(1, len(predictions)+1))\n",
    "        results_df.to_csv(f\"../output/{filename}.csv\", header=[\"Id\", \"WnvPresent\"], index=False)\n",
    "    else:\n",
    "        raise NameError(f'{filename}.csv already exists!')"
   ]
  },
  {
   "cell_type": "code",
   "execution_count": 46,
   "metadata": {},
   "outputs": [
    {
     "ename": "NameError",
     "evalue": "predictions_38.csv already exists!",
     "output_type": "error",
     "traceback": [
      "\u001b[1;31m---------------------------------------------------------------------------\u001b[0m",
      "\u001b[1;31mNameError\u001b[0m                                 Traceback (most recent call last)",
      "\u001b[1;32m~\\AppData\\Local\\Temp\\ipykernel_10880\\2186137580.py\u001b[0m in \u001b[0;36m<module>\u001b[1;34m\u001b[0m\n\u001b[0;32m      1\u001b[0m \u001b[0moutput_filename\u001b[0m \u001b[1;33m=\u001b[0m \u001b[1;34m'predictions_38'\u001b[0m\u001b[1;33m\u001b[0m\u001b[1;33m\u001b[0m\u001b[0m\n\u001b[0;32m      2\u001b[0m \u001b[1;33m\u001b[0m\u001b[0m\n\u001b[1;32m----> 3\u001b[1;33m \u001b[0mcreate_predictions\u001b[0m\u001b[1;33m(\u001b[0m\u001b[0msubmission_predictions\u001b[0m\u001b[1;33m,\u001b[0m \u001b[0moutput_filename\u001b[0m\u001b[1;33m)\u001b[0m\u001b[1;33m\u001b[0m\u001b[1;33m\u001b[0m\u001b[0m\n\u001b[0m",
      "\u001b[1;32m~\\AppData\\Local\\Temp\\ipykernel_10880\\1105926902.py\u001b[0m in \u001b[0;36mcreate_predictions\u001b[1;34m(predictions, filename)\u001b[0m\n\u001b[0;32m      8\u001b[0m         \u001b[0mresults_df\u001b[0m\u001b[1;33m.\u001b[0m\u001b[0mto_csv\u001b[0m\u001b[1;33m(\u001b[0m\u001b[1;34mf\"../output/{filename}.csv\"\u001b[0m\u001b[1;33m,\u001b[0m \u001b[0mheader\u001b[0m\u001b[1;33m=\u001b[0m\u001b[1;33m[\u001b[0m\u001b[1;34m\"Id\"\u001b[0m\u001b[1;33m,\u001b[0m \u001b[1;34m\"WnvPresent\"\u001b[0m\u001b[1;33m]\u001b[0m\u001b[1;33m,\u001b[0m \u001b[0mindex\u001b[0m\u001b[1;33m=\u001b[0m\u001b[1;32mFalse\u001b[0m\u001b[1;33m)\u001b[0m\u001b[1;33m\u001b[0m\u001b[1;33m\u001b[0m\u001b[0m\n\u001b[0;32m      9\u001b[0m     \u001b[1;32melse\u001b[0m\u001b[1;33m:\u001b[0m\u001b[1;33m\u001b[0m\u001b[1;33m\u001b[0m\u001b[0m\n\u001b[1;32m---> 10\u001b[1;33m         \u001b[1;32mraise\u001b[0m \u001b[0mNameError\u001b[0m\u001b[1;33m(\u001b[0m\u001b[1;34mf'{filename}.csv already exists!'\u001b[0m\u001b[1;33m)\u001b[0m\u001b[1;33m\u001b[0m\u001b[1;33m\u001b[0m\u001b[0m\n\u001b[0m",
      "\u001b[1;31mNameError\u001b[0m: predictions_38.csv already exists!"
     ]
    }
   ],
   "source": [
    "output_filename = 'predictions_38'\n",
    "\n",
    "create_predictions(submission_predictions, output_filename)"
   ]
  },
  {
   "cell_type": "code",
   "execution_count": null,
   "metadata": {},
   "outputs": [],
   "source": [
    "# results.display().to_csv(f'../output/params_{output_filename}.csv', index=False)"
   ]
  }
 ],
 "metadata": {
  "kernelspec": {
   "display_name": "Python 3 (ipykernel)",
   "language": "python",
   "name": "python3"
  },
  "language_info": {
   "codemirror_mode": {
    "name": "ipython",
    "version": 3
   },
   "file_extension": ".py",
   "mimetype": "text/x-python",
   "name": "python",
   "nbconvert_exporter": "python",
   "pygments_lexer": "ipython3",
   "version": "3.9.13"
  },
  "vscode": {
   "interpreter": {
    "hash": "1b28ad9899eefd279686690bace4d41fa3fa7d0cff5719534f58e9a7031f3ffc"
   }
  }
 },
 "nbformat": 4,
 "nbformat_minor": 1
}
