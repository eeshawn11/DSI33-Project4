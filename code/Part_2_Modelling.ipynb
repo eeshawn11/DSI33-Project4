{
 "cells": [
  {
   "attachments": {},
   "cell_type": "markdown",
   "metadata": {
    "cell_id": "f96abd16122146b797d16aaa0f1ee71b",
    "deepnote_cell_type": "markdown"
   },
   "source": [
    "# Part 2 - Modelling\n",
    "\n",
    "---\n",
    "\n",
    "Insert some background and recap of part 1 notebook."
   ]
  },
  {
   "cell_type": "code",
   "execution_count": 1,
   "metadata": {
    "cell_id": "31251000c0c54cfea5e3cabad32b523e",
    "deepnote_cell_type": "code",
    "deepnote_to_be_reexecuted": false,
    "execution_millis": 932,
    "execution_start": 1670551613652,
    "source_hash": "476ca060"
   },
   "outputs": [],
   "source": [
    "import pandas as pd\n",
    "import numpy as np\n",
    "import re\n",
    "import time\n",
    "import os\n",
    "import matplotlib.pyplot as plt\n",
    "import seaborn as sns\n",
    "\n",
    "from sklearn.preprocessing import OneHotEncoder, MinMaxScaler, FunctionTransformer\n",
    "from sklearn.feature_extraction.text import CountVectorizer\n",
    "from sklearn.compose import ColumnTransformer\n",
    "from sklearn.model_selection import train_test_split, GridSearchCV\n",
    "from sklearn.metrics import classification_report, ConfusionMatrixDisplay, RocCurveDisplay, balanced_accuracy_score, f1_score, matthews_corrcoef, fbeta_score\n",
    "from sklearn.linear_model import LogisticRegression, RidgeClassifier\n",
    "from sklearn.neighbors import KNeighborsClassifier\n",
    "from sklearn.ensemble import RandomForestClassifier, AdaBoostClassifier, VotingClassifier, HistGradientBoostingClassifier, ExtraTreesClassifier\n",
    "from sklearn.decomposition import PCA\n",
    "\n",
    "# imblearn for sampling\n",
    "from imblearn.combine import SMOTETomek\n",
    "from imblearn.pipeline import Pipeline\n",
    "\n",
    "# set random state for model results reproducibility\n",
    "rng = 42\n",
    "\n",
    "import warnings\n",
    "warnings.filterwarnings('ignore') # hide warnings to avoid cluttering the notebook output"
   ]
  },
  {
   "cell_type": "code",
   "execution_count": 2,
   "metadata": {},
   "outputs": [],
   "source": [
    "class TimerError(Exception):\n",
    "    \"\"\"A custom exception used to report errors in use of Timer class\"\"\"\n",
    "\n",
    "class Timer:\n",
    "    def __init__(self):\n",
    "        self._start_time = None\n",
    "        self._elapsed_time = None\n",
    "\n",
    "    def start(self):\n",
    "        \"\"\"Start a new timer\"\"\"\n",
    "        if self._start_time is not None:\n",
    "            raise TimerError(f\"Timer is running. Use .stop() to stop it\")\n",
    "\n",
    "        self._elapsed_time = None\n",
    "        self._start_time = time.perf_counter()\n",
    "\n",
    "    def stop(self):\n",
    "        \"\"\"Stop the timer, and report the elapsed time\"\"\"\n",
    "        if self._start_time is None:\n",
    "            raise TimerError(f\"Timer is not running. Use .start() to start it\")\n",
    "\n",
    "        self._elapsed_time = time.perf_counter() - self._start_time\n",
    "        self._start_time = None\n",
    "        print(f\"Elapsed time: {int(divmod(self._elapsed_time, 60)[0])} minutes, {int(divmod(self._elapsed_time, 60)[1])} seconds\")\n",
    "\n",
    "    def duration(self) -> float:\n",
    "        \"\"\"Return the elapsed time from the timer.\"\"\"\n",
    "        if self._elapsed_time is None:\n",
    "            raise TimerError(\"Timer has not run. Use .start() and .stop() to start and stop the timer.\")\n",
    "        return self._elapsed_time"
   ]
  },
  {
   "attachments": {},
   "cell_type": "markdown",
   "metadata": {},
   "source": [
    "We prepare the train and validation data for modelling."
   ]
  },
  {
   "cell_type": "code",
   "execution_count": 3,
   "metadata": {
    "cell_id": "195f4763f16e47999fbf9d8c8652d351",
    "deepnote_cell_type": "code",
    "deepnote_to_be_reexecuted": false,
    "execution_millis": 25,
    "execution_start": 1670551614585,
    "source_hash": "abfd9979"
   },
   "outputs": [],
   "source": [
    "df = pd.read_csv('../assets/df_merge_final.csv', parse_dates=['Date', 'Sunrise_1', 'Sunset_1'])"
   ]
  },
  {
   "cell_type": "code",
   "execution_count": 4,
   "metadata": {},
   "outputs": [
    {
     "data": {
      "text/html": [
       "<div>\n",
       "<style scoped>\n",
       "    .dataframe tbody tr th:only-of-type {\n",
       "        vertical-align: middle;\n",
       "    }\n",
       "\n",
       "    .dataframe tbody tr th {\n",
       "        vertical-align: top;\n",
       "    }\n",
       "\n",
       "    .dataframe thead th {\n",
       "        text-align: right;\n",
       "    }\n",
       "</style>\n",
       "<table border=\"1\" class=\"dataframe\">\n",
       "  <thead>\n",
       "    <tr style=\"text-align: right;\">\n",
       "      <th></th>\n",
       "      <th>Date</th>\n",
       "      <th>Species</th>\n",
       "      <th>Trap</th>\n",
       "      <th>Latitude</th>\n",
       "      <th>Longitude</th>\n",
       "      <th>AddressAccuracy</th>\n",
       "      <th>NumMosquitos</th>\n",
       "      <th>WnvPresent</th>\n",
       "      <th>Station</th>\n",
       "      <th>Tavg</th>\n",
       "      <th>...</th>\n",
       "      <th>Heat</th>\n",
       "      <th>CodeSum</th>\n",
       "      <th>PrecipTotal</th>\n",
       "      <th>SeaLevel</th>\n",
       "      <th>ResultDir</th>\n",
       "      <th>AvgSpeed</th>\n",
       "      <th>Sunrise_1</th>\n",
       "      <th>Sunset_1</th>\n",
       "      <th>daylight_duration</th>\n",
       "      <th>Humidity</th>\n",
       "    </tr>\n",
       "  </thead>\n",
       "  <tbody>\n",
       "    <tr>\n",
       "      <th>0</th>\n",
       "      <td>2007-05-29</td>\n",
       "      <td>CULEX PIPIENS/RESTUANS</td>\n",
       "      <td>T002</td>\n",
       "      <td>41.954690</td>\n",
       "      <td>-87.800991</td>\n",
       "      <td>9</td>\n",
       "      <td>1</td>\n",
       "      <td>0</td>\n",
       "      <td>1.0</td>\n",
       "      <td>69.0</td>\n",
       "      <td>...</td>\n",
       "      <td>0.0</td>\n",
       "      <td>RA BR</td>\n",
       "      <td>0.38</td>\n",
       "      <td>29.84</td>\n",
       "      <td>27.0</td>\n",
       "      <td>12.3</td>\n",
       "      <td>1900-01-01 04:32:00</td>\n",
       "      <td>1900-01-01 19:04:00</td>\n",
       "      <td>0 days 14:32:00</td>\n",
       "      <td>63.27</td>\n",
       "    </tr>\n",
       "    <tr>\n",
       "      <th>1</th>\n",
       "      <td>2007-05-29</td>\n",
       "      <td>CULEX RESTUANS</td>\n",
       "      <td>T002</td>\n",
       "      <td>41.954690</td>\n",
       "      <td>-87.800991</td>\n",
       "      <td>9</td>\n",
       "      <td>1</td>\n",
       "      <td>0</td>\n",
       "      <td>1.0</td>\n",
       "      <td>69.0</td>\n",
       "      <td>...</td>\n",
       "      <td>0.0</td>\n",
       "      <td>RA BR</td>\n",
       "      <td>0.38</td>\n",
       "      <td>29.84</td>\n",
       "      <td>27.0</td>\n",
       "      <td>12.3</td>\n",
       "      <td>1900-01-01 04:32:00</td>\n",
       "      <td>1900-01-01 19:04:00</td>\n",
       "      <td>0 days 14:32:00</td>\n",
       "      <td>63.27</td>\n",
       "    </tr>\n",
       "    <tr>\n",
       "      <th>2</th>\n",
       "      <td>2007-05-29</td>\n",
       "      <td>CULEX RESTUANS</td>\n",
       "      <td>T007</td>\n",
       "      <td>41.994991</td>\n",
       "      <td>-87.769279</td>\n",
       "      <td>9</td>\n",
       "      <td>1</td>\n",
       "      <td>0</td>\n",
       "      <td>1.0</td>\n",
       "      <td>69.0</td>\n",
       "      <td>...</td>\n",
       "      <td>0.0</td>\n",
       "      <td>RA BR</td>\n",
       "      <td>0.38</td>\n",
       "      <td>29.84</td>\n",
       "      <td>27.0</td>\n",
       "      <td>12.3</td>\n",
       "      <td>1900-01-01 04:32:00</td>\n",
       "      <td>1900-01-01 19:04:00</td>\n",
       "      <td>0 days 14:32:00</td>\n",
       "      <td>63.27</td>\n",
       "    </tr>\n",
       "    <tr>\n",
       "      <th>3</th>\n",
       "      <td>2007-05-29</td>\n",
       "      <td>CULEX PIPIENS/RESTUANS</td>\n",
       "      <td>T015</td>\n",
       "      <td>41.974089</td>\n",
       "      <td>-87.824812</td>\n",
       "      <td>8</td>\n",
       "      <td>1</td>\n",
       "      <td>0</td>\n",
       "      <td>1.0</td>\n",
       "      <td>69.0</td>\n",
       "      <td>...</td>\n",
       "      <td>0.0</td>\n",
       "      <td>RA BR</td>\n",
       "      <td>0.38</td>\n",
       "      <td>29.84</td>\n",
       "      <td>27.0</td>\n",
       "      <td>12.3</td>\n",
       "      <td>1900-01-01 04:32:00</td>\n",
       "      <td>1900-01-01 19:04:00</td>\n",
       "      <td>0 days 14:32:00</td>\n",
       "      <td>63.27</td>\n",
       "    </tr>\n",
       "    <tr>\n",
       "      <th>4</th>\n",
       "      <td>2007-05-29</td>\n",
       "      <td>CULEX RESTUANS</td>\n",
       "      <td>T015</td>\n",
       "      <td>41.974089</td>\n",
       "      <td>-87.824812</td>\n",
       "      <td>8</td>\n",
       "      <td>4</td>\n",
       "      <td>0</td>\n",
       "      <td>1.0</td>\n",
       "      <td>69.0</td>\n",
       "      <td>...</td>\n",
       "      <td>0.0</td>\n",
       "      <td>RA BR</td>\n",
       "      <td>0.38</td>\n",
       "      <td>29.84</td>\n",
       "      <td>27.0</td>\n",
       "      <td>12.3</td>\n",
       "      <td>1900-01-01 04:32:00</td>\n",
       "      <td>1900-01-01 19:04:00</td>\n",
       "      <td>0 days 14:32:00</td>\n",
       "      <td>63.27</td>\n",
       "    </tr>\n",
       "  </tbody>\n",
       "</table>\n",
       "<p>5 rows × 21 columns</p>\n",
       "</div>"
      ],
      "text/plain": [
       "        Date                 Species  Trap   Latitude  Longitude  \\\n",
       "0 2007-05-29  CULEX PIPIENS/RESTUANS  T002  41.954690 -87.800991   \n",
       "1 2007-05-29          CULEX RESTUANS  T002  41.954690 -87.800991   \n",
       "2 2007-05-29          CULEX RESTUANS  T007  41.994991 -87.769279   \n",
       "3 2007-05-29  CULEX PIPIENS/RESTUANS  T015  41.974089 -87.824812   \n",
       "4 2007-05-29          CULEX RESTUANS  T015  41.974089 -87.824812   \n",
       "\n",
       "   AddressAccuracy  NumMosquitos  WnvPresent  Station  Tavg  ...  Heat  \\\n",
       "0                9             1           0      1.0  69.0  ...   0.0   \n",
       "1                9             1           0      1.0  69.0  ...   0.0   \n",
       "2                9             1           0      1.0  69.0  ...   0.0   \n",
       "3                8             1           0      1.0  69.0  ...   0.0   \n",
       "4                8             4           0      1.0  69.0  ...   0.0   \n",
       "\n",
       "   CodeSum PrecipTotal  SeaLevel  ResultDir  AvgSpeed           Sunrise_1  \\\n",
       "0    RA BR        0.38     29.84       27.0      12.3 1900-01-01 04:32:00   \n",
       "1    RA BR        0.38     29.84       27.0      12.3 1900-01-01 04:32:00   \n",
       "2    RA BR        0.38     29.84       27.0      12.3 1900-01-01 04:32:00   \n",
       "3    RA BR        0.38     29.84       27.0      12.3 1900-01-01 04:32:00   \n",
       "4    RA BR        0.38     29.84       27.0      12.3 1900-01-01 04:32:00   \n",
       "\n",
       "             Sunset_1 daylight_duration Humidity  \n",
       "0 1900-01-01 19:04:00   0 days 14:32:00    63.27  \n",
       "1 1900-01-01 19:04:00   0 days 14:32:00    63.27  \n",
       "2 1900-01-01 19:04:00   0 days 14:32:00    63.27  \n",
       "3 1900-01-01 19:04:00   0 days 14:32:00    63.27  \n",
       "4 1900-01-01 19:04:00   0 days 14:32:00    63.27  \n",
       "\n",
       "[5 rows x 21 columns]"
      ]
     },
     "execution_count": 4,
     "metadata": {},
     "output_type": "execute_result"
    }
   ],
   "source": [
    "df.head()"
   ]
  },
  {
   "cell_type": "code",
   "execution_count": 5,
   "metadata": {},
   "outputs": [],
   "source": [
    "def create_dt_features(dataframe: pd.DataFrame) -> pd.DataFrame:\n",
    "    '''\n",
    "    Perform feature engineering and return dataframe.\n",
    "    '''\n",
    "    # create datetime related features\n",
    "    dataframe['daylight_duration'] = pd.to_timedelta(dataframe['daylight_duration'])\n",
    "    dataframe['Daylight_hours'] = round(dataframe['daylight_duration'].dt.total_seconds() / (60*60), 2)\n",
    "    dataframe['Sunrise'] = round(pd.to_timedelta(dataframe['Sunrise_1'].dt.time.astype(str)).dt.total_seconds()/3600, 2)\n",
    "    dataframe['Sunset'] = round(pd.to_timedelta(dataframe['Sunset_1'].dt.time.astype(str)).dt.total_seconds()/3600, 2)\n",
    "    # create date related features\n",
    "    dataframe['Month'] = dataframe['Date'].dt.month\n",
    "    dataframe['Day'] = dataframe['Date'].dt.day\n",
    "    # round off Latitude, Longitude to generalise locations by area\n",
    "    dataframe['Latitude'] = round(dataframe['Latitude'], 2)\n",
    "    dataframe['Longitude'] = round(dataframe['Longitude'], 2)\n",
    "    # group satellite traps\n",
    "    dataframe['Trap'] = dataframe['Trap'].str.strip('TABC')\n",
    "    return dataframe"
   ]
  },
  {
   "cell_type": "code",
   "execution_count": 6,
   "metadata": {},
   "outputs": [],
   "source": [
    "df = create_dt_features(df)"
   ]
  },
  {
   "cell_type": "code",
   "execution_count": 7,
   "metadata": {},
   "outputs": [],
   "source": [
    "# specify features\n",
    "num_features = ['Latitude', 'Longitude', 'AddressAccuracy', 'Tavg', 'Depart', 'Heat', 'PrecipTotal', 'SeaLevel', 'ResultDir', 'AvgSpeed', 'Humidity', 'Daylight_hours', 'Sunrise', 'Sunset']\n",
    "cat_features = ['Species', 'Trap', 'Month', 'Day', ]\n",
    "text_features = ['CodeSum']\n",
    "\n",
    "features = num_features + cat_features + text_features"
   ]
  },
  {
   "cell_type": "code",
   "execution_count": 8,
   "metadata": {},
   "outputs": [
    {
     "data": {
      "text/html": [
       "<div>\n",
       "<style scoped>\n",
       "    .dataframe tbody tr th:only-of-type {\n",
       "        vertical-align: middle;\n",
       "    }\n",
       "\n",
       "    .dataframe tbody tr th {\n",
       "        vertical-align: top;\n",
       "    }\n",
       "\n",
       "    .dataframe thead th {\n",
       "        text-align: right;\n",
       "    }\n",
       "</style>\n",
       "<table border=\"1\" class=\"dataframe\">\n",
       "  <thead>\n",
       "    <tr style=\"text-align: right;\">\n",
       "      <th></th>\n",
       "      <th>Latitude</th>\n",
       "      <th>Longitude</th>\n",
       "      <th>AddressAccuracy</th>\n",
       "      <th>Tavg</th>\n",
       "      <th>Depart</th>\n",
       "      <th>Heat</th>\n",
       "      <th>PrecipTotal</th>\n",
       "      <th>SeaLevel</th>\n",
       "      <th>ResultDir</th>\n",
       "      <th>AvgSpeed</th>\n",
       "      <th>Humidity</th>\n",
       "      <th>Daylight_hours</th>\n",
       "      <th>Sunrise</th>\n",
       "      <th>Sunset</th>\n",
       "      <th>Species</th>\n",
       "      <th>Trap</th>\n",
       "      <th>Month</th>\n",
       "      <th>Day</th>\n",
       "      <th>CodeSum</th>\n",
       "    </tr>\n",
       "  </thead>\n",
       "  <tbody>\n",
       "    <tr>\n",
       "      <th>0</th>\n",
       "      <td>41.95</td>\n",
       "      <td>-87.80</td>\n",
       "      <td>9</td>\n",
       "      <td>69.0</td>\n",
       "      <td>11.0</td>\n",
       "      <td>0.0</td>\n",
       "      <td>0.38</td>\n",
       "      <td>29.84</td>\n",
       "      <td>27.0</td>\n",
       "      <td>12.3</td>\n",
       "      <td>63.27</td>\n",
       "      <td>14.53</td>\n",
       "      <td>4.53</td>\n",
       "      <td>19.07</td>\n",
       "      <td>CULEX PIPIENS/RESTUANS</td>\n",
       "      <td>002</td>\n",
       "      <td>5</td>\n",
       "      <td>29</td>\n",
       "      <td>RA BR</td>\n",
       "    </tr>\n",
       "    <tr>\n",
       "      <th>1</th>\n",
       "      <td>41.95</td>\n",
       "      <td>-87.80</td>\n",
       "      <td>9</td>\n",
       "      <td>69.0</td>\n",
       "      <td>11.0</td>\n",
       "      <td>0.0</td>\n",
       "      <td>0.38</td>\n",
       "      <td>29.84</td>\n",
       "      <td>27.0</td>\n",
       "      <td>12.3</td>\n",
       "      <td>63.27</td>\n",
       "      <td>14.53</td>\n",
       "      <td>4.53</td>\n",
       "      <td>19.07</td>\n",
       "      <td>CULEX RESTUANS</td>\n",
       "      <td>002</td>\n",
       "      <td>5</td>\n",
       "      <td>29</td>\n",
       "      <td>RA BR</td>\n",
       "    </tr>\n",
       "    <tr>\n",
       "      <th>2</th>\n",
       "      <td>41.99</td>\n",
       "      <td>-87.77</td>\n",
       "      <td>9</td>\n",
       "      <td>69.0</td>\n",
       "      <td>11.0</td>\n",
       "      <td>0.0</td>\n",
       "      <td>0.38</td>\n",
       "      <td>29.84</td>\n",
       "      <td>27.0</td>\n",
       "      <td>12.3</td>\n",
       "      <td>63.27</td>\n",
       "      <td>14.53</td>\n",
       "      <td>4.53</td>\n",
       "      <td>19.07</td>\n",
       "      <td>CULEX RESTUANS</td>\n",
       "      <td>007</td>\n",
       "      <td>5</td>\n",
       "      <td>29</td>\n",
       "      <td>RA BR</td>\n",
       "    </tr>\n",
       "    <tr>\n",
       "      <th>3</th>\n",
       "      <td>41.97</td>\n",
       "      <td>-87.82</td>\n",
       "      <td>8</td>\n",
       "      <td>69.0</td>\n",
       "      <td>11.0</td>\n",
       "      <td>0.0</td>\n",
       "      <td>0.38</td>\n",
       "      <td>29.84</td>\n",
       "      <td>27.0</td>\n",
       "      <td>12.3</td>\n",
       "      <td>63.27</td>\n",
       "      <td>14.53</td>\n",
       "      <td>4.53</td>\n",
       "      <td>19.07</td>\n",
       "      <td>CULEX PIPIENS/RESTUANS</td>\n",
       "      <td>015</td>\n",
       "      <td>5</td>\n",
       "      <td>29</td>\n",
       "      <td>RA BR</td>\n",
       "    </tr>\n",
       "    <tr>\n",
       "      <th>4</th>\n",
       "      <td>41.97</td>\n",
       "      <td>-87.82</td>\n",
       "      <td>8</td>\n",
       "      <td>69.0</td>\n",
       "      <td>11.0</td>\n",
       "      <td>0.0</td>\n",
       "      <td>0.38</td>\n",
       "      <td>29.84</td>\n",
       "      <td>27.0</td>\n",
       "      <td>12.3</td>\n",
       "      <td>63.27</td>\n",
       "      <td>14.53</td>\n",
       "      <td>4.53</td>\n",
       "      <td>19.07</td>\n",
       "      <td>CULEX RESTUANS</td>\n",
       "      <td>015</td>\n",
       "      <td>5</td>\n",
       "      <td>29</td>\n",
       "      <td>RA BR</td>\n",
       "    </tr>\n",
       "  </tbody>\n",
       "</table>\n",
       "</div>"
      ],
      "text/plain": [
       "   Latitude  Longitude  AddressAccuracy  Tavg  Depart  Heat  PrecipTotal  \\\n",
       "0     41.95     -87.80                9  69.0    11.0   0.0         0.38   \n",
       "1     41.95     -87.80                9  69.0    11.0   0.0         0.38   \n",
       "2     41.99     -87.77                9  69.0    11.0   0.0         0.38   \n",
       "3     41.97     -87.82                8  69.0    11.0   0.0         0.38   \n",
       "4     41.97     -87.82                8  69.0    11.0   0.0         0.38   \n",
       "\n",
       "   SeaLevel  ResultDir  AvgSpeed  Humidity  Daylight_hours  Sunrise  Sunset  \\\n",
       "0     29.84       27.0      12.3     63.27           14.53     4.53   19.07   \n",
       "1     29.84       27.0      12.3     63.27           14.53     4.53   19.07   \n",
       "2     29.84       27.0      12.3     63.27           14.53     4.53   19.07   \n",
       "3     29.84       27.0      12.3     63.27           14.53     4.53   19.07   \n",
       "4     29.84       27.0      12.3     63.27           14.53     4.53   19.07   \n",
       "\n",
       "                  Species Trap  Month  Day CodeSum  \n",
       "0  CULEX PIPIENS/RESTUANS  002      5   29   RA BR  \n",
       "1          CULEX RESTUANS  002      5   29   RA BR  \n",
       "2          CULEX RESTUANS  007      5   29   RA BR  \n",
       "3  CULEX PIPIENS/RESTUANS  015      5   29   RA BR  \n",
       "4          CULEX RESTUANS  015      5   29   RA BR  "
      ]
     },
     "execution_count": 8,
     "metadata": {},
     "output_type": "execute_result"
    }
   ],
   "source": [
    "df[features].head()"
   ]
  },
  {
   "cell_type": "code",
   "execution_count": 9,
   "metadata": {
    "cell_id": "df282cce65f74870b1b26d17b16e882a",
    "deepnote_cell_type": "code",
    "deepnote_to_be_reexecuted": false,
    "execution_millis": 1,
    "execution_start": 1670551614676,
    "source_hash": "f9a57dbf",
    "tags": []
   },
   "outputs": [],
   "source": [
    "X = df[features]\n",
    "y = df['WnvPresent']"
   ]
  },
  {
   "cell_type": "code",
   "execution_count": 10,
   "metadata": {
    "cell_id": "c002f9f29f5b469282bc7436c65d2bce",
    "deepnote_cell_type": "code",
    "deepnote_to_be_reexecuted": false,
    "execution_millis": 0,
    "execution_start": 1670551614695,
    "source_hash": "22ad61df"
   },
   "outputs": [],
   "source": [
    "X_train, X_test, y_train, y_test = train_test_split(X, y, test_size=0.2, random_state=rng, stratify=y)"
   ]
  },
  {
   "attachments": {},
   "cell_type": "markdown",
   "metadata": {},
   "source": [
    "## Modelling\n",
    "\n",
    "---\n",
    "\n",
    "We will utilise a mixture of methods for handling different types of features within our dataset, using a ColumnTransformer together with Pipelines."
   ]
  },
  {
   "cell_type": "code",
   "execution_count": 11,
   "metadata": {
    "cell_id": "5ea9415a492849488bbfe0c08690b007",
    "deepnote_cell_type": "code",
    "deepnote_to_be_reexecuted": false,
    "execution_millis": 0,
    "execution_start": 1670551614696,
    "source_hash": "a0c1dd4b"
   },
   "outputs": [],
   "source": [
    "# Processing steps before modelling (standardisation, one hot encoding, over/under-sampling)\n",
    "minmax = MinMaxScaler(feature_range=(0, 1))\n",
    "ohe = OneHotEncoder(drop='if_binary', handle_unknown='infrequent_if_exist')\n",
    "count = CountVectorizer()\n",
    "\n",
    "sample_smotetomek = SMOTETomek(random_state=rng, n_jobs=2)\n",
    "\n",
    "pca = PCA()\n",
    "\n",
    "# create pipeline for handling CodeSum feature\n",
    "text_pipe = Pipeline([\n",
    "    (\"squeeze\", FunctionTransformer(lambda x: x.squeeze())),\n",
    "    ('vector', count),\n",
    "    ('array', FunctionTransformer(lambda x: x.toarray(), accept_sparse=True)),\n",
    "    ('scale', minmax)\n",
    "])\n",
    "\n",
    "col_transform = ColumnTransformer([\n",
    "    ('MinMaxScaler', minmax, num_features),\n",
    "    ('OneHotEncoder', ohe, cat_features),\n",
    "    ('CountVectorizer', text_pipe, text_features)\n",
    "], remainder = 'drop',\n",
    "sparse_threshold = 0\n",
    ")"
   ]
  },
  {
   "cell_type": "code",
   "execution_count": 12,
   "metadata": {},
   "outputs": [
    {
     "name": "stdout",
     "output_type": "stream",
     "text": [
      "Number features: 108 Total Variance Explained: 0.9506942363953941\n",
      "Number features: 39 Total Variance Explained: 0.8006068171774354\n"
     ]
    }
   ],
   "source": [
    "# check for PCA value to optimise\n",
    "X_train_sc = col_transform.fit_transform(X_train)\n",
    "X_train_pca = pca.fit_transform(X_train_sc)\n",
    "\n",
    "total_variance = pca.explained_variance_ratio_.cumsum()\n",
    "n_over_95 = len(total_variance[total_variance >= .95])\n",
    "n_to_reach_95 = X_train_pca.shape[1] - n_over_95 + 1\n",
    "print(f'Number features: {n_to_reach_95} Total Variance Explained: {total_variance[n_to_reach_95-1]}')\n",
    "\n",
    "n_over_80 = len(total_variance[total_variance >= .80])\n",
    "n_to_reach_80 = X_train_pca.shape[1] - n_over_80 + 1\n",
    "print(f'Number features: {n_to_reach_80} Total Variance Explained: {total_variance[n_to_reach_80-1]}')"
   ]
  },
  {
   "cell_type": "code",
   "execution_count": 13,
   "metadata": {
    "cell_id": "68b7851640eb427a9d654c1ea7eedce8",
    "deepnote_cell_type": "code",
    "deepnote_to_be_reexecuted": false,
    "execution_millis": 2,
    "execution_start": 1670551614703,
    "source_hash": "5cf5fc15",
    "tags": []
   },
   "outputs": [],
   "source": [
    "# Instantiating models for classification\n",
    "lr = LogisticRegression(random_state=rng)\n",
    "knn = KNeighborsClassifier()\n",
    "# rf = RandomForestClassifier(random_state=rng)\n",
    "et = ExtraTreesClassifier(random_state=rng)\n",
    "ada = AdaBoostClassifier(random_state=rng)\n",
    "hgbc = HistGradientBoostingClassifier(random_state=rng)"
   ]
  },
  {
   "cell_type": "code",
   "execution_count": 14,
   "metadata": {},
   "outputs": [],
   "source": [
    "class ResultsError(Exception):\n",
    "    \"\"\"A custom exception used to report errors in use of Results class\"\"\"\n",
    "\n",
    "class Results:\n",
    "    def __init__(self):\n",
    "        self._results_dict = {}\n",
    "\n",
    "    def create_dict(self, scoring_metric: list[str]) -> dict:\n",
    "        '''Create results dictionary based on scoring metrics used'''\n",
    "        self._results_dict['model_list']= []\n",
    "        self._scoring_metric = scoring_metric\n",
    "\n",
    "        if type(self._scoring_metric) == list:\n",
    "            for i, metric in enumerate(self._scoring_metric):\n",
    "                self._results_dict[f'mean_train_{self._scoring_metric[i]}'] = []\n",
    "                self._results_dict[f'mean_test_{self._scoring_metric[i]}'] = []\n",
    "                self._results_dict[f'{self._scoring_metric[i]}_delta']= []\n",
    "        else:\n",
    "            TypeError('scoring_metric must be list of string')\n",
    "\n",
    "        self._results_dict['best_params'] = []\n",
    "        self._results_dict['runtime'] = []\n",
    "        return self._results_dict\n",
    "\n",
    "    # run pipe, fit params and return best estimator\n",
    "    def run_pipe(self, clf: object, pipe_params=None):\n",
    "        '''\n",
    "        Places classifier into a Pipeline, which is then run in a GridSearchCV to optimise the model based on parameters passed. \n",
    "\n",
    "        Parameters\n",
    "        ----------\n",
    "        clf : object\n",
    "            Classifier object\n",
    "        pipe_params : dictionary\n",
    "            Parameters to pass into GridSearchCV\n",
    "            \n",
    "        Returns\n",
    "        -------\n",
    "        Best Estimator\n",
    "            Best estimator refitted from the GridSearchCV\n",
    "        CV Results\n",
    "            Results from the GridSearchCV\n",
    "\n",
    "        '''\n",
    "        if not len(self._results_dict):\n",
    "            raise ResultsError('Error, no dictionary found. Use .create_results_dict() to create a dictionary first.')\n",
    "\n",
    "        t = Timer()\n",
    "        model_name = re.match(r'^(\\w+)(?=\\()', str(clf)).group()\n",
    "        print(f\"Fitting {model_name}\")\n",
    "\n",
    "        # create pipe\n",
    "        pipe = Pipeline([\n",
    "            ('transform', col_transform),\n",
    "            # ('pca', PCA(n_components=n_to_reach_95)),\n",
    "            ('sample', sample_smotetomek),\n",
    "            ('clf', clf)\n",
    "        ])\n",
    "\n",
    "        default_params = {\n",
    "            # 'pca__n_components': [n_to_reach_95, n_to_reach_80],\n",
    "        }\n",
    "        \n",
    "        # create GridSearchCV\n",
    "        grid = GridSearchCV(\n",
    "            estimator = pipe,\n",
    "            param_grid = default_params | pipe_params,\n",
    "            scoring = self._scoring_metric,\n",
    "            n_jobs = -3,\n",
    "            cv = 3,\n",
    "            verbose = 1,\n",
    "            error_score = 0,\n",
    "            refit = self._scoring_metric[0],\n",
    "            # return_train_score = True,\n",
    "        )\n",
    "\n",
    "        t.start()\n",
    "        grid.fit(X_train, y_train)\n",
    "        t.stop()\n",
    "        \n",
    "        # grid_results = pd.DataFrame(grid.cv_results_)\n",
    "        self._train_preds = grid.best_estimator_.predict(X_train)\n",
    "        self._test_preds = grid.best_estimator_.predict(X_test)\n",
    "      \n",
    "        # store GridSearch scores\n",
    "        self._results_dict['model_list'].append(model_name)\n",
    "        for i, metric in enumerate(self._scoring_metric):\n",
    "            self._results_dict[f'mean_train_{self._scoring_metric[i]}'].append(matthews_corrcoef(y_train, self._train_preds))\n",
    "            self._results_dict[f'mean_test_{self._scoring_metric[i]}'].append(matthews_corrcoef(y_test, self._test_preds))\n",
    "            self._results_dict[f'{self._scoring_metric[i]}_delta'].append(\n",
    "                abs(matthews_corrcoef(y_train, self._train_preds) - matthews_corrcoef(y_test, self._test_preds))\n",
    "                )\n",
    "        self._results_dict['best_params'].append(grid.best_params_)\n",
    "        self._results_dict['runtime'].append(t.duration())\n",
    "\n",
    "        print(\"Best Score: \", grid.best_score_)\n",
    "        print(\"Best Params: \", grid.best_params_)\n",
    "        print()\n",
    "        return grid.best_estimator_\n",
    "\n",
    "    def display(self) -> pd.DataFrame:\n",
    "        '''Display pandas DataFrame displaying model performance results'''\n",
    "        if not len(self._results_dict):\n",
    "            raise ResultsError('No results found. Use .run_pipe() to run pipe and store results.')\n",
    "        model_df = pd.DataFrame(self._results_dict)\n",
    "        \n",
    "        model_df.iloc[:, :-2] = model_df.iloc[:, :-2].round(4)\n",
    "        model_df.iloc[:, -1] = model_df.iloc[:, -1].round(2)\n",
    "\n",
    "        return model_df.sort_values(by=f\"mean_test_{self._scoring_metric[0]}\", ascending=False)"
   ]
  },
  {
   "cell_type": "code",
   "execution_count": 15,
   "metadata": {},
   "outputs": [
    {
     "data": {
      "text/plain": [
       "{'model_list': [],\n",
       " 'mean_train_f1_weighted': [],\n",
       " 'mean_test_f1_weighted': [],\n",
       " 'f1_weighted_delta': [],\n",
       " 'best_params': [],\n",
       " 'runtime': []}"
      ]
     },
     "execution_count": 15,
     "metadata": {},
     "output_type": "execute_result"
    }
   ],
   "source": [
    "# define scoring metrics for comparison. GridSearchCV will optimise based on the 1st metric\n",
    "score_metric = ['f1_weighted']\n",
    "\n",
    "results = Results()\n",
    "results.create_dict(score_metric)"
   ]
  },
  {
   "attachments": {},
   "cell_type": "markdown",
   "metadata": {},
   "source": [
    "Create a set of parameters for each model to be passed into GridSearchCV for hyperparameter tuning."
   ]
  },
  {
   "cell_type": "code",
   "execution_count": 16,
   "metadata": {
    "cell_id": "0939d8a01a0448678a1276cd0609d252",
    "deepnote_cell_type": "code",
    "deepnote_to_be_reexecuted": false,
    "execution_millis": 0,
    "execution_start": 1670551614725,
    "source_hash": "6ad5492e",
    "tags": []
   },
   "outputs": [],
   "source": [
    "lr_params = {\n",
    "    'clf__solver': ['liblinear', 'newton-cg'],\n",
    "    'clf__penalty': ['l2'],\n",
    "    'clf__C': [100, 10, 1.0, 0.1, 0.01],\n",
    "    'clf__max_iter': [100, 150, 500],\n",
    "    'clf__class_weight': ['balanced', None],\n",
    "}\n",
    "\n",
    "knn_params = {\n",
    "    'clf__n_neighbors': [3, 5, 9, 15],\n",
    "    'clf__weights': ['uniform', 'distance'],\n",
    "    'clf__p': [1, 2]\n",
    "}\n",
    "\n",
    "et_params = {\n",
    "    # 'clf__n_estimators': [100, 200, 300],\n",
    "    'clf__max_depth': [10, 25, 50],\n",
    "    # 'clf__class_weight': ['balanced', None],\n",
    "    'clf__min_samples_leaf': [1, 5, 15]\n",
    "}\n",
    "\n",
    "ada_params = {\n",
    "    'clf__learning_rate': [1.0, 2.0, 10],\n",
    "    'clf__n_estimators': [150, 200, 250],\n",
    "}\n",
    "\n",
    "hgbc_params = {\n",
    "    'clf__learning_rate': [0.001, 0.01, 0.1],\n",
    "    'clf__l2_regularization': [0, 0.1, 1],\n",
    "    'clf__max_iter': [100, 200, 300],\n",
    "}"
   ]
  },
  {
   "cell_type": "code",
   "execution_count": 17,
   "metadata": {},
   "outputs": [
    {
     "name": "stdout",
     "output_type": "stream",
     "text": [
      "Fitting LogisticRegression\n",
      "Fitting 3 folds for each of 60 candidates, totalling 180 fits\n",
      "Elapsed time: 1 minutes, 45 seconds\n",
      "Best Score:  0.8454705180186121\n",
      "Best Params:  {'clf__C': 1.0, 'clf__class_weight': 'balanced', 'clf__max_iter': 100, 'clf__penalty': 'l2', 'clf__solver': 'newton-cg'}\n",
      "\n"
     ]
    }
   ],
   "source": [
    "lr_best = results.run_pipe(lr, lr_params)"
   ]
  },
  {
   "cell_type": "code",
   "execution_count": 18,
   "metadata": {},
   "outputs": [
    {
     "name": "stdout",
     "output_type": "stream",
     "text": [
      "Fitting KNeighborsClassifier\n",
      "Fitting 3 folds for each of 16 candidates, totalling 48 fits\n",
      "Elapsed time: 0 minutes, 42 seconds\n",
      "Best Score:  0.9080900463315845\n",
      "Best Params:  {'clf__n_neighbors': 3, 'clf__p': 1, 'clf__weights': 'distance'}\n",
      "\n"
     ]
    }
   ],
   "source": [
    "knn_best = results.run_pipe(knn, knn_params)"
   ]
  },
  {
   "cell_type": "code",
   "execution_count": 19,
   "metadata": {
    "cell_id": "a92af20005a749049d1c126cc67318a6",
    "deepnote_cell_type": "code",
    "deepnote_to_be_reexecuted": false,
    "execution_millis": 5,
    "execution_start": 1670551614739,
    "source_hash": "ad166d04",
    "tags": []
   },
   "outputs": [],
   "source": [
    "# extremely overfitting\n",
    "# et_best = results.run_pipe(et, et_params)"
   ]
  },
  {
   "cell_type": "code",
   "execution_count": 20,
   "metadata": {
    "cell_id": "79bb11a6463d45548d77ad6ad69b9a6e",
    "deepnote_cell_type": "code",
    "deepnote_to_be_reexecuted": false,
    "execution_millis": 1,
    "execution_start": 1670551614765,
    "source_hash": "8f961823",
    "tags": []
   },
   "outputs": [
    {
     "name": "stdout",
     "output_type": "stream",
     "text": [
      "Fitting AdaBoostClassifier\n",
      "Fitting 3 folds for each of 9 candidates, totalling 27 fits\n",
      "Elapsed time: 1 minutes, 11 seconds\n",
      "Best Score:  0.9140303284925565\n",
      "Best Params:  {'clf__learning_rate': 1.0, 'clf__n_estimators': 250}\n",
      "\n"
     ]
    }
   ],
   "source": [
    "ada_best = results.run_pipe(ada, ada_params)"
   ]
  },
  {
   "cell_type": "code",
   "execution_count": 21,
   "metadata": {},
   "outputs": [
    {
     "name": "stdout",
     "output_type": "stream",
     "text": [
      "Fitting HistGradientBoostingClassifier\n",
      "Fitting 3 folds for each of 27 candidates, totalling 81 fits\n",
      "Elapsed time: 2 minutes, 32 seconds\n",
      "Best Score:  0.9260797149064853\n",
      "Best Params:  {'clf__l2_regularization': 1, 'clf__learning_rate': 0.1, 'clf__max_iter': 300}\n",
      "\n"
     ]
    }
   ],
   "source": [
    "hgbc_best = results.run_pipe(hgbc, hgbc_params)"
   ]
  },
  {
   "cell_type": "code",
   "execution_count": 22,
   "metadata": {
    "cell_id": "16e54354b94946ad88e3b2c657a8e1b7",
    "deepnote_cell_type": "code",
    "deepnote_to_be_reexecuted": false,
    "execution_millis": 26,
    "execution_start": 1670551614769,
    "source_hash": "c3834e6e",
    "tags": []
   },
   "outputs": [
    {
     "data": {
      "text/html": [
       "<div>\n",
       "<style scoped>\n",
       "    .dataframe tbody tr th:only-of-type {\n",
       "        vertical-align: middle;\n",
       "    }\n",
       "\n",
       "    .dataframe tbody tr th {\n",
       "        vertical-align: top;\n",
       "    }\n",
       "\n",
       "    .dataframe thead th {\n",
       "        text-align: right;\n",
       "    }\n",
       "</style>\n",
       "<table border=\"1\" class=\"dataframe\">\n",
       "  <thead>\n",
       "    <tr style=\"text-align: right;\">\n",
       "      <th></th>\n",
       "      <th>model_list</th>\n",
       "      <th>mean_train_f1_weighted</th>\n",
       "      <th>mean_test_f1_weighted</th>\n",
       "      <th>f1_weighted_delta</th>\n",
       "      <th>best_params</th>\n",
       "      <th>runtime</th>\n",
       "    </tr>\n",
       "  </thead>\n",
       "  <tbody>\n",
       "    <tr>\n",
       "      <th>0</th>\n",
       "      <td>LogisticRegression</td>\n",
       "      <td>0.3200</td>\n",
       "      <td>0.1886</td>\n",
       "      <td>0.1314</td>\n",
       "      <td>{'clf__C': 1.0, 'clf__class_weight': 'balanced...</td>\n",
       "      <td>105.02</td>\n",
       "    </tr>\n",
       "    <tr>\n",
       "      <th>2</th>\n",
       "      <td>AdaBoostClassifier</td>\n",
       "      <td>0.3366</td>\n",
       "      <td>0.1834</td>\n",
       "      <td>0.1533</td>\n",
       "      <td>{'clf__learning_rate': 1.0, 'clf__n_estimators...</td>\n",
       "      <td>71.83</td>\n",
       "    </tr>\n",
       "    <tr>\n",
       "      <th>1</th>\n",
       "      <td>KNeighborsClassifier</td>\n",
       "      <td>0.7920</td>\n",
       "      <td>0.1547</td>\n",
       "      <td>0.6373</td>\n",
       "      <td>{'clf__n_neighbors': 3, 'clf__p': 1, 'clf__wei...</td>\n",
       "      <td>42.04</td>\n",
       "    </tr>\n",
       "    <tr>\n",
       "      <th>3</th>\n",
       "      <td>HistGradientBoostingClassifier</td>\n",
       "      <td>0.5719</td>\n",
       "      <td>0.1468</td>\n",
       "      <td>0.4250</td>\n",
       "      <td>{'clf__l2_regularization': 1, 'clf__learning_r...</td>\n",
       "      <td>152.65</td>\n",
       "    </tr>\n",
       "  </tbody>\n",
       "</table>\n",
       "</div>"
      ],
      "text/plain": [
       "                       model_list  mean_train_f1_weighted  \\\n",
       "0              LogisticRegression                  0.3200   \n",
       "2              AdaBoostClassifier                  0.3366   \n",
       "1            KNeighborsClassifier                  0.7920   \n",
       "3  HistGradientBoostingClassifier                  0.5719   \n",
       "\n",
       "   mean_test_f1_weighted  f1_weighted_delta  \\\n",
       "0                 0.1886             0.1314   \n",
       "2                 0.1834             0.1533   \n",
       "1                 0.1547             0.6373   \n",
       "3                 0.1468             0.4250   \n",
       "\n",
       "                                         best_params  runtime  \n",
       "0  {'clf__C': 1.0, 'clf__class_weight': 'balanced...   105.02  \n",
       "2  {'clf__learning_rate': 1.0, 'clf__n_estimators...    71.83  \n",
       "1  {'clf__n_neighbors': 3, 'clf__p': 1, 'clf__wei...    42.04  \n",
       "3  {'clf__l2_regularization': 1, 'clf__learning_r...   152.65  "
      ]
     },
     "execution_count": 22,
     "metadata": {},
     "output_type": "execute_result"
    }
   ],
   "source": [
    "results.display()"
   ]
  },
  {
   "attachments": {},
   "cell_type": "markdown",
   "metadata": {},
   "source": [
    "Based on the model_performance table, we see that the the `HistGradientBoostingClassifier` and `AdaBoostClassifier` appear to be performing the best. To optimise our predictions, we will utilise an ensemble method and use the two classifiers with a `VotingClassifier` as our final estimator."
   ]
  },
  {
   "cell_type": "code",
   "execution_count": 23,
   "metadata": {},
   "outputs": [
    {
     "data": {
      "text/plain": [
       "<AxesSubplot:>"
      ]
     },
     "execution_count": 23,
     "metadata": {},
     "output_type": "execute_result"
    },
    {
     "data": {
      "image/png": "[encoded data removed]",
      "text/plain": [
       "<Figure size 640x480 with 2 Axes>"
      ]
     },
     "metadata": {},
     "output_type": "display_data"
    }
   ],
   "source": [
    "# check correlation between our model predictions\n",
    "sns.heatmap(\n",
    "    data = pd.DataFrame(\n",
    "    np.column_stack((\n",
    "        ada_best.predict(X_train),\n",
    "        hgbc_best.predict(X_train), \n",
    "        # et_best.predict(X_train), \n",
    "        lr_best.predict(X_train), \n",
    "        knn_best.predict(X_train),\n",
    "        )),\n",
    "    # columns = model_performance['model_list']\n",
    "    ).corr(),\n",
    "    annot = True,\n",
    "    cmap = 'Blues',\n",
    "    vmin = 0,\n",
    "    vmax = 1\n",
    ")"
   ]
  },
  {
   "cell_type": "code",
   "execution_count": 24,
   "metadata": {},
   "outputs": [],
   "source": [
    "# check coefficents from LogisticRegression\n",
    "# feature_names = lr_best[0].get_feature_names_out()\n",
    "# coefficients = lr_best[2].coef_\n",
    "# features_coefs = pd.DataFrame([feature_names, coefficients.reshape(52,)]).transpose()\n",
    "# features_coefs.rename(columns={0: 'feature', 1: 'coef'}, inplace=True)\n",
    "# features_coefs.sort_values(by='coef', ascending=False)"
   ]
  },
  {
   "cell_type": "code",
   "execution_count": 25,
   "metadata": {
    "cell_id": "3d077543da5741ba9a33727305db1e32",
    "deepnote_cell_type": "code",
    "deepnote_to_be_reexecuted": false,
    "execution_millis": 2,
    "execution_start": 1670552986824,
    "source_hash": "7e4528f9",
    "tags": []
   },
   "outputs": [],
   "source": [
    "# create VotingClassifier ensemble with top performing classifiers and new params\n",
    "# voting_clf = VotingClassifier([\n",
    "#     ('GradientBoost', GradientBoostingClassifier(n_estimators=300, random_state=rng)),\n",
    "#     ('AdaBoost', AdaBoostClassifier(n_estimators=200, random_state=rng)),\n",
    "#     ('RandomForest', RandomForestClassifier(n_estimators=700, max_features='sqrt', random_state=rng))\n",
    "# ], voting='soft')\n",
    "\n",
    "# voting_params = {\n",
    "#     'sample__sampling_strategy': ['auto', 0.1, 0.3],\n",
    "#     'clf__GradientBoost__learning_rate': [0.01, 0.1],\n",
    "#     'clf__GradientBoost__subsample': [0.7, 1.0],\n",
    "#     'clf__GradientBoost__max_depth': [3, 7],\n",
    "#     'clf__AdaBoost__learning_rate': [1.0, 2.0, 10],\n",
    "#     'clf__LogReg__solver': ['liblinear'],\n",
    "#     'clf__LogReg__C': [100, 10, 1.0],\n",
    "# }"
   ]
  },
  {
   "cell_type": "code",
   "execution_count": 26,
   "metadata": {},
   "outputs": [],
   "source": [
    "# create VotingClassifier ensemble with best performing classifiers\n",
    "voting_clf = VotingClassifier([\n",
    "    # ('HistGradientBoost', hgbc_best[-1]),\n",
    "    ('AdaBoost', ada_best[-1]),\n",
    "    ('LogReg', lr_best[-1]),\n",
    "    # ('ExtraTrees', et_best[-1]),\n",
    "    # ('Kneighbors', knn_best[-1])\n",
    "], voting='soft')\n",
    "\n",
    "voting_params = {\n",
    "    'sample__sampling_strategy': ['auto', 0.1, 0.25, 0.5],\n",
    "#     'clf__GradientBoost__learning_rate': [0.01, 0.1],\n",
    "#     'clf__GradientBoost__subsample': [0.7, 1.0],\n",
    "#     'clf__GradientBoost__max_depth': [3, 7],\n",
    "#     'clf__AdaBoost__learning_rate': [1.0, 2.0, 10],\n",
    "#     'clf__LogReg__solver': ['liblinear'],\n",
    "#     'clf__LogReg__C': [100, 10, 1.0],\n",
    "}"
   ]
  },
  {
   "cell_type": "code",
   "execution_count": 27,
   "metadata": {
    "cell_id": "005373c33c9d435daf02555821ef357d",
    "deepnote_cell_type": "code",
    "deepnote_to_be_reexecuted": false,
    "execution_millis": 132,
    "execution_start": 1670552989018,
    "source_hash": "506a2374"
   },
   "outputs": [
    {
     "name": "stdout",
     "output_type": "stream",
     "text": [
      "Fitting VotingClassifier\n",
      "Fitting 3 folds for each of 4 candidates, totalling 12 fits\n",
      "Elapsed time: 0 minutes, 41 seconds\n",
      "Best Score:  0.8458391762411668\n",
      "Best Params:  {'sample__sampling_strategy': 'auto'}\n",
      "\n"
     ]
    }
   ],
   "source": [
    "voting_best = results.run_pipe(voting_clf, voting_params)"
   ]
  },
  {
   "cell_type": "code",
   "execution_count": 28,
   "metadata": {},
   "outputs": [
    {
     "data": {
      "text/html": [
       "<div>\n",
       "<style scoped>\n",
       "    .dataframe tbody tr th:only-of-type {\n",
       "        vertical-align: middle;\n",
       "    }\n",
       "\n",
       "    .dataframe tbody tr th {\n",
       "        vertical-align: top;\n",
       "    }\n",
       "\n",
       "    .dataframe thead th {\n",
       "        text-align: right;\n",
       "    }\n",
       "</style>\n",
       "<table border=\"1\" class=\"dataframe\">\n",
       "  <thead>\n",
       "    <tr style=\"text-align: right;\">\n",
       "      <th></th>\n",
       "      <th>model_list</th>\n",
       "      <th>mean_train_f1_weighted</th>\n",
       "      <th>mean_test_f1_weighted</th>\n",
       "      <th>f1_weighted_delta</th>\n",
       "      <th>best_params</th>\n",
       "      <th>runtime</th>\n",
       "    </tr>\n",
       "  </thead>\n",
       "  <tbody>\n",
       "    <tr>\n",
       "      <th>4</th>\n",
       "      <td>VotingClassifier</td>\n",
       "      <td>0.3211</td>\n",
       "      <td>0.1898</td>\n",
       "      <td>0.1314</td>\n",
       "      <td>{'sample__sampling_strategy': 'auto'}</td>\n",
       "      <td>41.25</td>\n",
       "    </tr>\n",
       "    <tr>\n",
       "      <th>0</th>\n",
       "      <td>LogisticRegression</td>\n",
       "      <td>0.3200</td>\n",
       "      <td>0.1886</td>\n",
       "      <td>0.1314</td>\n",
       "      <td>{'clf__C': 1.0, 'clf__class_weight': 'balanced...</td>\n",
       "      <td>105.02</td>\n",
       "    </tr>\n",
       "    <tr>\n",
       "      <th>2</th>\n",
       "      <td>AdaBoostClassifier</td>\n",
       "      <td>0.3366</td>\n",
       "      <td>0.1834</td>\n",
       "      <td>0.1533</td>\n",
       "      <td>{'clf__learning_rate': 1.0, 'clf__n_estimators...</td>\n",
       "      <td>71.83</td>\n",
       "    </tr>\n",
       "    <tr>\n",
       "      <th>1</th>\n",
       "      <td>KNeighborsClassifier</td>\n",
       "      <td>0.7920</td>\n",
       "      <td>0.1547</td>\n",
       "      <td>0.6373</td>\n",
       "      <td>{'clf__n_neighbors': 3, 'clf__p': 1, 'clf__wei...</td>\n",
       "      <td>42.04</td>\n",
       "    </tr>\n",
       "    <tr>\n",
       "      <th>3</th>\n",
       "      <td>HistGradientBoostingClassifier</td>\n",
       "      <td>0.5719</td>\n",
       "      <td>0.1468</td>\n",
       "      <td>0.4250</td>\n",
       "      <td>{'clf__l2_regularization': 1, 'clf__learning_r...</td>\n",
       "      <td>152.65</td>\n",
       "    </tr>\n",
       "  </tbody>\n",
       "</table>\n",
       "</div>"
      ],
      "text/plain": [
       "                       model_list  mean_train_f1_weighted  \\\n",
       "4                VotingClassifier                  0.3211   \n",
       "0              LogisticRegression                  0.3200   \n",
       "2              AdaBoostClassifier                  0.3366   \n",
       "1            KNeighborsClassifier                  0.7920   \n",
       "3  HistGradientBoostingClassifier                  0.5719   \n",
       "\n",
       "   mean_test_f1_weighted  f1_weighted_delta  \\\n",
       "4                 0.1898             0.1314   \n",
       "0                 0.1886             0.1314   \n",
       "2                 0.1834             0.1533   \n",
       "1                 0.1547             0.6373   \n",
       "3                 0.1468             0.4250   \n",
       "\n",
       "                                         best_params  runtime  \n",
       "4              {'sample__sampling_strategy': 'auto'}    41.25  \n",
       "0  {'clf__C': 1.0, 'clf__class_weight': 'balanced...   105.02  \n",
       "2  {'clf__learning_rate': 1.0, 'clf__n_estimators...    71.83  \n",
       "1  {'clf__n_neighbors': 3, 'clf__p': 1, 'clf__wei...    42.04  \n",
       "3  {'clf__l2_regularization': 1, 'clf__learning_r...   152.65  "
      ]
     },
     "execution_count": 28,
     "metadata": {},
     "output_type": "execute_result"
    }
   ],
   "source": [
    "results.display()"
   ]
  },
  {
   "attachments": {},
   "cell_type": "markdown",
   "metadata": {},
   "source": [
    "Selecting the top performing model based on `balanced accuracy` score."
   ]
  },
  {
   "cell_type": "code",
   "execution_count": 30,
   "metadata": {},
   "outputs": [],
   "source": [
    "best_model = voting_best"
   ]
  },
  {
   "attachments": {},
   "cell_type": "markdown",
   "metadata": {},
   "source": [
    "## Model Performance\n",
    "\n",
    "---\n",
    "\n",
    "Random text"
   ]
  },
  {
   "cell_type": "code",
   "execution_count": 31,
   "metadata": {},
   "outputs": [
    {
     "name": "stdout",
     "output_type": "stream",
     "text": [
      "              precision    recall  f1-score   support\n",
      "\n",
      "           0       0.00      0.00      0.00      1992\n",
      "           1       0.05      1.00      0.10       110\n",
      "\n",
      "    accuracy                           0.05      2102\n",
      "   macro avg       0.03      0.50      0.05      2102\n",
      "weighted avg       0.00      0.05      0.01      2102\n",
      "\n"
     ]
    },
    {
     "data": {
      "text/plain": [
       "<sklearn.metrics._plot.confusion_matrix.ConfusionMatrixDisplay at 0x18f819757f0>"
      ]
     },
     "execution_count": 31,
     "metadata": {},
     "output_type": "execute_result"
    },
    {
     "data": {
      "image/png": "[encoded data removed]",
      "text/plain": [
       "<Figure size 640x480 with 2 Axes>"
      ]
     },
     "metadata": {},
     "output_type": "display_data"
    }
   ],
   "source": [
    "print(classification_report(y_test, [1 for x in range(len(y_test))]))\n",
    "\n",
    "ConfusionMatrixDisplay.from_predictions(y_test, [1 for x in range(len(y_test))])"
   ]
  },
  {
   "cell_type": "code",
   "execution_count": 32,
   "metadata": {},
   "outputs": [
    {
     "data": {
      "image/png": "[encoded data removed]",
      "text/plain": [
       "<Figure size 640x480 with 2 Axes>"
      ]
     },
     "metadata": {},
     "output_type": "display_data"
    }
   ],
   "source": [
    "preds = best_model.predict(X_test)\n",
    "cm_disp = ConfusionMatrixDisplay.from_predictions(y_test, preds)"
   ]
  },
  {
   "cell_type": "code",
   "execution_count": 33,
   "metadata": {
    "cell_id": "d1cef0a9162a4398958108b253f2008d",
    "deepnote_cell_type": "code",
    "deepnote_to_be_reexecuted": true,
    "execution_millis": 554,
    "execution_start": 1670548138224,
    "source_hash": "ed13f675"
   },
   "outputs": [
    {
     "name": "stdout",
     "output_type": "stream",
     "text": [
      "              precision    recall  f1-score   support\n",
      "\n",
      "           0       0.97      0.77      0.86      1992\n",
      "           1       0.13      0.60      0.21       110\n",
      "\n",
      "    accuracy                           0.76      2102\n",
      "   macro avg       0.55      0.68      0.53      2102\n",
      "weighted avg       0.93      0.76      0.82      2102\n",
      "\n"
     ]
    }
   ],
   "source": [
    "print(classification_report(y_test, preds))"
   ]
  },
  {
   "cell_type": "code",
   "execution_count": 35,
   "metadata": {},
   "outputs": [],
   "source": [
    "threshold = []\n",
    "f1_score_ = []\n",
    "\n",
    "for p in np.linspace(0,1,101):\n",
    "  threshold.append(p)\n",
    "  y_pred = (best_model.predict_proba(X_train)[:,1] >= p).astype(int)\n",
    "  f1_score_.append(f1_score(y_train,y_pred, average='weighted'))\n",
    "\n",
    "threshold_max = threshold[np.argmax(f1_score_)]"
   ]
  },
  {
   "cell_type": "code",
   "execution_count": 36,
   "metadata": {},
   "outputs": [
    {
     "data": {
      "image/png": "[encoded data removed]",
      "text/plain": [
       "<Figure size 640x480 with 1 Axes>"
      ]
     },
     "metadata": {},
     "output_type": "display_data"
    }
   ],
   "source": [
    "plt.scatter(threshold,f1_score_)\n",
    "plt.axvline(x=threshold_max, linestyle='--', c='red', label=f'Threshold {threshold_max}')\n",
    "plt.xlabel(\"Threshold\")\n",
    "plt.ylabel(\"F1 Score\")\n",
    "plt.legend(loc='best')\n",
    "plt.show();"
   ]
  },
  {
   "cell_type": "code",
   "execution_count": 37,
   "metadata": {},
   "outputs": [
    {
     "data": {
      "image/png": "[encoded data removed]",
      "text/plain": [
       "<Figure size 640x480 with 2 Axes>"
      ]
     },
     "metadata": {},
     "output_type": "display_data"
    }
   ],
   "source": [
    "y_hat = pd.Series(np.where(best_model.predict_proba(X_test)[:,1] >= threshold_max, 1, 0), \n",
    "                     dtype='category')\n",
    "cm_disp_yhat = ConfusionMatrixDisplay.from_predictions(y_test, y_hat)"
   ]
  },
  {
   "cell_type": "code",
   "execution_count": 38,
   "metadata": {},
   "outputs": [
    {
     "name": "stdout",
     "output_type": "stream",
     "text": [
      "              precision    recall  f1-score   support\n",
      "\n",
      "           0       0.95      0.97      0.96      1992\n",
      "           1       0.24      0.17      0.20       110\n",
      "\n",
      "    accuracy                           0.93      2102\n",
      "   macro avg       0.60      0.57      0.58      2102\n",
      "weighted avg       0.92      0.93      0.92      2102\n",
      "\n"
     ]
    }
   ],
   "source": [
    "print(classification_report(y_test, y_hat))"
   ]
  },
  {
   "cell_type": "code",
   "execution_count": 39,
   "metadata": {
    "scrolled": true
   },
   "outputs": [],
   "source": [
    "# best_model.fit(X, y)"
   ]
  },
  {
   "attachments": {},
   "cell_type": "markdown",
   "metadata": {},
   "source": [
    "## Predictions\n",
    "\n",
    "---\n",
    "\n",
    "Prediction with `test.csv`."
   ]
  },
  {
   "cell_type": "code",
   "execution_count": 40,
   "metadata": {
    "cell_id": "da2446db60a146cf80aa8cbc5a91280d",
    "deepnote_cell_type": "code",
    "deepnote_to_be_reexecuted": true,
    "source_hash": "a9239d02"
   },
   "outputs": [],
   "source": [
    "# df_test = pd.read_csv('../assets/df_merge_test.csv', parse_dates=['Date', 'Sunrise_1', 'Sunset_1'])"
   ]
  },
  {
   "cell_type": "code",
   "execution_count": 41,
   "metadata": {},
   "outputs": [],
   "source": [
    "# df_test = create_dt_features(df_test)"
   ]
  },
  {
   "cell_type": "code",
   "execution_count": 42,
   "metadata": {},
   "outputs": [],
   "source": [
    "# df_test[features]"
   ]
  },
  {
   "cell_type": "code",
   "execution_count": 43,
   "metadata": {
    "cell_id": "089666933639418885d5eb294f4004a9",
    "deepnote_cell_type": "code",
    "deepnote_to_be_reexecuted": true,
    "source_hash": "6115b236"
   },
   "outputs": [],
   "source": [
    "# submission_predictions = best_model.predict(df_test[features])"
   ]
  },
  {
   "cell_type": "code",
   "execution_count": 44,
   "metadata": {
    "cell_id": "9f02d32d869748ea995f32ff169b2211",
    "deepnote_cell_type": "code",
    "deepnote_to_be_reexecuted": true,
    "source_hash": "3601ff24"
   },
   "outputs": [],
   "source": [
    "def create_predictions(predictions, filename):\n",
    "    if not os.path.isdir('../output'):\n",
    "        os.mkdir('../output')\n",
    "    \n",
    "    if not os.path.isfile(f'../output/{filename}.csv'):\n",
    "        results_df = pd.DataFrame(predictions)\n",
    "        results_df.insert(0, column='id', value=range(1, len(predictions)+1))\n",
    "        results_df.to_csv(f\"../output/{filename}.csv\", header=[\"Id\", \"WnvPresent\"], index=False)\n",
    "    else:\n",
    "        raise NameError(f'{filename}.csv already exists!')"
   ]
  },
  {
   "cell_type": "code",
   "execution_count": 45,
   "metadata": {},
   "outputs": [],
   "source": [
    "output_filename = 'predictions_25'\n",
    "\n",
    "# create_predictions(submission_predictions, output_filename)\n"
   ]
  },
  {
   "cell_type": "code",
   "execution_count": 46,
   "metadata": {},
   "outputs": [],
   "source": [
    "# results.display().to_csv(f'../output/params_{output_filename}.csv', index=False)"
   ]
  }
 ],
 "metadata": {
  "kernelspec": {
   "display_name": "Python 3 (ipykernel)",
   "language": "python",
   "name": "python3"
  },
  "language_info": {
   "codemirror_mode": {
    "name": "ipython",
    "version": 3
   },
   "file_extension": ".py",
   "mimetype": "text/x-python",
   "name": "python",
   "nbconvert_exporter": "python",
   "pygments_lexer": "ipython3",
   "version": "3.9.13"
  },
  "vscode": {
   "interpreter": {
    "hash": "1b28ad9899eefd279686690bace4d41fa3fa7d0cff5719534f58e9a7031f3ffc"
   }
  }
 },
 "nbformat": 4,
 "nbformat_minor": 1
}
