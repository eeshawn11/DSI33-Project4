{
 "cells": [
  {
   "cell_type": "markdown",
   "metadata": {
    "cell_id": "f96abd16122146b797d16aaa0f1ee71b",
    "deepnote_cell_type": "markdown"
   },
   "source": [
    "# Modelling"
   ]
  },
  {
   "cell_type": "code",
   "execution_count": 1,
   "metadata": {
    "cell_id": "31251000c0c54cfea5e3cabad32b523e",
    "deepnote_cell_type": "code",
    "deepnote_to_be_reexecuted": false,
    "execution_millis": 932,
    "execution_start": 1670551613652,
    "source_hash": "476ca060"
   },
   "outputs": [],
   "source": [
    "import pandas as pd\n",
    "import numpy as np\n",
    "import re\n",
    "import time\n",
    "import os\n",
    "\n",
    "from sklearn.preprocessing import OneHotEncoder, MinMaxScaler, FunctionTransformer\n",
    "from sklearn.model_selection import train_test_split, cross_val_score, GridSearchCV\n",
    "from sklearn.metrics import classification_report, ConfusionMatrixDisplay\n",
    "from sklearn.compose import ColumnTransformer\n",
    "from sklearn.linear_model import Perceptron, LogisticRegression, RidgeClassifier\n",
    "from sklearn.ensemble import RandomForestClassifier, AdaBoostClassifier, GradientBoostingClassifier, VotingClassifier\n",
    "from sklearn.neighbors import KNeighborsClassifier\n",
    "from sklearn.feature_extraction.text import CountVectorizer\n",
    "\n",
    "from imblearn.combine import SMOTETomek\n",
    "from imblearn.pipeline import Pipeline\n",
    "\n",
    "rng = np.random.RandomState(42)\n",
    "\n",
    "# from keras import Sequential\n",
    "# from keras.layers import Dense\n",
    "\n",
    "import warnings\n",
    "warnings.filterwarnings('ignore') # hide warnings to avoid cluttering the notebook output"
   ]
  },
  {
   "cell_type": "code",
   "execution_count": 2,
   "metadata": {},
   "outputs": [],
   "source": [
    "class TimerError(Exception):\n",
    "    \"\"\"A custom exception used to report errors in use of Timer class\"\"\"\n",
    "\n",
    "class Timer:\n",
    "    def __init__(self):\n",
    "        self._start_time = None\n",
    "        self._elapsed_time = None\n",
    "\n",
    "    def start(self):\n",
    "        \"\"\"Start a new timer\"\"\"\n",
    "        if self._start_time is not None:\n",
    "            raise TimerError(f\"Timer is running. Use .stop() to stop it\")\n",
    "\n",
    "        self._elapsed_time = None\n",
    "        self._start_time = time.perf_counter()\n",
    "\n",
    "    def stop(self):\n",
    "        \"\"\"Stop the timer, and report the elapsed time\"\"\"\n",
    "        if self._start_time is None:\n",
    "            raise TimerError(f\"Timer is not running. Use .start() to start it\")\n",
    "\n",
    "        self._elapsed_time = time.perf_counter() - self._start_time\n",
    "        self._start_time = None\n",
    "        print(f\"Elapsed time: {self._elapsed_time:0.4f} seconds\")\n",
    "\n",
    "    def duration(self):\n",
    "        \"\"\"Return the elapsed time from the timer.\"\"\"\n",
    "        if self._elapsed_time is None:\n",
    "            raise TimerError(f\"Timer has not run. Use .start() and .stop() to start and stop the timer.\")\n",
    "\n",
    "        return self._elapsed_time"
   ]
  },
  {
   "cell_type": "code",
   "execution_count": 3,
   "metadata": {
    "cell_id": "195f4763f16e47999fbf9d8c8652d351",
    "deepnote_cell_type": "code",
    "deepnote_to_be_reexecuted": false,
    "execution_millis": 25,
    "execution_start": 1670551614585,
    "source_hash": "abfd9979"
   },
   "outputs": [],
   "source": [
    "df = pd.read_csv('../assets/df_merge_final.csv')"
   ]
  },
  {
   "cell_type": "code",
   "execution_count": 4,
   "metadata": {},
   "outputs": [],
   "source": [
    "def create_dt_features(dataframe):\n",
    "    dataframe['daylight_duration'] = pd.to_timedelta(dataframe['daylight_duration'])\n",
    "    dataframe['Daylight_hours'] = dataframe['daylight_duration'].dt.total_seconds() / (60*60)\n",
    "    dataframe['Date'] = pd.to_datetime(dataframe['Date'])\n",
    "    dataframe['Month'] = dataframe['Date'].dt.month\n",
    "    dataframe['Day'] = dataframe['Date'].dt.day\n",
    "    return dataframe"
   ]
  },
  {
   "cell_type": "code",
   "execution_count": 5,
   "metadata": {},
   "outputs": [],
   "source": [
    "df = create_dt_features(df)"
   ]
  },
  {
   "cell_type": "code",
   "execution_count": 6,
   "metadata": {},
   "outputs": [],
   "source": [
    "# specify features\n",
    "num_features = ['Latitude', 'Longitude', 'AddressAccuracy', 'Tavg', 'Depart', 'Heat', 'PrecipTotal', 'SeaLevel', 'ResultDir', 'AvgSpeed', 'Humidity', 'Daylight_hours', 'Month', 'Day']\n",
    "cat_features = ['Species', 'Trap']\n",
    "text_features = ['CodeSum']\n",
    "\n",
    "features = num_features + cat_features + text_features\n",
    "\n",
    "# define metric to optimise during GridSearch\n",
    "score_metric = 'roc_auc'"
   ]
  },
  {
   "cell_type": "code",
   "execution_count": 7,
   "metadata": {
    "cell_id": "df282cce65f74870b1b26d17b16e882a",
    "deepnote_cell_type": "code",
    "deepnote_to_be_reexecuted": false,
    "execution_millis": 1,
    "execution_start": 1670551614676,
    "source_hash": "f9a57dbf",
    "tags": []
   },
   "outputs": [],
   "source": [
    "X = df[features]\n",
    "y = df['WnvPresent']"
   ]
  },
  {
   "cell_type": "code",
   "execution_count": 8,
   "metadata": {
    "cell_id": "c002f9f29f5b469282bc7436c65d2bce",
    "deepnote_cell_type": "code",
    "deepnote_to_be_reexecuted": false,
    "execution_millis": 0,
    "execution_start": 1670551614695,
    "source_hash": "22ad61df"
   },
   "outputs": [],
   "source": [
    "X_train, X_test, y_train, y_test = train_test_split(X, y, test_size=0.3, random_state=rng, stratify=y)"
   ]
  },
  {
   "cell_type": "code",
   "execution_count": 9,
   "metadata": {
    "cell_id": "5ea9415a492849488bbfe0c08690b007",
    "deepnote_cell_type": "code",
    "deepnote_to_be_reexecuted": false,
    "execution_millis": 0,
    "execution_start": 1670551614696,
    "source_hash": "a0c1dd4b"
   },
   "outputs": [],
   "source": [
    "# Processing steps before modelling (standardisation, one hot encoding, over/under-sampling)\n",
    "minmax = MinMaxScaler(feature_range=(0, 1))\n",
    "ohe = OneHotEncoder(drop='if_binary', handle_unknown='ignore')\n",
    "count = CountVectorizer()\n",
    "\n",
    "sample_smotetomek = SMOTETomek(random_state=rng, n_jobs=2)\n",
    "\n",
    "text_pipe = Pipeline([\n",
    "    (\"squeeze\", FunctionTransformer(lambda x: x.squeeze())),\n",
    "    ('vector', count),\n",
    "    ('array', FunctionTransformer(lambda x: x.toarray(), accept_sparse=True)),\n",
    "    ('scale', minmax)\n",
    "])\n",
    "\n",
    "col_transform = ColumnTransformer([\n",
    "    ('MinMaxScaler', minmax, num_features),\n",
    "    ('OneHotEncoder', ohe, cat_features),\n",
    "    ('CountVectorizer', text_pipe, text_features)\n",
    "], remainder='drop'\n",
    ")"
   ]
  },
  {
   "cell_type": "code",
   "execution_count": 10,
   "metadata": {
    "cell_id": "93ccb8bc1f7f48e59148607badf32567",
    "deepnote_cell_type": "code",
    "deepnote_to_be_reexecuted": false,
    "execution_millis": 2,
    "execution_start": 1670551614701,
    "source_hash": "16c4c255",
    "tags": []
   },
   "outputs": [],
   "source": [
    "# WORKING FILE\n",
    "# perceptron = Perceptron(random_state=42)\n",
    "\n",
    "# model = Sequential()\n",
    "# model.add(Dense(50, input_dim=53, activation='relu')) # input\n",
    "# model.add(Dense(100, activation='relu')) # hidden\n",
    "# model.add(Dense(50, activation='relu'))  # hidden\n",
    "# model.add(Dense(1, activation='sigmoid'))\n",
    "# model.compile(loss=\"binary_crossentropy\", optimizer=\"adam\", metrics=['binary_crossentropy']) \n"
   ]
  },
  {
   "cell_type": "code",
   "execution_count": 11,
   "metadata": {
    "cell_id": "68b7851640eb427a9d654c1ea7eedce8",
    "deepnote_cell_type": "code",
    "deepnote_to_be_reexecuted": false,
    "execution_millis": 2,
    "execution_start": 1670551614703,
    "source_hash": "5cf5fc15",
    "tags": []
   },
   "outputs": [],
   "source": [
    "# Instantiating models for classification\n",
    "lr = LogisticRegression(random_state=rng)\n",
    "knn = KNeighborsClassifier()\n",
    "pct = Perceptron(random_state=rng)\n",
    "rf = RandomForestClassifier(random_state=rng)\n",
    "ada = AdaBoostClassifier(random_state=rng)\n",
    "gbc = GradientBoostingClassifier(random_state=rng)"
   ]
  },
  {
   "cell_type": "code",
   "execution_count": 12,
   "metadata": {},
   "outputs": [],
   "source": [
    "# create dict to store model performance results for comparison\n",
    "model_dict = {\n",
    "    'model_list': [],\n",
    "    'mean_train_score': [],\n",
    "    'mean_test_score': [],\n",
    "    'best_params': [],\n",
    "    'runtime': []\n",
    "}"
   ]
  },
  {
   "cell_type": "code",
   "execution_count": 13,
   "metadata": {
    "cell_id": "c51fa59dd9074b0c9aee057f4ff60157",
    "deepnote_cell_type": "code",
    "deepnote_to_be_reexecuted": false,
    "execution_millis": 0,
    "execution_start": 1670551614726,
    "source_hash": "c5615a52",
    "tags": []
   },
   "outputs": [],
   "source": [
    "# run pipe, fit params and return best estimator\n",
    "def run_pipe(clf, pipe_params):\n",
    "    t = Timer()\n",
    "    model_name = re.match(r'^(\\w+)(?=\\()', str(clf)).group()\n",
    "    print(f\"Fitting {model_name}\")\n",
    "\n",
    "    # create pipe\n",
    "    pipe = Pipeline([\n",
    "        ('transform', col_transform),\n",
    "        ('sample', sample_smotetomek),\n",
    "        ('clf', clf)\n",
    "    ])\n",
    "    \n",
    "    \n",
    "    # create GridSearchCV\n",
    "    grid = GridSearchCV(\n",
    "        estimator = pipe,\n",
    "        param_grid = pipe_params,\n",
    "        scoring = score_metric,\n",
    "        n_jobs = -3,\n",
    "        cv = 3,\n",
    "        verbose = 1,\n",
    "        error_score='raise'\n",
    "    )\n",
    "\n",
    "    t.start()\n",
    "    grid.fit(X_train, y_train)\n",
    "    t.stop()\n",
    "    \n",
    "    test_score = cross_val_score(grid.best_estimator_, X_test, y_test, scoring=score_metric, cv=3, n_jobs=-3)\n",
    "    # store average scores\n",
    "    model_dict['model_list'].append(model_name)\n",
    "    model_dict['mean_train_score'].append(grid.best_score_)\n",
    "    model_dict['mean_test_score'].append(test_score.mean())\n",
    "    model_dict['best_params'].append(grid.best_params_)\n",
    "    model_dict['runtime'].append(t.duration())\n",
    "\n",
    "    print(\"Best Score: \", grid.best_score_)\n",
    "    print(\"Best Params: \", grid.best_params_)\n",
    "    print()\n",
    "    return grid.best_estimator_"
   ]
  },
  {
   "cell_type": "code",
   "execution_count": 14,
   "metadata": {
    "cell_id": "aa66a7d464524c909017dc4ef49aa773",
    "deepnote_cell_type": "code",
    "deepnote_to_be_reexecuted": false,
    "execution_millis": 1,
    "execution_start": 1670551614729,
    "source_hash": "ed2c8b67",
    "tags": []
   },
   "outputs": [],
   "source": [
    "# create table with model performance results\n",
    "def table_model_results():\n",
    "    model_performance = pd.DataFrame(model_dict)\n",
    "    \n",
    "    model_performance.insert(\n",
    "        loc = 3,\n",
    "        column = 'score_delta',\n",
    "        value = abs(model_performance['mean_train_score'] - model_performance['mean_test_score'])\n",
    "        )\n",
    "\n",
    "    return model_performance.sort_values(by=\"mean_train_score\", ascending=False).round({'mean_train_score': 4, 'mean_test_score':4, 'score_delta':4, 'runtime': 2})"
   ]
  },
  {
   "cell_type": "code",
   "execution_count": 15,
   "metadata": {
    "cell_id": "0939d8a01a0448678a1276cd0609d252",
    "deepnote_cell_type": "code",
    "deepnote_to_be_reexecuted": false,
    "execution_millis": 0,
    "execution_start": 1670551614725,
    "source_hash": "6ad5492e",
    "tags": []
   },
   "outputs": [],
   "source": [
    "lr_params = {\n",
    "    'clf__solver': ['liblinear', 'newton-cg', 'lbfgs'],\n",
    "    'clf__penalty': ['l2'],\n",
    "    'clf__C': [100, 10, 1.0, 0.1, 0.01],\n",
    "    'clf__max_iter': [100, 150]\n",
    "}\n",
    "\n",
    "knn_params = {\n",
    "    'clf__n_neighbors': [3, 5, 9, 15],\n",
    "    'clf__weights': ['uniform', 'distance']\n",
    "}\n",
    "\n",
    "pct_params = {\n",
    "    'clf__penalty': [None, 'l1', 'l2', 'elasticnet'],\n",
    "    'clf__class_weight': [None, 'balanced']\n",
    "}\n",
    "\n",
    "rf_params = {\n",
    "    'clf__ccp_alpha': [0.0, 0.01, 0.1],\n",
    "    'clf__max_features': ['sqrt', 'log2'],\n",
    "    'clf__n_estimators': [700], #[500, 700, 900]\n",
    "}\n",
    "\n",
    "ada_params = {\n",
    "    'clf__learning_rate': [1.0, 2.0, 10],\n",
    "    'clf__n_estimators': [200], #[150, 200, 250]\n",
    "}\n",
    "\n",
    "gbc_params = {\n",
    "    'clf__learning_rate': [0.001, 0.01, 0.1],\n",
    "    'clf__subsample': [0.5, 0.7, 1.0],\n",
    "    'clf__max_depth': [3, 7, 9],\n",
    "    'clf__n_estimators': [250, 300, 350]\n",
    "}"
   ]
  },
  {
   "cell_type": "code",
   "execution_count": 16,
   "metadata": {},
   "outputs": [
    {
     "name": "stdout",
     "output_type": "stream",
     "text": [
      "Fitting LogisticRegression\n",
      "Fitting 3 folds for each of 30 candidates, totalling 90 fits\n",
      "Elapsed time: 115.7490 seconds\n",
      "Best Score:  0.7970909840569506\n",
      "Best Params:  {'clf__C': 10, 'clf__max_iter': 100, 'clf__penalty': 'l2', 'clf__solver': 'newton-cg'}\n",
      "\n"
     ]
    }
   ],
   "source": [
    "lr_best = run_pipe(lr, lr_params)"
   ]
  },
  {
   "cell_type": "code",
   "execution_count": 17,
   "metadata": {},
   "outputs": [
    {
     "name": "stdout",
     "output_type": "stream",
     "text": [
      "Fitting KNeighborsClassifier\n",
      "Fitting 3 folds for each of 8 candidates, totalling 24 fits\n",
      "Elapsed time: 42.8334 seconds\n",
      "Best Score:  0.7043010030542578\n",
      "Best Params:  {'clf__n_neighbors': 15, 'clf__weights': 'uniform'}\n",
      "\n"
     ]
    }
   ],
   "source": [
    "knn_best = run_pipe(knn, knn_params)"
   ]
  },
  {
   "cell_type": "code",
   "execution_count": 18,
   "metadata": {
    "cell_id": "23aa8daa93054cfd9c21b7369c753f5b",
    "deepnote_cell_type": "code",
    "deepnote_to_be_reexecuted": false,
    "execution_millis": 5,
    "execution_start": 1670551614733,
    "source_hash": "187cd43f",
    "tags": []
   },
   "outputs": [
    {
     "name": "stdout",
     "output_type": "stream",
     "text": [
      "Fitting Perceptron\n",
      "Fitting 3 folds for each of 8 candidates, totalling 24 fits\n",
      "Elapsed time: 36.0741 seconds\n",
      "Best Score:  0.7820190367853201\n",
      "Best Params:  {'clf__class_weight': None, 'clf__penalty': None}\n",
      "\n"
     ]
    }
   ],
   "source": [
    "pct_best = run_pipe(pct, pct_params)"
   ]
  },
  {
   "cell_type": "code",
   "execution_count": 19,
   "metadata": {
    "cell_id": "a92af20005a749049d1c126cc67318a6",
    "deepnote_cell_type": "code",
    "deepnote_to_be_reexecuted": false,
    "execution_millis": 5,
    "execution_start": 1670551614739,
    "source_hash": "ad166d04",
    "tags": []
   },
   "outputs": [
    {
     "name": "stdout",
     "output_type": "stream",
     "text": [
      "Fitting RandomForestClassifier\n",
      "Fitting 3 folds for each of 18 candidates, totalling 54 fits\n",
      "Elapsed time: 442.4903 seconds\n",
      "Best Score:  0.8053398107785551\n",
      "Best Params:  {'clf__ccp_alpha': 0.01, 'clf__max_features': 'sqrt', 'clf__n_estimators': 700}\n",
      "\n"
     ]
    }
   ],
   "source": [
    "rf_best = run_pipe(rf, rf_params)"
   ]
  },
  {
   "cell_type": "code",
   "execution_count": 20,
   "metadata": {
    "cell_id": "5b7c499380444c2db5904e1643b4bacb",
    "deepnote_cell_type": "code",
    "deepnote_to_be_reexecuted": false,
    "execution_millis": 4,
    "execution_start": 1670551614759,
    "source_hash": "8911531d",
    "tags": []
   },
   "outputs": [
    {
     "name": "stdout",
     "output_type": "stream",
     "text": [
      "Fitting AdaBoostClassifier\n",
      "Fitting 3 folds for each of 3 candidates, totalling 9 fits\n",
      "Elapsed time: 30.9919 seconds\n",
      "Best Score:  0.8157495147485992\n",
      "Best Params:  {'clf__learning_rate': 1.0, 'clf__n_estimators': 200}\n",
      "\n"
     ]
    }
   ],
   "source": [
    "ada_best = run_pipe(ada, ada_params)"
   ]
  },
  {
   "cell_type": "code",
   "execution_count": 21,
   "metadata": {
    "cell_id": "79bb11a6463d45548d77ad6ad69b9a6e",
    "deepnote_cell_type": "code",
    "deepnote_to_be_reexecuted": false,
    "execution_millis": 1,
    "execution_start": 1670551614765,
    "source_hash": "8f961823",
    "tags": []
   },
   "outputs": [
    {
     "name": "stdout",
     "output_type": "stream",
     "text": [
      "Fitting GradientBoostingClassifier\n",
      "Fitting 3 folds for each of 81 candidates, totalling 243 fits\n"
     ]
    },
    {
     "ename": "KeyboardInterrupt",
     "evalue": "",
     "output_type": "error",
     "traceback": [
      "\u001b[1;31m---------------------------------------------------------------------------\u001b[0m",
      "\u001b[1;31mKeyboardInterrupt\u001b[0m                         Traceback (most recent call last)",
      "\u001b[1;32m~\\AppData\\Local\\Temp\\ipykernel_9416\\2201225049.py\u001b[0m in \u001b[0;36m<module>\u001b[1;34m\u001b[0m\n\u001b[1;32m----> 1\u001b[1;33m \u001b[0mgbc_best\u001b[0m \u001b[1;33m=\u001b[0m \u001b[0mrun_pipe\u001b[0m\u001b[1;33m(\u001b[0m\u001b[0mgbc\u001b[0m\u001b[1;33m,\u001b[0m \u001b[0mgbc_params\u001b[0m\u001b[1;33m)\u001b[0m\u001b[1;33m\u001b[0m\u001b[1;33m\u001b[0m\u001b[0m\n\u001b[0m",
      "\u001b[1;32m~\\AppData\\Local\\Temp\\ipykernel_9416\\3004744581.py\u001b[0m in \u001b[0;36mrun_pipe\u001b[1;34m(clf, pipe_params)\u001b[0m\n\u001b[0;32m     25\u001b[0m \u001b[1;33m\u001b[0m\u001b[0m\n\u001b[0;32m     26\u001b[0m     \u001b[0mt\u001b[0m\u001b[1;33m.\u001b[0m\u001b[0mstart\u001b[0m\u001b[1;33m(\u001b[0m\u001b[1;33m)\u001b[0m\u001b[1;33m\u001b[0m\u001b[1;33m\u001b[0m\u001b[0m\n\u001b[1;32m---> 27\u001b[1;33m     \u001b[0mgrid\u001b[0m\u001b[1;33m.\u001b[0m\u001b[0mfit\u001b[0m\u001b[1;33m(\u001b[0m\u001b[0mX_train\u001b[0m\u001b[1;33m,\u001b[0m \u001b[0my_train\u001b[0m\u001b[1;33m)\u001b[0m\u001b[1;33m\u001b[0m\u001b[1;33m\u001b[0m\u001b[0m\n\u001b[0m\u001b[0;32m     28\u001b[0m     \u001b[0mt\u001b[0m\u001b[1;33m.\u001b[0m\u001b[0mstop\u001b[0m\u001b[1;33m(\u001b[0m\u001b[1;33m)\u001b[0m\u001b[1;33m\u001b[0m\u001b[1;33m\u001b[0m\u001b[0m\n\u001b[0;32m     29\u001b[0m \u001b[1;33m\u001b[0m\u001b[0m\n",
      "\u001b[1;32m~\\anaconda3\\lib\\site-packages\\sklearn\\model_selection\\_search.py\u001b[0m in \u001b[0;36mfit\u001b[1;34m(self, X, y, groups, **fit_params)\u001b[0m\n\u001b[0;32m    873\u001b[0m                 \u001b[1;32mreturn\u001b[0m \u001b[0mresults\u001b[0m\u001b[1;33m\u001b[0m\u001b[1;33m\u001b[0m\u001b[0m\n\u001b[0;32m    874\u001b[0m \u001b[1;33m\u001b[0m\u001b[0m\n\u001b[1;32m--> 875\u001b[1;33m             \u001b[0mself\u001b[0m\u001b[1;33m.\u001b[0m\u001b[0m_run_search\u001b[0m\u001b[1;33m(\u001b[0m\u001b[0mevaluate_candidates\u001b[0m\u001b[1;33m)\u001b[0m\u001b[1;33m\u001b[0m\u001b[1;33m\u001b[0m\u001b[0m\n\u001b[0m\u001b[0;32m    876\u001b[0m \u001b[1;33m\u001b[0m\u001b[0m\n\u001b[0;32m    877\u001b[0m             \u001b[1;31m# multimetric is determined here because in the case of a callable\u001b[0m\u001b[1;33m\u001b[0m\u001b[1;33m\u001b[0m\u001b[0m\n",
      "\u001b[1;32m~\\anaconda3\\lib\\site-packages\\sklearn\\model_selection\\_search.py\u001b[0m in \u001b[0;36m_run_search\u001b[1;34m(self, evaluate_candidates)\u001b[0m\n\u001b[0;32m   1377\u001b[0m     \u001b[1;32mdef\u001b[0m \u001b[0m_run_search\u001b[0m\u001b[1;33m(\u001b[0m\u001b[0mself\u001b[0m\u001b[1;33m,\u001b[0m \u001b[0mevaluate_candidates\u001b[0m\u001b[1;33m)\u001b[0m\u001b[1;33m:\u001b[0m\u001b[1;33m\u001b[0m\u001b[1;33m\u001b[0m\u001b[0m\n\u001b[0;32m   1378\u001b[0m         \u001b[1;34m\"\"\"Search all candidates in param_grid\"\"\"\u001b[0m\u001b[1;33m\u001b[0m\u001b[1;33m\u001b[0m\u001b[0m\n\u001b[1;32m-> 1379\u001b[1;33m         \u001b[0mevaluate_candidates\u001b[0m\u001b[1;33m(\u001b[0m\u001b[0mParameterGrid\u001b[0m\u001b[1;33m(\u001b[0m\u001b[0mself\u001b[0m\u001b[1;33m.\u001b[0m\u001b[0mparam_grid\u001b[0m\u001b[1;33m)\u001b[0m\u001b[1;33m)\u001b[0m\u001b[1;33m\u001b[0m\u001b[1;33m\u001b[0m\u001b[0m\n\u001b[0m\u001b[0;32m   1380\u001b[0m \u001b[1;33m\u001b[0m\u001b[0m\n\u001b[0;32m   1381\u001b[0m \u001b[1;33m\u001b[0m\u001b[0m\n",
      "\u001b[1;32m~\\anaconda3\\lib\\site-packages\\sklearn\\model_selection\\_search.py\u001b[0m in \u001b[0;36mevaluate_candidates\u001b[1;34m(candidate_params, cv, more_results)\u001b[0m\n\u001b[0;32m    820\u001b[0m                     )\n\u001b[0;32m    821\u001b[0m \u001b[1;33m\u001b[0m\u001b[0m\n\u001b[1;32m--> 822\u001b[1;33m                 out = parallel(\n\u001b[0m\u001b[0;32m    823\u001b[0m                     delayed(_fit_and_score)(\n\u001b[0;32m    824\u001b[0m                         \u001b[0mclone\u001b[0m\u001b[1;33m(\u001b[0m\u001b[0mbase_estimator\u001b[0m\u001b[1;33m)\u001b[0m\u001b[1;33m,\u001b[0m\u001b[1;33m\u001b[0m\u001b[1;33m\u001b[0m\u001b[0m\n",
      "\u001b[1;32m~\\anaconda3\\lib\\site-packages\\joblib\\parallel.py\u001b[0m in \u001b[0;36m__call__\u001b[1;34m(self, iterable)\u001b[0m\n\u001b[0;32m   1054\u001b[0m \u001b[1;33m\u001b[0m\u001b[0m\n\u001b[0;32m   1055\u001b[0m             \u001b[1;32mwith\u001b[0m \u001b[0mself\u001b[0m\u001b[1;33m.\u001b[0m\u001b[0m_backend\u001b[0m\u001b[1;33m.\u001b[0m\u001b[0mretrieval_context\u001b[0m\u001b[1;33m(\u001b[0m\u001b[1;33m)\u001b[0m\u001b[1;33m:\u001b[0m\u001b[1;33m\u001b[0m\u001b[1;33m\u001b[0m\u001b[0m\n\u001b[1;32m-> 1056\u001b[1;33m                 \u001b[0mself\u001b[0m\u001b[1;33m.\u001b[0m\u001b[0mretrieve\u001b[0m\u001b[1;33m(\u001b[0m\u001b[1;33m)\u001b[0m\u001b[1;33m\u001b[0m\u001b[1;33m\u001b[0m\u001b[0m\n\u001b[0m\u001b[0;32m   1057\u001b[0m             \u001b[1;31m# Make sure that we get a last message telling us we are done\u001b[0m\u001b[1;33m\u001b[0m\u001b[1;33m\u001b[0m\u001b[0m\n\u001b[0;32m   1058\u001b[0m             \u001b[0melapsed_time\u001b[0m \u001b[1;33m=\u001b[0m \u001b[0mtime\u001b[0m\u001b[1;33m.\u001b[0m\u001b[0mtime\u001b[0m\u001b[1;33m(\u001b[0m\u001b[1;33m)\u001b[0m \u001b[1;33m-\u001b[0m \u001b[0mself\u001b[0m\u001b[1;33m.\u001b[0m\u001b[0m_start_time\u001b[0m\u001b[1;33m\u001b[0m\u001b[1;33m\u001b[0m\u001b[0m\n",
      "\u001b[1;32m~\\anaconda3\\lib\\site-packages\\joblib\\parallel.py\u001b[0m in \u001b[0;36mretrieve\u001b[1;34m(self)\u001b[0m\n\u001b[0;32m    933\u001b[0m             \u001b[1;32mtry\u001b[0m\u001b[1;33m:\u001b[0m\u001b[1;33m\u001b[0m\u001b[1;33m\u001b[0m\u001b[0m\n\u001b[0;32m    934\u001b[0m                 \u001b[1;32mif\u001b[0m \u001b[0mgetattr\u001b[0m\u001b[1;33m(\u001b[0m\u001b[0mself\u001b[0m\u001b[1;33m.\u001b[0m\u001b[0m_backend\u001b[0m\u001b[1;33m,\u001b[0m \u001b[1;34m'supports_timeout'\u001b[0m\u001b[1;33m,\u001b[0m \u001b[1;32mFalse\u001b[0m\u001b[1;33m)\u001b[0m\u001b[1;33m:\u001b[0m\u001b[1;33m\u001b[0m\u001b[1;33m\u001b[0m\u001b[0m\n\u001b[1;32m--> 935\u001b[1;33m                     \u001b[0mself\u001b[0m\u001b[1;33m.\u001b[0m\u001b[0m_output\u001b[0m\u001b[1;33m.\u001b[0m\u001b[0mextend\u001b[0m\u001b[1;33m(\u001b[0m\u001b[0mjob\u001b[0m\u001b[1;33m.\u001b[0m\u001b[0mget\u001b[0m\u001b[1;33m(\u001b[0m\u001b[0mtimeout\u001b[0m\u001b[1;33m=\u001b[0m\u001b[0mself\u001b[0m\u001b[1;33m.\u001b[0m\u001b[0mtimeout\u001b[0m\u001b[1;33m)\u001b[0m\u001b[1;33m)\u001b[0m\u001b[1;33m\u001b[0m\u001b[1;33m\u001b[0m\u001b[0m\n\u001b[0m\u001b[0;32m    936\u001b[0m                 \u001b[1;32melse\u001b[0m\u001b[1;33m:\u001b[0m\u001b[1;33m\u001b[0m\u001b[1;33m\u001b[0m\u001b[0m\n\u001b[0;32m    937\u001b[0m                     \u001b[0mself\u001b[0m\u001b[1;33m.\u001b[0m\u001b[0m_output\u001b[0m\u001b[1;33m.\u001b[0m\u001b[0mextend\u001b[0m\u001b[1;33m(\u001b[0m\u001b[0mjob\u001b[0m\u001b[1;33m.\u001b[0m\u001b[0mget\u001b[0m\u001b[1;33m(\u001b[0m\u001b[1;33m)\u001b[0m\u001b[1;33m)\u001b[0m\u001b[1;33m\u001b[0m\u001b[1;33m\u001b[0m\u001b[0m\n",
      "\u001b[1;32m~\\anaconda3\\lib\\site-packages\\joblib\\_parallel_backends.py\u001b[0m in \u001b[0;36mwrap_future_result\u001b[1;34m(future, timeout)\u001b[0m\n\u001b[0;32m    540\u001b[0m         AsyncResults.get from multiprocessing.\"\"\"\n\u001b[0;32m    541\u001b[0m         \u001b[1;32mtry\u001b[0m\u001b[1;33m:\u001b[0m\u001b[1;33m\u001b[0m\u001b[1;33m\u001b[0m\u001b[0m\n\u001b[1;32m--> 542\u001b[1;33m             \u001b[1;32mreturn\u001b[0m \u001b[0mfuture\u001b[0m\u001b[1;33m.\u001b[0m\u001b[0mresult\u001b[0m\u001b[1;33m(\u001b[0m\u001b[0mtimeout\u001b[0m\u001b[1;33m=\u001b[0m\u001b[0mtimeout\u001b[0m\u001b[1;33m)\u001b[0m\u001b[1;33m\u001b[0m\u001b[1;33m\u001b[0m\u001b[0m\n\u001b[0m\u001b[0;32m    543\u001b[0m         \u001b[1;32mexcept\u001b[0m \u001b[0mCfTimeoutError\u001b[0m \u001b[1;32mas\u001b[0m \u001b[0me\u001b[0m\u001b[1;33m:\u001b[0m\u001b[1;33m\u001b[0m\u001b[1;33m\u001b[0m\u001b[0m\n\u001b[0;32m    544\u001b[0m             \u001b[1;32mraise\u001b[0m \u001b[0mTimeoutError\u001b[0m \u001b[1;32mfrom\u001b[0m \u001b[0me\u001b[0m\u001b[1;33m\u001b[0m\u001b[1;33m\u001b[0m\u001b[0m\n",
      "\u001b[1;32m~\\anaconda3\\lib\\concurrent\\futures\\_base.py\u001b[0m in \u001b[0;36mresult\u001b[1;34m(self, timeout)\u001b[0m\n\u001b[0;32m    439\u001b[0m                     \u001b[1;32mreturn\u001b[0m \u001b[0mself\u001b[0m\u001b[1;33m.\u001b[0m\u001b[0m__get_result\u001b[0m\u001b[1;33m(\u001b[0m\u001b[1;33m)\u001b[0m\u001b[1;33m\u001b[0m\u001b[1;33m\u001b[0m\u001b[0m\n\u001b[0;32m    440\u001b[0m \u001b[1;33m\u001b[0m\u001b[0m\n\u001b[1;32m--> 441\u001b[1;33m                 \u001b[0mself\u001b[0m\u001b[1;33m.\u001b[0m\u001b[0m_condition\u001b[0m\u001b[1;33m.\u001b[0m\u001b[0mwait\u001b[0m\u001b[1;33m(\u001b[0m\u001b[0mtimeout\u001b[0m\u001b[1;33m)\u001b[0m\u001b[1;33m\u001b[0m\u001b[1;33m\u001b[0m\u001b[0m\n\u001b[0m\u001b[0;32m    442\u001b[0m \u001b[1;33m\u001b[0m\u001b[0m\n\u001b[0;32m    443\u001b[0m                 \u001b[1;32mif\u001b[0m \u001b[0mself\u001b[0m\u001b[1;33m.\u001b[0m\u001b[0m_state\u001b[0m \u001b[1;32min\u001b[0m \u001b[1;33m[\u001b[0m\u001b[0mCANCELLED\u001b[0m\u001b[1;33m,\u001b[0m \u001b[0mCANCELLED_AND_NOTIFIED\u001b[0m\u001b[1;33m]\u001b[0m\u001b[1;33m:\u001b[0m\u001b[1;33m\u001b[0m\u001b[1;33m\u001b[0m\u001b[0m\n",
      "\u001b[1;32m~\\anaconda3\\lib\\threading.py\u001b[0m in \u001b[0;36mwait\u001b[1;34m(self, timeout)\u001b[0m\n\u001b[0;32m    310\u001b[0m         \u001b[1;32mtry\u001b[0m\u001b[1;33m:\u001b[0m    \u001b[1;31m# restore state no matter what (e.g., KeyboardInterrupt)\u001b[0m\u001b[1;33m\u001b[0m\u001b[1;33m\u001b[0m\u001b[0m\n\u001b[0;32m    311\u001b[0m             \u001b[1;32mif\u001b[0m \u001b[0mtimeout\u001b[0m \u001b[1;32mis\u001b[0m \u001b[1;32mNone\u001b[0m\u001b[1;33m:\u001b[0m\u001b[1;33m\u001b[0m\u001b[1;33m\u001b[0m\u001b[0m\n\u001b[1;32m--> 312\u001b[1;33m                 \u001b[0mwaiter\u001b[0m\u001b[1;33m.\u001b[0m\u001b[0macquire\u001b[0m\u001b[1;33m(\u001b[0m\u001b[1;33m)\u001b[0m\u001b[1;33m\u001b[0m\u001b[1;33m\u001b[0m\u001b[0m\n\u001b[0m\u001b[0;32m    313\u001b[0m                 \u001b[0mgotit\u001b[0m \u001b[1;33m=\u001b[0m \u001b[1;32mTrue\u001b[0m\u001b[1;33m\u001b[0m\u001b[1;33m\u001b[0m\u001b[0m\n\u001b[0;32m    314\u001b[0m             \u001b[1;32melse\u001b[0m\u001b[1;33m:\u001b[0m\u001b[1;33m\u001b[0m\u001b[1;33m\u001b[0m\u001b[0m\n",
      "\u001b[1;31mKeyboardInterrupt\u001b[0m: "
     ]
    }
   ],
   "source": [
    "gbc_best = run_pipe(gbc, gbc_params)"
   ]
  },
  {
   "cell_type": "code",
   "execution_count": null,
   "metadata": {
    "cell_id": "16e54354b94946ad88e3b2c657a8e1b7",
    "deepnote_cell_type": "code",
    "deepnote_to_be_reexecuted": false,
    "execution_millis": 26,
    "execution_start": 1670551614769,
    "source_hash": "c3834e6e",
    "tags": []
   },
   "outputs": [],
   "source": [
    "table_model_results()"
   ]
  },
  {
   "cell_type": "code",
   "execution_count": null,
   "metadata": {},
   "outputs": [],
   "source": [
    "# check coefficents from LogisticRegression\n",
    "# feature_names = lr_best[0].get_feature_names_out()\n",
    "# coefficients = lr_best[2].coef_\n",
    "# features_coefs = pd.DataFrame([feature_names, coefficients.reshape(52,)]).transpose()\n",
    "# features_coefs.rename(columns={0: 'feature', 1: 'coef'}, inplace=True)\n",
    "# features_coefs.sort_values(by='coef', ascending=False)"
   ]
  },
  {
   "cell_type": "code",
   "execution_count": null,
   "metadata": {},
   "outputs": [],
   "source": [
    "# this should stop the kernel"
   ]
  },
  {
   "cell_type": "code",
   "execution_count": null,
   "metadata": {
    "cell_id": "3d077543da5741ba9a33727305db1e32",
    "deepnote_cell_type": "code",
    "deepnote_to_be_reexecuted": false,
    "execution_millis": 2,
    "execution_start": 1670552986824,
    "source_hash": "7e4528f9",
    "tags": []
   },
   "outputs": [],
   "source": [
    "# create VotingClassifier ensemble with top performing classifiers and new params\n",
    "# voting_clf = VotingClassifier([\n",
    "#     ('GradientBoost', GradientBoostingClassifier(n_estimators=300, random_state=rng)),\n",
    "#     ('AdaBoost', AdaBoostClassifier(n_estimators=200, random_state=rng)),\n",
    "#     ('RandomForest', RandomForestClassifier(n_estimators=700, max_features='sqrt', random_state=rng))\n",
    "# ], voting='soft')\n",
    "\n",
    "# voting_params = {\n",
    "#     'sample__sampling_strategy': ['auto', 0.1, 0.3],\n",
    "#     'clf__GradientBoost__learning_rate': [0.01, 0.1],\n",
    "#     'clf__GradientBoost__subsample': [0.7, 1.0],\n",
    "#     'clf__GradientBoost__max_depth': [3, 7],\n",
    "#     'clf__AdaBoost__learning_rate': [1.0, 2.0, 10],\n",
    "#     'clf__LogReg__solver': ['liblinear'],\n",
    "#     'clf__LogReg__C': [100, 10, 1.0],\n",
    "}"
   ]
  },
  {
   "cell_type": "code",
   "execution_count": null,
   "metadata": {},
   "outputs": [],
   "source": [
    "# create VotingClassifier ensemble with best performing classifiers\n",
    "voting_clf = VotingClassifier([\n",
    "    ('GradientBoost', gbc_best[-1]),\n",
    "    ('AdaBoost', ada_best[-1]),\n",
    "    ('RandomForest', rf_best[-1])\n",
    "], voting='soft')\n",
    "\n",
    "voting_params = {\n",
    "    'sample__sampling_strategy': ['auto', 0.1, 0.25, 0.5],\n",
    "#     'clf__GradientBoost__learning_rate': [0.01, 0.1],\n",
    "#     'clf__GradientBoost__subsample': [0.7, 1.0],\n",
    "#     'clf__GradientBoost__max_depth': [3, 7],\n",
    "#     'clf__AdaBoost__learning_rate': [1.0, 2.0, 10],\n",
    "#     'clf__LogReg__solver': ['liblinear'],\n",
    "#     'clf__LogReg__C': [100, 10, 1.0],\n",
    "}"
   ]
  },
  {
   "cell_type": "code",
   "execution_count": null,
   "metadata": {
    "cell_id": "005373c33c9d435daf02555821ef357d",
    "deepnote_cell_type": "code",
    "deepnote_to_be_reexecuted": false,
    "execution_millis": 132,
    "execution_start": 1670552989018,
    "source_hash": "506a2374"
   },
   "outputs": [],
   "source": [
    "voting_best = run_pipe(voting_clf, voting_params)"
   ]
  },
  {
   "cell_type": "code",
   "execution_count": null,
   "metadata": {},
   "outputs": [],
   "source": [
    "table_model_results()"
   ]
  },
  {
   "cell_type": "code",
   "execution_count": null,
   "metadata": {},
   "outputs": [],
   "source": [
    "preds = voting_best.predict(X_test)\n",
    "cm_disp = ConfusionMatrixDisplay.from_predictions(y_test, preds)"
   ]
  },
  {
   "cell_type": "code",
   "execution_count": null,
   "metadata": {
    "cell_id": "d1cef0a9162a4398958108b253f2008d",
    "deepnote_cell_type": "code",
    "deepnote_to_be_reexecuted": true,
    "execution_millis": 554,
    "execution_start": 1670548138224,
    "source_hash": "ed13f675"
   },
   "outputs": [],
   "source": [
    "print(classification_report(y_test, preds))"
   ]
  },
  {
   "cell_type": "code",
   "execution_count": null,
   "metadata": {
    "scrolled": true
   },
   "outputs": [],
   "source": [
    "# voting_best.fit(X, y)"
   ]
  },
  {
   "cell_type": "code",
   "execution_count": null,
   "metadata": {
    "cell_id": "da2446db60a146cf80aa8cbc5a91280d",
    "deepnote_cell_type": "code",
    "deepnote_to_be_reexecuted": true,
    "source_hash": "a9239d02"
   },
   "outputs": [],
   "source": [
    "df_test = pd.read_csv('../assets/df_merge_test.csv')"
   ]
  },
  {
   "cell_type": "code",
   "execution_count": null,
   "metadata": {},
   "outputs": [],
   "source": [
    "df_test = create_dt_features(df_test)"
   ]
  },
  {
   "cell_type": "code",
   "execution_count": null,
   "metadata": {
    "cell_id": "089666933639418885d5eb294f4004a9",
    "deepnote_cell_type": "code",
    "deepnote_to_be_reexecuted": true,
    "source_hash": "6115b236"
   },
   "outputs": [],
   "source": [
    "results = voting_best.predict(df_test[X.columns])\n",
    "\n",
    "# results = ada_best.predict(df_test[X.columns])"
   ]
  },
  {
   "cell_type": "code",
   "execution_count": null,
   "metadata": {
    "cell_id": "9f02d32d869748ea995f32ff169b2211",
    "deepnote_cell_type": "code",
    "deepnote_to_be_reexecuted": true,
    "source_hash": "3601ff24"
   },
   "outputs": [],
   "source": [
    "def create_predictions(predictions, filename):\n",
    "    if not os.path.isdir('../output'):\n",
    "        os.mkdir('../output')\n",
    "    \n",
    "    if not os.path.isfile(f'../output/{prediction_filename}.csv'):\n",
    "        results_df = pd.DataFrame(predictions)\n",
    "        results_df.insert(0, column='id', value=range(1,116294))\n",
    "        results_df.to_csv(f\"../output/{filename}.csv\", header=[\"Id\", \"WnvPresent\"], index=False)\n",
    "    else:\n",
    "        raise NameError(f'{prediction_filename}.csv already exists!')"
   ]
  },
  {
   "cell_type": "code",
   "execution_count": null,
   "metadata": {},
   "outputs": [],
   "source": [
    "prediction_filename = 'predictions_10'\n",
    "\n",
    "create_predictions(results, prediction_filename)"
   ]
  },
  {
   "cell_type": "code",
   "execution_count": null,
   "metadata": {},
   "outputs": [],
   "source": [
    "table_model_results().to_csv(f'../output/params_{prediction_filename}.csv', index=False)"
   ]
  }
 ],
 "metadata": {
  "deepnote": {},
  "deepnote_execution_queue": [],
  "deepnote_notebook_id": "0698b79737df4c408186a211056caa5c",
  "deepnote_persisted_session": {
   "createdAt": "2022-12-09T01:33:13.258Z"
  },
  "kernelspec": {
   "display_name": "Python 3 (ipykernel)",
   "language": "python",
   "name": "python3"
  },
  "language_info": {
   "codemirror_mode": {
    "name": "ipython",
    "version": 3
   },
   "file_extension": ".py",
   "mimetype": "text/x-python",
   "name": "python",
   "nbconvert_exporter": "python",
   "pygments_lexer": "ipython3",
   "version": "3.9.13"
  },
  "vscode": {
   "interpreter": {
    "hash": "1b28ad9899eefd279686690bace4d41fa3fa7d0cff5719534f58e9a7031f3ffc"
   }
  }
 },
 "nbformat": 4,
 "nbformat_minor": 1
}
