{
 "cells": [
  {
   "cell_type": "markdown",
   "metadata": {
    "cell_id": "f96abd16122146b797d16aaa0f1ee71b",
    "deepnote_cell_type": "markdown"
   },
   "source": [
    "# Modelling"
   ]
  },
  {
   "cell_type": "code",
   "execution_count": 40,
   "metadata": {
    "cell_id": "31251000c0c54cfea5e3cabad32b523e",
    "deepnote_cell_type": "code",
    "deepnote_to_be_reexecuted": false,
    "execution_millis": 932,
    "execution_start": 1670551613652,
    "source_hash": "476ca060"
   },
   "outputs": [],
   "source": [
    "import pandas as pd\n",
    "import numpy as np\n",
    "import re\n",
    "import time\n",
    "import os\n",
    "\n",
    "from sklearn.preprocessing import OneHotEncoder, MinMaxScaler, FunctionTransformer\n",
    "from sklearn.feature_extraction.text import CountVectorizer\n",
    "from sklearn.compose import ColumnTransformer\n",
    "from sklearn.model_selection import train_test_split, cross_val_score, cross_validate, GridSearchCV\n",
    "from sklearn.metrics import classification_report, ConfusionMatrixDisplay\n",
    "from sklearn.linear_model import Perceptron, LogisticRegression, RidgeClassifier\n",
    "from sklearn.neighbors import KNeighborsClassifier\n",
    "from sklearn.neural_network import MLPClassifier\n",
    "from sklearn.ensemble import RandomForestClassifier, AdaBoostClassifier, GradientBoostingClassifier, VotingClassifier, HistGradientBoostingClassifier\n",
    "\n",
    "from sklearn.neural_network import MLPClassifier\n",
    "\n",
    "from imblearn.combine import SMOTETomek\n",
    "from imblearn.pipeline import Pipeline\n",
    "\n",
    "rng = np.random.RandomState(42)\n",
    "\n",
    "# from keras import Sequential\n",
    "# from keras.layers import Dense\n",
    "\n",
    "import warnings\n",
    "warnings.filterwarnings('ignore') # hide warnings to avoid cluttering the notebook output"
   ]
  },
  {
   "cell_type": "code",
   "execution_count": 41,
   "metadata": {},
   "outputs": [],
   "source": [
    "class TimerError(Exception):\n",
    "    \"\"\"A custom exception used to report errors in use of Timer class\"\"\"\n",
    "\n",
    "class Timer:\n",
    "    def __init__(self):\n",
    "        self._start_time = None\n",
    "        self._elapsed_time = None\n",
    "\n",
    "    def start(self):\n",
    "        \"\"\"Start a new timer\"\"\"\n",
    "        if self._start_time is not None:\n",
    "            raise TimerError(f\"Timer is running. Use .stop() to stop it\")\n",
    "\n",
    "        self._elapsed_time = None\n",
    "        self._start_time = time.perf_counter()\n",
    "\n",
    "    def stop(self):\n",
    "        \"\"\"Stop the timer, and report the elapsed time\"\"\"\n",
    "        if self._start_time is None:\n",
    "            raise TimerError(f\"Timer is not running. Use .start() to start it\")\n",
    "\n",
    "        self._elapsed_time = time.perf_counter() - self._start_time\n",
    "        self._start_time = None\n",
    "        print(f\"Elapsed time: {int(divmod(self._elapsed_time, 60)[0])} minutes, {int(divmod(self._elapsed_time, 60)[1])} seconds\")\n",
    "\n",
    "    def duration(self):\n",
    "        \"\"\"Return the elapsed time from the timer.\"\"\"\n",
    "        if self._elapsed_time is None:\n",
    "            raise TimerError(f\"Timer has not run. Use .start() and .stop() to start and stop the timer.\")\n",
    "\n",
    "        return self._elapsed_time"
   ]
  },
  {
   "cell_type": "code",
   "execution_count": 42,
   "metadata": {
    "cell_id": "195f4763f16e47999fbf9d8c8652d351",
    "deepnote_cell_type": "code",
    "deepnote_to_be_reexecuted": false,
    "execution_millis": 25,
    "execution_start": 1670551614585,
    "source_hash": "abfd9979"
   },
   "outputs": [],
   "source": [
    "df = pd.read_csv('../assets/df_merge_final.csv', parse_dates=['Date', 'Sunrise_1', 'Sunset_1'])"
   ]
  },
  {
   "cell_type": "code",
   "execution_count": 43,
   "metadata": {},
   "outputs": [],
   "source": [
    "def create_dt_features(dataframe):\n",
    "    # create datetime related features\n",
    "    dataframe['daylight_duration'] = pd.to_timedelta(dataframe['daylight_duration'])\n",
    "    dataframe['Daylight_hours'] = round(dataframe['daylight_duration'].dt.total_seconds() / (60*60), 2)\n",
    "    dataframe['Sunrise'] = round(pd.to_timedelta(dataframe['Sunrise_1'].dt.time.astype(str)).dt.total_seconds()/3600, 2)\n",
    "    dataframe['Sunset'] = round(pd.to_timedelta(dataframe['Sunset_1'].dt.time.astype(str)).dt.total_seconds()/3600, 2)\n",
    "    # create date related features\n",
    "    # dataframe['Date'] = pd.to_datetime(dataframe['Date'])\n",
    "    dataframe['Month'] = dataframe['Date'].dt.month\n",
    "    dataframe['Day'] = dataframe['Date'].dt.day\n",
    "    # round off Latitude, Longitude for more general locations\n",
    "    dataframe['Latitude'] = round(dataframe['Latitude'], 3)\n",
    "    dataframe['Longitude'] = round(dataframe['Longitude'], 3)\n",
    "    return dataframe"
   ]
  },
  {
   "cell_type": "code",
   "execution_count": 44,
   "metadata": {},
   "outputs": [],
   "source": [
    "df = create_dt_features(df)"
   ]
  },
  {
   "cell_type": "code",
   "execution_count": 45,
   "metadata": {},
   "outputs": [
    {
     "data": {
      "text/html": [
       "<div>\n",
       "<style scoped>\n",
       "    .dataframe tbody tr th:only-of-type {\n",
       "        vertical-align: middle;\n",
       "    }\n",
       "\n",
       "    .dataframe tbody tr th {\n",
       "        vertical-align: top;\n",
       "    }\n",
       "\n",
       "    .dataframe thead th {\n",
       "        text-align: right;\n",
       "    }\n",
       "</style>\n",
       "<table border=\"1\" class=\"dataframe\">\n",
       "  <thead>\n",
       "    <tr style=\"text-align: right;\">\n",
       "      <th></th>\n",
       "      <th>Date</th>\n",
       "      <th>Species</th>\n",
       "      <th>Trap</th>\n",
       "      <th>Latitude</th>\n",
       "      <th>Longitude</th>\n",
       "      <th>AddressAccuracy</th>\n",
       "      <th>NumMosquitos</th>\n",
       "      <th>WnvPresent</th>\n",
       "      <th>Station</th>\n",
       "      <th>Tavg</th>\n",
       "      <th>...</th>\n",
       "      <th>AvgSpeed</th>\n",
       "      <th>Sunrise_1</th>\n",
       "      <th>Sunset_1</th>\n",
       "      <th>daylight_duration</th>\n",
       "      <th>Humidity</th>\n",
       "      <th>Daylight_hours</th>\n",
       "      <th>Sunrise</th>\n",
       "      <th>Sunset</th>\n",
       "      <th>Month</th>\n",
       "      <th>Day</th>\n",
       "    </tr>\n",
       "  </thead>\n",
       "  <tbody>\n",
       "    <tr>\n",
       "      <th>0</th>\n",
       "      <td>2007-05-29</td>\n",
       "      <td>CULEX PIPIENS/RESTUANS</td>\n",
       "      <td>T002</td>\n",
       "      <td>41.955</td>\n",
       "      <td>-87.801</td>\n",
       "      <td>9</td>\n",
       "      <td>1</td>\n",
       "      <td>0</td>\n",
       "      <td>1.0</td>\n",
       "      <td>74.0</td>\n",
       "      <td>...</td>\n",
       "      <td>6.5</td>\n",
       "      <td>1900-01-01 04:21:00</td>\n",
       "      <td>1900-01-01 19:17:00</td>\n",
       "      <td>0 days 14:56:00</td>\n",
       "      <td>57.4</td>\n",
       "      <td>14.93</td>\n",
       "      <td>4.35</td>\n",
       "      <td>19.28</td>\n",
       "      <td>5</td>\n",
       "      <td>29</td>\n",
       "    </tr>\n",
       "    <tr>\n",
       "      <th>1</th>\n",
       "      <td>2007-05-29</td>\n",
       "      <td>CULEX RESTUANS</td>\n",
       "      <td>T002</td>\n",
       "      <td>41.955</td>\n",
       "      <td>-87.801</td>\n",
       "      <td>9</td>\n",
       "      <td>1</td>\n",
       "      <td>0</td>\n",
       "      <td>1.0</td>\n",
       "      <td>74.0</td>\n",
       "      <td>...</td>\n",
       "      <td>6.5</td>\n",
       "      <td>1900-01-01 04:21:00</td>\n",
       "      <td>1900-01-01 19:17:00</td>\n",
       "      <td>0 days 14:56:00</td>\n",
       "      <td>57.4</td>\n",
       "      <td>14.93</td>\n",
       "      <td>4.35</td>\n",
       "      <td>19.28</td>\n",
       "      <td>5</td>\n",
       "      <td>29</td>\n",
       "    </tr>\n",
       "    <tr>\n",
       "      <th>2</th>\n",
       "      <td>2007-05-29</td>\n",
       "      <td>CULEX RESTUANS</td>\n",
       "      <td>T007</td>\n",
       "      <td>41.995</td>\n",
       "      <td>-87.769</td>\n",
       "      <td>9</td>\n",
       "      <td>1</td>\n",
       "      <td>0</td>\n",
       "      <td>1.0</td>\n",
       "      <td>74.0</td>\n",
       "      <td>...</td>\n",
       "      <td>6.5</td>\n",
       "      <td>1900-01-01 04:21:00</td>\n",
       "      <td>1900-01-01 19:17:00</td>\n",
       "      <td>0 days 14:56:00</td>\n",
       "      <td>57.4</td>\n",
       "      <td>14.93</td>\n",
       "      <td>4.35</td>\n",
       "      <td>19.28</td>\n",
       "      <td>5</td>\n",
       "      <td>29</td>\n",
       "    </tr>\n",
       "    <tr>\n",
       "      <th>3</th>\n",
       "      <td>2007-05-29</td>\n",
       "      <td>CULEX PIPIENS/RESTUANS</td>\n",
       "      <td>T015</td>\n",
       "      <td>41.974</td>\n",
       "      <td>-87.825</td>\n",
       "      <td>8</td>\n",
       "      <td>1</td>\n",
       "      <td>0</td>\n",
       "      <td>1.0</td>\n",
       "      <td>74.0</td>\n",
       "      <td>...</td>\n",
       "      <td>6.5</td>\n",
       "      <td>1900-01-01 04:21:00</td>\n",
       "      <td>1900-01-01 19:17:00</td>\n",
       "      <td>0 days 14:56:00</td>\n",
       "      <td>57.4</td>\n",
       "      <td>14.93</td>\n",
       "      <td>4.35</td>\n",
       "      <td>19.28</td>\n",
       "      <td>5</td>\n",
       "      <td>29</td>\n",
       "    </tr>\n",
       "    <tr>\n",
       "      <th>4</th>\n",
       "      <td>2007-05-29</td>\n",
       "      <td>CULEX RESTUANS</td>\n",
       "      <td>T015</td>\n",
       "      <td>41.974</td>\n",
       "      <td>-87.825</td>\n",
       "      <td>8</td>\n",
       "      <td>4</td>\n",
       "      <td>0</td>\n",
       "      <td>1.0</td>\n",
       "      <td>74.0</td>\n",
       "      <td>...</td>\n",
       "      <td>6.5</td>\n",
       "      <td>1900-01-01 04:21:00</td>\n",
       "      <td>1900-01-01 19:17:00</td>\n",
       "      <td>0 days 14:56:00</td>\n",
       "      <td>57.4</td>\n",
       "      <td>14.93</td>\n",
       "      <td>4.35</td>\n",
       "      <td>19.28</td>\n",
       "      <td>5</td>\n",
       "      <td>29</td>\n",
       "    </tr>\n",
       "  </tbody>\n",
       "</table>\n",
       "<p>5 rows × 26 columns</p>\n",
       "</div>"
      ],
      "text/plain": [
       "        Date                 Species  Trap  Latitude  Longitude  \\\n",
       "0 2007-05-29  CULEX PIPIENS/RESTUANS  T002    41.955    -87.801   \n",
       "1 2007-05-29          CULEX RESTUANS  T002    41.955    -87.801   \n",
       "2 2007-05-29          CULEX RESTUANS  T007    41.995    -87.769   \n",
       "3 2007-05-29  CULEX PIPIENS/RESTUANS  T015    41.974    -87.825   \n",
       "4 2007-05-29          CULEX RESTUANS  T015    41.974    -87.825   \n",
       "\n",
       "   AddressAccuracy  NumMosquitos  WnvPresent  Station  Tavg  ...  AvgSpeed  \\\n",
       "0                9             1           0      1.0  74.0  ...       6.5   \n",
       "1                9             1           0      1.0  74.0  ...       6.5   \n",
       "2                9             1           0      1.0  74.0  ...       6.5   \n",
       "3                8             1           0      1.0  74.0  ...       6.5   \n",
       "4                8             4           0      1.0  74.0  ...       6.5   \n",
       "\n",
       "            Sunrise_1            Sunset_1  daylight_duration  Humidity  \\\n",
       "0 1900-01-01 04:21:00 1900-01-01 19:17:00    0 days 14:56:00      57.4   \n",
       "1 1900-01-01 04:21:00 1900-01-01 19:17:00    0 days 14:56:00      57.4   \n",
       "2 1900-01-01 04:21:00 1900-01-01 19:17:00    0 days 14:56:00      57.4   \n",
       "3 1900-01-01 04:21:00 1900-01-01 19:17:00    0 days 14:56:00      57.4   \n",
       "4 1900-01-01 04:21:00 1900-01-01 19:17:00    0 days 14:56:00      57.4   \n",
       "\n",
       "   Daylight_hours  Sunrise Sunset Month Day  \n",
       "0           14.93     4.35  19.28     5  29  \n",
       "1           14.93     4.35  19.28     5  29  \n",
       "2           14.93     4.35  19.28     5  29  \n",
       "3           14.93     4.35  19.28     5  29  \n",
       "4           14.93     4.35  19.28     5  29  \n",
       "\n",
       "[5 rows x 26 columns]"
      ]
     },
     "execution_count": 45,
     "metadata": {},
     "output_type": "execute_result"
    }
   ],
   "source": [
    "df.head()"
   ]
  },
  {
   "cell_type": "code",
   "execution_count": 46,
   "metadata": {},
   "outputs": [],
   "source": [
    "# specify features\n",
    "num_features = ['Latitude', 'Longitude', 'AddressAccuracy', 'Tavg', 'Depart', 'Heat', 'PrecipTotal', 'SeaLevel', 'ResultDir', 'AvgSpeed', 'Humidity', 'Daylight_hours', 'Month', 'Day', 'Sunrise', 'Sunset']\n",
    "cat_features = ['Species', 'Trap']\n",
    "text_features = ['CodeSum']\n",
    "\n",
    "features = num_features + cat_features + text_features\n",
    "\n",
    "# define metric to optimise during GridSearch\n",
    "score_metric = ['f1', 'roc_auc']"
   ]
  },
  {
   "cell_type": "code",
   "execution_count": 47,
   "metadata": {
    "cell_id": "df282cce65f74870b1b26d17b16e882a",
    "deepnote_cell_type": "code",
    "deepnote_to_be_reexecuted": false,
    "execution_millis": 1,
    "execution_start": 1670551614676,
    "source_hash": "f9a57dbf",
    "tags": []
   },
   "outputs": [],
   "source": [
    "X = df[features]\n",
    "y = df['WnvPresent']"
   ]
  },
  {
   "cell_type": "code",
   "execution_count": 48,
   "metadata": {
    "cell_id": "c002f9f29f5b469282bc7436c65d2bce",
    "deepnote_cell_type": "code",
    "deepnote_to_be_reexecuted": false,
    "execution_millis": 0,
    "execution_start": 1670551614695,
    "source_hash": "22ad61df"
   },
   "outputs": [],
   "source": [
    "X_train, X_test, y_train, y_test = train_test_split(X, y, test_size=0.5, random_state=rng, stratify=y)"
   ]
  },
  {
   "cell_type": "code",
   "execution_count": 49,
   "metadata": {
    "cell_id": "5ea9415a492849488bbfe0c08690b007",
    "deepnote_cell_type": "code",
    "deepnote_to_be_reexecuted": false,
    "execution_millis": 0,
    "execution_start": 1670551614696,
    "source_hash": "a0c1dd4b"
   },
   "outputs": [],
   "source": [
    "# Processing steps before modelling (standardisation, one hot encoding, over/under-sampling)\n",
    "minmax = MinMaxScaler(feature_range=(0, 1))\n",
    "ohe = OneHotEncoder(drop='if_binary', handle_unknown='ignore')\n",
    "count = CountVectorizer()\n",
    "\n",
    "sample_smotetomek = SMOTETomek(random_state=rng, n_jobs=2)\n",
    "\n",
    "text_pipe = Pipeline([\n",
    "    (\"squeeze\", FunctionTransformer(lambda x: x.squeeze())),\n",
    "    ('vector', count),\n",
    "    ('array', FunctionTransformer(lambda x: x.toarray(), accept_sparse=True)),\n",
    "    ('scale', minmax)\n",
    "])\n",
    "\n",
    "col_transform = ColumnTransformer([\n",
    "    ('MinMaxScaler', minmax, num_features),\n",
    "    ('OneHotEncoder', ohe, cat_features),\n",
    "    ('CountVectorizer', text_pipe, text_features)\n",
    "], remainder='drop',\n",
    "sparse_threshold=0\n",
    ")"
   ]
  },
  {
   "cell_type": "code",
   "execution_count": 50,
   "metadata": {
    "cell_id": "93ccb8bc1f7f48e59148607badf32567",
    "deepnote_cell_type": "code",
    "deepnote_to_be_reexecuted": false,
    "execution_millis": 2,
    "execution_start": 1670551614701,
    "source_hash": "16c4c255",
    "tags": []
   },
   "outputs": [],
   "source": [
    "# WORKING FILE\n",
    "# perceptron = Perceptron(random_state=42)\n",
    "\n",
    "# model = Sequential()\n",
    "# model.add(Dense(50, input_dim=53, activation='relu')) # input\n",
    "# model.add(Dense(100, activation='relu')) # hidden\n",
    "# model.add(Dense(50, activation='relu'))  # hidden\n",
    "# model.add(Dense(1, activation='sigmoid'))\n",
    "# model.compile(loss=\"binary_crossentropy\", optimizer=\"adam\", metrics=['binary_crossentropy']) \n"
   ]
  },
  {
   "cell_type": "code",
   "execution_count": 51,
   "metadata": {
    "cell_id": "68b7851640eb427a9d654c1ea7eedce8",
    "deepnote_cell_type": "code",
    "deepnote_to_be_reexecuted": false,
    "execution_millis": 2,
    "execution_start": 1670551614703,
    "source_hash": "5cf5fc15",
    "tags": []
   },
   "outputs": [],
   "source": [
    "# Instantiating models for classification\n",
    "lr = LogisticRegression(random_state=rng)\n",
    "knn = KNeighborsClassifier()\n",
    "pct = Perceptron(random_state=rng)\n",
    "mlp = MLPClassifier(hidden_layer_sizes=(8,6,1), max_iter=300, activation='tanh', solver='adam', random_state=rng)\n",
    "rf = RandomForestClassifier(random_state=rng)\n",
    "ada = AdaBoostClassifier(random_state=rng)\n",
    "gbc = GradientBoostingClassifier(random_state=rng)\n",
    "hgbc = HistGradientBoostingClassifier(random_state=rng)"
   ]
  },
  {
   "cell_type": "code",
   "execution_count": 52,
   "metadata": {},
   "outputs": [],
   "source": [
    "# create dict to store model performance results for comparison\n",
    "model_dict = {\n",
    "    'model_list': [],\n",
    "    'mean_train_f1_score': [],\n",
    "    'mean_test_f1_score': [],\n",
    "    'mean_train_roc_auc_score': [],\n",
    "    'mean_test_roc_auc_score': [],\n",
    "    'best_params': [],\n",
    "    'runtime': []\n",
    "}"
   ]
  },
  {
   "cell_type": "code",
   "execution_count": 53,
   "metadata": {
    "cell_id": "c51fa59dd9074b0c9aee057f4ff60157",
    "deepnote_cell_type": "code",
    "deepnote_to_be_reexecuted": false,
    "execution_millis": 0,
    "execution_start": 1670551614726,
    "source_hash": "c5615a52",
    "tags": []
   },
   "outputs": [],
   "source": [
    "# run pipe, fit params and return best estimator\n",
    "def run_pipe(clf: object, pipe_params: dict):\n",
    "    t = Timer()\n",
    "    model_name = re.match(r'^(\\w+)(?=\\()', str(clf)).group()\n",
    "    print(f\"Fitting {model_name}\")\n",
    "\n",
    "    # create pipe\n",
    "    pipe = Pipeline([\n",
    "        ('transform', col_transform),\n",
    "        ('sample', sample_smotetomek),\n",
    "        ('clf', clf)\n",
    "    ])\n",
    "    \n",
    "    \n",
    "    # create GridSearchCV\n",
    "    grid = GridSearchCV(\n",
    "        estimator = pipe,\n",
    "        param_grid = pipe_params,\n",
    "        scoring = score_metric,\n",
    "        n_jobs = -3,\n",
    "        cv = 3,\n",
    "        verbose = 1,\n",
    "        error_score='raise',\n",
    "        refit='f1'\n",
    "    )\n",
    "\n",
    "    t.start()\n",
    "    grid.fit(X_train, y_train)\n",
    "    t.stop()\n",
    "    \n",
    "    # test_score = cross_val_score(grid.best_estimator_, X_test, y_test, scoring=score_metric, cv=3, n_jobs=-3)\n",
    "    train_score = cross_validate(grid.best_estimator_, X_train, y_train, scoring=score_metric, cv=3, n_jobs=-3)\n",
    "    test_score = cross_validate(grid.best_estimator_, X_test, y_test, scoring=score_metric, cv=3, n_jobs=-3)\n",
    "    # store average scores\n",
    "    model_dict['model_list'].append(model_name)\n",
    "    model_dict['mean_train_f1_score'].append(train_score['test_f1'].mean())\n",
    "    model_dict['mean_train_roc_auc_score'].append(train_score['test_roc_auc'].mean())\n",
    "    model_dict['mean_test_f1_score'].append(test_score['test_f1'].mean())\n",
    "    model_dict['mean_test_roc_auc_score'].append(test_score['test_roc_auc'].mean())\n",
    "    # model_dict['mean_test_score'].append(test_score.mean())\n",
    "    model_dict['best_params'].append(grid.best_params_)\n",
    "    model_dict['runtime'].append(t.duration())\n",
    "\n",
    "    print(\"Best Score: \", grid.best_score_)\n",
    "    print(\"Best Params: \", grid.best_params_)\n",
    "    print()\n",
    "    return grid.best_estimator_, grid.cv_results_"
   ]
  },
  {
   "cell_type": "code",
   "execution_count": 54,
   "metadata": {
    "cell_id": "aa66a7d464524c909017dc4ef49aa773",
    "deepnote_cell_type": "code",
    "deepnote_to_be_reexecuted": false,
    "execution_millis": 1,
    "execution_start": 1670551614729,
    "source_hash": "ed2c8b67",
    "tags": []
   },
   "outputs": [],
   "source": [
    "# create table with model performance results\n",
    "def table_model_results():\n",
    "    model_performance = pd.DataFrame(model_dict)\n",
    "    \n",
    "    model_performance.insert(\n",
    "        loc = 3,\n",
    "        column = 'f1_score_delta',\n",
    "        value = abs(model_performance['mean_train_f1_score'] - model_performance['mean_test_f1_score'])\n",
    "        )\n",
    "\n",
    "    model_performance.insert(\n",
    "        loc = 6,\n",
    "        column = 'roc_auc_score_delta',\n",
    "        value = abs(model_performance['mean_train_roc_auc_score'] - model_performance['mean_test_roc_auc_score'])\n",
    "        )\n",
    "\n",
    "    return model_performance.sort_values(by=\"mean_train_f1_score\", ascending=False).round(\n",
    "        {'mean_train_f1_score': 4,\n",
    "        'mean_train_roc_auc_score': 4,\n",
    "        'mean_test_f1_score':4,\n",
    "        'mean_test_roc_auc_score': 4,\n",
    "        'f1_score_delta':4,\n",
    "        'roc_auc_score_delta':4,\n",
    "        'runtime': 2}\n",
    "        )"
   ]
  },
  {
   "cell_type": "code",
   "execution_count": 55,
   "metadata": {
    "cell_id": "0939d8a01a0448678a1276cd0609d252",
    "deepnote_cell_type": "code",
    "deepnote_to_be_reexecuted": false,
    "execution_millis": 0,
    "execution_start": 1670551614725,
    "source_hash": "6ad5492e",
    "tags": []
   },
   "outputs": [],
   "source": [
    "lr_params = {\n",
    "    'clf__solver': ['liblinear', 'newton-cg', 'lbfgs'],\n",
    "    'clf__penalty': ['l2'],\n",
    "    'clf__C': [100, 10, 1.0, 0.1, 0.01],\n",
    "    'clf__max_iter': [100, 150, 500]\n",
    "}\n",
    "\n",
    "knn_params = {\n",
    "    'clf__n_neighbors': [3, 5, 9, 15],\n",
    "    'clf__weights': ['uniform', 'distance']\n",
    "}\n",
    "\n",
    "pct_params = {\n",
    "    'clf__penalty': [None, 'l1', 'l2', 'elasticnet'],\n",
    "    'clf__class_weight': [None, 'balanced']\n",
    "}\n",
    "\n",
    "mlp_params = {\n",
    "    \n",
    "}\n",
    "\n",
    "rf_params = {\n",
    "    'clf__ccp_alpha': [0.0, 0.01, 0.1],\n",
    "    'clf__max_features': ['sqrt', 'log2'],\n",
    "    'clf__n_estimators': [500, 700, 900]\n",
    "}\n",
    "\n",
    "ada_params = {\n",
    "    'clf__learning_rate': [1.0, 2.0, 10],\n",
    "    'clf__n_estimators': [150, 200, 250]\n",
    "}\n",
    "\n",
    "gbc_params = {\n",
    "    'clf__learning_rate': [0.001, 0.01, 0.1],\n",
    "    'clf__subsample': [0.5, 0.7, 1.0],\n",
    "    'clf__max_depth': [3, 7, 9],\n",
    "    'clf__n_estimators': [350]\n",
    "}\n",
    "\n",
    "hgbc_params = {\n",
    "    'clf__learning_rate': [0.001, 0.01, 0.1],\n",
    "    'clf__l2_regularization': [0, 0.1, 1],\n",
    "    'clf__max_iter': [100, 200, 300]\n",
    "}"
   ]
  },
  {
   "cell_type": "code",
   "execution_count": 56,
   "metadata": {},
   "outputs": [
    {
     "name": "stdout",
     "output_type": "stream",
     "text": [
      "Fitting LogisticRegression\n",
      "Fitting 3 folds for each of 45 candidates, totalling 135 fits\n",
      "Elapsed time: 0 minutes, 38 seconds\n",
      "Best Score:  0.23033029725375387\n",
      "Best Params:  {'clf__C': 100, 'clf__max_iter': 100, 'clf__penalty': 'l2', 'clf__solver': 'liblinear'}\n",
      "\n"
     ]
    }
   ],
   "source": [
    "lr_best, lr_results = run_pipe(lr, lr_params)"
   ]
  },
  {
   "cell_type": "code",
   "execution_count": 57,
   "metadata": {},
   "outputs": [
    {
     "name": "stdout",
     "output_type": "stream",
     "text": [
      "Fitting KNeighborsClassifier\n",
      "Fitting 3 folds for each of 8 candidates, totalling 24 fits\n",
      "Elapsed time: 0 minutes, 6 seconds\n",
      "Best Score:  0.18755368042454798\n",
      "Best Params:  {'clf__n_neighbors': 3, 'clf__weights': 'distance'}\n",
      "\n"
     ]
    }
   ],
   "source": [
    "knn_best, knn_results = run_pipe(knn, knn_params)"
   ]
  },
  {
   "cell_type": "code",
   "execution_count": 58,
   "metadata": {
    "cell_id": "23aa8daa93054cfd9c21b7369c753f5b",
    "deepnote_cell_type": "code",
    "deepnote_to_be_reexecuted": false,
    "execution_millis": 5,
    "execution_start": 1670551614733,
    "source_hash": "187cd43f",
    "tags": []
   },
   "outputs": [
    {
     "name": "stdout",
     "output_type": "stream",
     "text": [
      "Fitting Perceptron\n",
      "Fitting 3 folds for each of 8 candidates, totalling 24 fits\n",
      "Elapsed time: 0 minutes, 5 seconds\n",
      "Best Score:  0.17196362795409578\n",
      "Best Params:  {'clf__class_weight': None, 'clf__penalty': 'l2'}\n",
      "\n"
     ]
    }
   ],
   "source": [
    "pct_best, pct_results = run_pipe(pct, pct_params)"
   ]
  },
  {
   "cell_type": "code",
   "execution_count": 59,
   "metadata": {},
   "outputs": [
    {
     "name": "stdout",
     "output_type": "stream",
     "text": [
      "Fitting MLPClassifier\n",
      "Fitting 3 folds for each of 1 candidates, totalling 3 fits\n",
      "Elapsed time: 0 minutes, 23 seconds\n",
      "Best Score:  0.21944958759600808\n",
      "Best Params:  {}\n",
      "\n"
     ]
    }
   ],
   "source": [
    "mlp_best, mlp_results = run_pipe(mlp, mlp_params)"
   ]
  },
  {
   "cell_type": "code",
   "execution_count": 60,
   "metadata": {
    "cell_id": "a92af20005a749049d1c126cc67318a6",
    "deepnote_cell_type": "code",
    "deepnote_to_be_reexecuted": false,
    "execution_millis": 5,
    "execution_start": 1670551614739,
    "source_hash": "ad166d04",
    "tags": []
   },
   "outputs": [
    {
     "name": "stdout",
     "output_type": "stream",
     "text": [
      "Fitting RandomForestClassifier\n",
      "Fitting 3 folds for each of 18 candidates, totalling 54 fits\n",
      "Elapsed time: 1 minutes, 29 seconds\n",
      "Best Score:  0.22306208488248594\n",
      "Best Params:  {'clf__ccp_alpha': 0.01, 'clf__max_features': 'log2', 'clf__n_estimators': 500}\n",
      "\n"
     ]
    }
   ],
   "source": [
    "rf_best, rf_results = run_pipe(rf, rf_params)"
   ]
  },
  {
   "cell_type": "code",
   "execution_count": 61,
   "metadata": {
    "cell_id": "5b7c499380444c2db5904e1643b4bacb",
    "deepnote_cell_type": "code",
    "deepnote_to_be_reexecuted": false,
    "execution_millis": 4,
    "execution_start": 1670551614759,
    "source_hash": "8911531d",
    "tags": []
   },
   "outputs": [
    {
     "name": "stdout",
     "output_type": "stream",
     "text": [
      "Fitting AdaBoostClassifier\n",
      "Fitting 3 folds for each of 9 candidates, totalling 27 fits\n",
      "Elapsed time: 0 minutes, 36 seconds\n",
      "Best Score:  0.25899874269648276\n",
      "Best Params:  {'clf__learning_rate': 1.0, 'clf__n_estimators': 150}\n",
      "\n"
     ]
    }
   ],
   "source": [
    "ada_best, ada_results = run_pipe(ada, ada_params)"
   ]
  },
  {
   "cell_type": "code",
   "execution_count": 62,
   "metadata": {
    "cell_id": "79bb11a6463d45548d77ad6ad69b9a6e",
    "deepnote_cell_type": "code",
    "deepnote_to_be_reexecuted": false,
    "execution_millis": 1,
    "execution_start": 1670551614765,
    "source_hash": "8f961823",
    "tags": []
   },
   "outputs": [],
   "source": [
    "# gbc_best, gbc_results = run_pipe(gbc, gbc_params)"
   ]
  },
  {
   "cell_type": "code",
   "execution_count": 63,
   "metadata": {},
   "outputs": [
    {
     "name": "stdout",
     "output_type": "stream",
     "text": [
      "Fitting HistGradientBoostingClassifier\n",
      "Fitting 3 folds for each of 27 candidates, totalling 81 fits\n",
      "Elapsed time: 2 minutes, 0 seconds\n",
      "Best Score:  0.281890783509605\n",
      "Best Params:  {'clf__l2_regularization': 0.1, 'clf__learning_rate': 0.01, 'clf__max_iter': 300}\n",
      "\n"
     ]
    }
   ],
   "source": [
    "hgbc_best, hgbc_results = run_pipe(hgbc, hgbc_params)"
   ]
  },
  {
   "cell_type": "code",
   "execution_count": 64,
   "metadata": {
    "cell_id": "16e54354b94946ad88e3b2c657a8e1b7",
    "deepnote_cell_type": "code",
    "deepnote_to_be_reexecuted": false,
    "execution_millis": 26,
    "execution_start": 1670551614769,
    "source_hash": "c3834e6e",
    "tags": []
   },
   "outputs": [
    {
     "data": {
      "text/html": [
       "<div>\n",
       "<style scoped>\n",
       "    .dataframe tbody tr th:only-of-type {\n",
       "        vertical-align: middle;\n",
       "    }\n",
       "\n",
       "    .dataframe tbody tr th {\n",
       "        vertical-align: top;\n",
       "    }\n",
       "\n",
       "    .dataframe thead th {\n",
       "        text-align: right;\n",
       "    }\n",
       "</style>\n",
       "<table border=\"1\" class=\"dataframe\">\n",
       "  <thead>\n",
       "    <tr style=\"text-align: right;\">\n",
       "      <th></th>\n",
       "      <th>model_list</th>\n",
       "      <th>mean_train_f1_score</th>\n",
       "      <th>mean_test_f1_score</th>\n",
       "      <th>f1_score_delta</th>\n",
       "      <th>mean_train_roc_auc_score</th>\n",
       "      <th>mean_test_roc_auc_score</th>\n",
       "      <th>roc_auc_score_delta</th>\n",
       "      <th>best_params</th>\n",
       "      <th>runtime</th>\n",
       "    </tr>\n",
       "  </thead>\n",
       "  <tbody>\n",
       "    <tr>\n",
       "      <th>6</th>\n",
       "      <td>HistGradientBoostingClassifier</td>\n",
       "      <td>0.2758</td>\n",
       "      <td>0.2770</td>\n",
       "      <td>0.0012</td>\n",
       "      <td>0.8089</td>\n",
       "      <td>0.7986</td>\n",
       "      <td>0.0102</td>\n",
       "      <td>{'clf__l2_regularization': 0.1, 'clf__learning...</td>\n",
       "      <td>120.22</td>\n",
       "    </tr>\n",
       "    <tr>\n",
       "      <th>5</th>\n",
       "      <td>AdaBoostClassifier</td>\n",
       "      <td>0.2710</td>\n",
       "      <td>0.2320</td>\n",
       "      <td>0.0389</td>\n",
       "      <td>0.8080</td>\n",
       "      <td>0.7754</td>\n",
       "      <td>0.0326</td>\n",
       "      <td>{'clf__learning_rate': 1.0, 'clf__n_estimators...</td>\n",
       "      <td>36.88</td>\n",
       "    </tr>\n",
       "    <tr>\n",
       "      <th>0</th>\n",
       "      <td>LogisticRegression</td>\n",
       "      <td>0.2249</td>\n",
       "      <td>0.1984</td>\n",
       "      <td>0.0265</td>\n",
       "      <td>0.7516</td>\n",
       "      <td>0.7360</td>\n",
       "      <td>0.0156</td>\n",
       "      <td>{'clf__C': 100, 'clf__max_iter': 100, 'clf__pe...</td>\n",
       "      <td>38.80</td>\n",
       "    </tr>\n",
       "    <tr>\n",
       "      <th>4</th>\n",
       "      <td>RandomForestClassifier</td>\n",
       "      <td>0.2137</td>\n",
       "      <td>0.1971</td>\n",
       "      <td>0.0166</td>\n",
       "      <td>0.7954</td>\n",
       "      <td>0.7794</td>\n",
       "      <td>0.0159</td>\n",
       "      <td>{'clf__ccp_alpha': 0.01, 'clf__max_features': ...</td>\n",
       "      <td>89.34</td>\n",
       "    </tr>\n",
       "    <tr>\n",
       "      <th>3</th>\n",
       "      <td>MLPClassifier</td>\n",
       "      <td>0.2103</td>\n",
       "      <td>0.1956</td>\n",
       "      <td>0.0147</td>\n",
       "      <td>0.7245</td>\n",
       "      <td>0.6874</td>\n",
       "      <td>0.0370</td>\n",
       "      <td>{}</td>\n",
       "      <td>23.55</td>\n",
       "    </tr>\n",
       "    <tr>\n",
       "      <th>2</th>\n",
       "      <td>Perceptron</td>\n",
       "      <td>0.1977</td>\n",
       "      <td>0.1367</td>\n",
       "      <td>0.0610</td>\n",
       "      <td>0.7332</td>\n",
       "      <td>0.7085</td>\n",
       "      <td>0.0247</td>\n",
       "      <td>{'clf__class_weight': None, 'clf__penalty': 'l2'}</td>\n",
       "      <td>5.04</td>\n",
       "    </tr>\n",
       "    <tr>\n",
       "      <th>1</th>\n",
       "      <td>KNeighborsClassifier</td>\n",
       "      <td>0.1862</td>\n",
       "      <td>0.1643</td>\n",
       "      <td>0.0218</td>\n",
       "      <td>0.6707</td>\n",
       "      <td>0.6386</td>\n",
       "      <td>0.0321</td>\n",
       "      <td>{'clf__n_neighbors': 3, 'clf__weights': 'dista...</td>\n",
       "      <td>6.81</td>\n",
       "    </tr>\n",
       "  </tbody>\n",
       "</table>\n",
       "</div>"
      ],
      "text/plain": [
       "                       model_list  mean_train_f1_score  mean_test_f1_score  \\\n",
       "6  HistGradientBoostingClassifier               0.2758              0.2770   \n",
       "5              AdaBoostClassifier               0.2710              0.2320   \n",
       "0              LogisticRegression               0.2249              0.1984   \n",
       "4          RandomForestClassifier               0.2137              0.1971   \n",
       "3                   MLPClassifier               0.2103              0.1956   \n",
       "2                      Perceptron               0.1977              0.1367   \n",
       "1            KNeighborsClassifier               0.1862              0.1643   \n",
       "\n",
       "   f1_score_delta  mean_train_roc_auc_score  mean_test_roc_auc_score  \\\n",
       "6          0.0012                    0.8089                   0.7986   \n",
       "5          0.0389                    0.8080                   0.7754   \n",
       "0          0.0265                    0.7516                   0.7360   \n",
       "4          0.0166                    0.7954                   0.7794   \n",
       "3          0.0147                    0.7245                   0.6874   \n",
       "2          0.0610                    0.7332                   0.7085   \n",
       "1          0.0218                    0.6707                   0.6386   \n",
       "\n",
       "   roc_auc_score_delta                                        best_params  \\\n",
       "6               0.0102  {'clf__l2_regularization': 0.1, 'clf__learning...   \n",
       "5               0.0326  {'clf__learning_rate': 1.0, 'clf__n_estimators...   \n",
       "0               0.0156  {'clf__C': 100, 'clf__max_iter': 100, 'clf__pe...   \n",
       "4               0.0159  {'clf__ccp_alpha': 0.01, 'clf__max_features': ...   \n",
       "3               0.0370                                                 {}   \n",
       "2               0.0247  {'clf__class_weight': None, 'clf__penalty': 'l2'}   \n",
       "1               0.0321  {'clf__n_neighbors': 3, 'clf__weights': 'dista...   \n",
       "\n",
       "   runtime  \n",
       "6   120.22  \n",
       "5    36.88  \n",
       "0    38.80  \n",
       "4    89.34  \n",
       "3    23.55  \n",
       "2     5.04  \n",
       "1     6.81  "
      ]
     },
     "execution_count": 64,
     "metadata": {},
     "output_type": "execute_result"
    }
   ],
   "source": [
    "model_performance = table_model_results()\n",
    "model_performance"
   ]
  },
  {
   "cell_type": "code",
   "execution_count": 65,
   "metadata": {},
   "outputs": [],
   "source": [
    "# check coefficents from LogisticRegression\n",
    "# feature_names = lr_best[0].get_feature_names_out()\n",
    "# coefficients = lr_best[2].coef_\n",
    "# features_coefs = pd.DataFrame([feature_names, coefficients.reshape(52,)]).transpose()\n",
    "# features_coefs.rename(columns={0: 'feature', 1: 'coef'}, inplace=True)\n",
    "# features_coefs.sort_values(by='coef', ascending=False)"
   ]
  },
  {
   "cell_type": "code",
   "execution_count": 66,
   "metadata": {},
   "outputs": [
    {
     "ename": "SyntaxError",
     "evalue": "invalid syntax (3395297940.py, line 1)",
     "output_type": "error",
     "traceback": [
      "\u001b[1;36m  File \u001b[1;32m\"C:\\Users\\brkit\\AppData\\Local\\Temp\\ipykernel_14804\\3395297940.py\"\u001b[1;36m, line \u001b[1;32m1\u001b[0m\n\u001b[1;33m    this should stop the kernel\u001b[0m\n\u001b[1;37m         ^\u001b[0m\n\u001b[1;31mSyntaxError\u001b[0m\u001b[1;31m:\u001b[0m invalid syntax\n"
     ]
    }
   ],
   "source": [
    "this stops the kernel so I can choose my best classifiers"
   ]
  },
  {
   "cell_type": "code",
   "execution_count": null,
   "metadata": {
    "cell_id": "3d077543da5741ba9a33727305db1e32",
    "deepnote_cell_type": "code",
    "deepnote_to_be_reexecuted": false,
    "execution_millis": 2,
    "execution_start": 1670552986824,
    "source_hash": "7e4528f9",
    "tags": []
   },
   "outputs": [],
   "source": [
    "# create VotingClassifier ensemble with top performing classifiers and new params\n",
    "# voting_clf = VotingClassifier([\n",
    "#     ('GradientBoost', GradientBoostingClassifier(n_estimators=300, random_state=rng)),\n",
    "#     ('AdaBoost', AdaBoostClassifier(n_estimators=200, random_state=rng)),\n",
    "#     ('RandomForest', RandomForestClassifier(n_estimators=700, max_features='sqrt', random_state=rng))\n",
    "# ], voting='soft')\n",
    "\n",
    "# voting_params = {\n",
    "#     'sample__sampling_strategy': ['auto', 0.1, 0.3],\n",
    "#     'clf__GradientBoost__learning_rate': [0.01, 0.1],\n",
    "#     'clf__GradientBoost__subsample': [0.7, 1.0],\n",
    "#     'clf__GradientBoost__max_depth': [3, 7],\n",
    "#     'clf__AdaBoost__learning_rate': [1.0, 2.0, 10],\n",
    "#     'clf__LogReg__solver': ['liblinear'],\n",
    "#     'clf__LogReg__C': [100, 10, 1.0],\n",
    "# }"
   ]
  },
  {
   "cell_type": "code",
   "execution_count": 67,
   "metadata": {},
   "outputs": [],
   "source": [
    "# create VotingClassifier ensemble with best performing classifiers\n",
    "voting_clf = VotingClassifier([\n",
    "    ('HistGradientBoost', hgbc_best[-1]),\n",
    "    ('AdaBoost', ada_best[-1]),\n",
    "    # ('LogReg', lr_best[-1])\n",
    "    # ('RandomForest', rf_best[-1])\n",
    "], voting='soft')\n",
    "\n",
    "voting_params = {\n",
    "    'sample__sampling_strategy': ['auto', 0.1, 0.25, 0.5],\n",
    "#     'clf__GradientBoost__learning_rate': [0.01, 0.1],\n",
    "#     'clf__GradientBoost__subsample': [0.7, 1.0],\n",
    "#     'clf__GradientBoost__max_depth': [3, 7],\n",
    "#     'clf__AdaBoost__learning_rate': [1.0, 2.0, 10],\n",
    "#     'clf__LogReg__solver': ['liblinear'],\n",
    "#     'clf__LogReg__C': [100, 10, 1.0],\n",
    "}"
   ]
  },
  {
   "cell_type": "code",
   "execution_count": 68,
   "metadata": {
    "cell_id": "005373c33c9d435daf02555821ef357d",
    "deepnote_cell_type": "code",
    "deepnote_to_be_reexecuted": false,
    "execution_millis": 132,
    "execution_start": 1670552989018,
    "source_hash": "506a2374"
   },
   "outputs": [
    {
     "name": "stdout",
     "output_type": "stream",
     "text": [
      "Fitting VotingClassifier\n",
      "Fitting 3 folds for each of 4 candidates, totalling 12 fits\n",
      "Elapsed time: 0 minutes, 51 seconds\n",
      "Best Score:  0.2791043920026221\n",
      "Best Params:  {'sample__sampling_strategy': 'auto'}\n",
      "\n"
     ]
    }
   ],
   "source": [
    "voting_best, voting_results = run_pipe(voting_clf, voting_params)"
   ]
  },
  {
   "cell_type": "code",
   "execution_count": 69,
   "metadata": {},
   "outputs": [
    {
     "data": {
      "text/html": [
       "<div>\n",
       "<style scoped>\n",
       "    .dataframe tbody tr th:only-of-type {\n",
       "        vertical-align: middle;\n",
       "    }\n",
       "\n",
       "    .dataframe tbody tr th {\n",
       "        vertical-align: top;\n",
       "    }\n",
       "\n",
       "    .dataframe thead th {\n",
       "        text-align: right;\n",
       "    }\n",
       "</style>\n",
       "<table border=\"1\" class=\"dataframe\">\n",
       "  <thead>\n",
       "    <tr style=\"text-align: right;\">\n",
       "      <th></th>\n",
       "      <th>model_list</th>\n",
       "      <th>mean_train_f1_score</th>\n",
       "      <th>mean_test_f1_score</th>\n",
       "      <th>f1_score_delta</th>\n",
       "      <th>mean_train_roc_auc_score</th>\n",
       "      <th>mean_test_roc_auc_score</th>\n",
       "      <th>roc_auc_score_delta</th>\n",
       "      <th>best_params</th>\n",
       "      <th>runtime</th>\n",
       "    </tr>\n",
       "  </thead>\n",
       "  <tbody>\n",
       "    <tr>\n",
       "      <th>7</th>\n",
       "      <td>VotingClassifier</td>\n",
       "      <td>0.2770</td>\n",
       "      <td>0.2752</td>\n",
       "      <td>0.0018</td>\n",
       "      <td>0.8112</td>\n",
       "      <td>0.8012</td>\n",
       "      <td>0.0100</td>\n",
       "      <td>{'sample__sampling_strategy': 'auto'}</td>\n",
       "      <td>51.87</td>\n",
       "    </tr>\n",
       "    <tr>\n",
       "      <th>6</th>\n",
       "      <td>HistGradientBoostingClassifier</td>\n",
       "      <td>0.2758</td>\n",
       "      <td>0.2770</td>\n",
       "      <td>0.0012</td>\n",
       "      <td>0.8089</td>\n",
       "      <td>0.7986</td>\n",
       "      <td>0.0102</td>\n",
       "      <td>{'clf__l2_regularization': 0.1, 'clf__learning...</td>\n",
       "      <td>120.22</td>\n",
       "    </tr>\n",
       "    <tr>\n",
       "      <th>5</th>\n",
       "      <td>AdaBoostClassifier</td>\n",
       "      <td>0.2710</td>\n",
       "      <td>0.2320</td>\n",
       "      <td>0.0389</td>\n",
       "      <td>0.8080</td>\n",
       "      <td>0.7754</td>\n",
       "      <td>0.0326</td>\n",
       "      <td>{'clf__learning_rate': 1.0, 'clf__n_estimators...</td>\n",
       "      <td>36.88</td>\n",
       "    </tr>\n",
       "    <tr>\n",
       "      <th>0</th>\n",
       "      <td>LogisticRegression</td>\n",
       "      <td>0.2249</td>\n",
       "      <td>0.1984</td>\n",
       "      <td>0.0265</td>\n",
       "      <td>0.7516</td>\n",
       "      <td>0.7360</td>\n",
       "      <td>0.0156</td>\n",
       "      <td>{'clf__C': 100, 'clf__max_iter': 100, 'clf__pe...</td>\n",
       "      <td>38.80</td>\n",
       "    </tr>\n",
       "    <tr>\n",
       "      <th>4</th>\n",
       "      <td>RandomForestClassifier</td>\n",
       "      <td>0.2137</td>\n",
       "      <td>0.1971</td>\n",
       "      <td>0.0166</td>\n",
       "      <td>0.7954</td>\n",
       "      <td>0.7794</td>\n",
       "      <td>0.0159</td>\n",
       "      <td>{'clf__ccp_alpha': 0.01, 'clf__max_features': ...</td>\n",
       "      <td>89.34</td>\n",
       "    </tr>\n",
       "    <tr>\n",
       "      <th>3</th>\n",
       "      <td>MLPClassifier</td>\n",
       "      <td>0.2103</td>\n",
       "      <td>0.1956</td>\n",
       "      <td>0.0147</td>\n",
       "      <td>0.7245</td>\n",
       "      <td>0.6874</td>\n",
       "      <td>0.0370</td>\n",
       "      <td>{}</td>\n",
       "      <td>23.55</td>\n",
       "    </tr>\n",
       "    <tr>\n",
       "      <th>2</th>\n",
       "      <td>Perceptron</td>\n",
       "      <td>0.1977</td>\n",
       "      <td>0.1367</td>\n",
       "      <td>0.0610</td>\n",
       "      <td>0.7332</td>\n",
       "      <td>0.7085</td>\n",
       "      <td>0.0247</td>\n",
       "      <td>{'clf__class_weight': None, 'clf__penalty': 'l2'}</td>\n",
       "      <td>5.04</td>\n",
       "    </tr>\n",
       "    <tr>\n",
       "      <th>1</th>\n",
       "      <td>KNeighborsClassifier</td>\n",
       "      <td>0.1862</td>\n",
       "      <td>0.1643</td>\n",
       "      <td>0.0218</td>\n",
       "      <td>0.6707</td>\n",
       "      <td>0.6386</td>\n",
       "      <td>0.0321</td>\n",
       "      <td>{'clf__n_neighbors': 3, 'clf__weights': 'dista...</td>\n",
       "      <td>6.81</td>\n",
       "    </tr>\n",
       "  </tbody>\n",
       "</table>\n",
       "</div>"
      ],
      "text/plain": [
       "                       model_list  mean_train_f1_score  mean_test_f1_score  \\\n",
       "7                VotingClassifier               0.2770              0.2752   \n",
       "6  HistGradientBoostingClassifier               0.2758              0.2770   \n",
       "5              AdaBoostClassifier               0.2710              0.2320   \n",
       "0              LogisticRegression               0.2249              0.1984   \n",
       "4          RandomForestClassifier               0.2137              0.1971   \n",
       "3                   MLPClassifier               0.2103              0.1956   \n",
       "2                      Perceptron               0.1977              0.1367   \n",
       "1            KNeighborsClassifier               0.1862              0.1643   \n",
       "\n",
       "   f1_score_delta  mean_train_roc_auc_score  mean_test_roc_auc_score  \\\n",
       "7          0.0018                    0.8112                   0.8012   \n",
       "6          0.0012                    0.8089                   0.7986   \n",
       "5          0.0389                    0.8080                   0.7754   \n",
       "0          0.0265                    0.7516                   0.7360   \n",
       "4          0.0166                    0.7954                   0.7794   \n",
       "3          0.0147                    0.7245                   0.6874   \n",
       "2          0.0610                    0.7332                   0.7085   \n",
       "1          0.0218                    0.6707                   0.6386   \n",
       "\n",
       "   roc_auc_score_delta                                        best_params  \\\n",
       "7               0.0100              {'sample__sampling_strategy': 'auto'}   \n",
       "6               0.0102  {'clf__l2_regularization': 0.1, 'clf__learning...   \n",
       "5               0.0326  {'clf__learning_rate': 1.0, 'clf__n_estimators...   \n",
       "0               0.0156  {'clf__C': 100, 'clf__max_iter': 100, 'clf__pe...   \n",
       "4               0.0159  {'clf__ccp_alpha': 0.01, 'clf__max_features': ...   \n",
       "3               0.0370                                                 {}   \n",
       "2               0.0247  {'clf__class_weight': None, 'clf__penalty': 'l2'}   \n",
       "1               0.0321  {'clf__n_neighbors': 3, 'clf__weights': 'dista...   \n",
       "\n",
       "   runtime  \n",
       "7    51.87  \n",
       "6   120.22  \n",
       "5    36.88  \n",
       "0    38.80  \n",
       "4    89.34  \n",
       "3    23.55  \n",
       "2     5.04  \n",
       "1     6.81  "
      ]
     },
     "execution_count": 69,
     "metadata": {},
     "output_type": "execute_result"
    }
   ],
   "source": [
    "table_model_results()"
   ]
  },
  {
   "cell_type": "code",
   "execution_count": 70,
   "metadata": {},
   "outputs": [
    {
     "data": {
      "image/png": "[encoded data removed]",
      "text/plain": [
       "<Figure size 640x480 with 2 Axes>"
      ]
     },
     "metadata": {},
     "output_type": "display_data"
    }
   ],
   "source": [
    "preds = voting_best.predict(X_test)\n",
    "cm_disp = ConfusionMatrixDisplay.from_predictions(y_test, preds)"
   ]
  },
  {
   "cell_type": "code",
   "execution_count": 71,
   "metadata": {
    "cell_id": "d1cef0a9162a4398958108b253f2008d",
    "deepnote_cell_type": "code",
    "deepnote_to_be_reexecuted": true,
    "execution_millis": 554,
    "execution_start": 1670548138224,
    "source_hash": "ed13f675"
   },
   "outputs": [
    {
     "name": "stdout",
     "output_type": "stream",
     "text": [
      "              precision    recall  f1-score   support\n",
      "\n",
      "           0       0.97      0.90      0.93      4978\n",
      "           1       0.20      0.44      0.27       275\n",
      "\n",
      "    accuracy                           0.88      5253\n",
      "   macro avg       0.58      0.67      0.60      5253\n",
      "weighted avg       0.93      0.88      0.90      5253\n",
      "\n"
     ]
    }
   ],
   "source": [
    "print(classification_report(y_test, preds))"
   ]
  },
  {
   "cell_type": "code",
   "execution_count": 72,
   "metadata": {
    "scrolled": true
   },
   "outputs": [
    {
     "data": {
      "text/html": [
       "<style>#sk-container-id-1 {color: black;background-color: white;}#sk-container-id-1 pre{padding: 0;}#sk-container-id-1 div.sk-toggleable {background-color: white;}#sk-container-id-1 label.sk-toggleable__label {cursor: pointer;display: block;width: 100%;margin-bottom: 0;padding: 0.3em;box-sizing: border-box;text-align: center;}#sk-container-id-1 label.sk-toggleable__label-arrow:before {content: \"▸\";float: left;margin-right: 0.25em;color: #696969;}#sk-container-id-1 label.sk-toggleable__label-arrow:hover:before {color: black;}#sk-container-id-1 div.sk-estimator:hover label.sk-toggleable__label-arrow:before {color: black;}#sk-container-id-1 div.sk-toggleable__content {max-height: 0;max-width: 0;overflow: hidden;text-align: left;background-color: #f0f8ff;}#sk-container-id-1 div.sk-toggleable__content pre {margin: 0.2em;color: black;border-radius: 0.25em;background-color: #f0f8ff;}#sk-container-id-1 input.sk-toggleable__control:checked~div.sk-toggleable__content {max-height: 200px;max-width: 100%;overflow: auto;}#sk-container-id-1 input.sk-toggleable__control:checked~label.sk-toggleable__label-arrow:before {content: \"▾\";}#sk-container-id-1 div.sk-estimator input.sk-toggleable__control:checked~label.sk-toggleable__label {background-color: #d4ebff;}#sk-container-id-1 div.sk-label input.sk-toggleable__control:checked~label.sk-toggleable__label {background-color: #d4ebff;}#sk-container-id-1 input.sk-hidden--visually {border: 0;clip: rect(1px 1px 1px 1px);clip: rect(1px, 1px, 1px, 1px);height: 1px;margin: -1px;overflow: hidden;padding: 0;position: absolute;width: 1px;}#sk-container-id-1 div.sk-estimator {font-family: monospace;background-color: #f0f8ff;border: 1px dotted black;border-radius: 0.25em;box-sizing: border-box;margin-bottom: 0.5em;}#sk-container-id-1 div.sk-estimator:hover {background-color: #d4ebff;}#sk-container-id-1 div.sk-parallel-item::after {content: \"\";width: 100%;border-bottom: 1px solid gray;flex-grow: 1;}#sk-container-id-1 div.sk-label:hover label.sk-toggleable__label {background-color: #d4ebff;}#sk-container-id-1 div.sk-serial::before {content: \"\";position: absolute;border-left: 1px solid gray;box-sizing: border-box;top: 0;bottom: 0;left: 50%;z-index: 0;}#sk-container-id-1 div.sk-serial {display: flex;flex-direction: column;align-items: center;background-color: white;padding-right: 0.2em;padding-left: 0.2em;position: relative;}#sk-container-id-1 div.sk-item {position: relative;z-index: 1;}#sk-container-id-1 div.sk-parallel {display: flex;align-items: stretch;justify-content: center;background-color: white;position: relative;}#sk-container-id-1 div.sk-item::before, #sk-container-id-1 div.sk-parallel-item::before {content: \"\";position: absolute;border-left: 1px solid gray;box-sizing: border-box;top: 0;bottom: 0;left: 50%;z-index: -1;}#sk-container-id-1 div.sk-parallel-item {display: flex;flex-direction: column;z-index: 1;position: relative;background-color: white;}#sk-container-id-1 div.sk-parallel-item:first-child::after {align-self: flex-end;width: 50%;}#sk-container-id-1 div.sk-parallel-item:last-child::after {align-self: flex-start;width: 50%;}#sk-container-id-1 div.sk-parallel-item:only-child::after {width: 0;}#sk-container-id-1 div.sk-dashed-wrapped {border: 1px dashed gray;margin: 0 0.4em 0.5em 0.4em;box-sizing: border-box;padding-bottom: 0.4em;background-color: white;}#sk-container-id-1 div.sk-label label {font-family: monospace;font-weight: bold;display: inline-block;line-height: 1.2em;}#sk-container-id-1 div.sk-label-container {text-align: center;}#sk-container-id-1 div.sk-container {/* jupyter's `normalize.less` sets `[hidden] { display: none; }` but bootstrap.min.css set `[hidden] { display: none !important; }` so we also need the `!important` here to be able to override the default hidden behavior on the sphinx rendered scikit-learn.org. See: https://github.com/scikit-learn/scikit-learn/issues/21755 */display: inline-block !important;position: relative;}#sk-container-id-1 div.sk-text-repr-fallback {display: none;}</style><div id=\"sk-container-id-1\" class=\"sk-top-container\"><div class=\"sk-text-repr-fallback\"><pre>Pipeline(steps=[(&#x27;transform&#x27;,\n",
       "                 ColumnTransformer(sparse_threshold=0,\n",
       "                                   transformers=[(&#x27;MinMaxScaler&#x27;,\n",
       "                                                  MinMaxScaler(),\n",
       "                                                  [&#x27;Latitude&#x27;, &#x27;Longitude&#x27;,\n",
       "                                                   &#x27;AddressAccuracy&#x27;, &#x27;Tavg&#x27;,\n",
       "                                                   &#x27;Depart&#x27;, &#x27;Heat&#x27;,\n",
       "                                                   &#x27;PrecipTotal&#x27;, &#x27;SeaLevel&#x27;,\n",
       "                                                   &#x27;ResultDir&#x27;, &#x27;AvgSpeed&#x27;,\n",
       "                                                   &#x27;Humidity&#x27;, &#x27;Daylight_hours&#x27;,\n",
       "                                                   &#x27;Month&#x27;, &#x27;Day&#x27;, &#x27;Sunrise&#x27;,\n",
       "                                                   &#x27;Sunset&#x27;]),\n",
       "                                                 (&#x27;OneHotEncoder&#x27;,\n",
       "                                                  OneHotEncoder(drop=&#x27;if_binary&#x27;,\n",
       "                                                                handle_unknown=...\n",
       "                            random_state=RandomState(MT19937) at 0x1F697F7B040)),\n",
       "                (&#x27;clf&#x27;,\n",
       "                 VotingClassifier(estimators=[(&#x27;HistGradientBoost&#x27;,\n",
       "                                               HistGradientBoostingClassifier(l2_regularization=0.1,\n",
       "                                                                              learning_rate=0.01,\n",
       "                                                                              max_iter=300,\n",
       "                                                                              random_state=RandomState(MT19937) at 0x1F697F7BC40)),\n",
       "                                              (&#x27;AdaBoost&#x27;,\n",
       "                                               AdaBoostClassifier(n_estimators=150,\n",
       "                                                                  random_state=RandomState(MT19937) at 0x1F697F7B640))],\n",
       "                                  voting=&#x27;soft&#x27;))])</pre><b>In a Jupyter environment, please rerun this cell to show the HTML representation or trust the notebook. <br />On GitHub, the HTML representation is unable to render, please try loading this page with nbviewer.org.</b></div><div class=\"sk-container\" hidden><div class=\"sk-item sk-dashed-wrapped\"><div class=\"sk-label-container\"><div class=\"sk-label sk-toggleable\"><input class=\"sk-toggleable__control sk-hidden--visually\" id=\"sk-estimator-id-1\" type=\"checkbox\" ><label for=\"sk-estimator-id-1\" class=\"sk-toggleable__label sk-toggleable__label-arrow\">Pipeline</label><div class=\"sk-toggleable__content\"><pre>Pipeline(steps=[(&#x27;transform&#x27;,\n",
       "                 ColumnTransformer(sparse_threshold=0,\n",
       "                                   transformers=[(&#x27;MinMaxScaler&#x27;,\n",
       "                                                  MinMaxScaler(),\n",
       "                                                  [&#x27;Latitude&#x27;, &#x27;Longitude&#x27;,\n",
       "                                                   &#x27;AddressAccuracy&#x27;, &#x27;Tavg&#x27;,\n",
       "                                                   &#x27;Depart&#x27;, &#x27;Heat&#x27;,\n",
       "                                                   &#x27;PrecipTotal&#x27;, &#x27;SeaLevel&#x27;,\n",
       "                                                   &#x27;ResultDir&#x27;, &#x27;AvgSpeed&#x27;,\n",
       "                                                   &#x27;Humidity&#x27;, &#x27;Daylight_hours&#x27;,\n",
       "                                                   &#x27;Month&#x27;, &#x27;Day&#x27;, &#x27;Sunrise&#x27;,\n",
       "                                                   &#x27;Sunset&#x27;]),\n",
       "                                                 (&#x27;OneHotEncoder&#x27;,\n",
       "                                                  OneHotEncoder(drop=&#x27;if_binary&#x27;,\n",
       "                                                                handle_unknown=...\n",
       "                            random_state=RandomState(MT19937) at 0x1F697F7B040)),\n",
       "                (&#x27;clf&#x27;,\n",
       "                 VotingClassifier(estimators=[(&#x27;HistGradientBoost&#x27;,\n",
       "                                               HistGradientBoostingClassifier(l2_regularization=0.1,\n",
       "                                                                              learning_rate=0.01,\n",
       "                                                                              max_iter=300,\n",
       "                                                                              random_state=RandomState(MT19937) at 0x1F697F7BC40)),\n",
       "                                              (&#x27;AdaBoost&#x27;,\n",
       "                                               AdaBoostClassifier(n_estimators=150,\n",
       "                                                                  random_state=RandomState(MT19937) at 0x1F697F7B640))],\n",
       "                                  voting=&#x27;soft&#x27;))])</pre></div></div></div><div class=\"sk-serial\"><div class=\"sk-item sk-dashed-wrapped\"><div class=\"sk-label-container\"><div class=\"sk-label sk-toggleable\"><input class=\"sk-toggleable__control sk-hidden--visually\" id=\"sk-estimator-id-2\" type=\"checkbox\" ><label for=\"sk-estimator-id-2\" class=\"sk-toggleable__label sk-toggleable__label-arrow\">transform: ColumnTransformer</label><div class=\"sk-toggleable__content\"><pre>ColumnTransformer(sparse_threshold=0,\n",
       "                  transformers=[(&#x27;MinMaxScaler&#x27;, MinMaxScaler(),\n",
       "                                 [&#x27;Latitude&#x27;, &#x27;Longitude&#x27;, &#x27;AddressAccuracy&#x27;,\n",
       "                                  &#x27;Tavg&#x27;, &#x27;Depart&#x27;, &#x27;Heat&#x27;, &#x27;PrecipTotal&#x27;,\n",
       "                                  &#x27;SeaLevel&#x27;, &#x27;ResultDir&#x27;, &#x27;AvgSpeed&#x27;,\n",
       "                                  &#x27;Humidity&#x27;, &#x27;Daylight_hours&#x27;, &#x27;Month&#x27;, &#x27;Day&#x27;,\n",
       "                                  &#x27;Sunrise&#x27;, &#x27;Sunset&#x27;]),\n",
       "                                (&#x27;OneHotEncoder&#x27;,\n",
       "                                 OneHotEncoder(drop=&#x27;if_binary&#x27;,\n",
       "                                               handle_unknown=&#x27;ignore&#x27;),\n",
       "                                 [&#x27;Species&#x27;, &#x27;Trap&#x27;]),\n",
       "                                (&#x27;CountVectorizer&#x27;,\n",
       "                                 Pipeline(steps=[(&#x27;squeeze&#x27;,\n",
       "                                                  FunctionTransformer(func=&lt;function &lt;lambda&gt; at 0x000001F69A7ADAF0&gt;)),\n",
       "                                                 (&#x27;vector&#x27;, CountVectorizer()),\n",
       "                                                 (&#x27;array&#x27;,\n",
       "                                                  FunctionTransformer(accept_sparse=True,\n",
       "                                                                      func=&lt;function &lt;lambda&gt; at 0x000001F697EADD30&gt;)),\n",
       "                                                 (&#x27;scale&#x27;, MinMaxScaler())]),\n",
       "                                 [&#x27;CodeSum&#x27;])])</pre></div></div></div><div class=\"sk-parallel\"><div class=\"sk-parallel-item\"><div class=\"sk-item\"><div class=\"sk-label-container\"><div class=\"sk-label sk-toggleable\"><input class=\"sk-toggleable__control sk-hidden--visually\" id=\"sk-estimator-id-3\" type=\"checkbox\" ><label for=\"sk-estimator-id-3\" class=\"sk-toggleable__label sk-toggleable__label-arrow\">MinMaxScaler</label><div class=\"sk-toggleable__content\"><pre>[&#x27;Latitude&#x27;, &#x27;Longitude&#x27;, &#x27;AddressAccuracy&#x27;, &#x27;Tavg&#x27;, &#x27;Depart&#x27;, &#x27;Heat&#x27;, &#x27;PrecipTotal&#x27;, &#x27;SeaLevel&#x27;, &#x27;ResultDir&#x27;, &#x27;AvgSpeed&#x27;, &#x27;Humidity&#x27;, &#x27;Daylight_hours&#x27;, &#x27;Month&#x27;, &#x27;Day&#x27;, &#x27;Sunrise&#x27;, &#x27;Sunset&#x27;]</pre></div></div></div><div class=\"sk-serial\"><div class=\"sk-item\"><div class=\"sk-estimator sk-toggleable\"><input class=\"sk-toggleable__control sk-hidden--visually\" id=\"sk-estimator-id-4\" type=\"checkbox\" ><label for=\"sk-estimator-id-4\" class=\"sk-toggleable__label sk-toggleable__label-arrow\">MinMaxScaler</label><div class=\"sk-toggleable__content\"><pre>MinMaxScaler()</pre></div></div></div></div></div></div><div class=\"sk-parallel-item\"><div class=\"sk-item\"><div class=\"sk-label-container\"><div class=\"sk-label sk-toggleable\"><input class=\"sk-toggleable__control sk-hidden--visually\" id=\"sk-estimator-id-5\" type=\"checkbox\" ><label for=\"sk-estimator-id-5\" class=\"sk-toggleable__label sk-toggleable__label-arrow\">OneHotEncoder</label><div class=\"sk-toggleable__content\"><pre>[&#x27;Species&#x27;, &#x27;Trap&#x27;]</pre></div></div></div><div class=\"sk-serial\"><div class=\"sk-item\"><div class=\"sk-estimator sk-toggleable\"><input class=\"sk-toggleable__control sk-hidden--visually\" id=\"sk-estimator-id-6\" type=\"checkbox\" ><label for=\"sk-estimator-id-6\" class=\"sk-toggleable__label sk-toggleable__label-arrow\">OneHotEncoder</label><div class=\"sk-toggleable__content\"><pre>OneHotEncoder(drop=&#x27;if_binary&#x27;, handle_unknown=&#x27;ignore&#x27;)</pre></div></div></div></div></div></div><div class=\"sk-parallel-item\"><div class=\"sk-item\"><div class=\"sk-label-container\"><div class=\"sk-label sk-toggleable\"><input class=\"sk-toggleable__control sk-hidden--visually\" id=\"sk-estimator-id-7\" type=\"checkbox\" ><label for=\"sk-estimator-id-7\" class=\"sk-toggleable__label sk-toggleable__label-arrow\">CountVectorizer</label><div class=\"sk-toggleable__content\"><pre>[&#x27;CodeSum&#x27;]</pre></div></div></div><div class=\"sk-serial\"><div class=\"sk-item\"><div class=\"sk-serial\"><div class=\"sk-item\"><div class=\"sk-estimator sk-toggleable\"><input class=\"sk-toggleable__control sk-hidden--visually\" id=\"sk-estimator-id-8\" type=\"checkbox\" ><label for=\"sk-estimator-id-8\" class=\"sk-toggleable__label sk-toggleable__label-arrow\">FunctionTransformer</label><div class=\"sk-toggleable__content\"><pre>FunctionTransformer(func=&lt;function &lt;lambda&gt; at 0x000001F69A7ADAF0&gt;)</pre></div></div></div><div class=\"sk-item\"><div class=\"sk-estimator sk-toggleable\"><input class=\"sk-toggleable__control sk-hidden--visually\" id=\"sk-estimator-id-9\" type=\"checkbox\" ><label for=\"sk-estimator-id-9\" class=\"sk-toggleable__label sk-toggleable__label-arrow\">CountVectorizer</label><div class=\"sk-toggleable__content\"><pre>CountVectorizer()</pre></div></div></div><div class=\"sk-item\"><div class=\"sk-estimator sk-toggleable\"><input class=\"sk-toggleable__control sk-hidden--visually\" id=\"sk-estimator-id-10\" type=\"checkbox\" ><label for=\"sk-estimator-id-10\" class=\"sk-toggleable__label sk-toggleable__label-arrow\">FunctionTransformer</label><div class=\"sk-toggleable__content\"><pre>FunctionTransformer(accept_sparse=True,\n",
       "                    func=&lt;function &lt;lambda&gt; at 0x000001F697EADD30&gt;)</pre></div></div></div><div class=\"sk-item\"><div class=\"sk-estimator sk-toggleable\"><input class=\"sk-toggleable__control sk-hidden--visually\" id=\"sk-estimator-id-11\" type=\"checkbox\" ><label for=\"sk-estimator-id-11\" class=\"sk-toggleable__label sk-toggleable__label-arrow\">MinMaxScaler</label><div class=\"sk-toggleable__content\"><pre>MinMaxScaler()</pre></div></div></div></div></div></div></div></div></div></div><div class=\"sk-item\"><div class=\"sk-estimator sk-toggleable\"><input class=\"sk-toggleable__control sk-hidden--visually\" id=\"sk-estimator-id-12\" type=\"checkbox\" ><label for=\"sk-estimator-id-12\" class=\"sk-toggleable__label sk-toggleable__label-arrow\">SMOTETomek</label><div class=\"sk-toggleable__content\"><pre>SMOTETomek(n_jobs=2, random_state=RandomState(MT19937) at 0x1F697F7B040)</pre></div></div></div><div class=\"sk-item sk-dashed-wrapped\"><div class=\"sk-label-container\"><div class=\"sk-label sk-toggleable\"><input class=\"sk-toggleable__control sk-hidden--visually\" id=\"sk-estimator-id-13\" type=\"checkbox\" ><label for=\"sk-estimator-id-13\" class=\"sk-toggleable__label sk-toggleable__label-arrow\">clf: VotingClassifier</label><div class=\"sk-toggleable__content\"><pre>VotingClassifier(estimators=[(&#x27;HistGradientBoost&#x27;,\n",
       "                              HistGradientBoostingClassifier(l2_regularization=0.1,\n",
       "                                                             learning_rate=0.01,\n",
       "                                                             max_iter=300,\n",
       "                                                             random_state=RandomState(MT19937) at 0x1F697F7BC40)),\n",
       "                             (&#x27;AdaBoost&#x27;,\n",
       "                              AdaBoostClassifier(n_estimators=150,\n",
       "                                                 random_state=RandomState(MT19937) at 0x1F697F7B640))],\n",
       "                 voting=&#x27;soft&#x27;)</pre></div></div></div><div class=\"sk-parallel\"><div class=\"sk-parallel-item\"><div class=\"sk-item\"><div class=\"sk-label-container\"><div class=\"sk-label sk-toggleable\"><label>HistGradientBoost</label></div></div><div class=\"sk-serial\"><div class=\"sk-item\"><div class=\"sk-estimator sk-toggleable\"><input class=\"sk-toggleable__control sk-hidden--visually\" id=\"sk-estimator-id-14\" type=\"checkbox\" ><label for=\"sk-estimator-id-14\" class=\"sk-toggleable__label sk-toggleable__label-arrow\">HistGradientBoostingClassifier</label><div class=\"sk-toggleable__content\"><pre>HistGradientBoostingClassifier(l2_regularization=0.1, learning_rate=0.01,\n",
       "                               max_iter=300,\n",
       "                               random_state=RandomState(MT19937) at 0x1F697F7BC40)</pre></div></div></div></div></div></div><div class=\"sk-parallel-item\"><div class=\"sk-item\"><div class=\"sk-label-container\"><div class=\"sk-label sk-toggleable\"><label>AdaBoost</label></div></div><div class=\"sk-serial\"><div class=\"sk-item\"><div class=\"sk-estimator sk-toggleable\"><input class=\"sk-toggleable__control sk-hidden--visually\" id=\"sk-estimator-id-15\" type=\"checkbox\" ><label for=\"sk-estimator-id-15\" class=\"sk-toggleable__label sk-toggleable__label-arrow\">AdaBoostClassifier</label><div class=\"sk-toggleable__content\"><pre>AdaBoostClassifier(n_estimators=150,\n",
       "                   random_state=RandomState(MT19937) at 0x1F697F7B640)</pre></div></div></div></div></div></div></div></div></div></div></div></div>"
      ],
      "text/plain": [
       "Pipeline(steps=[('transform',\n",
       "                 ColumnTransformer(sparse_threshold=0,\n",
       "                                   transformers=[('MinMaxScaler',\n",
       "                                                  MinMaxScaler(),\n",
       "                                                  ['Latitude', 'Longitude',\n",
       "                                                   'AddressAccuracy', 'Tavg',\n",
       "                                                   'Depart', 'Heat',\n",
       "                                                   'PrecipTotal', 'SeaLevel',\n",
       "                                                   'ResultDir', 'AvgSpeed',\n",
       "                                                   'Humidity', 'Daylight_hours',\n",
       "                                                   'Month', 'Day', 'Sunrise',\n",
       "                                                   'Sunset']),\n",
       "                                                 ('OneHotEncoder',\n",
       "                                                  OneHotEncoder(drop='if_binary',\n",
       "                                                                handle_unknown=...\n",
       "                            random_state=RandomState(MT19937) at 0x1F697F7B040)),\n",
       "                ('clf',\n",
       "                 VotingClassifier(estimators=[('HistGradientBoost',\n",
       "                                               HistGradientBoostingClassifier(l2_regularization=0.1,\n",
       "                                                                              learning_rate=0.01,\n",
       "                                                                              max_iter=300,\n",
       "                                                                              random_state=RandomState(MT19937) at 0x1F697F7BC40)),\n",
       "                                              ('AdaBoost',\n",
       "                                               AdaBoostClassifier(n_estimators=150,\n",
       "                                                                  random_state=RandomState(MT19937) at 0x1F697F7B640))],\n",
       "                                  voting='soft'))])"
      ]
     },
     "execution_count": 72,
     "metadata": {},
     "output_type": "execute_result"
    }
   ],
   "source": [
    "voting_best.fit(X, y)"
   ]
  },
  {
   "cell_type": "code",
   "execution_count": 73,
   "metadata": {
    "cell_id": "da2446db60a146cf80aa8cbc5a91280d",
    "deepnote_cell_type": "code",
    "deepnote_to_be_reexecuted": true,
    "source_hash": "a9239d02"
   },
   "outputs": [],
   "source": [
    "df_test = pd.read_csv('../assets/df_merge_test.csv', parse_dates=['Date', 'Sunrise_1', 'Sunset_1'])"
   ]
  },
  {
   "cell_type": "code",
   "execution_count": 74,
   "metadata": {},
   "outputs": [],
   "source": [
    "df_test = create_dt_features(df_test)"
   ]
  },
  {
   "cell_type": "code",
   "execution_count": 75,
   "metadata": {
    "cell_id": "089666933639418885d5eb294f4004a9",
    "deepnote_cell_type": "code",
    "deepnote_to_be_reexecuted": true,
    "source_hash": "6115b236"
   },
   "outputs": [],
   "source": [
    "results = voting_best.predict(df_test[X.columns])\n",
    "\n",
    "# results = ada_best.predict(df_test[X.columns])"
   ]
  },
  {
   "cell_type": "code",
   "execution_count": 76,
   "metadata": {
    "cell_id": "9f02d32d869748ea995f32ff169b2211",
    "deepnote_cell_type": "code",
    "deepnote_to_be_reexecuted": true,
    "source_hash": "3601ff24"
   },
   "outputs": [],
   "source": [
    "def create_predictions(predictions, filename):\n",
    "    if not os.path.isdir('../output'):\n",
    "        os.mkdir('../output')\n",
    "    \n",
    "    if not os.path.isfile(f'../output/{filename}.csv'):\n",
    "        results_df = pd.DataFrame(predictions)\n",
    "        results_df.insert(0, column='id', value=range(1,116294))\n",
    "        results_df.to_csv(f\"../output/{filename}.csv\", header=[\"Id\", \"WnvPresent\"], index=False)\n",
    "    else:\n",
    "        raise NameError(f'{filename}.csv already exists!')"
   ]
  },
  {
   "cell_type": "code",
   "execution_count": 77,
   "metadata": {},
   "outputs": [],
   "source": [
    "output_filename = 'predictions_11'\n",
    "\n",
    "create_predictions(results, output_filename)"
   ]
  },
  {
   "cell_type": "code",
   "execution_count": 78,
   "metadata": {},
   "outputs": [],
   "source": [
    "table_model_results().to_csv(f'../output/params_{output_filename}.csv', index=False)"
   ]
  }
 ],
 "metadata": {
  "kernelspec": {
   "display_name": "Python 3 (ipykernel)",
   "language": "python",
   "name": "python3"
  },
  "language_info": {
   "codemirror_mode": {
    "name": "ipython",
    "version": 3
   },
   "file_extension": ".py",
   "mimetype": "text/x-python",
   "name": "python",
   "nbconvert_exporter": "python",
   "pygments_lexer": "ipython3",
   "version": "3.9.13"
  },
  "vscode": {
   "interpreter": {
    "hash": "1b28ad9899eefd279686690bace4d41fa3fa7d0cff5719534f58e9a7031f3ffc"
   }
  }
 },
 "nbformat": 4,
 "nbformat_minor": 1
}
